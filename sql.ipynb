{
 "cells": [
  {
   "cell_type": "code",
   "execution_count": 1,
   "metadata": {},
   "outputs": [],
   "source": [
    "import pandas as pd\n",
    "import requests\n",
    "import time"
   ]
  },
  {
   "cell_type": "code",
   "execution_count": 2,
   "metadata": {},
   "outputs": [],
   "source": [
    "character = pd.read_table('./data/character.metadata.tsv', header = None)\n",
    "character.columns = ['wikipedia_movie_id','rebase_movie_ID','Movie release date','character_name','Actor_DOB','Actor_gender','actor_height','Actor_etnicity','Actor_name','Actor_age_at_movie_release','Freebase_character_map','Freebase_character_ID','Freebase_actor_ID']"
   ]
  },
  {
   "cell_type": "code",
   "execution_count": 3,
   "metadata": {},
   "outputs": [],
   "source": [
    "ethn = character.Actor_etnicity.drop_duplicates()"
   ]
  },
  {
   "cell_type": "code",
   "execution_count": 6,
   "metadata": {},
   "outputs": [],
   "source": [
    "dict_ethnicities = {}\n",
    "def map_ethnicities(arr_ethn):\n",
    "    \"\"\"\n",
    "    Queries the FreeBase dump to get ethnicities as dict instead of Freebase ID.\n",
    "    :param arr_ethn: array of ethnicities\n",
    "    :return:\n",
    "    \"\"\"\n",
    "    etn = []\n",
    "    for x in arr_ethn[1:]:\n",
    "        time.sleep(1.4)\n",
    "        x = x.split('/')[2]\n",
    "        query = 'https://query.wikidata.org/bigdata/namespace/wdq/sparql?format=json&query=PREFIX%20wd%3A%20%3Chttp%3A%2F%2Fwww.wikidata.org%2Fentity%2F%3E%0APREFIX%20wdt%3A%20%3Chttp%3A%2F%2Fwww.wikidata.org%2Fprop%2Fdirect%2F%3E%0APREFIX%20wikibase%3A%20%3Chttp%3A%2F%2Fwikiba.se%2Fontology%23%3E%0A%0ASELECT%20%20%3Fs%20%3FsLabel%20WHERE%20%7B%0A%20%3Fs%20wdt%3AP646%20%22%2Fm%2F{}%22.%0A%0A%20%20%20SERVICE%20wikibase%3Alabel%20%7B%0A%20%20%20%20bd%3AserviceParam%20wikibase%3Alanguage%20%22en%22%20.%0A%20%20%20%7D%0A%20%7D'.format(x)\n",
    "        response_json = requests.get(query).json()['results']['bindings']\n",
    "        if len(response_json) != 0 :\n",
    "            etn.append(response_json[0]['sLabel']['value'])\n",
    "        else :\n",
    "            etn.append(-1)\n",
    "    return arr_ethn, etn\n"
   ]
  },
  {
   "cell_type": "code",
   "execution_count": 7,
   "metadata": {},
   "outputs": [],
   "source": [
    "arr_etn, etn = map_ethnicities(ethn)\n",
    "test = pd.DataFrame({'id' : arr_etn[1:], 'ethnicity' : etn})"
   ]
  },
  {
   "cell_type": "code",
   "execution_count": null,
   "metadata": {},
   "outputs": [
    {
     "data": {
      "text/plain": [
       "'English people'"
      ]
     },
     "execution_count": 7,
     "metadata": {},
     "output_type": "execute_result"
    }
   ],
   "source": [
    "query = 'https://query.wikidata.org/bigdata/namespace/wdq/sparql?format=json&query=PREFIX%20wd%3A%20%3Chttp%3A%2F%2Fwww.wikidata.org%2Fentity%2F%3E%0APREFIX%20wdt%3A%20%3Chttp%3A%2F%2Fwww.wikidata.org%2Fprop%2Fdirect%2F%3E%0APREFIX%20wikibase%3A%20%3Chttp%3A%2F%2Fwikiba.se%2Fontology%23%3E%0A%0ASELECT%20%20%3Fs%20%3FsLabel%20WHERE%20%7B%0A%20%3Fs%20wdt%3AP646%20%22%2Fm%2F02w7gg%22.%0A%0A%20%20%20SERVICE%20wikibase%3Alabel%20%7B%0A%20%20%20%20bd%3AserviceParam%20wikibase%3Alanguage%20%22en%22%20.%0A%20%20%20%7D%0A%20%7D'\n",
    "response_json = requests.get(query).json()['results']['bindings']\n",
    "response_json[0]['sLabel']['value']"
   ]
  },
  {
   "cell_type": "code",
   "execution_count": 10,
   "metadata": {},
   "outputs": [],
   "source": [
    "import pickle\n",
    "file = open('./data/etnicities', 'wb')\n",
    "pickle.dump(test, file)\n",
    "file.close()"
   ]
  }
 ],
 "metadata": {
  "kernelspec": {
   "display_name": "Python 3.9.12 ('base')",
   "language": "python",
   "name": "python3"
  },
  "language_info": {
   "codemirror_mode": {
    "name": "ipython",
    "version": 3
   },
   "file_extension": ".py",
   "mimetype": "text/x-python",
   "name": "python",
   "nbconvert_exporter": "python",
   "pygments_lexer": "ipython3",
   "version": "3.9.12"
  },
  "orig_nbformat": 4,
  "vscode": {
   "interpreter": {
    "hash": "07f9c6604764c1832198cbeab71f4c6e13ec33e1231d5001970b7dc0ac2b5341"
   }
  }
 },
 "nbformat": 4,
 "nbformat_minor": 2
}
