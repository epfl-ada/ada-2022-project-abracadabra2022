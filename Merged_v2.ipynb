{
 "cells": [
  {
   "cell_type": "code",
   "execution_count": 186,
   "metadata": {},
   "outputs": [],
   "source": [
    "#built in librairies \n",
    "import re\n",
    "from tqdm import tqdm\n",
    "\n",
    "# pip libraires\n",
    "import numpy as np\n",
    "import json\n",
    "import pandas as pd\n",
    "\n",
    "\n",
    "# visualization librairies\n",
    "import plotly.express as px\n",
    "import matplotlib.pyplot as plt\n",
    "import seaborn as sns\n",
    "\n",
    "# Natural Language Processing Librairies\n",
    "import nltk\n",
    "from nltk.stem import WordNetLemmatizer, LancasterStemmer\n",
    "from nltk.tokenize import word_tokenize\n",
    "import re\n",
    "\n",
    "import json\n",
    "import requests\n",
    "from collections import defaultdict\n",
    "\n",
    "import pandas as pd\n",
    "\n",
    "# Visualization librairies\n",
    "import matplotlib.pyplot as plt\n",
    "import seaborn as sns\n",
    "from matplotlib.ticker import PercentFormatter\n",
    "import matplotlib.ticker as mtick\n",
    "from matplotlib.lines import Line2D\n",
    "import plotly.express as px\n",
    "\n",
    "#Calculating libraries\n",
    "from scipy.stats import bootstrap\n",
    "import numpy as np\n",
    "from scipy import stats\n",
    "import scipy as sp\n",
    "import matplotlib.dates as md\n",
    "\n",
    "#statistical librairies\n",
    "from os import stat\n",
    "\n",
    "# Others\n",
    "from functools import partial\n",
    "from ast import literal_eval\n",
    "\n",
    "# Import libraries\n",
    "import requests\n",
    "from bs4 import BeautifulSoup\n",
    "\n",
    "# TODO define\n",
    "#from genres import genre_wordsets\n",
    "import csv\n",
    "from tqdm import tqdm\n",
    "import itertools\n",
    "from dateutil.relativedelta import relativedelta\n",
    "import datetime  \n",
    "from scipy.stats import ttest_ind \n",
    "\n",
    "from utils.genres import additional_wordsets\n"
   ]
  },
  {
   "cell_type": "code",
   "execution_count": 187,
   "metadata": {},
   "outputs": [
    {
     "name": "stderr",
     "output_type": "stream",
     "text": [
      "[nltk_data] Downloading package punkt to\n",
      "[nltk_data]     /Users/mohamedalidhraief/nltk_data...\n",
      "[nltk_data]   Package punkt is already up-to-date!\n",
      "[nltk_data] Downloading package wordnet to\n",
      "[nltk_data]     /Users/mohamedalidhraief/nltk_data...\n",
      "[nltk_data]   Package wordnet is already up-to-date!\n",
      "[nltk_data] Downloading package omw-1.4 to\n",
      "[nltk_data]     /Users/mohamedalidhraief/nltk_data...\n",
      "[nltk_data]   Package omw-1.4 is already up-to-date!\n"
     ]
    },
    {
     "data": {
      "text/plain": [
       "True"
      ]
     },
     "execution_count": 187,
     "metadata": {},
     "output_type": "execute_result"
    }
   ],
   "source": [
    "nltk.download('punkt')\n",
    "nltk.download('wordnet')\n",
    "nltk.download('omw-1.4')"
   ]
  },
  {
   "cell_type": "markdown",
   "metadata": {},
   "source": [
    "Our dataset contains different datasets. We have:\n",
    "- \n",
    "- \n",
    "- \n",
    "-\n",
    "-\n"
   ]
  },
  {
   "cell_type": "markdown",
   "metadata": {},
   "source": [
    "# Metadata"
   ]
  },
  {
   "cell_type": "code",
   "execution_count": 188,
   "metadata": {},
   "outputs": [],
   "source": [
    "metadata = pd.read_table('./data/movie.metadata.tsv',header=None)\n",
    "metadata.columns = [\"wiki_id\",\"freebase_id\",\"movie_name\",\"release_date\",\"box_office\",\"duration\",\"language\",\"country\",\"genre\"]\n"
   ]
  },
  {
   "cell_type": "code",
   "execution_count": 189,
   "metadata": {},
   "outputs": [
    {
     "name": "stdout",
     "output_type": "stream",
     "text": [
      "<class 'pandas.core.frame.DataFrame'>\n",
      "RangeIndex: 81741 entries, 0 to 81740\n",
      "Data columns (total 9 columns):\n",
      " #   Column        Non-Null Count  Dtype  \n",
      "---  ------        --------------  -----  \n",
      " 0   wiki_id       81741 non-null  int64  \n",
      " 1   freebase_id   81741 non-null  object \n",
      " 2   movie_name    81741 non-null  object \n",
      " 3   release_date  74839 non-null  object \n",
      " 4   box_office    8401 non-null   float64\n",
      " 5   duration      61291 non-null  float64\n",
      " 6   language      81741 non-null  object \n",
      " 7   country       81741 non-null  object \n",
      " 8   genre         81741 non-null  object \n",
      "dtypes: float64(2), int64(1), object(6)\n",
      "memory usage: 5.6+ MB\n"
     ]
    }
   ],
   "source": [
    "metadata.info()"
   ]
  },
  {
   "cell_type": "markdown",
   "metadata": {},
   "source": [
    "Here are our observations:\n",
    "- Box Office contains mainly null values, so we drop the column.\n",
    "- The type of the release_date is an object, we will transform it into a datetime to make sampling easier."
   ]
  },
  {
   "cell_type": "code",
   "execution_count": 190,
   "metadata": {},
   "outputs": [],
   "source": [
    "metadata.drop(columns=\"box_office\",inplace=True)\n",
    "metadata['release_date'] = pd.to_datetime(metadata['release_date'], errors = 'coerce')\n"
   ]
  },
  {
   "cell_type": "code",
   "execution_count": 191,
   "metadata": {},
   "outputs": [
    {
     "data": {
      "text/html": [
       "<div>\n",
       "<style scoped>\n",
       "    .dataframe tbody tr th:only-of-type {\n",
       "        vertical-align: middle;\n",
       "    }\n",
       "\n",
       "    .dataframe tbody tr th {\n",
       "        vertical-align: top;\n",
       "    }\n",
       "\n",
       "    .dataframe thead th {\n",
       "        text-align: right;\n",
       "    }\n",
       "</style>\n",
       "<table border=\"1\" class=\"dataframe\">\n",
       "  <thead>\n",
       "    <tr style=\"text-align: right;\">\n",
       "      <th></th>\n",
       "      <th>wiki_id</th>\n",
       "      <th>freebase_id</th>\n",
       "      <th>movie_name</th>\n",
       "      <th>release_date</th>\n",
       "      <th>duration</th>\n",
       "      <th>language</th>\n",
       "      <th>country</th>\n",
       "      <th>genre</th>\n",
       "    </tr>\n",
       "  </thead>\n",
       "  <tbody>\n",
       "    <tr>\n",
       "      <th>0</th>\n",
       "      <td>975900</td>\n",
       "      <td>/m/03vyhn</td>\n",
       "      <td>Ghosts of Mars</td>\n",
       "      <td>2001-08-24</td>\n",
       "      <td>98.0</td>\n",
       "      <td>{\"/m/02h40lc\": \"English Language\"}</td>\n",
       "      <td>{\"/m/09c7w0\": \"United States of America\"}</td>\n",
       "      <td>{\"/m/01jfsb\": \"Thriller\", \"/m/06n90\": \"Science Fiction\", \"/m/03npn\": \"Horror\", \"/m/03k9fj\": \"Adv...</td>\n",
       "    </tr>\n",
       "  </tbody>\n",
       "</table>\n",
       "</div>"
      ],
      "text/plain": [
       "   wiki_id freebase_id      movie_name release_date  duration  \\\n",
       "0   975900   /m/03vyhn  Ghosts of Mars   2001-08-24      98.0   \n",
       "\n",
       "                             language  \\\n",
       "0  {\"/m/02h40lc\": \"English Language\"}   \n",
       "\n",
       "                                     country  \\\n",
       "0  {\"/m/09c7w0\": \"United States of America\"}   \n",
       "\n",
       "                                                                                                 genre  \n",
       "0  {\"/m/01jfsb\": \"Thriller\", \"/m/06n90\": \"Science Fiction\", \"/m/03npn\": \"Horror\", \"/m/03k9fj\": \"Adv...  "
      ]
     },
     "execution_count": 191,
     "metadata": {},
     "output_type": "execute_result"
    }
   ],
   "source": [
    "metadata.head(1)"
   ]
  },
  {
   "cell_type": "markdown",
   "metadata": {},
   "source": [
    "We note that language, country, genre are JSONs. Therefore, we nede to transform them into a list"
   ]
  },
  {
   "cell_type": "code",
   "execution_count": 192,
   "metadata": {},
   "outputs": [],
   "source": [
    "json_cols = [\"language\",\"country\",\"genre\"]\n",
    "for col in json_cols:\n",
    "    metadata[col] = metadata[col].apply(lambda x:list(json.loads(x).values()))"
   ]
  },
  {
   "cell_type": "code",
   "execution_count": 193,
   "metadata": {},
   "outputs": [
    {
     "data": {
      "text/html": [
       "<div>\n",
       "<style scoped>\n",
       "    .dataframe tbody tr th:only-of-type {\n",
       "        vertical-align: middle;\n",
       "    }\n",
       "\n",
       "    .dataframe tbody tr th {\n",
       "        vertical-align: top;\n",
       "    }\n",
       "\n",
       "    .dataframe thead th {\n",
       "        text-align: right;\n",
       "    }\n",
       "</style>\n",
       "<table border=\"1\" class=\"dataframe\">\n",
       "  <thead>\n",
       "    <tr style=\"text-align: right;\">\n",
       "      <th></th>\n",
       "      <th>wiki_id</th>\n",
       "      <th>freebase_id</th>\n",
       "      <th>movie_name</th>\n",
       "      <th>release_date</th>\n",
       "      <th>duration</th>\n",
       "      <th>language</th>\n",
       "      <th>country</th>\n",
       "      <th>genre</th>\n",
       "    </tr>\n",
       "  </thead>\n",
       "  <tbody>\n",
       "    <tr>\n",
       "      <th>0</th>\n",
       "      <td>975900</td>\n",
       "      <td>/m/03vyhn</td>\n",
       "      <td>Ghosts of Mars</td>\n",
       "      <td>2001-08-24</td>\n",
       "      <td>98.0</td>\n",
       "      <td>[English Language]</td>\n",
       "      <td>[United States of America]</td>\n",
       "      <td>[Thriller, Science Fiction, Horror, Adventure, Supernatural, Action, Space western]</td>\n",
       "    </tr>\n",
       "    <tr>\n",
       "      <th>1</th>\n",
       "      <td>3196793</td>\n",
       "      <td>/m/08yl5d</td>\n",
       "      <td>Getting Away with Murder: The JonBenét Ramsey Mystery</td>\n",
       "      <td>2000-02-16</td>\n",
       "      <td>95.0</td>\n",
       "      <td>[English Language]</td>\n",
       "      <td>[United States of America]</td>\n",
       "      <td>[Mystery, Biographical film, Drama, Crime Drama]</td>\n",
       "    </tr>\n",
       "    <tr>\n",
       "      <th>2</th>\n",
       "      <td>28463795</td>\n",
       "      <td>/m/0crgdbh</td>\n",
       "      <td>Brun bitter</td>\n",
       "      <td>1988-01-01</td>\n",
       "      <td>83.0</td>\n",
       "      <td>[Norwegian Language]</td>\n",
       "      <td>[Norway]</td>\n",
       "      <td>[Crime Fiction, Drama]</td>\n",
       "    </tr>\n",
       "    <tr>\n",
       "      <th>3</th>\n",
       "      <td>9363483</td>\n",
       "      <td>/m/0285_cd</td>\n",
       "      <td>White Of The Eye</td>\n",
       "      <td>1987-01-01</td>\n",
       "      <td>110.0</td>\n",
       "      <td>[English Language]</td>\n",
       "      <td>[United Kingdom]</td>\n",
       "      <td>[Thriller, Erotic thriller, Psychological thriller]</td>\n",
       "    </tr>\n",
       "    <tr>\n",
       "      <th>4</th>\n",
       "      <td>261236</td>\n",
       "      <td>/m/01mrr1</td>\n",
       "      <td>A Woman in Flames</td>\n",
       "      <td>1983-01-01</td>\n",
       "      <td>106.0</td>\n",
       "      <td>[German Language]</td>\n",
       "      <td>[Germany]</td>\n",
       "      <td>[Drama]</td>\n",
       "    </tr>\n",
       "  </tbody>\n",
       "</table>\n",
       "</div>"
      ],
      "text/plain": [
       "    wiki_id freebase_id  \\\n",
       "0    975900   /m/03vyhn   \n",
       "1   3196793   /m/08yl5d   \n",
       "2  28463795  /m/0crgdbh   \n",
       "3   9363483  /m/0285_cd   \n",
       "4    261236   /m/01mrr1   \n",
       "\n",
       "                                              movie_name release_date  \\\n",
       "0                                         Ghosts of Mars   2001-08-24   \n",
       "1  Getting Away with Murder: The JonBenét Ramsey Mystery   2000-02-16   \n",
       "2                                            Brun bitter   1988-01-01   \n",
       "3                                       White Of The Eye   1987-01-01   \n",
       "4                                      A Woman in Flames   1983-01-01   \n",
       "\n",
       "   duration              language                     country  \\\n",
       "0      98.0    [English Language]  [United States of America]   \n",
       "1      95.0    [English Language]  [United States of America]   \n",
       "2      83.0  [Norwegian Language]                    [Norway]   \n",
       "3     110.0    [English Language]            [United Kingdom]   \n",
       "4     106.0     [German Language]                   [Germany]   \n",
       "\n",
       "                                                                                 genre  \n",
       "0  [Thriller, Science Fiction, Horror, Adventure, Supernatural, Action, Space western]  \n",
       "1                                     [Mystery, Biographical film, Drama, Crime Drama]  \n",
       "2                                                               [Crime Fiction, Drama]  \n",
       "3                                  [Thriller, Erotic thriller, Psychological thriller]  \n",
       "4                                                                              [Drama]  "
      ]
     },
     "execution_count": 193,
     "metadata": {},
     "output_type": "execute_result"
    }
   ],
   "source": [
    "metadata.head()"
   ]
  },
  {
   "cell_type": "markdown",
   "metadata": {},
   "source": [
    "We are aware that the columns can contain list with one value at a team. For simplicity of cleaning, we leave it llike that for the moment."
   ]
  },
  {
   "cell_type": "code",
   "execution_count": 194,
   "metadata": {},
   "outputs": [],
   "source": [
    "def flatten_list(_2d_list):\n",
    "    flat_list = []\n",
    "    # Iterate through the outer list\n",
    "    for element in _2d_list:\n",
    "        if type(element) is list:\n",
    "            # If the element is of type list, iterate through the sublist\n",
    "            for item in element:\n",
    "                flat_list.append(item)\n",
    "        else:\n",
    "            flat_list.append(element)\n",
    "    return flat_list\n"
   ]
  },
  {
   "cell_type": "code",
   "execution_count": 195,
   "metadata": {},
   "outputs": [
    {
     "name": "stdout",
     "output_type": "stream",
     "text": [
      "Number of genres: 363 \n"
     ]
    }
   ],
   "source": [
    "genres =pd.Series(flatten_list(list(metadata.genre)))\n",
    "n_genres = len(set(genres))\n",
    "print(\"Number of genres: {} \".format(n_genres))"
   ]
  },
  {
   "cell_type": "markdown",
   "metadata": {},
   "source": [
    "We have 363 genres. Some of them are quite specific : Homoeroticism,Silhouette animation and other are more general.\n",
    "In order to have a deeper analysis for the genres, we need to link every genre into a metagenre. \n",
    "\n",
    "Therefore, we have created a mapping to the 363 genres to broader meta-genres."
   ]
  },
  {
   "cell_type": "markdown",
   "metadata": {},
   "source": [
    "## Metagenres"
   ]
  },
  {
   "cell_type": "code",
   "execution_count": 232,
   "metadata": {},
   "outputs": [],
   "source": [
    "def stem_string(x:str)->list:\n",
    "    \"\"\" Returns the stem of every word in the input\n",
    "\n",
    "    Args:\n",
    "        x (str): Contains the input to be stemmed\n",
    "\n",
    "    Returns:\n",
    "        _type_: a list of the words stemmed\n",
    "    \"\"\"\n",
    "    \n",
    "    stemmer = LancasterStemmer()\n",
    "    words = word_tokenize(x)\n",
    "    lemmatized_words = [stemmer.stem(word) for word in words]\n",
    "    return lemmatized_words\n"
   ]
  },
  {
   "cell_type": "markdown",
   "metadata": {},
   "source": [
    "#TODO NICO: \n",
    "- Rename clean_string and clean\n",
    "- Explain the issue in science fiction in a mwrkdown\n",
    "- Add type args and return as above"
   ]
  },
  {
   "cell_type": "code",
   "execution_count": 197,
   "metadata": {},
   "outputs": [],
   "source": [
    "def clean_string(string):\n",
    "    \"\"\"_summary_\n",
    "\n",
    "    Args:\n",
    "        string (_type_): _description_\n",
    "\n",
    "    Returns:\n",
    "        _type_: _description_\n",
    "    \"\"\"\n",
    "    clean_s = string.lower()\n",
    "    clean_s = clean_s.replace('/', ' ')\n",
    "\n",
    "    clean_s = re.sub(r'-(?!.*(fi|white))', ' ', clean_s)\n",
    "\n",
    "    clean_s = re.sub(r'((?<=sci) (?=fi))|((?<=science) (?=fiction))', '-', clean_s)\n",
    "    # remove everything except alphabets \n",
    "    clean_s = re.sub(\"[^a-zA-Z-]\",\" \",clean_s) \n",
    "    # remove whitespaces \n",
    "    clean_s = ' '.join(clean_s.split()) \n",
    "    return clean_s\n"
   ]
  },
  {
   "cell_type": "code",
   "execution_count": 198,
   "metadata": {},
   "outputs": [],
   "source": [
    "def clean(var):\n",
    "\n",
    "    out = ''\n",
    "\n",
    "    if type(var) == list:\n",
    "        out = var.copy()\n",
    "        for i,s in enumerate(var):\n",
    "            out[i] = clean_string(s)\n",
    "    else :\n",
    "        if type(var) == dict:\n",
    "            out = var.copy()\n",
    "            for key, value in var.items():\n",
    "                out[clean_string(key)] = clean(value)\n",
    "        else:\n",
    "            out = clean_string(var)\n",
    "    return out"
   ]
  },
  {
   "cell_type": "markdown",
   "metadata": {},
   "source": [
    "Add explanation of what does the website contains.\n",
    "\n",
    "Include picture if necessary"
   ]
  },
  {
   "cell_type": "code",
   "execution_count": 199,
   "metadata": {},
   "outputs": [],
   "source": [
    "URL = 'https://www.studiobinder.com/blog/movie-genres-list/'\n",
    "\n",
    "# Make the request\n",
    "r = requests.get(URL) # /ip: Returns the requester's IP Address.\n"
   ]
  },
  {
   "cell_type": "code",
   "execution_count": 200,
   "metadata": {},
   "outputs": [
    {
     "name": "stdout",
     "output_type": "stream",
     "text": [
      "Total number of items: 14\n",
      "{'action': ['action', 'heroic bloodshed', 'military action', 'espionage', 'wuxia action', 'disaster', 'adventure', 'superhero'], 'animation': ['animation', 'traditional', 'stop motion', 'claymation', 'cutout', 'computer generated imagery', 'puppetry', 'live action'], 'comedy': ['comedy', 'action comedy', 'dark comedy black comedy', 'romantic comedy', 'buddy comedy', 'road comedy', 'slapstick comedy', 'parody', 'spoof', 'satire', 'sitcom', 'sketch comedy', 'mockumentary', 'prank'], 'crime': ['crime', 'caper', 'heist', 'gangster', 'cop police', 'detective', 'courtroom', 'procedural'], 'drama': ['drama', 'melodrama', 'teen drama', 'philosophical drama', 'medical drama', 'legal drama', 'political drama', 'anthropological drama', 'religious drama', 'docudrama'], 'experimental': ['experimental', 'surrealist', 'absurdist'], 'fantasy': ['fantasy', 'contemporary fantasy', 'urban fantasy', 'dark fantasy', 'high fantasy', 'myth'], 'historical': ['historical', 'historical event', 'biography', 'historical epic', 'historical fiction', 'period piece', 'alternate history'], 'horror': ['horror', 'ghost', 'monster', 'werewolf', 'vampire', 'occult', 'slasher', 'splatter', 'found footage', 'zombie'], 'romance': ['romance', 'romance drama', 'romance thriller', 'period romance'], 'science-fiction': ['science-fiction', 'post apocalyptic', 'utopian', 'dystopian', 'cyberpunk', 'steampunk', 'tech noir', 'space opera', 'contemporary', 'military'], 'thriller': ['thriller', 'psychological', 'mystery', 'techno', 'film noir'], 'western': ['western', 'epic western', 'empire western', 'marshal western', 'outlaw western', 'revenge western', 'revisionist western', 'spaghetti western']}\n"
     ]
    }
   ],
   "source": [
    "soup = BeautifulSoup(r.text, 'html.parser')\n",
    "soup.h5.string\n",
    "\n",
    "publications_wrappers = soup.find_all('div', {\"data-css\": [\"tve-u-16d41491117\", \"tve-u-16d41ed6dc1\", \"tve-u-17317362207\"]})\n",
    "\n",
    "print('Total number of items: {0}'.format(len(publications_wrappers)))\n",
    "\n",
    "genres = dict([])\n",
    "\n",
    "for p in publications_wrappers[:-1]:    \n",
    "    sub_g = p.find_all('h5')\n",
    "    major_genres = p.find_all('h3')\n",
    "\n",
    "    for g in major_genres :\n",
    "\n",
    "        m_genre = clean(g.string.rsplit(' ', 1)[0])\n",
    "        genres[m_genre] = []\n",
    "        genres[m_genre].append(clean(m_genre))\n",
    "\n",
    "    for s in sub_g :\n",
    "        genres[m_genre].append(clean(s.string))\n",
    "\n",
    "print(genres)"
   ]
  },
  {
   "cell_type": "code",
   "execution_count": 201,
   "metadata": {},
   "outputs": [],
   "source": [
    "def clean_confusing_genres(all_genres):\n",
    "\n",
    "    key_list = list(all_genres.keys())\n",
    "    key_list = [stem_string(key) for key in key_list]\n",
    "\n",
    "\n",
    "    values_list = []\n",
    "    for items in list(all_genres.values()) : \n",
    "        values_list += items\n",
    "\n",
    "    for major_genres, sub_genres in all_genres.items() :\n",
    "        \n",
    "        temp_list = values_list.copy()\n",
    "        stemmed_major_genre = stem_string(major_genres)\n",
    "\n",
    "        for s_g in sub_genres :\n",
    "            temp_list.remove(s_g)\n",
    "\n",
    "            for composed_genres in temp_list :\n",
    "                if s_g in composed_genres :\n",
    "                    composed_genres.remove(s_g)\n",
    "        \n",
    "        temp_list = [x for x in temp_list if x]\n",
    "\n",
    "        for s_g in sub_genres :\n",
    "\n",
    "            for other_genres in temp_list :\n",
    "                if (other_genres[0] in s_g) and (stemmed_major_genre[0] in s_g) :\n",
    "                    s_g.remove(other_genres[0])\n",
    "\n",
    "                if \"film\" in s_g :\n",
    "                    s_g.remove(\"film\")\n",
    "\n",
    "                if \"fict\" in s_g :\n",
    "                    s_g.remove(\"fict\")\n",
    "\n",
    "                for m_genres in key_list :\n",
    "                    if m_genres[0] in s_g :\n",
    "                        s_g.remove(m_genres[0])\n",
    "            \n",
    "        all_genres[major_genres].append(stemmed_major_genre)   \n",
    "                \n",
    "        all_genres[major_genres] = [x for x in sub_genres if x]"
   ]
  },
  {
   "cell_type": "code",
   "execution_count": 202,
   "metadata": {},
   "outputs": [],
   "source": [
    "from utils.genres import additional_wordsets\n",
    "additional_wordsets = additional_wordsets\n",
    "\n",
    "def mergeDictionary(dict_1, dict_2):\n",
    "   dict_3 = {**dict_1, **dict_2}\n",
    "   for key, value in dict_3.items():\n",
    "       if key in dict_1 and key in dict_2:\n",
    "               dict_3[key] = value + dict_1[key]\n",
    "   return dict_3\n",
    "\n",
    "def stem_dictionary(dict):\n",
    "    for key, values in dict.items() :\n",
    "        dict[key] = [stem_string(v) for v in values]"
   ]
  },
  {
   "cell_type": "code",
   "execution_count": 203,
   "metadata": {},
   "outputs": [],
   "source": [
    "genre_map = mergeDictionary(genres, clean(additional_wordsets))\n",
    "stem_dictionary(genre_map)\n",
    "clean_confusing_genres(genre_map)\n"
   ]
  },
  {
   "cell_type": "code",
   "execution_count": 204,
   "metadata": {},
   "outputs": [],
   "source": [
    "global i \n",
    "i=0\n",
    "\n",
    "def extract_genres(df_genres:object)->list:\n",
    "    \"\"\" returns 1 if one pronoun in pronouns is in headline else 0\n",
    "\n",
    "    Args:\n",
    "        pronouns (list): list of pronouns\n",
    "        headline (object): headline of the article\n",
    "\n",
    "    Returns:\n",
    "        list: 1 if there is a pronoun from pronouns in headline else 0 \n",
    "    \"\"\"\n",
    "    genre_list = []\n",
    "    input_genres = df_genres.copy()\n",
    "    global i\n",
    "    i +=1\n",
    "    merged_stem_strings = [stem_string(clean(g)) for g in input_genres]\n",
    "\n",
    "    for major_genres, sub_genres in genre_map.items() : \n",
    "        for s_g in sub_genres :\n",
    "            for item in merged_stem_strings :\n",
    "                if s_g[0] in item :\n",
    "                    genre_list.append(major_genres)\n",
    "\n",
    "    if len(genre_list) == 0 :\n",
    "        genre_list.append(\"Other\")\n",
    "\n",
    "    genre_list = list(set(genre_list))\n",
    "\n",
    "    return genre_list"
   ]
  },
  {
   "cell_type": "code",
   "execution_count": 205,
   "metadata": {},
   "outputs": [],
   "source": [
    "metadata[\"metagenre\"]=metadata[\"genre\"].apply(extract_genres)"
   ]
  },
  {
   "cell_type": "code",
   "execution_count": 206,
   "metadata": {},
   "outputs": [
    {
     "data": {
      "text/plain": [
       "Index(['wiki_id', 'freebase_id', 'movie_name', 'release_date', 'duration',\n",
       "       'language', 'country', 'genre', 'metagenre'],\n",
       "      dtype='object')"
      ]
     },
     "execution_count": 206,
     "metadata": {},
     "output_type": "execute_result"
    }
   ],
   "source": [
    "metadata.columns"
   ]
  },
  {
   "cell_type": "markdown",
   "metadata": {},
   "source": [
    "We will present an analysis for evolution of metagenres throughout the time in the Analysis Section."
   ]
  },
  {
   "cell_type": "markdown",
   "metadata": {},
   "source": [
    "# Plots"
   ]
  },
  {
   "cell_type": "code",
   "execution_count": 207,
   "metadata": {},
   "outputs": [
    {
     "name": "stderr",
     "output_type": "stream",
     "text": [
      "42303it [00:00, 79020.02it/s]\n"
     ]
    }
   ],
   "source": [
    "# read plots\n",
    "plots = []\n",
    "with open(\"data/plot_summaries.txt\", 'r') as f:\n",
    "    reader = csv.reader(f, dialect='excel-tab') \n",
    "    for row in tqdm(reader):\n",
    "        plots.append(row)\n",
    "\n",
    "movie_id = []\n",
    "plot = []\n"
   ]
  },
  {
   "cell_type": "code",
   "execution_count": 208,
   "metadata": {},
   "outputs": [
    {
     "name": "stderr",
     "output_type": "stream",
     "text": [
      "100%|██████████| 42303/42303 [00:00<00:00, 2644917.45it/s]\n"
     ]
    }
   ],
   "source": [
    "# extract movie Ids and plot summaries\n",
    "for i in tqdm(plots):\n",
    "    movie_id.append(i[0])\n",
    "    plot.append(i[1])\n"
   ]
  },
  {
   "cell_type": "code",
   "execution_count": 209,
   "metadata": {},
   "outputs": [],
   "source": [
    "# create dataframe\n",
    "plots = pd.DataFrame({'movie_id': movie_id, 'plot': plot})\n"
   ]
  },
  {
   "cell_type": "code",
   "execution_count": 210,
   "metadata": {},
   "outputs": [],
   "source": [
    "def clean_text(text):\n",
    "    # remove a string like {{plot}}\n",
    "    text = re.sub(\"\\s*{{\\w*}}\\s*\", \"\", text)\n",
    "    # remove backslash-apostrophe \n",
    "    text = re.sub(\"\\'\", \"\", text)\n",
    "    \n",
    "    text = text.lower().replace('\\n', ' ').replace('\\t', ' ').replace('\\xa0',' ') #get rid of problem chars\n",
    "    \n",
    "    text = ' '.join(text.split())\n",
    "    \n",
    "    return text\n",
    "\n",
    "plots['plot'] = plots['plot'].apply(clean_text)\n"
   ]
  },
  {
   "cell_type": "code",
   "execution_count": 211,
   "metadata": {},
   "outputs": [
    {
     "data": {
      "text/html": [
       "<div>\n",
       "<style scoped>\n",
       "    .dataframe tbody tr th:only-of-type {\n",
       "        vertical-align: middle;\n",
       "    }\n",
       "\n",
       "    .dataframe tbody tr th {\n",
       "        vertical-align: top;\n",
       "    }\n",
       "\n",
       "    .dataframe thead th {\n",
       "        text-align: right;\n",
       "    }\n",
       "</style>\n",
       "<table border=\"1\" class=\"dataframe\">\n",
       "  <thead>\n",
       "    <tr style=\"text-align: right;\">\n",
       "      <th></th>\n",
       "      <th>movie_id</th>\n",
       "      <th>plot</th>\n",
       "    </tr>\n",
       "  </thead>\n",
       "  <tbody>\n",
       "    <tr>\n",
       "      <th>0</th>\n",
       "      <td>23890098</td>\n",
       "      <td>shlykov, a hard-working taxi driver and lyosha, a saxophonist, develop a bizarre love-hate relat...</td>\n",
       "    </tr>\n",
       "    <tr>\n",
       "      <th>1</th>\n",
       "      <td>31186339</td>\n",
       "      <td>the nation of panem consists of a wealthy capitol and twelve poorer districts. as punishment for...</td>\n",
       "    </tr>\n",
       "    <tr>\n",
       "      <th>2</th>\n",
       "      <td>20663735</td>\n",
       "      <td>poovalli induchoodan is sentenced for six years prison life for murdering his classmate. inducho...</td>\n",
       "    </tr>\n",
       "    <tr>\n",
       "      <th>3</th>\n",
       "      <td>2231378</td>\n",
       "      <td>the lemon drop kid , a new york city swindler, is illegally touting horses at a florida racetrac...</td>\n",
       "    </tr>\n",
       "    <tr>\n",
       "      <th>4</th>\n",
       "      <td>595909</td>\n",
       "      <td>seventh-day adventist church pastor michael chamberlain, his wife lindy, their two sons, and the...</td>\n",
       "    </tr>\n",
       "    <tr>\n",
       "      <th>...</th>\n",
       "      <td>...</td>\n",
       "      <td>...</td>\n",
       "    </tr>\n",
       "    <tr>\n",
       "      <th>42298</th>\n",
       "      <td>34808485</td>\n",
       "      <td>the story is about reema , a young muslim schoolgirl in malabar, who loved malayalam and poetry....</td>\n",
       "    </tr>\n",
       "    <tr>\n",
       "      <th>42299</th>\n",
       "      <td>1096473</td>\n",
       "      <td>in 1928 hollywood, director leo andreyev looks through photographs for actors for his next movie...</td>\n",
       "    </tr>\n",
       "    <tr>\n",
       "      <th>42300</th>\n",
       "      <td>35102018</td>\n",
       "      <td>american luthier focuses on randy parsons’ transformation from aspiring musician to guitar-maker...</td>\n",
       "    </tr>\n",
       "    <tr>\n",
       "      <th>42301</th>\n",
       "      <td>8628195</td>\n",
       "      <td>abdur rehman khan , a middle-aged dry fruit seller from afghanistan, comes to calcutta to hawk h...</td>\n",
       "    </tr>\n",
       "    <tr>\n",
       "      <th>42302</th>\n",
       "      <td>6040782</td>\n",
       "      <td>1940 - operation dynamo has just taken place. from the newly conquered french coastline, a wehrm...</td>\n",
       "    </tr>\n",
       "  </tbody>\n",
       "</table>\n",
       "<p>42303 rows × 2 columns</p>\n",
       "</div>"
      ],
      "text/plain": [
       "       movie_id  \\\n",
       "0      23890098   \n",
       "1      31186339   \n",
       "2      20663735   \n",
       "3       2231378   \n",
       "4        595909   \n",
       "...         ...   \n",
       "42298  34808485   \n",
       "42299   1096473   \n",
       "42300  35102018   \n",
       "42301   8628195   \n",
       "42302   6040782   \n",
       "\n",
       "                                                                                                      plot  \n",
       "0      shlykov, a hard-working taxi driver and lyosha, a saxophonist, develop a bizarre love-hate relat...  \n",
       "1      the nation of panem consists of a wealthy capitol and twelve poorer districts. as punishment for...  \n",
       "2      poovalli induchoodan is sentenced for six years prison life for murdering his classmate. inducho...  \n",
       "3      the lemon drop kid , a new york city swindler, is illegally touting horses at a florida racetrac...  \n",
       "4      seventh-day adventist church pastor michael chamberlain, his wife lindy, their two sons, and the...  \n",
       "...                                                                                                    ...  \n",
       "42298  the story is about reema , a young muslim schoolgirl in malabar, who loved malayalam and poetry....  \n",
       "42299  in 1928 hollywood, director leo andreyev looks through photographs for actors for his next movie...  \n",
       "42300  american luthier focuses on randy parsons’ transformation from aspiring musician to guitar-maker...  \n",
       "42301  abdur rehman khan , a middle-aged dry fruit seller from afghanistan, comes to calcutta to hawk h...  \n",
       "42302  1940 - operation dynamo has just taken place. from the newly conquered french coastline, a wehrm...  \n",
       "\n",
       "[42303 rows x 2 columns]"
      ]
     },
     "execution_count": 211,
     "metadata": {},
     "output_type": "execute_result"
    }
   ],
   "source": [
    "plots"
   ]
  },
  {
   "cell_type": "markdown",
   "metadata": {},
   "source": [
    "# Characters"
   ]
  },
  {
   "cell_type": "code",
   "execution_count": 212,
   "metadata": {},
   "outputs": [],
   "source": [
    "characters = pd.read_csv(\"data/character.metadata.tsv\", sep = '\\t', header = None)\n"
   ]
  },
  {
   "cell_type": "code",
   "execution_count": 213,
   "metadata": {},
   "outputs": [],
   "source": [
    "characters.columns = [\"wiki_movie_id\",\"freebase_movie_id\",\"release_date\",\"character_name\",\"date_birth\",\"gender\",\n",
    "                      \"height\",\"ethnicity\",\"act_name\",\"act_age\",\n",
    "                      \"freebase_char_actor_id\",\"freebase_char_id\",\"freebase_actor_id\"]"
   ]
  },
  {
   "cell_type": "code",
   "execution_count": 214,
   "metadata": {},
   "outputs": [
    {
     "data": {
      "text/html": [
       "<div>\n",
       "<style scoped>\n",
       "    .dataframe tbody tr th:only-of-type {\n",
       "        vertical-align: middle;\n",
       "    }\n",
       "\n",
       "    .dataframe tbody tr th {\n",
       "        vertical-align: top;\n",
       "    }\n",
       "\n",
       "    .dataframe thead th {\n",
       "        text-align: right;\n",
       "    }\n",
       "</style>\n",
       "<table border=\"1\" class=\"dataframe\">\n",
       "  <thead>\n",
       "    <tr style=\"text-align: right;\">\n",
       "      <th></th>\n",
       "      <th>wiki_movie_id</th>\n",
       "      <th>freebase_movie_id</th>\n",
       "      <th>release_date</th>\n",
       "      <th>character_name</th>\n",
       "      <th>date_birth</th>\n",
       "      <th>gender</th>\n",
       "      <th>height</th>\n",
       "      <th>ethnicity</th>\n",
       "      <th>act_name</th>\n",
       "      <th>act_age</th>\n",
       "      <th>freebase_char_actor_id</th>\n",
       "      <th>freebase_char_id</th>\n",
       "      <th>freebase_actor_id</th>\n",
       "    </tr>\n",
       "  </thead>\n",
       "  <tbody>\n",
       "    <tr>\n",
       "      <th>0</th>\n",
       "      <td>975900</td>\n",
       "      <td>/m/03vyhn</td>\n",
       "      <td>2001-08-24</td>\n",
       "      <td>Akooshay</td>\n",
       "      <td>1958-08-26</td>\n",
       "      <td>F</td>\n",
       "      <td>1.620</td>\n",
       "      <td>NaN</td>\n",
       "      <td>Wanda De Jesus</td>\n",
       "      <td>42.0</td>\n",
       "      <td>/m/0bgchxw</td>\n",
       "      <td>/m/0bgcj3x</td>\n",
       "      <td>/m/03wcfv7</td>\n",
       "    </tr>\n",
       "    <tr>\n",
       "      <th>1</th>\n",
       "      <td>975900</td>\n",
       "      <td>/m/03vyhn</td>\n",
       "      <td>2001-08-24</td>\n",
       "      <td>Lieutenant Melanie Ballard</td>\n",
       "      <td>1974-08-15</td>\n",
       "      <td>F</td>\n",
       "      <td>1.780</td>\n",
       "      <td>/m/044038p</td>\n",
       "      <td>Natasha Henstridge</td>\n",
       "      <td>27.0</td>\n",
       "      <td>/m/0jys3m</td>\n",
       "      <td>/m/0bgchn4</td>\n",
       "      <td>/m/0346l4</td>\n",
       "    </tr>\n",
       "    <tr>\n",
       "      <th>2</th>\n",
       "      <td>975900</td>\n",
       "      <td>/m/03vyhn</td>\n",
       "      <td>2001-08-24</td>\n",
       "      <td>Desolation Williams</td>\n",
       "      <td>1969-06-15</td>\n",
       "      <td>M</td>\n",
       "      <td>1.727</td>\n",
       "      <td>/m/0x67</td>\n",
       "      <td>Ice Cube</td>\n",
       "      <td>32.0</td>\n",
       "      <td>/m/0jys3g</td>\n",
       "      <td>/m/0bgchn_</td>\n",
       "      <td>/m/01vw26l</td>\n",
       "    </tr>\n",
       "    <tr>\n",
       "      <th>3</th>\n",
       "      <td>975900</td>\n",
       "      <td>/m/03vyhn</td>\n",
       "      <td>2001-08-24</td>\n",
       "      <td>Sgt Jericho Butler</td>\n",
       "      <td>1967-09-12</td>\n",
       "      <td>M</td>\n",
       "      <td>1.750</td>\n",
       "      <td>NaN</td>\n",
       "      <td>Jason Statham</td>\n",
       "      <td>33.0</td>\n",
       "      <td>/m/02vchl6</td>\n",
       "      <td>/m/0bgchnq</td>\n",
       "      <td>/m/034hyc</td>\n",
       "    </tr>\n",
       "    <tr>\n",
       "      <th>4</th>\n",
       "      <td>975900</td>\n",
       "      <td>/m/03vyhn</td>\n",
       "      <td>2001-08-24</td>\n",
       "      <td>Bashira Kincaid</td>\n",
       "      <td>1977-09-25</td>\n",
       "      <td>F</td>\n",
       "      <td>1.650</td>\n",
       "      <td>NaN</td>\n",
       "      <td>Clea DuVall</td>\n",
       "      <td>23.0</td>\n",
       "      <td>/m/02vbb3r</td>\n",
       "      <td>/m/0bgchp9</td>\n",
       "      <td>/m/01y9xg</td>\n",
       "    </tr>\n",
       "  </tbody>\n",
       "</table>\n",
       "</div>"
      ],
      "text/plain": [
       "   wiki_movie_id freebase_movie_id release_date              character_name  \\\n",
       "0         975900         /m/03vyhn   2001-08-24                    Akooshay   \n",
       "1         975900         /m/03vyhn   2001-08-24  Lieutenant Melanie Ballard   \n",
       "2         975900         /m/03vyhn   2001-08-24         Desolation Williams   \n",
       "3         975900         /m/03vyhn   2001-08-24          Sgt Jericho Butler   \n",
       "4         975900         /m/03vyhn   2001-08-24             Bashira Kincaid   \n",
       "\n",
       "   date_birth gender  height   ethnicity            act_name  act_age  \\\n",
       "0  1958-08-26      F   1.620         NaN      Wanda De Jesus     42.0   \n",
       "1  1974-08-15      F   1.780  /m/044038p  Natasha Henstridge     27.0   \n",
       "2  1969-06-15      M   1.727     /m/0x67            Ice Cube     32.0   \n",
       "3  1967-09-12      M   1.750         NaN       Jason Statham     33.0   \n",
       "4  1977-09-25      F   1.650         NaN         Clea DuVall     23.0   \n",
       "\n",
       "  freebase_char_actor_id freebase_char_id freebase_actor_id  \n",
       "0             /m/0bgchxw       /m/0bgcj3x        /m/03wcfv7  \n",
       "1              /m/0jys3m       /m/0bgchn4         /m/0346l4  \n",
       "2              /m/0jys3g       /m/0bgchn_        /m/01vw26l  \n",
       "3             /m/02vchl6       /m/0bgchnq         /m/034hyc  \n",
       "4             /m/02vbb3r       /m/0bgchp9         /m/01y9xg  "
      ]
     },
     "execution_count": 214,
     "metadata": {},
     "output_type": "execute_result"
    }
   ],
   "source": [
    "characters.head()"
   ]
  },
  {
   "cell_type": "code",
   "execution_count": 215,
   "metadata": {},
   "outputs": [],
   "source": [
    "characters.release_date = pd.to_datetime(characters.release_date, errors = 'coerce')\n",
    "characters.date_birth =  pd.to_datetime(characters.date_birth , errors = 'coerce')"
   ]
  },
  {
   "cell_type": "code",
   "execution_count": 216,
   "metadata": {},
   "outputs": [
    {
     "data": {
      "text/html": [
       "<div>\n",
       "<style scoped>\n",
       "    .dataframe tbody tr th:only-of-type {\n",
       "        vertical-align: middle;\n",
       "    }\n",
       "\n",
       "    .dataframe tbody tr th {\n",
       "        vertical-align: top;\n",
       "    }\n",
       "\n",
       "    .dataframe thead th {\n",
       "        text-align: right;\n",
       "    }\n",
       "</style>\n",
       "<table border=\"1\" class=\"dataframe\">\n",
       "  <thead>\n",
       "    <tr style=\"text-align: right;\">\n",
       "      <th></th>\n",
       "      <th>wiki_movie_id</th>\n",
       "      <th>freebase_movie_id</th>\n",
       "      <th>release_date</th>\n",
       "      <th>character_name</th>\n",
       "      <th>date_birth</th>\n",
       "      <th>gender</th>\n",
       "      <th>height</th>\n",
       "      <th>ethnicity</th>\n",
       "      <th>act_name</th>\n",
       "      <th>act_age</th>\n",
       "      <th>freebase_char_actor_id</th>\n",
       "      <th>freebase_char_id</th>\n",
       "      <th>freebase_actor_id</th>\n",
       "    </tr>\n",
       "  </thead>\n",
       "  <tbody>\n",
       "    <tr>\n",
       "      <th>0</th>\n",
       "      <td>975900</td>\n",
       "      <td>/m/03vyhn</td>\n",
       "      <td>2001-08-24</td>\n",
       "      <td>Akooshay</td>\n",
       "      <td>1958-08-26 00:00:00</td>\n",
       "      <td>F</td>\n",
       "      <td>1.620</td>\n",
       "      <td>NaN</td>\n",
       "      <td>Wanda De Jesus</td>\n",
       "      <td>42.0</td>\n",
       "      <td>/m/0bgchxw</td>\n",
       "      <td>/m/0bgcj3x</td>\n",
       "      <td>/m/03wcfv7</td>\n",
       "    </tr>\n",
       "    <tr>\n",
       "      <th>1</th>\n",
       "      <td>975900</td>\n",
       "      <td>/m/03vyhn</td>\n",
       "      <td>2001-08-24</td>\n",
       "      <td>Lieutenant Melanie Ballard</td>\n",
       "      <td>1974-08-15 00:00:00</td>\n",
       "      <td>F</td>\n",
       "      <td>1.780</td>\n",
       "      <td>/m/044038p</td>\n",
       "      <td>Natasha Henstridge</td>\n",
       "      <td>27.0</td>\n",
       "      <td>/m/0jys3m</td>\n",
       "      <td>/m/0bgchn4</td>\n",
       "      <td>/m/0346l4</td>\n",
       "    </tr>\n",
       "    <tr>\n",
       "      <th>2</th>\n",
       "      <td>975900</td>\n",
       "      <td>/m/03vyhn</td>\n",
       "      <td>2001-08-24</td>\n",
       "      <td>Desolation Williams</td>\n",
       "      <td>1969-06-15 00:00:00</td>\n",
       "      <td>M</td>\n",
       "      <td>1.727</td>\n",
       "      <td>/m/0x67</td>\n",
       "      <td>Ice Cube</td>\n",
       "      <td>32.0</td>\n",
       "      <td>/m/0jys3g</td>\n",
       "      <td>/m/0bgchn_</td>\n",
       "      <td>/m/01vw26l</td>\n",
       "    </tr>\n",
       "    <tr>\n",
       "      <th>3</th>\n",
       "      <td>975900</td>\n",
       "      <td>/m/03vyhn</td>\n",
       "      <td>2001-08-24</td>\n",
       "      <td>Sgt Jericho Butler</td>\n",
       "      <td>1967-09-12 00:00:00</td>\n",
       "      <td>M</td>\n",
       "      <td>1.750</td>\n",
       "      <td>NaN</td>\n",
       "      <td>Jason Statham</td>\n",
       "      <td>33.0</td>\n",
       "      <td>/m/02vchl6</td>\n",
       "      <td>/m/0bgchnq</td>\n",
       "      <td>/m/034hyc</td>\n",
       "    </tr>\n",
       "    <tr>\n",
       "      <th>4</th>\n",
       "      <td>975900</td>\n",
       "      <td>/m/03vyhn</td>\n",
       "      <td>2001-08-24</td>\n",
       "      <td>Bashira Kincaid</td>\n",
       "      <td>1977-09-25 00:00:00</td>\n",
       "      <td>F</td>\n",
       "      <td>1.650</td>\n",
       "      <td>NaN</td>\n",
       "      <td>Clea DuVall</td>\n",
       "      <td>23.0</td>\n",
       "      <td>/m/02vbb3r</td>\n",
       "      <td>/m/0bgchp9</td>\n",
       "      <td>/m/01y9xg</td>\n",
       "    </tr>\n",
       "  </tbody>\n",
       "</table>\n",
       "</div>"
      ],
      "text/plain": [
       "   wiki_movie_id freebase_movie_id release_date              character_name  \\\n",
       "0         975900         /m/03vyhn   2001-08-24                    Akooshay   \n",
       "1         975900         /m/03vyhn   2001-08-24  Lieutenant Melanie Ballard   \n",
       "2         975900         /m/03vyhn   2001-08-24         Desolation Williams   \n",
       "3         975900         /m/03vyhn   2001-08-24          Sgt Jericho Butler   \n",
       "4         975900         /m/03vyhn   2001-08-24             Bashira Kincaid   \n",
       "\n",
       "            date_birth gender  height   ethnicity            act_name  \\\n",
       "0  1958-08-26 00:00:00      F   1.620         NaN      Wanda De Jesus   \n",
       "1  1974-08-15 00:00:00      F   1.780  /m/044038p  Natasha Henstridge   \n",
       "2  1969-06-15 00:00:00      M   1.727     /m/0x67            Ice Cube   \n",
       "3  1967-09-12 00:00:00      M   1.750         NaN       Jason Statham   \n",
       "4  1977-09-25 00:00:00      F   1.650         NaN         Clea DuVall   \n",
       "\n",
       "   act_age freebase_char_actor_id freebase_char_id freebase_actor_id  \n",
       "0     42.0             /m/0bgchxw       /m/0bgcj3x        /m/03wcfv7  \n",
       "1     27.0              /m/0jys3m       /m/0bgchn4         /m/0346l4  \n",
       "2     32.0              /m/0jys3g       /m/0bgchn_        /m/01vw26l  \n",
       "3     33.0             /m/02vchl6       /m/0bgchnq         /m/034hyc  \n",
       "4     23.0             /m/02vbb3r       /m/0bgchp9         /m/01y9xg  "
      ]
     },
     "execution_count": 216,
     "metadata": {},
     "output_type": "execute_result"
    }
   ],
   "source": [
    "characters.head()"
   ]
  },
  {
   "cell_type": "markdown",
   "metadata": {},
   "source": [
    "# Analysis"
   ]
  },
  {
   "cell_type": "markdown",
   "metadata": {},
   "source": [
    "## Evolution of genres throughout the year"
   ]
  },
  {
   "cell_type": "code",
   "execution_count": 217,
   "metadata": {},
   "outputs": [
    {
     "data": {
      "text/plain": [
       "Index(['wiki_id', 'freebase_id', 'movie_name', 'release_date', 'duration',\n",
       "       'language', 'country', 'genre', 'metagenre'],\n",
       "      dtype='object')"
      ]
     },
     "execution_count": 217,
     "metadata": {},
     "output_type": "execute_result"
    }
   ],
   "source": [
    "metadata.columns"
   ]
  },
  {
   "cell_type": "code",
   "execution_count": 218,
   "metadata": {},
   "outputs": [
    {
     "name": "stderr",
     "output_type": "stream",
     "text": [
      "/var/folders/gh/wp3trlqx0lzd727nqkyhfjqw0000gn/T/ipykernel_69606/554888437.py:1: FutureWarning:\n",
      "\n",
      "Using the level keyword in DataFrame and Series aggregations is deprecated and will be removed in a future version. Use groupby instead. df.sum(level=1) should use df.groupby(level=1).sum().\n",
      "\n"
     ]
    }
   ],
   "source": [
    "dummies_genres = pd.get_dummies(metadata[\"metagenre\"].explode()).sum(level=0)\n",
    "metadata = metadata.join(dummies_genres)"
   ]
  },
  {
   "cell_type": "code",
   "execution_count": 219,
   "metadata": {},
   "outputs": [
    {
     "name": "stderr",
     "output_type": "stream",
     "text": [
      "/var/folders/gh/wp3trlqx0lzd727nqkyhfjqw0000gn/T/ipykernel_69606/4144096222.py:4: FutureWarning:\n",
      "\n",
      "The default value of numeric_only in DataFrameGroupBy.sum is deprecated. In a future version, numeric_only will default to False. Either specify numeric_only or select only columns which should be valid for the function.\n",
      "\n"
     ]
    },
    {
     "data": {
      "text/html": [
       "<div>\n",
       "<style scoped>\n",
       "    .dataframe tbody tr th:only-of-type {\n",
       "        vertical-align: middle;\n",
       "    }\n",
       "\n",
       "    .dataframe tbody tr th {\n",
       "        vertical-align: top;\n",
       "    }\n",
       "\n",
       "    .dataframe thead th {\n",
       "        text-align: right;\n",
       "    }\n",
       "</style>\n",
       "<table border=\"1\" class=\"dataframe\">\n",
       "  <thead>\n",
       "    <tr style=\"text-align: right;\">\n",
       "      <th></th>\n",
       "      <th>Other</th>\n",
       "      <th>action</th>\n",
       "      <th>animation</th>\n",
       "      <th>black and white</th>\n",
       "      <th>comedy</th>\n",
       "      <th>crime</th>\n",
       "      <th>diversity</th>\n",
       "      <th>documentary</th>\n",
       "      <th>drama</th>\n",
       "      <th>erotic</th>\n",
       "      <th>...</th>\n",
       "      <th>horror</th>\n",
       "      <th>musical</th>\n",
       "      <th>propaganda</th>\n",
       "      <th>religious</th>\n",
       "      <th>romance</th>\n",
       "      <th>science-fiction</th>\n",
       "      <th>silent</th>\n",
       "      <th>thriller</th>\n",
       "      <th>war</th>\n",
       "      <th>western</th>\n",
       "    </tr>\n",
       "    <tr>\n",
       "      <th>release_date</th>\n",
       "      <th></th>\n",
       "      <th></th>\n",
       "      <th></th>\n",
       "      <th></th>\n",
       "      <th></th>\n",
       "      <th></th>\n",
       "      <th></th>\n",
       "      <th></th>\n",
       "      <th></th>\n",
       "      <th></th>\n",
       "      <th></th>\n",
       "      <th></th>\n",
       "      <th></th>\n",
       "      <th></th>\n",
       "      <th></th>\n",
       "      <th></th>\n",
       "      <th></th>\n",
       "      <th></th>\n",
       "      <th></th>\n",
       "      <th></th>\n",
       "      <th></th>\n",
       "    </tr>\n",
       "  </thead>\n",
       "  <tbody>\n",
       "    <tr>\n",
       "      <th>1888-01-01</th>\n",
       "      <td>0</td>\n",
       "      <td>0</td>\n",
       "      <td>0</td>\n",
       "      <td>1</td>\n",
       "      <td>0</td>\n",
       "      <td>0</td>\n",
       "      <td>0</td>\n",
       "      <td>0</td>\n",
       "      <td>0</td>\n",
       "      <td>0</td>\n",
       "      <td>...</td>\n",
       "      <td>0</td>\n",
       "      <td>0</td>\n",
       "      <td>0</td>\n",
       "      <td>0</td>\n",
       "      <td>0</td>\n",
       "      <td>0</td>\n",
       "      <td>1</td>\n",
       "      <td>0</td>\n",
       "      <td>0</td>\n",
       "      <td>0</td>\n",
       "    </tr>\n",
       "    <tr>\n",
       "      <th>1889-01-01</th>\n",
       "      <td>0</td>\n",
       "      <td>0</td>\n",
       "      <td>0</td>\n",
       "      <td>1</td>\n",
       "      <td>0</td>\n",
       "      <td>0</td>\n",
       "      <td>0</td>\n",
       "      <td>0</td>\n",
       "      <td>0</td>\n",
       "      <td>0</td>\n",
       "      <td>...</td>\n",
       "      <td>0</td>\n",
       "      <td>0</td>\n",
       "      <td>0</td>\n",
       "      <td>0</td>\n",
       "      <td>0</td>\n",
       "      <td>0</td>\n",
       "      <td>1</td>\n",
       "      <td>0</td>\n",
       "      <td>0</td>\n",
       "      <td>0</td>\n",
       "    </tr>\n",
       "    <tr>\n",
       "      <th>1890-01-01</th>\n",
       "      <td>0</td>\n",
       "      <td>0</td>\n",
       "      <td>0</td>\n",
       "      <td>0</td>\n",
       "      <td>0</td>\n",
       "      <td>0</td>\n",
       "      <td>0</td>\n",
       "      <td>0</td>\n",
       "      <td>0</td>\n",
       "      <td>0</td>\n",
       "      <td>...</td>\n",
       "      <td>0</td>\n",
       "      <td>0</td>\n",
       "      <td>0</td>\n",
       "      <td>0</td>\n",
       "      <td>0</td>\n",
       "      <td>0</td>\n",
       "      <td>2</td>\n",
       "      <td>0</td>\n",
       "      <td>0</td>\n",
       "      <td>0</td>\n",
       "    </tr>\n",
       "    <tr>\n",
       "      <th>1891-01-01</th>\n",
       "      <td>0</td>\n",
       "      <td>0</td>\n",
       "      <td>0</td>\n",
       "      <td>0</td>\n",
       "      <td>0</td>\n",
       "      <td>0</td>\n",
       "      <td>0</td>\n",
       "      <td>0</td>\n",
       "      <td>0</td>\n",
       "      <td>0</td>\n",
       "      <td>...</td>\n",
       "      <td>0</td>\n",
       "      <td>0</td>\n",
       "      <td>0</td>\n",
       "      <td>0</td>\n",
       "      <td>0</td>\n",
       "      <td>0</td>\n",
       "      <td>1</td>\n",
       "      <td>0</td>\n",
       "      <td>0</td>\n",
       "      <td>0</td>\n",
       "    </tr>\n",
       "    <tr>\n",
       "      <th>1892-10-28</th>\n",
       "      <td>0</td>\n",
       "      <td>0</td>\n",
       "      <td>3</td>\n",
       "      <td>0</td>\n",
       "      <td>0</td>\n",
       "      <td>0</td>\n",
       "      <td>0</td>\n",
       "      <td>0</td>\n",
       "      <td>0</td>\n",
       "      <td>0</td>\n",
       "      <td>...</td>\n",
       "      <td>0</td>\n",
       "      <td>0</td>\n",
       "      <td>0</td>\n",
       "      <td>0</td>\n",
       "      <td>0</td>\n",
       "      <td>0</td>\n",
       "      <td>3</td>\n",
       "      <td>0</td>\n",
       "      <td>0</td>\n",
       "      <td>0</td>\n",
       "    </tr>\n",
       "    <tr>\n",
       "      <th>...</th>\n",
       "      <td>...</td>\n",
       "      <td>...</td>\n",
       "      <td>...</td>\n",
       "      <td>...</td>\n",
       "      <td>...</td>\n",
       "      <td>...</td>\n",
       "      <td>...</td>\n",
       "      <td>...</td>\n",
       "      <td>...</td>\n",
       "      <td>...</td>\n",
       "      <td>...</td>\n",
       "      <td>...</td>\n",
       "      <td>...</td>\n",
       "      <td>...</td>\n",
       "      <td>...</td>\n",
       "      <td>...</td>\n",
       "      <td>...</td>\n",
       "      <td>...</td>\n",
       "      <td>...</td>\n",
       "      <td>...</td>\n",
       "      <td>...</td>\n",
       "    </tr>\n",
       "    <tr>\n",
       "      <th>2014-12-30</th>\n",
       "      <td>0</td>\n",
       "      <td>0</td>\n",
       "      <td>0</td>\n",
       "      <td>0</td>\n",
       "      <td>0</td>\n",
       "      <td>0</td>\n",
       "      <td>0</td>\n",
       "      <td>0</td>\n",
       "      <td>0</td>\n",
       "      <td>0</td>\n",
       "      <td>...</td>\n",
       "      <td>0</td>\n",
       "      <td>0</td>\n",
       "      <td>0</td>\n",
       "      <td>0</td>\n",
       "      <td>1</td>\n",
       "      <td>0</td>\n",
       "      <td>0</td>\n",
       "      <td>0</td>\n",
       "      <td>0</td>\n",
       "      <td>0</td>\n",
       "    </tr>\n",
       "    <tr>\n",
       "      <th>2015-01-01</th>\n",
       "      <td>0</td>\n",
       "      <td>2</td>\n",
       "      <td>0</td>\n",
       "      <td>0</td>\n",
       "      <td>1</td>\n",
       "      <td>1</td>\n",
       "      <td>0</td>\n",
       "      <td>0</td>\n",
       "      <td>0</td>\n",
       "      <td>0</td>\n",
       "      <td>...</td>\n",
       "      <td>0</td>\n",
       "      <td>0</td>\n",
       "      <td>0</td>\n",
       "      <td>0</td>\n",
       "      <td>0</td>\n",
       "      <td>3</td>\n",
       "      <td>0</td>\n",
       "      <td>0</td>\n",
       "      <td>0</td>\n",
       "      <td>0</td>\n",
       "    </tr>\n",
       "    <tr>\n",
       "      <th>2016-01-01</th>\n",
       "      <td>0</td>\n",
       "      <td>1</td>\n",
       "      <td>0</td>\n",
       "      <td>0</td>\n",
       "      <td>0</td>\n",
       "      <td>0</td>\n",
       "      <td>0</td>\n",
       "      <td>0</td>\n",
       "      <td>0</td>\n",
       "      <td>0</td>\n",
       "      <td>...</td>\n",
       "      <td>0</td>\n",
       "      <td>0</td>\n",
       "      <td>0</td>\n",
       "      <td>0</td>\n",
       "      <td>1</td>\n",
       "      <td>1</td>\n",
       "      <td>0</td>\n",
       "      <td>1</td>\n",
       "      <td>0</td>\n",
       "      <td>0</td>\n",
       "    </tr>\n",
       "    <tr>\n",
       "      <th>2016-03-18</th>\n",
       "      <td>1</td>\n",
       "      <td>0</td>\n",
       "      <td>0</td>\n",
       "      <td>0</td>\n",
       "      <td>0</td>\n",
       "      <td>0</td>\n",
       "      <td>0</td>\n",
       "      <td>0</td>\n",
       "      <td>0</td>\n",
       "      <td>0</td>\n",
       "      <td>...</td>\n",
       "      <td>0</td>\n",
       "      <td>0</td>\n",
       "      <td>0</td>\n",
       "      <td>0</td>\n",
       "      <td>0</td>\n",
       "      <td>0</td>\n",
       "      <td>0</td>\n",
       "      <td>0</td>\n",
       "      <td>0</td>\n",
       "      <td>0</td>\n",
       "    </tr>\n",
       "    <tr>\n",
       "      <th>2016-06-08</th>\n",
       "      <td>0</td>\n",
       "      <td>0</td>\n",
       "      <td>0</td>\n",
       "      <td>0</td>\n",
       "      <td>0</td>\n",
       "      <td>0</td>\n",
       "      <td>0</td>\n",
       "      <td>0</td>\n",
       "      <td>0</td>\n",
       "      <td>0</td>\n",
       "      <td>...</td>\n",
       "      <td>1</td>\n",
       "      <td>0</td>\n",
       "      <td>0</td>\n",
       "      <td>0</td>\n",
       "      <td>0</td>\n",
       "      <td>0</td>\n",
       "      <td>0</td>\n",
       "      <td>1</td>\n",
       "      <td>0</td>\n",
       "      <td>0</td>\n",
       "    </tr>\n",
       "  </tbody>\n",
       "</table>\n",
       "<p>19587 rows × 24 columns</p>\n",
       "</div>"
      ],
      "text/plain": [
       "              Other  action  animation  black and white  comedy  crime  \\\n",
       "release_date                                                             \n",
       "1888-01-01        0       0          0                1       0      0   \n",
       "1889-01-01        0       0          0                1       0      0   \n",
       "1890-01-01        0       0          0                0       0      0   \n",
       "1891-01-01        0       0          0                0       0      0   \n",
       "1892-10-28        0       0          3                0       0      0   \n",
       "...             ...     ...        ...              ...     ...    ...   \n",
       "2014-12-30        0       0          0                0       0      0   \n",
       "2015-01-01        0       2          0                0       1      1   \n",
       "2016-01-01        0       1          0                0       0      0   \n",
       "2016-03-18        1       0          0                0       0      0   \n",
       "2016-06-08        0       0          0                0       0      0   \n",
       "\n",
       "              diversity  documentary  drama  erotic  ...  horror  musical  \\\n",
       "release_date                                         ...                    \n",
       "1888-01-01            0            0      0       0  ...       0        0   \n",
       "1889-01-01            0            0      0       0  ...       0        0   \n",
       "1890-01-01            0            0      0       0  ...       0        0   \n",
       "1891-01-01            0            0      0       0  ...       0        0   \n",
       "1892-10-28            0            0      0       0  ...       0        0   \n",
       "...                 ...          ...    ...     ...  ...     ...      ...   \n",
       "2014-12-30            0            0      0       0  ...       0        0   \n",
       "2015-01-01            0            0      0       0  ...       0        0   \n",
       "2016-01-01            0            0      0       0  ...       0        0   \n",
       "2016-03-18            0            0      0       0  ...       0        0   \n",
       "2016-06-08            0            0      0       0  ...       1        0   \n",
       "\n",
       "              propaganda  religious  romance  science-fiction  silent  \\\n",
       "release_date                                                            \n",
       "1888-01-01             0          0        0                0       1   \n",
       "1889-01-01             0          0        0                0       1   \n",
       "1890-01-01             0          0        0                0       2   \n",
       "1891-01-01             0          0        0                0       1   \n",
       "1892-10-28             0          0        0                0       3   \n",
       "...                  ...        ...      ...              ...     ...   \n",
       "2014-12-30             0          0        1                0       0   \n",
       "2015-01-01             0          0        0                3       0   \n",
       "2016-01-01             0          0        1                1       0   \n",
       "2016-03-18             0          0        0                0       0   \n",
       "2016-06-08             0          0        0                0       0   \n",
       "\n",
       "              thriller  war  western  \n",
       "release_date                          \n",
       "1888-01-01           0    0        0  \n",
       "1889-01-01           0    0        0  \n",
       "1890-01-01           0    0        0  \n",
       "1891-01-01           0    0        0  \n",
       "1892-10-28           0    0        0  \n",
       "...                ...  ...      ...  \n",
       "2014-12-30           0    0        0  \n",
       "2015-01-01           0    0        0  \n",
       "2016-01-01           1    0        0  \n",
       "2016-03-18           0    0        0  \n",
       "2016-06-08           1    0        0  \n",
       "\n",
       "[19587 rows x 24 columns]"
      ]
     },
     "execution_count": 219,
     "metadata": {},
     "output_type": "execute_result"
    }
   ],
   "source": [
    "cols_to_drop = [\"movie_name\",\"duration\",\"language\",\"country\",\"genre\",\"metagenre\",\"wiki_id\"]\n",
    "\n",
    "genre_per_date = metadata.copy().drop(columns=cols_to_drop).set_index(\"release_date\")\n",
    "genre_per_date = genre_per_date.groupby(\"release_date\").sum()\n",
    "genre_per_date"
   ]
  },
  {
   "cell_type": "code",
   "execution_count": 220,
   "metadata": {},
   "outputs": [
    {
     "data": {
      "text/html": [
       "<div>\n",
       "<style scoped>\n",
       "    .dataframe tbody tr th:only-of-type {\n",
       "        vertical-align: middle;\n",
       "    }\n",
       "\n",
       "    .dataframe tbody tr th {\n",
       "        vertical-align: top;\n",
       "    }\n",
       "\n",
       "    .dataframe thead th {\n",
       "        text-align: right;\n",
       "    }\n",
       "</style>\n",
       "<table border=\"1\" class=\"dataframe\">\n",
       "  <thead>\n",
       "    <tr style=\"text-align: right;\">\n",
       "      <th></th>\n",
       "      <th>Other</th>\n",
       "      <th>action</th>\n",
       "      <th>animation</th>\n",
       "      <th>black and white</th>\n",
       "      <th>comedy</th>\n",
       "      <th>crime</th>\n",
       "      <th>diversity</th>\n",
       "      <th>documentary</th>\n",
       "      <th>drama</th>\n",
       "      <th>erotic</th>\n",
       "      <th>...</th>\n",
       "      <th>horror</th>\n",
       "      <th>musical</th>\n",
       "      <th>propaganda</th>\n",
       "      <th>religious</th>\n",
       "      <th>romance</th>\n",
       "      <th>science-fiction</th>\n",
       "      <th>silent</th>\n",
       "      <th>thriller</th>\n",
       "      <th>war</th>\n",
       "      <th>western</th>\n",
       "    </tr>\n",
       "    <tr>\n",
       "      <th>release_date</th>\n",
       "      <th></th>\n",
       "      <th></th>\n",
       "      <th></th>\n",
       "      <th></th>\n",
       "      <th></th>\n",
       "      <th></th>\n",
       "      <th></th>\n",
       "      <th></th>\n",
       "      <th></th>\n",
       "      <th></th>\n",
       "      <th></th>\n",
       "      <th></th>\n",
       "      <th></th>\n",
       "      <th></th>\n",
       "      <th></th>\n",
       "      <th></th>\n",
       "      <th></th>\n",
       "      <th></th>\n",
       "      <th></th>\n",
       "      <th></th>\n",
       "      <th></th>\n",
       "    </tr>\n",
       "  </thead>\n",
       "  <tbody>\n",
       "    <tr>\n",
       "      <th>1888-01-01</th>\n",
       "      <td>0</td>\n",
       "      <td>0</td>\n",
       "      <td>0</td>\n",
       "      <td>1</td>\n",
       "      <td>0</td>\n",
       "      <td>0</td>\n",
       "      <td>0</td>\n",
       "      <td>0</td>\n",
       "      <td>0</td>\n",
       "      <td>0</td>\n",
       "      <td>...</td>\n",
       "      <td>0</td>\n",
       "      <td>0</td>\n",
       "      <td>0</td>\n",
       "      <td>0</td>\n",
       "      <td>0</td>\n",
       "      <td>0</td>\n",
       "      <td>1</td>\n",
       "      <td>0</td>\n",
       "      <td>0</td>\n",
       "      <td>0</td>\n",
       "    </tr>\n",
       "    <tr>\n",
       "      <th>1889-01-01</th>\n",
       "      <td>0</td>\n",
       "      <td>0</td>\n",
       "      <td>0</td>\n",
       "      <td>1</td>\n",
       "      <td>0</td>\n",
       "      <td>0</td>\n",
       "      <td>0</td>\n",
       "      <td>0</td>\n",
       "      <td>0</td>\n",
       "      <td>0</td>\n",
       "      <td>...</td>\n",
       "      <td>0</td>\n",
       "      <td>0</td>\n",
       "      <td>0</td>\n",
       "      <td>0</td>\n",
       "      <td>0</td>\n",
       "      <td>0</td>\n",
       "      <td>1</td>\n",
       "      <td>0</td>\n",
       "      <td>0</td>\n",
       "      <td>0</td>\n",
       "    </tr>\n",
       "    <tr>\n",
       "      <th>1890-01-01</th>\n",
       "      <td>0</td>\n",
       "      <td>0</td>\n",
       "      <td>0</td>\n",
       "      <td>0</td>\n",
       "      <td>0</td>\n",
       "      <td>0</td>\n",
       "      <td>0</td>\n",
       "      <td>0</td>\n",
       "      <td>0</td>\n",
       "      <td>0</td>\n",
       "      <td>...</td>\n",
       "      <td>0</td>\n",
       "      <td>0</td>\n",
       "      <td>0</td>\n",
       "      <td>0</td>\n",
       "      <td>0</td>\n",
       "      <td>0</td>\n",
       "      <td>2</td>\n",
       "      <td>0</td>\n",
       "      <td>0</td>\n",
       "      <td>0</td>\n",
       "    </tr>\n",
       "    <tr>\n",
       "      <th>1891-01-01</th>\n",
       "      <td>0</td>\n",
       "      <td>0</td>\n",
       "      <td>0</td>\n",
       "      <td>0</td>\n",
       "      <td>0</td>\n",
       "      <td>0</td>\n",
       "      <td>0</td>\n",
       "      <td>0</td>\n",
       "      <td>0</td>\n",
       "      <td>0</td>\n",
       "      <td>...</td>\n",
       "      <td>0</td>\n",
       "      <td>0</td>\n",
       "      <td>0</td>\n",
       "      <td>0</td>\n",
       "      <td>0</td>\n",
       "      <td>0</td>\n",
       "      <td>1</td>\n",
       "      <td>0</td>\n",
       "      <td>0</td>\n",
       "      <td>0</td>\n",
       "    </tr>\n",
       "    <tr>\n",
       "      <th>1892-10-28</th>\n",
       "      <td>0</td>\n",
       "      <td>0</td>\n",
       "      <td>3</td>\n",
       "      <td>0</td>\n",
       "      <td>0</td>\n",
       "      <td>0</td>\n",
       "      <td>0</td>\n",
       "      <td>0</td>\n",
       "      <td>0</td>\n",
       "      <td>0</td>\n",
       "      <td>...</td>\n",
       "      <td>0</td>\n",
       "      <td>0</td>\n",
       "      <td>0</td>\n",
       "      <td>0</td>\n",
       "      <td>0</td>\n",
       "      <td>0</td>\n",
       "      <td>3</td>\n",
       "      <td>0</td>\n",
       "      <td>0</td>\n",
       "      <td>0</td>\n",
       "    </tr>\n",
       "  </tbody>\n",
       "</table>\n",
       "<p>5 rows × 24 columns</p>\n",
       "</div>"
      ],
      "text/plain": [
       "              Other  action  animation  black and white  comedy  crime  \\\n",
       "release_date                                                             \n",
       "1888-01-01        0       0          0                1       0      0   \n",
       "1889-01-01        0       0          0                1       0      0   \n",
       "1890-01-01        0       0          0                0       0      0   \n",
       "1891-01-01        0       0          0                0       0      0   \n",
       "1892-10-28        0       0          3                0       0      0   \n",
       "\n",
       "              diversity  documentary  drama  erotic  ...  horror  musical  \\\n",
       "release_date                                         ...                    \n",
       "1888-01-01            0            0      0       0  ...       0        0   \n",
       "1889-01-01            0            0      0       0  ...       0        0   \n",
       "1890-01-01            0            0      0       0  ...       0        0   \n",
       "1891-01-01            0            0      0       0  ...       0        0   \n",
       "1892-10-28            0            0      0       0  ...       0        0   \n",
       "\n",
       "              propaganda  religious  romance  science-fiction  silent  \\\n",
       "release_date                                                            \n",
       "1888-01-01             0          0        0                0       1   \n",
       "1889-01-01             0          0        0                0       1   \n",
       "1890-01-01             0          0        0                0       2   \n",
       "1891-01-01             0          0        0                0       1   \n",
       "1892-10-28             0          0        0                0       3   \n",
       "\n",
       "              thriller  war  western  \n",
       "release_date                          \n",
       "1888-01-01           0    0        0  \n",
       "1889-01-01           0    0        0  \n",
       "1890-01-01           0    0        0  \n",
       "1891-01-01           0    0        0  \n",
       "1892-10-28           0    0        0  \n",
       "\n",
       "[5 rows x 24 columns]"
      ]
     },
     "execution_count": 220,
     "metadata": {},
     "output_type": "execute_result"
    }
   ],
   "source": [
    "genre_per_date.head()"
   ]
  },
  {
   "cell_type": "markdown",
   "metadata": {},
   "source": []
  },
  {
   "cell_type": "code",
   "execution_count": 221,
   "metadata": {},
   "outputs": [
    {
     "data": {
      "image/png": "[encoded data removed]",
      "text/plain": [
       "<Figure size 640x480 with 1 Axes>"
      ]
     },
     "metadata": {},
     "output_type": "display_data"
    }
   ],
   "source": [
    "fig, ax = plt.subplots()\n",
    "n_top_genres = 20 \n",
    "sorted_genres = genre_per_data.sum(axis=0).sort_values(ascending=False)[:n_top_genres]\n",
    "\n",
    "ax.barh(sorted_genres.index, sorted_genres.values, align='center')\n",
    "ax.invert_yaxis()  # labels read top-to-bottom\n",
    "ax.set_xlabel('Count')\n",
    "ax.set_ylabel('Movie Genre')\n",
    "ax.set_title('Movie Genre - Bar Plot')\n",
    "\n",
    "plt.show()\n"
   ]
  },
  {
   "cell_type": "markdown",
   "metadata": {},
   "source": [
    "We can note that genre, comedy and experimental are part of the top three genres. But what about their evolution throughout time?"
   ]
  },
  {
   "cell_type": "code",
   "execution_count": 222,
   "metadata": {},
   "outputs": [],
   "source": [
    "# sample per period\n",
    "window = \"5Y\"\n",
    "\n",
    "# chose agg funct from aggfunct = [np.sum,np.cumsum]\n",
    "cumfunc = pd.DataFrame.cummax\n",
    "\n",
    "# normalize every period (sum of the row = 1)\n",
    "normalize = False\n",
    "\n",
    "# study the pct_change\n",
    "pct_change_bool = False\n"
   ]
  },
  {
   "cell_type": "code",
   "execution_count": 223,
   "metadata": {},
   "outputs": [],
   "source": [
    "def plot_line(df):\n",
    "    fig = px.line(sum_y_genre)\n",
    "\n",
    "    period = [1,3,5,10,20,30,50,100]\n",
    "    # Create the financial buttons\n",
    "    fin_buttons = [  {'count': y, 'label': str(y)+ \"YTD\", 'step': \"year\", 'stepmode': \"todate\"} for y in period ]\n",
    "\n",
    "    # Create the date range buttons & show the plot\n",
    "    fig.update_layout({'xaxis': {'rangeselector': {'buttons': fin_buttons}}})\n",
    "    fig.show()"
   ]
  },
  {
   "cell_type": "code",
   "execution_count": 224,
   "metadata": {},
   "outputs": [],
   "source": [
    "def genre_per_period(window:str,normalize:bool,pct_change_bool:bool,cumfunc=None):\n",
    "    res = genre_per_date.resample(window).sum()\n",
    "    if not cumfunc==None:\n",
    "        res = res.apply(cumfunc)\n",
    "    \n",
    "    if normalize:\n",
    "        res = res.div(sum_y_genre.sum(axis=1), axis=0)\n",
    "\n",
    "    if pct_change_bool:\n",
    "        res = res.pct_change().fillna(0)\n",
    "    return res\n"
   ]
  },
  {
   "cell_type": "code",
   "execution_count": 225,
   "metadata": {},
   "outputs": [
    {
     "data": {
      "application/vnd.plotly.v1+json": {
       "config": {
        "plotlyServerURL": "https://plot.ly"
       },
       "data": [
        {
         "hovertemplate": "variable=Other<br>release_date=%{x}<br>value=%{y}<extra></extra>",
         "legendgroup": "Other",
         "line": {
          "color": "#636efa",
          "dash": "solid"
         },
         "marker": {
          "symbol": "circle"
         },
         "mode": "lines",
         "name": "Other",
         "orientation": "v",
         "showlegend": true,
         "type": "scatter",
         "x": [
          "1888-12-31T00:00:00",
          "1893-12-31T00:00:00",
          "1898-12-31T00:00:00",
          "1903-12-31T00:00:00",
          "1908-12-31T00:00:00",
          "1913-12-31T00:00:00",
          "1918-12-31T00:00:00",
          "1923-12-31T00:00:00",
          "1928-12-31T00:00:00",
          "1933-12-31T00:00:00",
          "1938-12-31T00:00:00",
          "1943-12-31T00:00:00",
          "1948-12-31T00:00:00",
          "1953-12-31T00:00:00",
          "1958-12-31T00:00:00",
          "1963-12-31T00:00:00",
          "1968-12-31T00:00:00",
          "1973-12-31T00:00:00",
          "1978-12-31T00:00:00",
          "1983-12-31T00:00:00",
          "1988-12-31T00:00:00",
          "1993-12-31T00:00:00",
          "1998-12-31T00:00:00",
          "2003-12-31T00:00:00",
          "2008-12-31T00:00:00",
          "2013-12-31T00:00:00",
          "2018-12-31T00:00:00"
         ],
         "xaxis": "x",
         "y": [
          0,
          0,
          1,
          2,
          2,
          3,
          23,
          35,
          39,
          56,
          85,
          151,
          200,
          292,
          397,
          521,
          712,
          966,
          1173,
          1347,
          1527,
          1727,
          1910,
          2152,
          2519,
          2753,
          2755
         ],
         "yaxis": "y"
        },
        {
         "hovertemplate": "variable=action<br>release_date=%{x}<br>value=%{y}<extra></extra>",
         "legendgroup": "action",
         "line": {
          "color": "#EF553B",
          "dash": "solid"
         },
         "marker": {
          "symbol": "circle"
         },
         "mode": "lines",
         "name": "action",
         "orientation": "v",
         "showlegend": true,
         "type": "scatter",
         "x": [
          "1888-12-31T00:00:00",
          "1893-12-31T00:00:00",
          "1898-12-31T00:00:00",
          "1903-12-31T00:00:00",
          "1908-12-31T00:00:00",
          "1913-12-31T00:00:00",
          "1918-12-31T00:00:00",
          "1923-12-31T00:00:00",
          "1928-12-31T00:00:00",
          "1933-12-31T00:00:00",
          "1938-12-31T00:00:00",
          "1943-12-31T00:00:00",
          "1948-12-31T00:00:00",
          "1953-12-31T00:00:00",
          "1958-12-31T00:00:00",
          "1963-12-31T00:00:00",
          "1968-12-31T00:00:00",
          "1973-12-31T00:00:00",
          "1978-12-31T00:00:00",
          "1983-12-31T00:00:00",
          "1988-12-31T00:00:00",
          "1993-12-31T00:00:00",
          "1998-12-31T00:00:00",
          "2003-12-31T00:00:00",
          "2008-12-31T00:00:00",
          "2013-12-31T00:00:00",
          "2018-12-31T00:00:00"
         ],
         "xaxis": "x",
         "y": [
          0,
          0,
          0,
          4,
          10,
          22,
          84,
          197,
          332,
          521,
          902,
          1296,
          1544,
          1951,
          2363,
          2712,
          3210,
          3833,
          4507,
          5171,
          6047,
          7014,
          8090,
          9409,
          11210,
          12621,
          12629
         ],
         "yaxis": "y"
        },
        {
         "hovertemplate": "variable=animation<br>release_date=%{x}<br>value=%{y}<extra></extra>",
         "legendgroup": "animation",
         "line": {
          "color": "#00cc96",
          "dash": "solid"
         },
         "marker": {
          "symbol": "circle"
         },
         "mode": "lines",
         "name": "animation",
         "orientation": "v",
         "showlegend": true,
         "type": "scatter",
         "x": [
          "1888-12-31T00:00:00",
          "1893-12-31T00:00:00",
          "1898-12-31T00:00:00",
          "1903-12-31T00:00:00",
          "1908-12-31T00:00:00",
          "1913-12-31T00:00:00",
          "1918-12-31T00:00:00",
          "1923-12-31T00:00:00",
          "1928-12-31T00:00:00",
          "1933-12-31T00:00:00",
          "1938-12-31T00:00:00",
          "1943-12-31T00:00:00",
          "1948-12-31T00:00:00",
          "1953-12-31T00:00:00",
          "1958-12-31T00:00:00",
          "1963-12-31T00:00:00",
          "1968-12-31T00:00:00",
          "1973-12-31T00:00:00",
          "1978-12-31T00:00:00",
          "1983-12-31T00:00:00",
          "1988-12-31T00:00:00",
          "1993-12-31T00:00:00",
          "1998-12-31T00:00:00",
          "2003-12-31T00:00:00",
          "2008-12-31T00:00:00",
          "2013-12-31T00:00:00",
          "2018-12-31T00:00:00"
         ],
         "xaxis": "x",
         "y": [
          0,
          3,
          4,
          5,
          9,
          11,
          17,
          24,
          51,
          168,
          345,
          482,
          612,
          779,
          933,
          1045,
          1196,
          1293,
          1433,
          1573,
          1772,
          1936,
          2196,
          2570,
          3161,
          3550,
          3552
         ],
         "yaxis": "y"
        },
        {
         "hovertemplate": "variable=black and white<br>release_date=%{x}<br>value=%{y}<extra></extra>",
         "legendgroup": "black and white",
         "line": {
          "color": "#ab63fa",
          "dash": "solid"
         },
         "marker": {
          "symbol": "circle"
         },
         "mode": "lines",
         "name": "black and white",
         "orientation": "v",
         "showlegend": true,
         "type": "scatter",
         "x": [
          "1888-12-31T00:00:00",
          "1893-12-31T00:00:00",
          "1898-12-31T00:00:00",
          "1903-12-31T00:00:00",
          "1908-12-31T00:00:00",
          "1913-12-31T00:00:00",
          "1918-12-31T00:00:00",
          "1923-12-31T00:00:00",
          "1928-12-31T00:00:00",
          "1933-12-31T00:00:00",
          "1938-12-31T00:00:00",
          "1943-12-31T00:00:00",
          "1948-12-31T00:00:00",
          "1953-12-31T00:00:00",
          "1958-12-31T00:00:00",
          "1963-12-31T00:00:00",
          "1968-12-31T00:00:00",
          "1973-12-31T00:00:00",
          "1978-12-31T00:00:00",
          "1983-12-31T00:00:00",
          "1988-12-31T00:00:00",
          "1993-12-31T00:00:00",
          "1998-12-31T00:00:00",
          "2003-12-31T00:00:00",
          "2008-12-31T00:00:00",
          "2013-12-31T00:00:00",
          "2018-12-31T00:00:00"
         ],
         "xaxis": "x",
         "y": [
          1,
          3,
          48,
          76,
          102,
          503,
          1656,
          2396,
          3043,
          3885,
          4942,
          5976,
          6620,
          7346,
          7906,
          8361,
          8637,
          8731,
          8786,
          8836,
          8919,
          9047,
          9244,
          9470,
          9714,
          9806,
          9806
         ],
         "yaxis": "y"
        },
        {
         "hovertemplate": "variable=comedy<br>release_date=%{x}<br>value=%{y}<extra></extra>",
         "legendgroup": "comedy",
         "line": {
          "color": "#FFA15A",
          "dash": "solid"
         },
         "marker": {
          "symbol": "circle"
         },
         "mode": "lines",
         "name": "comedy",
         "orientation": "v",
         "showlegend": true,
         "type": "scatter",
         "x": [
          "1888-12-31T00:00:00",
          "1893-12-31T00:00:00",
          "1898-12-31T00:00:00",
          "1903-12-31T00:00:00",
          "1908-12-31T00:00:00",
          "1913-12-31T00:00:00",
          "1918-12-31T00:00:00",
          "1923-12-31T00:00:00",
          "1928-12-31T00:00:00",
          "1933-12-31T00:00:00",
          "1938-12-31T00:00:00",
          "1943-12-31T00:00:00",
          "1948-12-31T00:00:00",
          "1953-12-31T00:00:00",
          "1958-12-31T00:00:00",
          "1963-12-31T00:00:00",
          "1968-12-31T00:00:00",
          "1973-12-31T00:00:00",
          "1978-12-31T00:00:00",
          "1983-12-31T00:00:00",
          "1988-12-31T00:00:00",
          "1993-12-31T00:00:00",
          "1998-12-31T00:00:00",
          "2003-12-31T00:00:00",
          "2008-12-31T00:00:00",
          "2013-12-31T00:00:00",
          "2018-12-31T00:00:00"
         ],
         "xaxis": "x",
         "y": [
          0,
          0,
          10,
          21,
          30,
          145,
          761,
          1057,
          1450,
          2169,
          3130,
          3911,
          4445,
          5244,
          5904,
          6575,
          7430,
          8237,
          8988,
          9789,
          10869,
          12019,
          13485,
          15683,
          18683,
          20667,
          20670
         ],
         "yaxis": "y"
        },
        {
         "hovertemplate": "variable=crime<br>release_date=%{x}<br>value=%{y}<extra></extra>",
         "legendgroup": "crime",
         "line": {
          "color": "#19d3f3",
          "dash": "solid"
         },
         "marker": {
          "symbol": "circle"
         },
         "mode": "lines",
         "name": "crime",
         "orientation": "v",
         "showlegend": true,
         "type": "scatter",
         "x": [
          "1888-12-31T00:00:00",
          "1893-12-31T00:00:00",
          "1898-12-31T00:00:00",
          "1903-12-31T00:00:00",
          "1908-12-31T00:00:00",
          "1913-12-31T00:00:00",
          "1918-12-31T00:00:00",
          "1923-12-31T00:00:00",
          "1928-12-31T00:00:00",
          "1933-12-31T00:00:00",
          "1938-12-31T00:00:00",
          "1943-12-31T00:00:00",
          "1948-12-31T00:00:00",
          "1953-12-31T00:00:00",
          "1958-12-31T00:00:00",
          "1963-12-31T00:00:00",
          "1968-12-31T00:00:00",
          "1973-12-31T00:00:00",
          "1978-12-31T00:00:00",
          "1983-12-31T00:00:00",
          "1988-12-31T00:00:00",
          "1993-12-31T00:00:00",
          "1998-12-31T00:00:00",
          "2003-12-31T00:00:00",
          "2008-12-31T00:00:00",
          "2013-12-31T00:00:00",
          "2018-12-31T00:00:00"
         ],
         "xaxis": "x",
         "y": [
          0,
          0,
          0,
          1,
          5,
          10,
          57,
          133,
          210,
          453,
          813,
          1131,
          1435,
          1780,
          2117,
          2429,
          2808,
          3231,
          3668,
          4100,
          4630,
          5265,
          6054,
          7093,
          8440,
          9210,
          9211
         ],
         "yaxis": "y"
        },
        {
         "hovertemplate": "variable=diversity<br>release_date=%{x}<br>value=%{y}<extra></extra>",
         "legendgroup": "diversity",
         "line": {
          "color": "#FF6692",
          "dash": "solid"
         },
         "marker": {
          "symbol": "circle"
         },
         "mode": "lines",
         "name": "diversity",
         "orientation": "v",
         "showlegend": true,
         "type": "scatter",
         "x": [
          "1888-12-31T00:00:00",
          "1893-12-31T00:00:00",
          "1898-12-31T00:00:00",
          "1903-12-31T00:00:00",
          "1908-12-31T00:00:00",
          "1913-12-31T00:00:00",
          "1918-12-31T00:00:00",
          "1923-12-31T00:00:00",
          "1928-12-31T00:00:00",
          "1933-12-31T00:00:00",
          "1938-12-31T00:00:00",
          "1943-12-31T00:00:00",
          "1948-12-31T00:00:00",
          "1953-12-31T00:00:00",
          "1958-12-31T00:00:00",
          "1963-12-31T00:00:00",
          "1968-12-31T00:00:00",
          "1973-12-31T00:00:00",
          "1978-12-31T00:00:00",
          "1983-12-31T00:00:00",
          "1988-12-31T00:00:00",
          "1993-12-31T00:00:00",
          "1998-12-31T00:00:00",
          "2003-12-31T00:00:00",
          "2008-12-31T00:00:00",
          "2013-12-31T00:00:00",
          "2018-12-31T00:00:00"
         ],
         "xaxis": "x",
         "y": [
          0,
          0,
          0,
          0,
          0,
          2,
          4,
          6,
          10,
          18,
          24,
          26,
          31,
          41,
          48,
          59,
          91,
          136,
          188,
          261,
          333,
          428,
          638,
          911,
          1332,
          1477,
          1477
         ],
         "yaxis": "y"
        },
        {
         "hovertemplate": "variable=documentary<br>release_date=%{x}<br>value=%{y}<extra></extra>",
         "legendgroup": "documentary",
         "line": {
          "color": "#B6E880",
          "dash": "solid"
         },
         "marker": {
          "symbol": "circle"
         },
         "mode": "lines",
         "name": "documentary",
         "orientation": "v",
         "showlegend": true,
         "type": "scatter",
         "x": [
          "1888-12-31T00:00:00",
          "1893-12-31T00:00:00",
          "1898-12-31T00:00:00",
          "1903-12-31T00:00:00",
          "1908-12-31T00:00:00",
          "1913-12-31T00:00:00",
          "1918-12-31T00:00:00",
          "1923-12-31T00:00:00",
          "1928-12-31T00:00:00",
          "1933-12-31T00:00:00",
          "1938-12-31T00:00:00",
          "1943-12-31T00:00:00",
          "1948-12-31T00:00:00",
          "1953-12-31T00:00:00",
          "1958-12-31T00:00:00",
          "1963-12-31T00:00:00",
          "1968-12-31T00:00:00",
          "1973-12-31T00:00:00",
          "1978-12-31T00:00:00",
          "1983-12-31T00:00:00",
          "1988-12-31T00:00:00",
          "1993-12-31T00:00:00",
          "1998-12-31T00:00:00",
          "2003-12-31T00:00:00",
          "2008-12-31T00:00:00",
          "2013-12-31T00:00:00",
          "2018-12-31T00:00:00"
         ],
         "xaxis": "x",
         "y": [
          0,
          0,
          49,
          55,
          57,
          64,
          72,
          79,
          93,
          117,
          155,
          247,
          325,
          445,
          531,
          619,
          759,
          921,
          1089,
          1255,
          1430,
          1637,
          1943,
          2564,
          4189,
          5010,
          5010
         ],
         "yaxis": "y"
        },
        {
         "hovertemplate": "variable=drama<br>release_date=%{x}<br>value=%{y}<extra></extra>",
         "legendgroup": "drama",
         "line": {
          "color": "#FF97FF",
          "dash": "solid"
         },
         "marker": {
          "symbol": "circle"
         },
         "mode": "lines",
         "name": "drama",
         "orientation": "v",
         "showlegend": true,
         "type": "scatter",
         "x": [
          "1888-12-31T00:00:00",
          "1893-12-31T00:00:00",
          "1898-12-31T00:00:00",
          "1903-12-31T00:00:00",
          "1908-12-31T00:00:00",
          "1913-12-31T00:00:00",
          "1918-12-31T00:00:00",
          "1923-12-31T00:00:00",
          "1928-12-31T00:00:00",
          "1933-12-31T00:00:00",
          "1938-12-31T00:00:00",
          "1943-12-31T00:00:00",
          "1948-12-31T00:00:00",
          "1953-12-31T00:00:00",
          "1958-12-31T00:00:00",
          "1963-12-31T00:00:00",
          "1968-12-31T00:00:00",
          "1973-12-31T00:00:00",
          "1978-12-31T00:00:00",
          "1983-12-31T00:00:00",
          "1988-12-31T00:00:00",
          "1993-12-31T00:00:00",
          "1998-12-31T00:00:00",
          "2003-12-31T00:00:00",
          "2008-12-31T00:00:00",
          "2013-12-31T00:00:00",
          "2018-12-31T00:00:00"
         ],
         "xaxis": "x",
         "y": [
          0,
          0,
          3,
          13,
          31,
          335,
          1001,
          1531,
          2112,
          2942,
          3931,
          4791,
          5655,
          6927,
          8156,
          9425,
          10653,
          12272,
          13832,
          15524,
          17461,
          19538,
          22026,
          25652,
          30872,
          34260,
          34264
         ],
         "yaxis": "y"
        },
        {
         "hovertemplate": "variable=erotic<br>release_date=%{x}<br>value=%{y}<extra></extra>",
         "legendgroup": "erotic",
         "line": {
          "color": "#FECB52",
          "dash": "solid"
         },
         "marker": {
          "symbol": "circle"
         },
         "mode": "lines",
         "name": "erotic",
         "orientation": "v",
         "showlegend": true,
         "type": "scatter",
         "x": [
          "1888-12-31T00:00:00",
          "1893-12-31T00:00:00",
          "1898-12-31T00:00:00",
          "1903-12-31T00:00:00",
          "1908-12-31T00:00:00",
          "1913-12-31T00:00:00",
          "1918-12-31T00:00:00",
          "1923-12-31T00:00:00",
          "1928-12-31T00:00:00",
          "1933-12-31T00:00:00",
          "1938-12-31T00:00:00",
          "1943-12-31T00:00:00",
          "1948-12-31T00:00:00",
          "1953-12-31T00:00:00",
          "1958-12-31T00:00:00",
          "1963-12-31T00:00:00",
          "1968-12-31T00:00:00",
          "1973-12-31T00:00:00",
          "1978-12-31T00:00:00",
          "1983-12-31T00:00:00",
          "1988-12-31T00:00:00",
          "1993-12-31T00:00:00",
          "1998-12-31T00:00:00",
          "2003-12-31T00:00:00",
          "2008-12-31T00:00:00",
          "2013-12-31T00:00:00",
          "2018-12-31T00:00:00"
         ],
         "xaxis": "x",
         "y": [
          0,
          0,
          0,
          1,
          2,
          3,
          4,
          5,
          7,
          11,
          12,
          14,
          15,
          20,
          24,
          46,
          86,
          178,
          305,
          401,
          509,
          586,
          712,
          863,
          1048,
          1102,
          1102
         ],
         "yaxis": "y"
        },
        {
         "hovertemplate": "variable=experimental<br>release_date=%{x}<br>value=%{y}<extra></extra>",
         "legendgroup": "experimental",
         "line": {
          "color": "#636efa",
          "dash": "solid"
         },
         "marker": {
          "symbol": "circle"
         },
         "mode": "lines",
         "name": "experimental",
         "orientation": "v",
         "showlegend": true,
         "type": "scatter",
         "x": [
          "1888-12-31T00:00:00",
          "1893-12-31T00:00:00",
          "1898-12-31T00:00:00",
          "1903-12-31T00:00:00",
          "1908-12-31T00:00:00",
          "1913-12-31T00:00:00",
          "1918-12-31T00:00:00",
          "1923-12-31T00:00:00",
          "1928-12-31T00:00:00",
          "1933-12-31T00:00:00",
          "1938-12-31T00:00:00",
          "1943-12-31T00:00:00",
          "1948-12-31T00:00:00",
          "1953-12-31T00:00:00",
          "1958-12-31T00:00:00",
          "1963-12-31T00:00:00",
          "1968-12-31T00:00:00",
          "1973-12-31T00:00:00",
          "1978-12-31T00:00:00",
          "1983-12-31T00:00:00",
          "1988-12-31T00:00:00",
          "1993-12-31T00:00:00",
          "1998-12-31T00:00:00",
          "2003-12-31T00:00:00",
          "2008-12-31T00:00:00",
          "2013-12-31T00:00:00",
          "2018-12-31T00:00:00"
         ],
         "xaxis": "x",
         "y": [
          1,
          10,
          120,
          204,
          266,
          758,
          1857,
          2442,
          2949,
          3362,
          3770,
          4134,
          4412,
          4707,
          5036,
          5321,
          5701,
          6045,
          6492,
          6966,
          7522,
          8218,
          9108,
          10461,
          12851,
          13812,
          13812
         ],
         "yaxis": "y"
        },
        {
         "hovertemplate": "variable=family<br>release_date=%{x}<br>value=%{y}<extra></extra>",
         "legendgroup": "family",
         "line": {
          "color": "#EF553B",
          "dash": "solid"
         },
         "marker": {
          "symbol": "circle"
         },
         "mode": "lines",
         "name": "family",
         "orientation": "v",
         "showlegend": true,
         "type": "scatter",
         "x": [
          "1888-12-31T00:00:00",
          "1893-12-31T00:00:00",
          "1898-12-31T00:00:00",
          "1903-12-31T00:00:00",
          "1908-12-31T00:00:00",
          "1913-12-31T00:00:00",
          "1918-12-31T00:00:00",
          "1923-12-31T00:00:00",
          "1928-12-31T00:00:00",
          "1933-12-31T00:00:00",
          "1938-12-31T00:00:00",
          "1943-12-31T00:00:00",
          "1948-12-31T00:00:00",
          "1953-12-31T00:00:00",
          "1958-12-31T00:00:00",
          "1963-12-31T00:00:00",
          "1968-12-31T00:00:00",
          "1973-12-31T00:00:00",
          "1978-12-31T00:00:00",
          "1983-12-31T00:00:00",
          "1988-12-31T00:00:00",
          "1993-12-31T00:00:00",
          "1998-12-31T00:00:00",
          "2003-12-31T00:00:00",
          "2008-12-31T00:00:00",
          "2013-12-31T00:00:00",
          "2018-12-31T00:00:00"
         ],
         "xaxis": "x",
         "y": [
          0,
          0,
          1,
          1,
          2,
          2,
          5,
          29,
          81,
          175,
          380,
          560,
          729,
          950,
          1184,
          1380,
          1549,
          1706,
          1922,
          2176,
          2507,
          2844,
          3366,
          4037,
          4879,
          5347,
          5348
         ],
         "yaxis": "y"
        },
        {
         "hovertemplate": "variable=fantasy<br>release_date=%{x}<br>value=%{y}<extra></extra>",
         "legendgroup": "fantasy",
         "line": {
          "color": "#00cc96",
          "dash": "solid"
         },
         "marker": {
          "symbol": "circle"
         },
         "mode": "lines",
         "name": "fantasy",
         "orientation": "v",
         "showlegend": true,
         "type": "scatter",
         "x": [
          "1888-12-31T00:00:00",
          "1893-12-31T00:00:00",
          "1898-12-31T00:00:00",
          "1903-12-31T00:00:00",
          "1908-12-31T00:00:00",
          "1913-12-31T00:00:00",
          "1918-12-31T00:00:00",
          "1923-12-31T00:00:00",
          "1928-12-31T00:00:00",
          "1933-12-31T00:00:00",
          "1938-12-31T00:00:00",
          "1943-12-31T00:00:00",
          "1948-12-31T00:00:00",
          "1953-12-31T00:00:00",
          "1958-12-31T00:00:00",
          "1963-12-31T00:00:00",
          "1968-12-31T00:00:00",
          "1973-12-31T00:00:00",
          "1978-12-31T00:00:00",
          "1983-12-31T00:00:00",
          "1988-12-31T00:00:00",
          "1993-12-31T00:00:00",
          "1998-12-31T00:00:00",
          "2003-12-31T00:00:00",
          "2008-12-31T00:00:00",
          "2013-12-31T00:00:00",
          "2018-12-31T00:00:00"
         ],
         "xaxis": "x",
         "y": [
          0,
          0,
          3,
          11,
          18,
          26,
          42,
          56,
          78,
          96,
          134,
          176,
          227,
          302,
          365,
          470,
          582,
          697,
          831,
          1014,
          1273,
          1552,
          1869,
          2334,
          3008,
          3412,
          3416
         ],
         "yaxis": "y"
        },
        {
         "hovertemplate": "variable=historical<br>release_date=%{x}<br>value=%{y}<extra></extra>",
         "legendgroup": "historical",
         "line": {
          "color": "#ab63fa",
          "dash": "solid"
         },
         "marker": {
          "symbol": "circle"
         },
         "mode": "lines",
         "name": "historical",
         "orientation": "v",
         "showlegend": true,
         "type": "scatter",
         "x": [
          "1888-12-31T00:00:00",
          "1893-12-31T00:00:00",
          "1898-12-31T00:00:00",
          "1903-12-31T00:00:00",
          "1908-12-31T00:00:00",
          "1913-12-31T00:00:00",
          "1918-12-31T00:00:00",
          "1923-12-31T00:00:00",
          "1928-12-31T00:00:00",
          "1933-12-31T00:00:00",
          "1938-12-31T00:00:00",
          "1943-12-31T00:00:00",
          "1948-12-31T00:00:00",
          "1953-12-31T00:00:00",
          "1958-12-31T00:00:00",
          "1963-12-31T00:00:00",
          "1968-12-31T00:00:00",
          "1973-12-31T00:00:00",
          "1978-12-31T00:00:00",
          "1983-12-31T00:00:00",
          "1988-12-31T00:00:00",
          "1993-12-31T00:00:00",
          "1998-12-31T00:00:00",
          "2003-12-31T00:00:00",
          "2008-12-31T00:00:00",
          "2013-12-31T00:00:00",
          "2018-12-31T00:00:00"
         ],
         "xaxis": "x",
         "y": [
          0,
          0,
          2,
          4,
          7,
          21,
          49,
          79,
          120,
          157,
          266,
          389,
          508,
          659,
          821,
          959,
          1096,
          1293,
          1523,
          1757,
          2030,
          2371,
          2854,
          3534,
          4514,
          5049,
          5050
         ],
         "yaxis": "y"
        },
        {
         "hovertemplate": "variable=horror<br>release_date=%{x}<br>value=%{y}<extra></extra>",
         "legendgroup": "horror",
         "line": {
          "color": "#FFA15A",
          "dash": "solid"
         },
         "marker": {
          "symbol": "circle"
         },
         "mode": "lines",
         "name": "horror",
         "orientation": "v",
         "showlegend": true,
         "type": "scatter",
         "x": [
          "1888-12-31T00:00:00",
          "1893-12-31T00:00:00",
          "1898-12-31T00:00:00",
          "1903-12-31T00:00:00",
          "1908-12-31T00:00:00",
          "1913-12-31T00:00:00",
          "1918-12-31T00:00:00",
          "1923-12-31T00:00:00",
          "1928-12-31T00:00:00",
          "1933-12-31T00:00:00",
          "1938-12-31T00:00:00",
          "1943-12-31T00:00:00",
          "1948-12-31T00:00:00",
          "1953-12-31T00:00:00",
          "1958-12-31T00:00:00",
          "1963-12-31T00:00:00",
          "1968-12-31T00:00:00",
          "1973-12-31T00:00:00",
          "1978-12-31T00:00:00",
          "1983-12-31T00:00:00",
          "1988-12-31T00:00:00",
          "1993-12-31T00:00:00",
          "1998-12-31T00:00:00",
          "2003-12-31T00:00:00",
          "2008-12-31T00:00:00",
          "2013-12-31T00:00:00",
          "2018-12-31T00:00:00"
         ],
         "xaxis": "x",
         "y": [
          0,
          0,
          1,
          4,
          5,
          11,
          23,
          41,
          66,
          113,
          152,
          216,
          267,
          303,
          438,
          589,
          772,
          1053,
          1330,
          1636,
          2007,
          2385,
          2705,
          3228,
          4418,
          5117,
          5119
         ],
         "yaxis": "y"
        },
        {
         "hovertemplate": "variable=musical<br>release_date=%{x}<br>value=%{y}<extra></extra>",
         "legendgroup": "musical",
         "line": {
          "color": "#19d3f3",
          "dash": "solid"
         },
         "marker": {
          "symbol": "circle"
         },
         "mode": "lines",
         "name": "musical",
         "orientation": "v",
         "showlegend": true,
         "type": "scatter",
         "x": [
          "1888-12-31T00:00:00",
          "1893-12-31T00:00:00",
          "1898-12-31T00:00:00",
          "1903-12-31T00:00:00",
          "1908-12-31T00:00:00",
          "1913-12-31T00:00:00",
          "1918-12-31T00:00:00",
          "1923-12-31T00:00:00",
          "1928-12-31T00:00:00",
          "1933-12-31T00:00:00",
          "1938-12-31T00:00:00",
          "1943-12-31T00:00:00",
          "1948-12-31T00:00:00",
          "1953-12-31T00:00:00",
          "1958-12-31T00:00:00",
          "1963-12-31T00:00:00",
          "1968-12-31T00:00:00",
          "1973-12-31T00:00:00",
          "1978-12-31T00:00:00",
          "1983-12-31T00:00:00",
          "1988-12-31T00:00:00",
          "1993-12-31T00:00:00",
          "1998-12-31T00:00:00",
          "2003-12-31T00:00:00",
          "2008-12-31T00:00:00",
          "2013-12-31T00:00:00",
          "2018-12-31T00:00:00"
         ],
         "xaxis": "x",
         "y": [
          0,
          0,
          0,
          0,
          1,
          3,
          5,
          10,
          19,
          265,
          625,
          865,
          1086,
          1322,
          1543,
          1715,
          1957,
          2189,
          2378,
          2615,
          2844,
          3081,
          3350,
          3856,
          4737,
          5078,
          5078
         ],
         "yaxis": "y"
        },
        {
         "hovertemplate": "variable=propaganda<br>release_date=%{x}<br>value=%{y}<extra></extra>",
         "legendgroup": "propaganda",
         "line": {
          "color": "#FF6692",
          "dash": "solid"
         },
         "marker": {
          "symbol": "circle"
         },
         "mode": "lines",
         "name": "propaganda",
         "orientation": "v",
         "showlegend": true,
         "type": "scatter",
         "x": [
          "1888-12-31T00:00:00",
          "1893-12-31T00:00:00",
          "1898-12-31T00:00:00",
          "1903-12-31T00:00:00",
          "1908-12-31T00:00:00",
          "1913-12-31T00:00:00",
          "1918-12-31T00:00:00",
          "1923-12-31T00:00:00",
          "1928-12-31T00:00:00",
          "1933-12-31T00:00:00",
          "1938-12-31T00:00:00",
          "1943-12-31T00:00:00",
          "1948-12-31T00:00:00",
          "1953-12-31T00:00:00",
          "1958-12-31T00:00:00",
          "1963-12-31T00:00:00",
          "1968-12-31T00:00:00",
          "1973-12-31T00:00:00",
          "1978-12-31T00:00:00",
          "1983-12-31T00:00:00",
          "1988-12-31T00:00:00",
          "1993-12-31T00:00:00",
          "1998-12-31T00:00:00",
          "2003-12-31T00:00:00",
          "2008-12-31T00:00:00",
          "2013-12-31T00:00:00",
          "2018-12-31T00:00:00"
         ],
         "xaxis": "x",
         "y": [
          0,
          0,
          0,
          0,
          0,
          0,
          3,
          3,
          6,
          13,
          27,
          122,
          184,
          192,
          193,
          194,
          196,
          197,
          197,
          198,
          198,
          198,
          199,
          199,
          200,
          200,
          200
         ],
         "yaxis": "y"
        },
        {
         "hovertemplate": "variable=religious<br>release_date=%{x}<br>value=%{y}<extra></extra>",
         "legendgroup": "religious",
         "line": {
          "color": "#B6E880",
          "dash": "solid"
         },
         "marker": {
          "symbol": "circle"
         },
         "mode": "lines",
         "name": "religious",
         "orientation": "v",
         "showlegend": true,
         "type": "scatter",
         "x": [
          "1888-12-31T00:00:00",
          "1893-12-31T00:00:00",
          "1898-12-31T00:00:00",
          "1903-12-31T00:00:00",
          "1908-12-31T00:00:00",
          "1913-12-31T00:00:00",
          "1918-12-31T00:00:00",
          "1923-12-31T00:00:00",
          "1928-12-31T00:00:00",
          "1933-12-31T00:00:00",
          "1938-12-31T00:00:00",
          "1943-12-31T00:00:00",
          "1948-12-31T00:00:00",
          "1953-12-31T00:00:00",
          "1958-12-31T00:00:00",
          "1963-12-31T00:00:00",
          "1968-12-31T00:00:00",
          "1973-12-31T00:00:00",
          "1978-12-31T00:00:00",
          "1983-12-31T00:00:00",
          "1988-12-31T00:00:00",
          "1993-12-31T00:00:00",
          "1998-12-31T00:00:00",
          "2003-12-31T00:00:00",
          "2008-12-31T00:00:00",
          "2013-12-31T00:00:00",
          "2018-12-31T00:00:00"
         ],
         "xaxis": "x",
         "y": [
          0,
          0,
          0,
          0,
          0,
          1,
          3,
          7,
          11,
          15,
          19,
          23,
          36,
          52,
          77,
          115,
          186,
          272,
          382,
          476,
          595,
          693,
          822,
          1034,
          1574,
          1713,
          1713
         ],
         "yaxis": "y"
        },
        {
         "hovertemplate": "variable=romance<br>release_date=%{x}<br>value=%{y}<extra></extra>",
         "legendgroup": "romance",
         "line": {
          "color": "#FF97FF",
          "dash": "solid"
         },
         "marker": {
          "symbol": "circle"
         },
         "mode": "lines",
         "name": "romance",
         "orientation": "v",
         "showlegend": true,
         "type": "scatter",
         "x": [
          "1888-12-31T00:00:00",
          "1893-12-31T00:00:00",
          "1898-12-31T00:00:00",
          "1903-12-31T00:00:00",
          "1908-12-31T00:00:00",
          "1913-12-31T00:00:00",
          "1918-12-31T00:00:00",
          "1923-12-31T00:00:00",
          "1928-12-31T00:00:00",
          "1933-12-31T00:00:00",
          "1938-12-31T00:00:00",
          "1943-12-31T00:00:00",
          "1948-12-31T00:00:00",
          "1953-12-31T00:00:00",
          "1958-12-31T00:00:00",
          "1963-12-31T00:00:00",
          "1968-12-31T00:00:00",
          "1973-12-31T00:00:00",
          "1978-12-31T00:00:00",
          "1983-12-31T00:00:00",
          "1988-12-31T00:00:00",
          "1993-12-31T00:00:00",
          "1998-12-31T00:00:00",
          "2003-12-31T00:00:00",
          "2008-12-31T00:00:00",
          "2013-12-31T00:00:00",
          "2018-12-31T00:00:00"
         ],
         "xaxis": "x",
         "y": [
          0,
          0,
          1,
          1,
          5,
          34,
          123,
          257,
          442,
          795,
          1280,
          1638,
          1932,
          2311,
          2713,
          3061,
          3423,
          3849,
          4219,
          4662,
          5281,
          5964,
          6967,
          8534,
          10547,
          11756,
          11760
         ],
         "yaxis": "y"
        },
        {
         "hovertemplate": "variable=science-fiction<br>release_date=%{x}<br>value=%{y}<extra></extra>",
         "legendgroup": "science-fiction",
         "line": {
          "color": "#FECB52",
          "dash": "solid"
         },
         "marker": {
          "symbol": "circle"
         },
         "mode": "lines",
         "name": "science-fiction",
         "orientation": "v",
         "showlegend": true,
         "type": "scatter",
         "x": [
          "1888-12-31T00:00:00",
          "1893-12-31T00:00:00",
          "1898-12-31T00:00:00",
          "1903-12-31T00:00:00",
          "1908-12-31T00:00:00",
          "1913-12-31T00:00:00",
          "1918-12-31T00:00:00",
          "1923-12-31T00:00:00",
          "1928-12-31T00:00:00",
          "1933-12-31T00:00:00",
          "1938-12-31T00:00:00",
          "1943-12-31T00:00:00",
          "1948-12-31T00:00:00",
          "1953-12-31T00:00:00",
          "1958-12-31T00:00:00",
          "1963-12-31T00:00:00",
          "1968-12-31T00:00:00",
          "1973-12-31T00:00:00",
          "1978-12-31T00:00:00",
          "1983-12-31T00:00:00",
          "1988-12-31T00:00:00",
          "1993-12-31T00:00:00",
          "1998-12-31T00:00:00",
          "2003-12-31T00:00:00",
          "2008-12-31T00:00:00",
          "2013-12-31T00:00:00",
          "2018-12-31T00:00:00"
         ],
         "xaxis": "x",
         "y": [
          0,
          0,
          0,
          1,
          3,
          8,
          13,
          23,
          31,
          47,
          70,
          97,
          111,
          162,
          286,
          387,
          524,
          635,
          759,
          946,
          1205,
          1448,
          1728,
          2055,
          2567,
          2935,
          2941
         ],
         "yaxis": "y"
        },
        {
         "hovertemplate": "variable=silent<br>release_date=%{x}<br>value=%{y}<extra></extra>",
         "legendgroup": "silent",
         "line": {
          "color": "#636efa",
          "dash": "solid"
         },
         "marker": {
          "symbol": "circle"
         },
         "mode": "lines",
         "name": "silent",
         "orientation": "v",
         "showlegend": true,
         "type": "scatter",
         "x": [
          "1888-12-31T00:00:00",
          "1893-12-31T00:00:00",
          "1898-12-31T00:00:00",
          "1903-12-31T00:00:00",
          "1908-12-31T00:00:00",
          "1913-12-31T00:00:00",
          "1918-12-31T00:00:00",
          "1923-12-31T00:00:00",
          "1928-12-31T00:00:00",
          "1933-12-31T00:00:00",
          "1938-12-31T00:00:00",
          "1943-12-31T00:00:00",
          "1948-12-31T00:00:00",
          "1953-12-31T00:00:00",
          "1958-12-31T00:00:00",
          "1963-12-31T00:00:00",
          "1968-12-31T00:00:00",
          "1973-12-31T00:00:00",
          "1978-12-31T00:00:00",
          "1983-12-31T00:00:00",
          "1988-12-31T00:00:00",
          "1993-12-31T00:00:00",
          "1998-12-31T00:00:00",
          "2003-12-31T00:00:00",
          "2008-12-31T00:00:00",
          "2013-12-31T00:00:00",
          "2018-12-31T00:00:00"
         ],
         "xaxis": "x",
         "y": [
          1,
          9,
          124,
          193,
          254,
          831,
          2430,
          3664,
          4837,
          5005,
          5017,
          5018,
          5021,
          5021,
          5022,
          5025,
          5033,
          5033,
          5034,
          5034,
          5036,
          5037,
          5039,
          5050,
          5056,
          5059,
          5059
         ],
         "yaxis": "y"
        },
        {
         "hovertemplate": "variable=thriller<br>release_date=%{x}<br>value=%{y}<extra></extra>",
         "legendgroup": "thriller",
         "line": {
          "color": "#EF553B",
          "dash": "solid"
         },
         "marker": {
          "symbol": "circle"
         },
         "mode": "lines",
         "name": "thriller",
         "orientation": "v",
         "showlegend": true,
         "type": "scatter",
         "x": [
          "1888-12-31T00:00:00",
          "1893-12-31T00:00:00",
          "1898-12-31T00:00:00",
          "1903-12-31T00:00:00",
          "1908-12-31T00:00:00",
          "1913-12-31T00:00:00",
          "1918-12-31T00:00:00",
          "1923-12-31T00:00:00",
          "1928-12-31T00:00:00",
          "1933-12-31T00:00:00",
          "1938-12-31T00:00:00",
          "1943-12-31T00:00:00",
          "1948-12-31T00:00:00",
          "1953-12-31T00:00:00",
          "1958-12-31T00:00:00",
          "1963-12-31T00:00:00",
          "1968-12-31T00:00:00",
          "1973-12-31T00:00:00",
          "1978-12-31T00:00:00",
          "1983-12-31T00:00:00",
          "1988-12-31T00:00:00",
          "1993-12-31T00:00:00",
          "1998-12-31T00:00:00",
          "2003-12-31T00:00:00",
          "2008-12-31T00:00:00",
          "2013-12-31T00:00:00",
          "2018-12-31T00:00:00"
         ],
         "xaxis": "x",
         "y": [
          0,
          0,
          0,
          0,
          0,
          10,
          30,
          64,
          94,
          254,
          498,
          755,
          1113,
          1417,
          1691,
          1928,
          2239,
          2660,
          3136,
          3559,
          4140,
          4860,
          5764,
          6965,
          8866,
          10249,
          10252
         ],
         "yaxis": "y"
        },
        {
         "hovertemplate": "variable=war<br>release_date=%{x}<br>value=%{y}<extra></extra>",
         "legendgroup": "war",
         "line": {
          "color": "#00cc96",
          "dash": "solid"
         },
         "marker": {
          "symbol": "circle"
         },
         "mode": "lines",
         "name": "war",
         "orientation": "v",
         "showlegend": true,
         "type": "scatter",
         "x": [
          "1888-12-31T00:00:00",
          "1893-12-31T00:00:00",
          "1898-12-31T00:00:00",
          "1903-12-31T00:00:00",
          "1908-12-31T00:00:00",
          "1913-12-31T00:00:00",
          "1918-12-31T00:00:00",
          "1923-12-31T00:00:00",
          "1928-12-31T00:00:00",
          "1933-12-31T00:00:00",
          "1938-12-31T00:00:00",
          "1943-12-31T00:00:00",
          "1948-12-31T00:00:00",
          "1953-12-31T00:00:00",
          "1958-12-31T00:00:00",
          "1963-12-31T00:00:00",
          "1968-12-31T00:00:00",
          "1973-12-31T00:00:00",
          "1978-12-31T00:00:00",
          "1983-12-31T00:00:00",
          "1988-12-31T00:00:00",
          "1993-12-31T00:00:00",
          "1998-12-31T00:00:00",
          "2003-12-31T00:00:00",
          "2008-12-31T00:00:00",
          "2013-12-31T00:00:00",
          "2018-12-31T00:00:00"
         ],
         "xaxis": "x",
         "y": [
          0,
          0,
          2,
          3,
          3,
          10,
          31,
          44,
          83,
          138,
          211,
          454,
          620,
          733,
          893,
          1055,
          1207,
          1332,
          1432,
          1546,
          1666,
          1763,
          1885,
          2077,
          2404,
          2548,
          2548
         ],
         "yaxis": "y"
        },
        {
         "hovertemplate": "variable=western<br>release_date=%{x}<br>value=%{y}<extra></extra>",
         "legendgroup": "western",
         "line": {
          "color": "#ab63fa",
          "dash": "solid"
         },
         "marker": {
          "symbol": "circle"
         },
         "mode": "lines",
         "name": "western",
         "orientation": "v",
         "showlegend": true,
         "type": "scatter",
         "x": [
          "1888-12-31T00:00:00",
          "1893-12-31T00:00:00",
          "1898-12-31T00:00:00",
          "1903-12-31T00:00:00",
          "1908-12-31T00:00:00",
          "1913-12-31T00:00:00",
          "1918-12-31T00:00:00",
          "1923-12-31T00:00:00",
          "1928-12-31T00:00:00",
          "1933-12-31T00:00:00",
          "1938-12-31T00:00:00",
          "1943-12-31T00:00:00",
          "1948-12-31T00:00:00",
          "1953-12-31T00:00:00",
          "1958-12-31T00:00:00",
          "1963-12-31T00:00:00",
          "1968-12-31T00:00:00",
          "1973-12-31T00:00:00",
          "1978-12-31T00:00:00",
          "1983-12-31T00:00:00",
          "1988-12-31T00:00:00",
          "1993-12-31T00:00:00",
          "1998-12-31T00:00:00",
          "2003-12-31T00:00:00",
          "2008-12-31T00:00:00",
          "2013-12-31T00:00:00",
          "2018-12-31T00:00:00"
         ],
         "xaxis": "x",
         "y": [
          0,
          0,
          1,
          2,
          3,
          46,
          155,
          319,
          406,
          504,
          729,
          938,
          1080,
          1288,
          1484,
          1599,
          1838,
          2034,
          2114,
          2167,
          2220,
          2283,
          2367,
          2442,
          2527,
          2580,
          2580
         ],
         "yaxis": "y"
        }
       ],
       "layout": {
        "legend": {
         "title": {
          "text": "variable"
         },
         "tracegroupgap": 0
        },
        "margin": {
         "t": 60
        },
        "template": {
         "data": {
          "bar": [
           {
            "error_x": {
             "color": "#2a3f5f"
            },
            "error_y": {
             "color": "#2a3f5f"
            },
            "marker": {
             "line": {
              "color": "#E5ECF6",
              "width": 0.5
             },
             "pattern": {
              "fillmode": "overlay",
              "size": 10,
              "solidity": 0.2
             }
            },
            "type": "bar"
           }
          ],
          "barpolar": [
           {
            "marker": {
             "line": {
              "color": "#E5ECF6",
              "width": 0.5
             },
             "pattern": {
              "fillmode": "overlay",
              "size": 10,
              "solidity": 0.2
             }
            },
            "type": "barpolar"
           }
          ],
          "carpet": [
           {
            "aaxis": {
             "endlinecolor": "#2a3f5f",
             "gridcolor": "white",
             "linecolor": "white",
             "minorgridcolor": "white",
             "startlinecolor": "#2a3f5f"
            },
            "baxis": {
             "endlinecolor": "#2a3f5f",
             "gridcolor": "white",
             "linecolor": "white",
             "minorgridcolor": "white",
             "startlinecolor": "#2a3f5f"
            },
            "type": "carpet"
           }
          ],
          "choropleth": [
           {
            "colorbar": {
             "outlinewidth": 0,
             "ticks": ""
            },
            "type": "choropleth"
           }
          ],
          "contour": [
           {
            "colorbar": {
             "outlinewidth": 0,
             "ticks": ""
            },
            "colorscale": [
             [
              0,
              "#0d0887"
             ],
             [
              0.1111111111111111,
              "#46039f"
             ],
             [
              0.2222222222222222,
              "#7201a8"
             ],
             [
              0.3333333333333333,
              "#9c179e"
             ],
             [
              0.4444444444444444,
              "#bd3786"
             ],
             [
              0.5555555555555556,
              "#d8576b"
             ],
             [
              0.6666666666666666,
              "#ed7953"
             ],
             [
              0.7777777777777778,
              "#fb9f3a"
             ],
             [
              0.8888888888888888,
              "#fdca26"
             ],
             [
              1,
              "#f0f921"
             ]
            ],
            "type": "contour"
           }
          ],
          "contourcarpet": [
           {
            "colorbar": {
             "outlinewidth": 0,
             "ticks": ""
            },
            "type": "contourcarpet"
           }
          ],
          "heatmap": [
           {
            "colorbar": {
             "outlinewidth": 0,
             "ticks": ""
            },
            "colorscale": [
             [
              0,
              "#0d0887"
             ],
             [
              0.1111111111111111,
              "#46039f"
             ],
             [
              0.2222222222222222,
              "#7201a8"
             ],
             [
              0.3333333333333333,
              "#9c179e"
             ],
             [
              0.4444444444444444,
              "#bd3786"
             ],
             [
              0.5555555555555556,
              "#d8576b"
             ],
             [
              0.6666666666666666,
              "#ed7953"
             ],
             [
              0.7777777777777778,
              "#fb9f3a"
             ],
             [
              0.8888888888888888,
              "#fdca26"
             ],
             [
              1,
              "#f0f921"
             ]
            ],
            "type": "heatmap"
           }
          ],
          "heatmapgl": [
           {
            "colorbar": {
             "outlinewidth": 0,
             "ticks": ""
            },
            "colorscale": [
             [
              0,
              "#0d0887"
             ],
             [
              0.1111111111111111,
              "#46039f"
             ],
             [
              0.2222222222222222,
              "#7201a8"
             ],
             [
              0.3333333333333333,
              "#9c179e"
             ],
             [
              0.4444444444444444,
              "#bd3786"
             ],
             [
              0.5555555555555556,
              "#d8576b"
             ],
             [
              0.6666666666666666,
              "#ed7953"
             ],
             [
              0.7777777777777778,
              "#fb9f3a"
             ],
             [
              0.8888888888888888,
              "#fdca26"
             ],
             [
              1,
              "#f0f921"
             ]
            ],
            "type": "heatmapgl"
           }
          ],
          "histogram": [
           {
            "marker": {
             "pattern": {
              "fillmode": "overlay",
              "size": 10,
              "solidity": 0.2
             }
            },
            "type": "histogram"
           }
          ],
          "histogram2d": [
           {
            "colorbar": {
             "outlinewidth": 0,
             "ticks": ""
            },
            "colorscale": [
             [
              0,
              "#0d0887"
             ],
             [
              0.1111111111111111,
              "#46039f"
             ],
             [
              0.2222222222222222,
              "#7201a8"
             ],
             [
              0.3333333333333333,
              "#9c179e"
             ],
             [
              0.4444444444444444,
              "#bd3786"
             ],
             [
              0.5555555555555556,
              "#d8576b"
             ],
             [
              0.6666666666666666,
              "#ed7953"
             ],
             [
              0.7777777777777778,
              "#fb9f3a"
             ],
             [
              0.8888888888888888,
              "#fdca26"
             ],
             [
              1,
              "#f0f921"
             ]
            ],
            "type": "histogram2d"
           }
          ],
          "histogram2dcontour": [
           {
            "colorbar": {
             "outlinewidth": 0,
             "ticks": ""
            },
            "colorscale": [
             [
              0,
              "#0d0887"
             ],
             [
              0.1111111111111111,
              "#46039f"
             ],
             [
              0.2222222222222222,
              "#7201a8"
             ],
             [
              0.3333333333333333,
              "#9c179e"
             ],
             [
              0.4444444444444444,
              "#bd3786"
             ],
             [
              0.5555555555555556,
              "#d8576b"
             ],
             [
              0.6666666666666666,
              "#ed7953"
             ],
             [
              0.7777777777777778,
              "#fb9f3a"
             ],
             [
              0.8888888888888888,
              "#fdca26"
             ],
             [
              1,
              "#f0f921"
             ]
            ],
            "type": "histogram2dcontour"
           }
          ],
          "mesh3d": [
           {
            "colorbar": {
             "outlinewidth": 0,
             "ticks": ""
            },
            "type": "mesh3d"
           }
          ],
          "parcoords": [
           {
            "line": {
             "colorbar": {
              "outlinewidth": 0,
              "ticks": ""
             }
            },
            "type": "parcoords"
           }
          ],
          "pie": [
           {
            "automargin": true,
            "type": "pie"
           }
          ],
          "scatter": [
           {
            "fillpattern": {
             "fillmode": "overlay",
             "size": 10,
             "solidity": 0.2
            },
            "type": "scatter"
           }
          ],
          "scatter3d": [
           {
            "line": {
             "colorbar": {
              "outlinewidth": 0,
              "ticks": ""
             }
            },
            "marker": {
             "colorbar": {
              "outlinewidth": 0,
              "ticks": ""
             }
            },
            "type": "scatter3d"
           }
          ],
          "scattercarpet": [
           {
            "marker": {
             "colorbar": {
              "outlinewidth": 0,
              "ticks": ""
             }
            },
            "type": "scattercarpet"
           }
          ],
          "scattergeo": [
           {
            "marker": {
             "colorbar": {
              "outlinewidth": 0,
              "ticks": ""
             }
            },
            "type": "scattergeo"
           }
          ],
          "scattergl": [
           {
            "marker": {
             "colorbar": {
              "outlinewidth": 0,
              "ticks": ""
             }
            },
            "type": "scattergl"
           }
          ],
          "scattermapbox": [
           {
            "marker": {
             "colorbar": {
              "outlinewidth": 0,
              "ticks": ""
             }
            },
            "type": "scattermapbox"
           }
          ],
          "scatterpolar": [
           {
            "marker": {
             "colorbar": {
              "outlinewidth": 0,
              "ticks": ""
             }
            },
            "type": "scatterpolar"
           }
          ],
          "scatterpolargl": [
           {
            "marker": {
             "colorbar": {
              "outlinewidth": 0,
              "ticks": ""
             }
            },
            "type": "scatterpolargl"
           }
          ],
          "scatterternary": [
           {
            "marker": {
             "colorbar": {
              "outlinewidth": 0,
              "ticks": ""
             }
            },
            "type": "scatterternary"
           }
          ],
          "surface": [
           {
            "colorbar": {
             "outlinewidth": 0,
             "ticks": ""
            },
            "colorscale": [
             [
              0,
              "#0d0887"
             ],
             [
              0.1111111111111111,
              "#46039f"
             ],
             [
              0.2222222222222222,
              "#7201a8"
             ],
             [
              0.3333333333333333,
              "#9c179e"
             ],
             [
              0.4444444444444444,
              "#bd3786"
             ],
             [
              0.5555555555555556,
              "#d8576b"
             ],
             [
              0.6666666666666666,
              "#ed7953"
             ],
             [
              0.7777777777777778,
              "#fb9f3a"
             ],
             [
              0.8888888888888888,
              "#fdca26"
             ],
             [
              1,
              "#f0f921"
             ]
            ],
            "type": "surface"
           }
          ],
          "table": [
           {
            "cells": {
             "fill": {
              "color": "#EBF0F8"
             },
             "line": {
              "color": "white"
             }
            },
            "header": {
             "fill": {
              "color": "#C8D4E3"
             },
             "line": {
              "color": "white"
             }
            },
            "type": "table"
           }
          ]
         },
         "layout": {
          "annotationdefaults": {
           "arrowcolor": "#2a3f5f",
           "arrowhead": 0,
           "arrowwidth": 1
          },
          "autotypenumbers": "strict",
          "coloraxis": {
           "colorbar": {
            "outlinewidth": 0,
            "ticks": ""
           }
          },
          "colorscale": {
           "diverging": [
            [
             0,
             "#8e0152"
            ],
            [
             0.1,
             "#c51b7d"
            ],
            [
             0.2,
             "#de77ae"
            ],
            [
             0.3,
             "#f1b6da"
            ],
            [
             0.4,
             "#fde0ef"
            ],
            [
             0.5,
             "#f7f7f7"
            ],
            [
             0.6,
             "#e6f5d0"
            ],
            [
             0.7,
             "#b8e186"
            ],
            [
             0.8,
             "#7fbc41"
            ],
            [
             0.9,
             "#4d9221"
            ],
            [
             1,
             "#276419"
            ]
           ],
           "sequential": [
            [
             0,
             "#0d0887"
            ],
            [
             0.1111111111111111,
             "#46039f"
            ],
            [
             0.2222222222222222,
             "#7201a8"
            ],
            [
             0.3333333333333333,
             "#9c179e"
            ],
            [
             0.4444444444444444,
             "#bd3786"
            ],
            [
             0.5555555555555556,
             "#d8576b"
            ],
            [
             0.6666666666666666,
             "#ed7953"
            ],
            [
             0.7777777777777778,
             "#fb9f3a"
            ],
            [
             0.8888888888888888,
             "#fdca26"
            ],
            [
             1,
             "#f0f921"
            ]
           ],
           "sequentialminus": [
            [
             0,
             "#0d0887"
            ],
            [
             0.1111111111111111,
             "#46039f"
            ],
            [
             0.2222222222222222,
             "#7201a8"
            ],
            [
             0.3333333333333333,
             "#9c179e"
            ],
            [
             0.4444444444444444,
             "#bd3786"
            ],
            [
             0.5555555555555556,
             "#d8576b"
            ],
            [
             0.6666666666666666,
             "#ed7953"
            ],
            [
             0.7777777777777778,
             "#fb9f3a"
            ],
            [
             0.8888888888888888,
             "#fdca26"
            ],
            [
             1,
             "#f0f921"
            ]
           ]
          },
          "colorway": [
           "#636efa",
           "#EF553B",
           "#00cc96",
           "#ab63fa",
           "#FFA15A",
           "#19d3f3",
           "#FF6692",
           "#B6E880",
           "#FF97FF",
           "#FECB52"
          ],
          "font": {
           "color": "#2a3f5f"
          },
          "geo": {
           "bgcolor": "white",
           "lakecolor": "white",
           "landcolor": "#E5ECF6",
           "showlakes": true,
           "showland": true,
           "subunitcolor": "white"
          },
          "hoverlabel": {
           "align": "left"
          },
          "hovermode": "closest",
          "mapbox": {
           "style": "light"
          },
          "paper_bgcolor": "white",
          "plot_bgcolor": "#E5ECF6",
          "polar": {
           "angularaxis": {
            "gridcolor": "white",
            "linecolor": "white",
            "ticks": ""
           },
           "bgcolor": "#E5ECF6",
           "radialaxis": {
            "gridcolor": "white",
            "linecolor": "white",
            "ticks": ""
           }
          },
          "scene": {
           "xaxis": {
            "backgroundcolor": "#E5ECF6",
            "gridcolor": "white",
            "gridwidth": 2,
            "linecolor": "white",
            "showbackground": true,
            "ticks": "",
            "zerolinecolor": "white"
           },
           "yaxis": {
            "backgroundcolor": "#E5ECF6",
            "gridcolor": "white",
            "gridwidth": 2,
            "linecolor": "white",
            "showbackground": true,
            "ticks": "",
            "zerolinecolor": "white"
           },
           "zaxis": {
            "backgroundcolor": "#E5ECF6",
            "gridcolor": "white",
            "gridwidth": 2,
            "linecolor": "white",
            "showbackground": true,
            "ticks": "",
            "zerolinecolor": "white"
           }
          },
          "shapedefaults": {
           "line": {
            "color": "#2a3f5f"
           }
          },
          "ternary": {
           "aaxis": {
            "gridcolor": "white",
            "linecolor": "white",
            "ticks": ""
           },
           "baxis": {
            "gridcolor": "white",
            "linecolor": "white",
            "ticks": ""
           },
           "bgcolor": "#E5ECF6",
           "caxis": {
            "gridcolor": "white",
            "linecolor": "white",
            "ticks": ""
           }
          },
          "title": {
           "x": 0.05
          },
          "xaxis": {
           "automargin": true,
           "gridcolor": "white",
           "linecolor": "white",
           "ticks": "",
           "title": {
            "standoff": 15
           },
           "zerolinecolor": "white",
           "zerolinewidth": 2
          },
          "yaxis": {
           "automargin": true,
           "gridcolor": "white",
           "linecolor": "white",
           "ticks": "",
           "title": {
            "standoff": 15
           },
           "zerolinecolor": "white",
           "zerolinewidth": 2
          }
         }
        },
        "xaxis": {
         "anchor": "y",
         "domain": [
          0,
          1
         ],
         "rangeselector": {
          "buttons": [
           {
            "count": 1,
            "label": "1YTD",
            "step": "year",
            "stepmode": "todate"
           },
           {
            "count": 3,
            "label": "3YTD",
            "step": "year",
            "stepmode": "todate"
           },
           {
            "count": 5,
            "label": "5YTD",
            "step": "year",
            "stepmode": "todate"
           },
           {
            "count": 10,
            "label": "10YTD",
            "step": "year",
            "stepmode": "todate"
           },
           {
            "count": 20,
            "label": "20YTD",
            "step": "year",
            "stepmode": "todate"
           },
           {
            "count": 30,
            "label": "30YTD",
            "step": "year",
            "stepmode": "todate"
           },
           {
            "count": 50,
            "label": "50YTD",
            "step": "year",
            "stepmode": "todate"
           },
           {
            "count": 100,
            "label": "100YTD",
            "step": "year",
            "stepmode": "todate"
           }
          ]
         },
         "title": {
          "text": "release_date"
         }
        },
        "yaxis": {
         "anchor": "x",
         "domain": [
          0,
          1
         ],
         "title": {
          "text": "value"
         }
        }
       }
      }
     },
     "metadata": {},
     "output_type": "display_data"
    }
   ],
   "source": [
    "plot_line(genre_per_period(window=window,cumfunc=cumfunc,normalize=normalize,pct_change_bool=pct_change_bool))"
   ]
  },
  {
   "cell_type": "code",
   "execution_count": 226,
   "metadata": {},
   "outputs": [
    {
     "name": "stdout",
     "output_type": "stream",
     "text": [
      "<class 'pandas.core.frame.DataFrame'>\n",
      "RangeIndex: 81741 entries, 0 to 81740\n",
      "Data columns (total 33 columns):\n",
      " #   Column           Non-Null Count  Dtype         \n",
      "---  ------           --------------  -----         \n",
      " 0   wiki_id          81741 non-null  int64         \n",
      " 1   freebase_id      81741 non-null  object        \n",
      " 2   movie_name       81741 non-null  object        \n",
      " 3   release_date     74838 non-null  datetime64[ns]\n",
      " 4   duration         61291 non-null  float64       \n",
      " 5   language         81741 non-null  object        \n",
      " 6   country          81741 non-null  object        \n",
      " 7   genre            81741 non-null  object        \n",
      " 8   metagenre        81741 non-null  object        \n",
      " 9   Other            81741 non-null  uint8         \n",
      " 10  action           81741 non-null  uint8         \n",
      " 11  animation        81741 non-null  uint8         \n",
      " 12  black and white  81741 non-null  uint8         \n",
      " 13  comedy           81741 non-null  uint8         \n",
      " 14  crime            81741 non-null  uint8         \n",
      " 15  diversity        81741 non-null  uint8         \n",
      " 16  documentary      81741 non-null  uint8         \n",
      " 17  drama            81741 non-null  uint8         \n",
      " 18  erotic           81741 non-null  uint8         \n",
      " 19  experimental     81741 non-null  uint8         \n",
      " 20  family           81741 non-null  uint8         \n",
      " 21  fantasy          81741 non-null  uint8         \n",
      " 22  historical       81741 non-null  uint8         \n",
      " 23  horror           81741 non-null  uint8         \n",
      " 24  musical          81741 non-null  uint8         \n",
      " 25  propaganda       81741 non-null  uint8         \n",
      " 26  religious        81741 non-null  uint8         \n",
      " 27  romance          81741 non-null  uint8         \n",
      " 28  science-fiction  81741 non-null  uint8         \n",
      " 29  silent           81741 non-null  uint8         \n",
      " 30  thriller         81741 non-null  uint8         \n",
      " 31  war              81741 non-null  uint8         \n",
      " 32  western          81741 non-null  uint8         \n",
      "dtypes: datetime64[ns](1), float64(1), int64(1), object(6), uint8(24)\n",
      "memory usage: 7.5+ MB\n"
     ]
    }
   ],
   "source": [
    "metadata.info()"
   ]
  },
  {
   "cell_type": "markdown",
   "metadata": {},
   "source": [
    "metadata.set_index([\"release_date\"]).count()"
   ]
  },
  {
   "cell_type": "code",
   "execution_count": 227,
   "metadata": {},
   "outputs": [
    {
     "data": {
      "text/html": [
       "<div>\n",
       "<style scoped>\n",
       "    .dataframe tbody tr th:only-of-type {\n",
       "        vertical-align: middle;\n",
       "    }\n",
       "\n",
       "    .dataframe tbody tr th {\n",
       "        vertical-align: top;\n",
       "    }\n",
       "\n",
       "    .dataframe thead th {\n",
       "        text-align: right;\n",
       "    }\n",
       "</style>\n",
       "<table border=\"1\" class=\"dataframe\">\n",
       "  <thead>\n",
       "    <tr style=\"text-align: right;\">\n",
       "      <th></th>\n",
       "      <th>Other</th>\n",
       "      <th>action</th>\n",
       "      <th>animation</th>\n",
       "      <th>black and white</th>\n",
       "      <th>comedy</th>\n",
       "      <th>crime</th>\n",
       "      <th>diversity</th>\n",
       "      <th>documentary</th>\n",
       "      <th>drama</th>\n",
       "      <th>erotic</th>\n",
       "      <th>...</th>\n",
       "      <th>horror</th>\n",
       "      <th>musical</th>\n",
       "      <th>propaganda</th>\n",
       "      <th>religious</th>\n",
       "      <th>romance</th>\n",
       "      <th>science-fiction</th>\n",
       "      <th>silent</th>\n",
       "      <th>thriller</th>\n",
       "      <th>war</th>\n",
       "      <th>western</th>\n",
       "    </tr>\n",
       "    <tr>\n",
       "      <th>release_date</th>\n",
       "      <th></th>\n",
       "      <th></th>\n",
       "      <th></th>\n",
       "      <th></th>\n",
       "      <th></th>\n",
       "      <th></th>\n",
       "      <th></th>\n",
       "      <th></th>\n",
       "      <th></th>\n",
       "      <th></th>\n",
       "      <th></th>\n",
       "      <th></th>\n",
       "      <th></th>\n",
       "      <th></th>\n",
       "      <th></th>\n",
       "      <th></th>\n",
       "      <th></th>\n",
       "      <th></th>\n",
       "      <th></th>\n",
       "      <th></th>\n",
       "      <th></th>\n",
       "    </tr>\n",
       "  </thead>\n",
       "  <tbody>\n",
       "    <tr>\n",
       "      <th>1888-01-01</th>\n",
       "      <td>0</td>\n",
       "      <td>0</td>\n",
       "      <td>0</td>\n",
       "      <td>1</td>\n",
       "      <td>0</td>\n",
       "      <td>0</td>\n",
       "      <td>0</td>\n",
       "      <td>0</td>\n",
       "      <td>0</td>\n",
       "      <td>0</td>\n",
       "      <td>...</td>\n",
       "      <td>0</td>\n",
       "      <td>0</td>\n",
       "      <td>0</td>\n",
       "      <td>0</td>\n",
       "      <td>0</td>\n",
       "      <td>0</td>\n",
       "      <td>1</td>\n",
       "      <td>0</td>\n",
       "      <td>0</td>\n",
       "      <td>0</td>\n",
       "    </tr>\n",
       "    <tr>\n",
       "      <th>1889-01-01</th>\n",
       "      <td>0</td>\n",
       "      <td>0</td>\n",
       "      <td>0</td>\n",
       "      <td>1</td>\n",
       "      <td>0</td>\n",
       "      <td>0</td>\n",
       "      <td>0</td>\n",
       "      <td>0</td>\n",
       "      <td>0</td>\n",
       "      <td>0</td>\n",
       "      <td>...</td>\n",
       "      <td>0</td>\n",
       "      <td>0</td>\n",
       "      <td>0</td>\n",
       "      <td>0</td>\n",
       "      <td>0</td>\n",
       "      <td>0</td>\n",
       "      <td>1</td>\n",
       "      <td>0</td>\n",
       "      <td>0</td>\n",
       "      <td>0</td>\n",
       "    </tr>\n",
       "    <tr>\n",
       "      <th>1890-01-01</th>\n",
       "      <td>0</td>\n",
       "      <td>0</td>\n",
       "      <td>0</td>\n",
       "      <td>0</td>\n",
       "      <td>0</td>\n",
       "      <td>0</td>\n",
       "      <td>0</td>\n",
       "      <td>0</td>\n",
       "      <td>0</td>\n",
       "      <td>0</td>\n",
       "      <td>...</td>\n",
       "      <td>0</td>\n",
       "      <td>0</td>\n",
       "      <td>0</td>\n",
       "      <td>0</td>\n",
       "      <td>0</td>\n",
       "      <td>0</td>\n",
       "      <td>2</td>\n",
       "      <td>0</td>\n",
       "      <td>0</td>\n",
       "      <td>0</td>\n",
       "    </tr>\n",
       "    <tr>\n",
       "      <th>1891-01-01</th>\n",
       "      <td>0</td>\n",
       "      <td>0</td>\n",
       "      <td>0</td>\n",
       "      <td>0</td>\n",
       "      <td>0</td>\n",
       "      <td>0</td>\n",
       "      <td>0</td>\n",
       "      <td>0</td>\n",
       "      <td>0</td>\n",
       "      <td>0</td>\n",
       "      <td>...</td>\n",
       "      <td>0</td>\n",
       "      <td>0</td>\n",
       "      <td>0</td>\n",
       "      <td>0</td>\n",
       "      <td>0</td>\n",
       "      <td>0</td>\n",
       "      <td>1</td>\n",
       "      <td>0</td>\n",
       "      <td>0</td>\n",
       "      <td>0</td>\n",
       "    </tr>\n",
       "    <tr>\n",
       "      <th>1892-10-28</th>\n",
       "      <td>0</td>\n",
       "      <td>0</td>\n",
       "      <td>3</td>\n",
       "      <td>0</td>\n",
       "      <td>0</td>\n",
       "      <td>0</td>\n",
       "      <td>0</td>\n",
       "      <td>0</td>\n",
       "      <td>0</td>\n",
       "      <td>0</td>\n",
       "      <td>...</td>\n",
       "      <td>0</td>\n",
       "      <td>0</td>\n",
       "      <td>0</td>\n",
       "      <td>0</td>\n",
       "      <td>0</td>\n",
       "      <td>0</td>\n",
       "      <td>3</td>\n",
       "      <td>0</td>\n",
       "      <td>0</td>\n",
       "      <td>0</td>\n",
       "    </tr>\n",
       "    <tr>\n",
       "      <th>...</th>\n",
       "      <td>...</td>\n",
       "      <td>...</td>\n",
       "      <td>...</td>\n",
       "      <td>...</td>\n",
       "      <td>...</td>\n",
       "      <td>...</td>\n",
       "      <td>...</td>\n",
       "      <td>...</td>\n",
       "      <td>...</td>\n",
       "      <td>...</td>\n",
       "      <td>...</td>\n",
       "      <td>...</td>\n",
       "      <td>...</td>\n",
       "      <td>...</td>\n",
       "      <td>...</td>\n",
       "      <td>...</td>\n",
       "      <td>...</td>\n",
       "      <td>...</td>\n",
       "      <td>...</td>\n",
       "      <td>...</td>\n",
       "      <td>...</td>\n",
       "    </tr>\n",
       "    <tr>\n",
       "      <th>2014-12-30</th>\n",
       "      <td>0</td>\n",
       "      <td>0</td>\n",
       "      <td>0</td>\n",
       "      <td>0</td>\n",
       "      <td>0</td>\n",
       "      <td>0</td>\n",
       "      <td>0</td>\n",
       "      <td>0</td>\n",
       "      <td>0</td>\n",
       "      <td>0</td>\n",
       "      <td>...</td>\n",
       "      <td>0</td>\n",
       "      <td>0</td>\n",
       "      <td>0</td>\n",
       "      <td>0</td>\n",
       "      <td>1</td>\n",
       "      <td>0</td>\n",
       "      <td>0</td>\n",
       "      <td>0</td>\n",
       "      <td>0</td>\n",
       "      <td>0</td>\n",
       "    </tr>\n",
       "    <tr>\n",
       "      <th>2015-01-01</th>\n",
       "      <td>0</td>\n",
       "      <td>2</td>\n",
       "      <td>0</td>\n",
       "      <td>0</td>\n",
       "      <td>1</td>\n",
       "      <td>1</td>\n",
       "      <td>0</td>\n",
       "      <td>0</td>\n",
       "      <td>0</td>\n",
       "      <td>0</td>\n",
       "      <td>...</td>\n",
       "      <td>0</td>\n",
       "      <td>0</td>\n",
       "      <td>0</td>\n",
       "      <td>0</td>\n",
       "      <td>0</td>\n",
       "      <td>3</td>\n",
       "      <td>0</td>\n",
       "      <td>0</td>\n",
       "      <td>0</td>\n",
       "      <td>0</td>\n",
       "    </tr>\n",
       "    <tr>\n",
       "      <th>2016-01-01</th>\n",
       "      <td>0</td>\n",
       "      <td>1</td>\n",
       "      <td>0</td>\n",
       "      <td>0</td>\n",
       "      <td>0</td>\n",
       "      <td>0</td>\n",
       "      <td>0</td>\n",
       "      <td>0</td>\n",
       "      <td>0</td>\n",
       "      <td>0</td>\n",
       "      <td>...</td>\n",
       "      <td>0</td>\n",
       "      <td>0</td>\n",
       "      <td>0</td>\n",
       "      <td>0</td>\n",
       "      <td>1</td>\n",
       "      <td>1</td>\n",
       "      <td>0</td>\n",
       "      <td>1</td>\n",
       "      <td>0</td>\n",
       "      <td>0</td>\n",
       "    </tr>\n",
       "    <tr>\n",
       "      <th>2016-03-18</th>\n",
       "      <td>1</td>\n",
       "      <td>0</td>\n",
       "      <td>0</td>\n",
       "      <td>0</td>\n",
       "      <td>0</td>\n",
       "      <td>0</td>\n",
       "      <td>0</td>\n",
       "      <td>0</td>\n",
       "      <td>0</td>\n",
       "      <td>0</td>\n",
       "      <td>...</td>\n",
       "      <td>0</td>\n",
       "      <td>0</td>\n",
       "      <td>0</td>\n",
       "      <td>0</td>\n",
       "      <td>0</td>\n",
       "      <td>0</td>\n",
       "      <td>0</td>\n",
       "      <td>0</td>\n",
       "      <td>0</td>\n",
       "      <td>0</td>\n",
       "    </tr>\n",
       "    <tr>\n",
       "      <th>2016-06-08</th>\n",
       "      <td>0</td>\n",
       "      <td>0</td>\n",
       "      <td>0</td>\n",
       "      <td>0</td>\n",
       "      <td>0</td>\n",
       "      <td>0</td>\n",
       "      <td>0</td>\n",
       "      <td>0</td>\n",
       "      <td>0</td>\n",
       "      <td>0</td>\n",
       "      <td>...</td>\n",
       "      <td>1</td>\n",
       "      <td>0</td>\n",
       "      <td>0</td>\n",
       "      <td>0</td>\n",
       "      <td>0</td>\n",
       "      <td>0</td>\n",
       "      <td>0</td>\n",
       "      <td>1</td>\n",
       "      <td>0</td>\n",
       "      <td>0</td>\n",
       "    </tr>\n",
       "  </tbody>\n",
       "</table>\n",
       "<p>19587 rows × 24 columns</p>\n",
       "</div>"
      ],
      "text/plain": [
       "              Other  action  animation  black and white  comedy  crime  \\\n",
       "release_date                                                             \n",
       "1888-01-01        0       0          0                1       0      0   \n",
       "1889-01-01        0       0          0                1       0      0   \n",
       "1890-01-01        0       0          0                0       0      0   \n",
       "1891-01-01        0       0          0                0       0      0   \n",
       "1892-10-28        0       0          3                0       0      0   \n",
       "...             ...     ...        ...              ...     ...    ...   \n",
       "2014-12-30        0       0          0                0       0      0   \n",
       "2015-01-01        0       2          0                0       1      1   \n",
       "2016-01-01        0       1          0                0       0      0   \n",
       "2016-03-18        1       0          0                0       0      0   \n",
       "2016-06-08        0       0          0                0       0      0   \n",
       "\n",
       "              diversity  documentary  drama  erotic  ...  horror  musical  \\\n",
       "release_date                                         ...                    \n",
       "1888-01-01            0            0      0       0  ...       0        0   \n",
       "1889-01-01            0            0      0       0  ...       0        0   \n",
       "1890-01-01            0            0      0       0  ...       0        0   \n",
       "1891-01-01            0            0      0       0  ...       0        0   \n",
       "1892-10-28            0            0      0       0  ...       0        0   \n",
       "...                 ...          ...    ...     ...  ...     ...      ...   \n",
       "2014-12-30            0            0      0       0  ...       0        0   \n",
       "2015-01-01            0            0      0       0  ...       0        0   \n",
       "2016-01-01            0            0      0       0  ...       0        0   \n",
       "2016-03-18            0            0      0       0  ...       0        0   \n",
       "2016-06-08            0            0      0       0  ...       1        0   \n",
       "\n",
       "              propaganda  religious  romance  science-fiction  silent  \\\n",
       "release_date                                                            \n",
       "1888-01-01             0          0        0                0       1   \n",
       "1889-01-01             0          0        0                0       1   \n",
       "1890-01-01             0          0        0                0       2   \n",
       "1891-01-01             0          0        0                0       1   \n",
       "1892-10-28             0          0        0                0       3   \n",
       "...                  ...        ...      ...              ...     ...   \n",
       "2014-12-30             0          0        1                0       0   \n",
       "2015-01-01             0          0        0                3       0   \n",
       "2016-01-01             0          0        1                1       0   \n",
       "2016-03-18             0          0        0                0       0   \n",
       "2016-06-08             0          0        0                0       0   \n",
       "\n",
       "              thriller  war  western  \n",
       "release_date                          \n",
       "1888-01-01           0    0        0  \n",
       "1889-01-01           0    0        0  \n",
       "1890-01-01           0    0        0  \n",
       "1891-01-01           0    0        0  \n",
       "1892-10-28           0    0        0  \n",
       "...                ...  ...      ...  \n",
       "2014-12-30           0    0        0  \n",
       "2015-01-01           0    0        0  \n",
       "2016-01-01           1    0        0  \n",
       "2016-03-18           0    0        0  \n",
       "2016-06-08           1    0        0  \n",
       "\n",
       "[19587 rows x 24 columns]"
      ]
     },
     "execution_count": 227,
     "metadata": {},
     "output_type": "execute_result"
    }
   ],
   "source": [
    "genre_per_date"
   ]
  },
  {
   "cell_type": "code",
   "execution_count": 228,
   "metadata": {},
   "outputs": [
    {
     "data": {
      "text/html": [
       "<div>\n",
       "<style scoped>\n",
       "    .dataframe tbody tr th:only-of-type {\n",
       "        vertical-align: middle;\n",
       "    }\n",
       "\n",
       "    .dataframe tbody tr th {\n",
       "        vertical-align: top;\n",
       "    }\n",
       "\n",
       "    .dataframe thead th {\n",
       "        text-align: right;\n",
       "    }\n",
       "</style>\n",
       "<table border=\"1\" class=\"dataframe\">\n",
       "  <thead>\n",
       "    <tr style=\"text-align: right;\">\n",
       "      <th></th>\n",
       "      <th>wiki_id</th>\n",
       "      <th>freebase_id</th>\n",
       "      <th>movie_name</th>\n",
       "      <th>release_date</th>\n",
       "      <th>duration</th>\n",
       "      <th>language</th>\n",
       "      <th>country</th>\n",
       "      <th>genre</th>\n",
       "      <th>metagenre</th>\n",
       "      <th>Other</th>\n",
       "      <th>...</th>\n",
       "      <th>horror</th>\n",
       "      <th>musical</th>\n",
       "      <th>propaganda</th>\n",
       "      <th>religious</th>\n",
       "      <th>romance</th>\n",
       "      <th>science-fiction</th>\n",
       "      <th>silent</th>\n",
       "      <th>thriller</th>\n",
       "      <th>war</th>\n",
       "      <th>western</th>\n",
       "    </tr>\n",
       "  </thead>\n",
       "  <tbody>\n",
       "    <tr>\n",
       "      <th>30275</th>\n",
       "      <td>27554912</td>\n",
       "      <td>/m/0c03gcc</td>\n",
       "      <td>Kung Fu Panda 3</td>\n",
       "      <td>2016-03-18</td>\n",
       "      <td>NaN</td>\n",
       "      <td>[]</td>\n",
       "      <td>[]</td>\n",
       "      <td>[]</td>\n",
       "      <td>[Other]</td>\n",
       "      <td>1</td>\n",
       "      <td>...</td>\n",
       "      <td>0</td>\n",
       "      <td>0</td>\n",
       "      <td>0</td>\n",
       "      <td>0</td>\n",
       "      <td>0</td>\n",
       "      <td>0</td>\n",
       "      <td>0</td>\n",
       "      <td>0</td>\n",
       "      <td>0</td>\n",
       "      <td>0</td>\n",
       "    </tr>\n",
       "    <tr>\n",
       "      <th>34022</th>\n",
       "      <td>23124260</td>\n",
       "      <td>/m/064mmw7</td>\n",
       "      <td>Jeepers Creepers 4</td>\n",
       "      <td>2016-06-08</td>\n",
       "      <td>NaN</td>\n",
       "      <td>[]</td>\n",
       "      <td>[United States of America]</td>\n",
       "      <td>[Thriller, Horror]</td>\n",
       "      <td>[thriller, horror]</td>\n",
       "      <td>0</td>\n",
       "      <td>...</td>\n",
       "      <td>1</td>\n",
       "      <td>0</td>\n",
       "      <td>0</td>\n",
       "      <td>0</td>\n",
       "      <td>0</td>\n",
       "      <td>0</td>\n",
       "      <td>0</td>\n",
       "      <td>1</td>\n",
       "      <td>0</td>\n",
       "      <td>0</td>\n",
       "    </tr>\n",
       "    <tr>\n",
       "      <th>64862</th>\n",
       "      <td>3139382</td>\n",
       "      <td>/m/08tyfg</td>\n",
       "      <td>Battle Angel</td>\n",
       "      <td>2016-01-01</td>\n",
       "      <td>NaN</td>\n",
       "      <td>[English Language]</td>\n",
       "      <td>[United States of America]</td>\n",
       "      <td>[Thriller, Science Fiction, Action, Romance Film]</td>\n",
       "      <td>[action, science-fiction, thriller, romance]</td>\n",
       "      <td>0</td>\n",
       "      <td>...</td>\n",
       "      <td>0</td>\n",
       "      <td>0</td>\n",
       "      <td>0</td>\n",
       "      <td>0</td>\n",
       "      <td>1</td>\n",
       "      <td>1</td>\n",
       "      <td>0</td>\n",
       "      <td>1</td>\n",
       "      <td>0</td>\n",
       "      <td>0</td>\n",
       "    </tr>\n",
       "  </tbody>\n",
       "</table>\n",
       "<p>3 rows × 33 columns</p>\n",
       "</div>"
      ],
      "text/plain": [
       "        wiki_id freebase_id          movie_name release_date  duration  \\\n",
       "30275  27554912  /m/0c03gcc     Kung Fu Panda 3   2016-03-18       NaN   \n",
       "34022  23124260  /m/064mmw7  Jeepers Creepers 4   2016-06-08       NaN   \n",
       "64862   3139382   /m/08tyfg        Battle Angel   2016-01-01       NaN   \n",
       "\n",
       "                 language                     country  \\\n",
       "30275                  []                          []   \n",
       "34022                  []  [United States of America]   \n",
       "64862  [English Language]  [United States of America]   \n",
       "\n",
       "                                                   genre  \\\n",
       "30275                                                 []   \n",
       "34022                                 [Thriller, Horror]   \n",
       "64862  [Thriller, Science Fiction, Action, Romance Film]   \n",
       "\n",
       "                                          metagenre  Other  ...  horror  \\\n",
       "30275                                       [Other]      1  ...       0   \n",
       "34022                            [thriller, horror]      0  ...       1   \n",
       "64862  [action, science-fiction, thriller, romance]      0  ...       0   \n",
       "\n",
       "       musical  propaganda  religious  romance  science-fiction  silent  \\\n",
       "30275        0           0          0        0                0       0   \n",
       "34022        0           0          0        0                0       0   \n",
       "64862        0           0          0        1                1       0   \n",
       "\n",
       "       thriller  war  western  \n",
       "30275         0    0        0  \n",
       "34022         1    0        0  \n",
       "64862         1    0        0  \n",
       "\n",
       "[3 rows x 33 columns]"
      ]
     },
     "execution_count": 228,
     "metadata": {},
     "output_type": "execute_result"
    }
   ],
   "source": [
    "metadata[metadata.release_date.dt.year>2015]"
   ]
  },
  {
   "cell_type": "code",
   "execution_count": 241,
   "metadata": {},
   "outputs": [],
   "source": [
    "test = genre_per_date.resample(\"Y\").sum()\n",
    "test[\"count\"] = metadata.set_index([\"release_date\"]).resample(\"Y\").count()[\"wiki_id\"]\n",
    "for col in test.columns:\n",
    "    test[col] = test[col]/ test[\"count\"]"
   ]
  },
  {
   "cell_type": "code",
   "execution_count": 244,
   "metadata": {},
   "outputs": [
    {
     "data": {
      "text/plain": [
       "Other              0.333333\n",
       "action             1.000000\n",
       "animation          1.000000\n",
       "black and white    1.000000\n",
       "comedy             0.405640\n",
       "crime              0.250000\n",
       "diversity          0.049145\n",
       "documentary        0.631579\n",
       "drama              0.541702\n",
       "erotic             0.083333\n",
       "experimental       1.000000\n",
       "family             0.116279\n",
       "fantasy            0.285714\n",
       "historical         0.115974\n",
       "horror             0.333333\n",
       "musical            0.229885\n",
       "propaganda         0.099138\n",
       "religious          0.058183\n",
       "romance            0.333333\n",
       "science-fiction    1.000000\n",
       "silent             1.000000\n",
       "thriller           0.666667\n",
       "war                0.193966\n",
       "western            0.162080\n",
       "count              1.000000\n",
       "dtype: float64"
      ]
     },
     "execution_count": 244,
     "metadata": {},
     "output_type": "execute_result"
    }
   ],
   "source": [
    "test.max()"
   ]
  },
  {
   "cell_type": "code",
   "execution_count": 236,
   "metadata": {},
   "outputs": [
    {
     "data": {
      "text/html": [
       "<div>\n",
       "<style scoped>\n",
       "    .dataframe tbody tr th:only-of-type {\n",
       "        vertical-align: middle;\n",
       "    }\n",
       "\n",
       "    .dataframe tbody tr th {\n",
       "        vertical-align: top;\n",
       "    }\n",
       "\n",
       "    .dataframe thead th {\n",
       "        text-align: right;\n",
       "    }\n",
       "</style>\n",
       "<table border=\"1\" class=\"dataframe\">\n",
       "  <thead>\n",
       "    <tr style=\"text-align: right;\">\n",
       "      <th></th>\n",
       "      <th>wiki_id</th>\n",
       "      <th>freebase_id</th>\n",
       "      <th>movie_name</th>\n",
       "      <th>duration</th>\n",
       "      <th>language</th>\n",
       "      <th>country</th>\n",
       "      <th>genre</th>\n",
       "      <th>metagenre</th>\n",
       "      <th>Other</th>\n",
       "      <th>action</th>\n",
       "      <th>...</th>\n",
       "      <th>horror</th>\n",
       "      <th>musical</th>\n",
       "      <th>propaganda</th>\n",
       "      <th>religious</th>\n",
       "      <th>romance</th>\n",
       "      <th>science-fiction</th>\n",
       "      <th>silent</th>\n",
       "      <th>thriller</th>\n",
       "      <th>war</th>\n",
       "      <th>western</th>\n",
       "    </tr>\n",
       "    <tr>\n",
       "      <th>release_date</th>\n",
       "      <th></th>\n",
       "      <th></th>\n",
       "      <th></th>\n",
       "      <th></th>\n",
       "      <th></th>\n",
       "      <th></th>\n",
       "      <th></th>\n",
       "      <th></th>\n",
       "      <th></th>\n",
       "      <th></th>\n",
       "      <th></th>\n",
       "      <th></th>\n",
       "      <th></th>\n",
       "      <th></th>\n",
       "      <th></th>\n",
       "      <th></th>\n",
       "      <th></th>\n",
       "      <th></th>\n",
       "      <th></th>\n",
       "      <th></th>\n",
       "      <th></th>\n",
       "    </tr>\n",
       "  </thead>\n",
       "  <tbody>\n",
       "    <tr>\n",
       "      <th>1888-12-31</th>\n",
       "      <td>1</td>\n",
       "      <td>1</td>\n",
       "      <td>1</td>\n",
       "      <td>1</td>\n",
       "      <td>1</td>\n",
       "      <td>1</td>\n",
       "      <td>1</td>\n",
       "      <td>1</td>\n",
       "      <td>1</td>\n",
       "      <td>1</td>\n",
       "      <td>...</td>\n",
       "      <td>1</td>\n",
       "      <td>1</td>\n",
       "      <td>1</td>\n",
       "      <td>1</td>\n",
       "      <td>1</td>\n",
       "      <td>1</td>\n",
       "      <td>1</td>\n",
       "      <td>1</td>\n",
       "      <td>1</td>\n",
       "      <td>1</td>\n",
       "    </tr>\n",
       "    <tr>\n",
       "      <th>1889-12-31</th>\n",
       "      <td>1</td>\n",
       "      <td>1</td>\n",
       "      <td>1</td>\n",
       "      <td>0</td>\n",
       "      <td>1</td>\n",
       "      <td>1</td>\n",
       "      <td>1</td>\n",
       "      <td>1</td>\n",
       "      <td>1</td>\n",
       "      <td>1</td>\n",
       "      <td>...</td>\n",
       "      <td>1</td>\n",
       "      <td>1</td>\n",
       "      <td>1</td>\n",
       "      <td>1</td>\n",
       "      <td>1</td>\n",
       "      <td>1</td>\n",
       "      <td>1</td>\n",
       "      <td>1</td>\n",
       "      <td>1</td>\n",
       "      <td>1</td>\n",
       "    </tr>\n",
       "    <tr>\n",
       "      <th>1890-12-31</th>\n",
       "      <td>2</td>\n",
       "      <td>2</td>\n",
       "      <td>2</td>\n",
       "      <td>0</td>\n",
       "      <td>2</td>\n",
       "      <td>2</td>\n",
       "      <td>2</td>\n",
       "      <td>2</td>\n",
       "      <td>2</td>\n",
       "      <td>2</td>\n",
       "      <td>...</td>\n",
       "      <td>2</td>\n",
       "      <td>2</td>\n",
       "      <td>2</td>\n",
       "      <td>2</td>\n",
       "      <td>2</td>\n",
       "      <td>2</td>\n",
       "      <td>2</td>\n",
       "      <td>2</td>\n",
       "      <td>2</td>\n",
       "      <td>2</td>\n",
       "    </tr>\n",
       "    <tr>\n",
       "      <th>1891-12-31</th>\n",
       "      <td>3</td>\n",
       "      <td>3</td>\n",
       "      <td>3</td>\n",
       "      <td>3</td>\n",
       "      <td>3</td>\n",
       "      <td>3</td>\n",
       "      <td>3</td>\n",
       "      <td>3</td>\n",
       "      <td>3</td>\n",
       "      <td>3</td>\n",
       "      <td>...</td>\n",
       "      <td>3</td>\n",
       "      <td>3</td>\n",
       "      <td>3</td>\n",
       "      <td>3</td>\n",
       "      <td>3</td>\n",
       "      <td>3</td>\n",
       "      <td>3</td>\n",
       "      <td>3</td>\n",
       "      <td>3</td>\n",
       "      <td>3</td>\n",
       "    </tr>\n",
       "    <tr>\n",
       "      <th>1892-12-31</th>\n",
       "      <td>3</td>\n",
       "      <td>3</td>\n",
       "      <td>3</td>\n",
       "      <td>0</td>\n",
       "      <td>3</td>\n",
       "      <td>3</td>\n",
       "      <td>3</td>\n",
       "      <td>3</td>\n",
       "      <td>3</td>\n",
       "      <td>3</td>\n",
       "      <td>...</td>\n",
       "      <td>3</td>\n",
       "      <td>3</td>\n",
       "      <td>3</td>\n",
       "      <td>3</td>\n",
       "      <td>3</td>\n",
       "      <td>3</td>\n",
       "      <td>3</td>\n",
       "      <td>3</td>\n",
       "      <td>3</td>\n",
       "      <td>3</td>\n",
       "    </tr>\n",
       "    <tr>\n",
       "      <th>...</th>\n",
       "      <td>...</td>\n",
       "      <td>...</td>\n",
       "      <td>...</td>\n",
       "      <td>...</td>\n",
       "      <td>...</td>\n",
       "      <td>...</td>\n",
       "      <td>...</td>\n",
       "      <td>...</td>\n",
       "      <td>...</td>\n",
       "      <td>...</td>\n",
       "      <td>...</td>\n",
       "      <td>...</td>\n",
       "      <td>...</td>\n",
       "      <td>...</td>\n",
       "      <td>...</td>\n",
       "      <td>...</td>\n",
       "      <td>...</td>\n",
       "      <td>...</td>\n",
       "      <td>...</td>\n",
       "      <td>...</td>\n",
       "      <td>...</td>\n",
       "    </tr>\n",
       "    <tr>\n",
       "      <th>2012-12-31</th>\n",
       "      <td>1194</td>\n",
       "      <td>1194</td>\n",
       "      <td>1194</td>\n",
       "      <td>610</td>\n",
       "      <td>1194</td>\n",
       "      <td>1194</td>\n",
       "      <td>1194</td>\n",
       "      <td>1194</td>\n",
       "      <td>1194</td>\n",
       "      <td>1194</td>\n",
       "      <td>...</td>\n",
       "      <td>1194</td>\n",
       "      <td>1194</td>\n",
       "      <td>1194</td>\n",
       "      <td>1194</td>\n",
       "      <td>1194</td>\n",
       "      <td>1194</td>\n",
       "      <td>1194</td>\n",
       "      <td>1194</td>\n",
       "      <td>1194</td>\n",
       "      <td>1194</td>\n",
       "    </tr>\n",
       "    <tr>\n",
       "      <th>2013-12-31</th>\n",
       "      <td>164</td>\n",
       "      <td>164</td>\n",
       "      <td>164</td>\n",
       "      <td>21</td>\n",
       "      <td>164</td>\n",
       "      <td>164</td>\n",
       "      <td>164</td>\n",
       "      <td>164</td>\n",
       "      <td>164</td>\n",
       "      <td>164</td>\n",
       "      <td>...</td>\n",
       "      <td>164</td>\n",
       "      <td>164</td>\n",
       "      <td>164</td>\n",
       "      <td>164</td>\n",
       "      <td>164</td>\n",
       "      <td>164</td>\n",
       "      <td>164</td>\n",
       "      <td>164</td>\n",
       "      <td>164</td>\n",
       "      <td>164</td>\n",
       "    </tr>\n",
       "    <tr>\n",
       "      <th>2014-12-31</th>\n",
       "      <td>17</td>\n",
       "      <td>17</td>\n",
       "      <td>17</td>\n",
       "      <td>0</td>\n",
       "      <td>17</td>\n",
       "      <td>17</td>\n",
       "      <td>17</td>\n",
       "      <td>17</td>\n",
       "      <td>17</td>\n",
       "      <td>17</td>\n",
       "      <td>...</td>\n",
       "      <td>17</td>\n",
       "      <td>17</td>\n",
       "      <td>17</td>\n",
       "      <td>17</td>\n",
       "      <td>17</td>\n",
       "      <td>17</td>\n",
       "      <td>17</td>\n",
       "      <td>17</td>\n",
       "      <td>17</td>\n",
       "      <td>17</td>\n",
       "    </tr>\n",
       "    <tr>\n",
       "      <th>2015-12-31</th>\n",
       "      <td>4</td>\n",
       "      <td>4</td>\n",
       "      <td>4</td>\n",
       "      <td>1</td>\n",
       "      <td>4</td>\n",
       "      <td>4</td>\n",
       "      <td>4</td>\n",
       "      <td>4</td>\n",
       "      <td>4</td>\n",
       "      <td>4</td>\n",
       "      <td>...</td>\n",
       "      <td>4</td>\n",
       "      <td>4</td>\n",
       "      <td>4</td>\n",
       "      <td>4</td>\n",
       "      <td>4</td>\n",
       "      <td>4</td>\n",
       "      <td>4</td>\n",
       "      <td>4</td>\n",
       "      <td>4</td>\n",
       "      <td>4</td>\n",
       "    </tr>\n",
       "    <tr>\n",
       "      <th>2016-12-31</th>\n",
       "      <td>3</td>\n",
       "      <td>3</td>\n",
       "      <td>3</td>\n",
       "      <td>0</td>\n",
       "      <td>3</td>\n",
       "      <td>3</td>\n",
       "      <td>3</td>\n",
       "      <td>3</td>\n",
       "      <td>3</td>\n",
       "      <td>3</td>\n",
       "      <td>...</td>\n",
       "      <td>3</td>\n",
       "      <td>3</td>\n",
       "      <td>3</td>\n",
       "      <td>3</td>\n",
       "      <td>3</td>\n",
       "      <td>3</td>\n",
       "      <td>3</td>\n",
       "      <td>3</td>\n",
       "      <td>3</td>\n",
       "      <td>3</td>\n",
       "    </tr>\n",
       "  </tbody>\n",
       "</table>\n",
       "<p>129 rows × 32 columns</p>\n",
       "</div>"
      ],
      "text/plain": [
       "              wiki_id  freebase_id  movie_name  duration  language  country  \\\n",
       "release_date                                                                  \n",
       "1888-12-31          1            1           1         1         1        1   \n",
       "1889-12-31          1            1           1         0         1        1   \n",
       "1890-12-31          2            2           2         0         2        2   \n",
       "1891-12-31          3            3           3         3         3        3   \n",
       "1892-12-31          3            3           3         0         3        3   \n",
       "...               ...          ...         ...       ...       ...      ...   \n",
       "2012-12-31       1194         1194        1194       610      1194     1194   \n",
       "2013-12-31        164          164         164        21       164      164   \n",
       "2014-12-31         17           17          17         0        17       17   \n",
       "2015-12-31          4            4           4         1         4        4   \n",
       "2016-12-31          3            3           3         0         3        3   \n",
       "\n",
       "              genre  metagenre  Other  action  ...  horror  musical  \\\n",
       "release_date                                   ...                    \n",
       "1888-12-31        1          1      1       1  ...       1        1   \n",
       "1889-12-31        1          1      1       1  ...       1        1   \n",
       "1890-12-31        2          2      2       2  ...       2        2   \n",
       "1891-12-31        3          3      3       3  ...       3        3   \n",
       "1892-12-31        3          3      3       3  ...       3        3   \n",
       "...             ...        ...    ...     ...  ...     ...      ...   \n",
       "2012-12-31     1194       1194   1194    1194  ...    1194     1194   \n",
       "2013-12-31      164        164    164     164  ...     164      164   \n",
       "2014-12-31       17         17     17      17  ...      17       17   \n",
       "2015-12-31        4          4      4       4  ...       4        4   \n",
       "2016-12-31        3          3      3       3  ...       3        3   \n",
       "\n",
       "              propaganda  religious  romance  science-fiction  silent  \\\n",
       "release_date                                                            \n",
       "1888-12-31             1          1        1                1       1   \n",
       "1889-12-31             1          1        1                1       1   \n",
       "1890-12-31             2          2        2                2       2   \n",
       "1891-12-31             3          3        3                3       3   \n",
       "1892-12-31             3          3        3                3       3   \n",
       "...                  ...        ...      ...              ...     ...   \n",
       "2012-12-31          1194       1194     1194             1194    1194   \n",
       "2013-12-31           164        164      164              164     164   \n",
       "2014-12-31            17         17       17               17      17   \n",
       "2015-12-31             4          4        4                4       4   \n",
       "2016-12-31             3          3        3                3       3   \n",
       "\n",
       "              thriller   war  western  \n",
       "release_date                           \n",
       "1888-12-31           1     1        1  \n",
       "1889-12-31           1     1        1  \n",
       "1890-12-31           2     2        2  \n",
       "1891-12-31           3     3        3  \n",
       "1892-12-31           3     3        3  \n",
       "...                ...   ...      ...  \n",
       "2012-12-31        1194  1194     1194  \n",
       "2013-12-31         164   164      164  \n",
       "2014-12-31          17    17       17  \n",
       "2015-12-31           4     4        4  \n",
       "2016-12-31           3     3        3  \n",
       "\n",
       "[129 rows x 32 columns]"
      ]
     },
     "execution_count": 236,
     "metadata": {},
     "output_type": "execute_result"
    }
   ],
   "source": [
    "metadata.set_index([\"release_date\"]).resample(\"Y\").count()"
   ]
  },
  {
   "cell_type": "code",
   "execution_count": 231,
   "metadata": {},
   "outputs": [
    {
     "data": {
      "text/plain": [
       "81741"
      ]
     },
     "execution_count": 231,
     "metadata": {},
     "output_type": "execute_result"
    }
   ],
   "source": [
    "metadata.wiki_id.count()"
   ]
  },
  {
   "cell_type": "code",
   "execution_count": null,
   "metadata": {},
   "outputs": [],
   "source": []
  }
 ],
 "metadata": {
  "kernelspec": {
   "display_name": "Python 3.10.6 64-bit",
   "language": "python",
   "name": "python3"
  },
  "language_info": {
   "codemirror_mode": {
    "name": "ipython",
    "version": 3
   },
   "file_extension": ".py",
   "mimetype": "text/x-python",
   "name": "python",
   "nbconvert_exporter": "python",
   "pygments_lexer": "ipython3",
   "version": "3.10.6"
  },
  "orig_nbformat": 4,
  "vscode": {
   "interpreter": {
    "hash": "b0fa6594d8f4cbf19f97940f81e996739fb7646882a419484c72d19e05852a7e"
   }
  }
 },
 "nbformat": 4,
 "nbformat_minor": 2
}
