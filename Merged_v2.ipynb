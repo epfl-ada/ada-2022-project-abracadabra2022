{
 "cells": [
  {
   "cell_type": "code",
   "execution_count": 1,
   "metadata": {},
   "outputs": [],
   "source": [
    "#built in librairies \n",
    "from tqdm import tqdm\n",
    "\n",
    "# pip libraires\n",
    "import numpy as np\n",
    "import json\n",
    "import pandas as pd\n",
    "\n",
    "\n",
    "# visualization librairies\n",
    "import plotly.express as px\n",
    "import matplotlib.pyplot as plt\n",
    "import seaborn as sns\n",
    "from pandas_profiling import ProfileReport\n",
    "\n",
    "# Natural Language Processing Librairies\n",
    "import nltk\n",
    "from nltk.stem import LancasterStemmer\n",
    "from nltk.tokenize import word_tokenize\n",
    "import re\n",
    "\n",
    "# Visualization librairies\n",
    "import matplotlib.pyplot as plt\n",
    "import seaborn as sns\n",
    "import plotly.express as px\n",
    "\n",
    "#Calculating libraries\n",
    "import scipy as sp\n",
    "\n",
    "#statistical librairies\n",
    "import pingouin \n",
    "\n",
    "# Import libraries\n",
    "import requests\n",
    "from bs4 import BeautifulSoup\n",
    "\n",
    "\n",
    "#from genres import genre_wordsets\n",
    "import csv\n",
    "import datetime  \n",
    "from dateutil.relativedelta import relativedelta\n",
    "from utils.genres import additional_wordsets\n"
   ]
  },
  {
   "cell_type": "code",
   "execution_count": 2,
   "metadata": {},
   "outputs": [
    {
     "name": "stderr",
     "output_type": "stream",
     "text": [
      "[nltk_data] Downloading package punkt to /home/bastienll/nltk_data...\n",
      "[nltk_data]   Package punkt is already up-to-date!\n",
      "[nltk_data] Downloading package wordnet to\n",
      "[nltk_data]     /home/bastienll/nltk_data...\n",
      "[nltk_data]   Package wordnet is already up-to-date!\n",
      "[nltk_data] Downloading package omw-1.4 to\n",
      "[nltk_data]     /home/bastienll/nltk_data...\n",
      "[nltk_data]   Package omw-1.4 is already up-to-date!\n"
     ]
    },
    {
     "data": {
      "text/plain": [
       "True"
      ]
     },
     "execution_count": 2,
     "metadata": {},
     "output_type": "execute_result"
    }
   ],
   "source": [
    "nltk.download('punkt')\n",
    "nltk.download('wordnet')\n",
    "nltk.download('omw-1.4')"
   ]
  },
  {
   "cell_type": "markdown",
   "metadata": {},
   "source": [
    "Our dataset contains different datasets. We have:\n",
    "- Metadata\n",
    "- Plots of Movies\n",
    "- Characters \n"
   ]
  },
  {
   "cell_type": "markdown",
   "metadata": {},
   "source": [
    "# Metadata"
   ]
  },
  {
   "cell_type": "code",
   "execution_count": 3,
   "metadata": {},
   "outputs": [
    {
     "name": "stderr",
     "output_type": "stream",
     "text": [
      "/tmp/ipykernel_20835/3875867614.py:4: DtypeWarning: Columns (4) have mixed types. Specify dtype option on import or set low_memory=False.\n",
      "  titles = pd.read_csv('./data/title.basics.tsv', sep = \"\\t\")\n"
     ]
    }
   ],
   "source": [
    "metadata = pd.read_table('./data/movie.metadata.tsv',header=None)\n",
    "metadata.columns = [\"wiki_id\",\"freebase_id\",\"movie_name\",\"release_date\",\"box_office\",\"duration\",\"language\",\"country\",\"genre\"]\n",
    "ratings = pd.read_csv('./data/title.ratings.tsv', sep = \"\\t\")\n",
    "titles = pd.read_csv('./data/title.basics.tsv', sep = \"\\t\")\n"
   ]
  },
  {
   "cell_type": "code",
   "execution_count": 4,
   "metadata": {},
   "outputs": [],
   "source": [
    "titles = pd.merge(titles, ratings, on = 'tconst')\n",
    "titles = titles[['primaryTitle','originalTitle','averageRating', 'startYear']]\n",
    "titles['Movie_release_year'] = pd.to_datetime(titles['startYear'], errors = 'coerce').dt.year\n",
    "metadata['Movie_release_year'] = pd.to_datetime(metadata['release_date'], errors= 'coerce').dt.year\n",
    "titles = titles.rename(columns = {'primaryTitle': 'movie_name'})\n",
    "titles = titles.groupby('movie_name').mean()\n",
    "titles.reset_index(inplace = True)\n",
    "metadata = pd.merge(metadata, titles, on = ['movie_name', 'Movie_release_year']).drop(['Movie_release_year'], axis = 1)"
   ]
  },
  {
   "cell_type": "code",
   "execution_count": 5,
   "metadata": {},
   "outputs": [
    {
     "name": "stdout",
     "output_type": "stream",
     "text": [
      "<class 'pandas.core.frame.DataFrame'>\n",
      "Int64Index: 28916 entries, 0 to 28915\n",
      "Data columns (total 10 columns):\n",
      " #   Column         Non-Null Count  Dtype  \n",
      "---  ------         --------------  -----  \n",
      " 0   wiki_id        28916 non-null  int64  \n",
      " 1   freebase_id    28916 non-null  object \n",
      " 2   movie_name     28916 non-null  object \n",
      " 3   release_date   28916 non-null  object \n",
      " 4   box_office     2883 non-null   float64\n",
      " 5   duration       23519 non-null  float64\n",
      " 6   language       28916 non-null  object \n",
      " 7   country        28916 non-null  object \n",
      " 8   genre          28916 non-null  object \n",
      " 9   averageRating  28916 non-null  float64\n",
      "dtypes: float64(3), int64(1), object(6)\n",
      "memory usage: 2.4+ MB\n"
     ]
    }
   ],
   "source": [
    "metadata.info()"
   ]
  },
  {
   "cell_type": "markdown",
   "metadata": {},
   "source": [
    "Here are our observations:\n",
    "- Box Office contains mainly null values, so we drop the column.\n",
    "- The type of the release_date is an object, we will transform it into a datetime to make sampling easier."
   ]
  },
  {
   "cell_type": "code",
   "execution_count": 6,
   "metadata": {},
   "outputs": [],
   "source": [
    "metadata.drop(columns=\"box_office\",inplace=True)\n",
    "metadata['release_date'] = pd.to_datetime(metadata['release_date'], errors = 'coerce')\n"
   ]
  },
  {
   "cell_type": "code",
   "execution_count": 7,
   "metadata": {},
   "outputs": [
    {
     "data": {
      "text/html": [
       "<div>\n",
       "<style scoped>\n",
       "    .dataframe tbody tr th:only-of-type {\n",
       "        vertical-align: middle;\n",
       "    }\n",
       "\n",
       "    .dataframe tbody tr th {\n",
       "        vertical-align: top;\n",
       "    }\n",
       "\n",
       "    .dataframe thead th {\n",
       "        text-align: right;\n",
       "    }\n",
       "</style>\n",
       "<table border=\"1\" class=\"dataframe\">\n",
       "  <thead>\n",
       "    <tr style=\"text-align: right;\">\n",
       "      <th></th>\n",
       "      <th>wiki_id</th>\n",
       "      <th>freebase_id</th>\n",
       "      <th>movie_name</th>\n",
       "      <th>release_date</th>\n",
       "      <th>duration</th>\n",
       "      <th>language</th>\n",
       "      <th>country</th>\n",
       "      <th>genre</th>\n",
       "      <th>averageRating</th>\n",
       "    </tr>\n",
       "  </thead>\n",
       "  <tbody>\n",
       "    <tr>\n",
       "      <th>0</th>\n",
       "      <td>975900</td>\n",
       "      <td>/m/03vyhn</td>\n",
       "      <td>Ghosts of Mars</td>\n",
       "      <td>2001-08-24</td>\n",
       "      <td>98.0</td>\n",
       "      <td>{\"/m/02h40lc\": \"English Language\"}</td>\n",
       "      <td>{\"/m/09c7w0\": \"United States of America\"}</td>\n",
       "      <td>{\"/m/01jfsb\": \"Thriller\", \"/m/06n90\": \"Science...</td>\n",
       "      <td>6.4</td>\n",
       "    </tr>\n",
       "  </tbody>\n",
       "</table>\n",
       "</div>"
      ],
      "text/plain": [
       "   wiki_id freebase_id      movie_name release_date  duration  \\\n",
       "0   975900   /m/03vyhn  Ghosts of Mars   2001-08-24      98.0   \n",
       "\n",
       "                             language  \\\n",
       "0  {\"/m/02h40lc\": \"English Language\"}   \n",
       "\n",
       "                                     country  \\\n",
       "0  {\"/m/09c7w0\": \"United States of America\"}   \n",
       "\n",
       "                                               genre  averageRating  \n",
       "0  {\"/m/01jfsb\": \"Thriller\", \"/m/06n90\": \"Science...            6.4  "
      ]
     },
     "execution_count": 7,
     "metadata": {},
     "output_type": "execute_result"
    }
   ],
   "source": [
    "metadata.head(1)"
   ]
  },
  {
   "cell_type": "markdown",
   "metadata": {},
   "source": [
    "We note that language, country, genre are JSONs. Therefore, we nede to transform them into a list"
   ]
  },
  {
   "cell_type": "code",
   "execution_count": 8,
   "metadata": {},
   "outputs": [],
   "source": [
    "json_cols = [\"language\",\"country\",\"genre\"]\n",
    "for col in json_cols:\n",
    "    metadata[col] = metadata[col].apply(lambda x:list(json.loads(x).values()))"
   ]
  },
  {
   "cell_type": "code",
   "execution_count": 9,
   "metadata": {},
   "outputs": [
    {
     "data": {
      "text/html": [
       "<div>\n",
       "<style scoped>\n",
       "    .dataframe tbody tr th:only-of-type {\n",
       "        vertical-align: middle;\n",
       "    }\n",
       "\n",
       "    .dataframe tbody tr th {\n",
       "        vertical-align: top;\n",
       "    }\n",
       "\n",
       "    .dataframe thead th {\n",
       "        text-align: right;\n",
       "    }\n",
       "</style>\n",
       "<table border=\"1\" class=\"dataframe\">\n",
       "  <thead>\n",
       "    <tr style=\"text-align: right;\">\n",
       "      <th></th>\n",
       "      <th>wiki_id</th>\n",
       "      <th>freebase_id</th>\n",
       "      <th>movie_name</th>\n",
       "      <th>release_date</th>\n",
       "      <th>duration</th>\n",
       "      <th>language</th>\n",
       "      <th>country</th>\n",
       "      <th>genre</th>\n",
       "      <th>averageRating</th>\n",
       "    </tr>\n",
       "  </thead>\n",
       "  <tbody>\n",
       "    <tr>\n",
       "      <th>0</th>\n",
       "      <td>975900</td>\n",
       "      <td>/m/03vyhn</td>\n",
       "      <td>Ghosts of Mars</td>\n",
       "      <td>2001-08-24</td>\n",
       "      <td>98.0</td>\n",
       "      <td>[English Language]</td>\n",
       "      <td>[United States of America]</td>\n",
       "      <td>[Thriller, Science Fiction, Horror, Adventure,...</td>\n",
       "      <td>6.4</td>\n",
       "    </tr>\n",
       "    <tr>\n",
       "      <th>1</th>\n",
       "      <td>28463795</td>\n",
       "      <td>/m/0crgdbh</td>\n",
       "      <td>Brun bitter</td>\n",
       "      <td>1988-01-01</td>\n",
       "      <td>83.0</td>\n",
       "      <td>[Norwegian Language]</td>\n",
       "      <td>[Norway]</td>\n",
       "      <td>[Crime Fiction, Drama]</td>\n",
       "      <td>5.7</td>\n",
       "    </tr>\n",
       "    <tr>\n",
       "      <th>2</th>\n",
       "      <td>261236</td>\n",
       "      <td>/m/01mrr1</td>\n",
       "      <td>A Woman in Flames</td>\n",
       "      <td>1983-01-01</td>\n",
       "      <td>106.0</td>\n",
       "      <td>[German Language]</td>\n",
       "      <td>[Germany]</td>\n",
       "      <td>[Drama]</td>\n",
       "      <td>6.0</td>\n",
       "    </tr>\n",
       "    <tr>\n",
       "      <th>3</th>\n",
       "      <td>175026</td>\n",
       "      <td>/m/017n1p</td>\n",
       "      <td>Sarah and Son</td>\n",
       "      <td>1930-01-01</td>\n",
       "      <td>86.0</td>\n",
       "      <td>[English Language]</td>\n",
       "      <td>[United States of America]</td>\n",
       "      <td>[Drama, Black-and-white]</td>\n",
       "      <td>5.4</td>\n",
       "    </tr>\n",
       "    <tr>\n",
       "      <th>4</th>\n",
       "      <td>24229100</td>\n",
       "      <td>/m/07kjkz6</td>\n",
       "      <td>Lady Snowblood 2: Love Song of Vengeance</td>\n",
       "      <td>1974-01-01</td>\n",
       "      <td>89.0</td>\n",
       "      <td>[Japanese Language]</td>\n",
       "      <td>[Japan]</td>\n",
       "      <td>[Crime Fiction, Thriller, Japanese Movies, Wor...</td>\n",
       "      <td>6.3</td>\n",
       "    </tr>\n",
       "  </tbody>\n",
       "</table>\n",
       "</div>"
      ],
      "text/plain": [
       "    wiki_id freebase_id                                movie_name  \\\n",
       "0    975900   /m/03vyhn                            Ghosts of Mars   \n",
       "1  28463795  /m/0crgdbh                               Brun bitter   \n",
       "2    261236   /m/01mrr1                         A Woman in Flames   \n",
       "3    175026   /m/017n1p                             Sarah and Son   \n",
       "4  24229100  /m/07kjkz6  Lady Snowblood 2: Love Song of Vengeance   \n",
       "\n",
       "  release_date  duration              language                     country  \\\n",
       "0   2001-08-24      98.0    [English Language]  [United States of America]   \n",
       "1   1988-01-01      83.0  [Norwegian Language]                    [Norway]   \n",
       "2   1983-01-01     106.0     [German Language]                   [Germany]   \n",
       "3   1930-01-01      86.0    [English Language]  [United States of America]   \n",
       "4   1974-01-01      89.0   [Japanese Language]                     [Japan]   \n",
       "\n",
       "                                               genre  averageRating  \n",
       "0  [Thriller, Science Fiction, Horror, Adventure,...            6.4  \n",
       "1                             [Crime Fiction, Drama]            5.7  \n",
       "2                                            [Drama]            6.0  \n",
       "3                           [Drama, Black-and-white]            5.4  \n",
       "4  [Crime Fiction, Thriller, Japanese Movies, Wor...            6.3  "
      ]
     },
     "execution_count": 9,
     "metadata": {},
     "output_type": "execute_result"
    }
   ],
   "source": [
    "metadata.head()"
   ]
  },
  {
   "cell_type": "markdown",
   "metadata": {},
   "source": [
    "We are aware that the columns can contain list with one value at a time. For simplicity of cleaning, we leave it llike that for the moment."
   ]
  },
  {
   "cell_type": "code",
   "execution_count": 11,
   "metadata": {},
   "outputs": [],
   "source": [
    "def flatten_list(_2d_list):\n",
    "    flat_list = []\n",
    "    # Iterate through the outer list\n",
    "    for element in _2d_list:\n",
    "        if type(element) is list:\n",
    "            # If the element is of type list, iterate through the sublist\n",
    "            for item in element:\n",
    "                flat_list.append(item)\n",
    "        else:\n",
    "            flat_list.append(element)\n",
    "    return flat_list\n"
   ]
  },
  {
   "cell_type": "code",
   "execution_count": 12,
   "metadata": {},
   "outputs": [
    {
     "name": "stdout",
     "output_type": "stream",
     "text": [
      "Number of genres: 338 \n"
     ]
    }
   ],
   "source": [
    "genres =pd.Series(flatten_list(list(metadata.genre)))\n",
    "n_genres = len(set(genres))\n",
    "print(\"Number of genres: {} \".format(n_genres))"
   ]
  },
  {
   "cell_type": "markdown",
   "metadata": {},
   "source": [
    "We have 363 genres. Some of them are quite specific : Homoeroticism,Silhouette animation and other are more general.\n",
    "In order to have a deeper analysis for the genres, we need to link every genre into a metagenre. \n",
    "\n",
    "Therefore, we have created a mapping to the 363 genres to broader meta-genres."
   ]
  },
  {
   "cell_type": "markdown",
   "metadata": {},
   "source": [
    "## Metagenre classification\n",
    "### Natural Language Processing (NLP) : Stemming ###\n",
    "The first step is to create some Natural Language Processing and cleaning functions. \n",
    "\n",
    "The first function allows us to stem a string, by doing this we can classify all similar words with the same *root*. A lot of the genres in the dataset are variations of the same word and genre. By extracting the body of the word, these variations are considered the same and will be classified together. Some examples of this principle can be seen in the following table, where two similar genres are put together :\n",
    "\n",
    "| Genre 1 | Genre 2 | Root    | Metagenre |\n",
    "|-------|-------|-------|-------|\n",
    "| Biography | Biographical   | Biograph | History\n",
    "| Romantic | Romantical | Rom | Romance\n",
    "\n",
    "We decided to use one of the most aggressive stemmers - the Lancaster Stemmer - as it gave the best results compared to other stemmers (Porter stemmer or Snowball stemmer) that often had classification problems. Lemmatizers were also considered, however we also found errors in classification.\n",
    "\n",
    "| Algorithm | Genre 1 | Root 1 | Genre 2 | Root 2 | Metagenre |\n",
    "|-------|-------|-------|-------|-------|-------|\n",
    "| Lancaster Stemmer | Historical   | Hist | History | Hist | History\n",
    "| Porter Stemmer | Historical   | Histor | History | Histori | History\n",
    "| Snowball Stemmer | Historical   | Histor | History | Histori | History\n",
    "| WordNet Lemmatizer | Historical   | Historical | History | History | History\n",
    "\n",
    "As we can see the Lancaster stemmer gives us the desired result."
   ]
  },
  {
   "cell_type": "code",
   "execution_count": null,
   "metadata": {},
   "outputs": [],
   "source": [
    "def stem_string(x:str)->list:\n",
    "    \"\"\" Returns the stem of every word in the input\n",
    "\n",
    "    Args:\n",
    "        x (str): Contains the input to be stemmed\n",
    "\n",
    "    Returns:\n",
    "        list: a list of the words stemmed\n",
    "    \"\"\"\n",
    "    \n",
    "    # Create a stemmer, the Lancaster Stemmer is used here\n",
    "    stemmer = LancasterStemmer()\n",
    "\n",
    "    # Tokenize the string --> separate words in a list, separating punctuation as well\n",
    "    words = word_tokenize(x)\n",
    "\n",
    "    # Stem every word in the tokenized list\n",
    "    stemmed_words = [stemmer.stem(word) for word in words]\n",
    "\n",
    "    # Return a list of Stemmed words\n",
    "    return stemmed_words\n"
   ]
  },
  {
   "cell_type": "markdown",
   "metadata": {},
   "source": [
    "### Natural Language Processing (NLP) : String Cleaning ###\n",
    "\n",
    "The second part of our genre processing is cleaning the data. Basic NLP cleaning is used : lower characters only, use only alphabetic characters and dash, remove double spaces. \n",
    "\n",
    "We however decided to formalize two genres : black-and-white and science-fiction. Making sure that there two genres are written with a dash ('-') this allows us to later compare the word as a whole."
   ]
  },
  {
   "cell_type": "code",
   "execution_count": null,
   "metadata": {},
   "outputs": [],
   "source": [
    "def clean_string(str:str)->str:\n",
    "    \"\"\"\n",
    "    This function cleans the input string using basic NLP and Regex \n",
    "\n",
    "    Args:\n",
    "        str (string): input string \n",
    "\n",
    "    Returns:\n",
    "        string: a cleaned formalized string\n",
    "    \"\"\"\n",
    "    # Make all characters lower caps\n",
    "    clean_s = str.lower()\n",
    "\n",
    "    # Transforms all spaces to dashes if they are followed by the word \"white\". Used to formalize black-and-white\n",
    "    clean_s = re.sub(r'-(?!.*(white))', ' ', clean_s)\n",
    "\n",
    "    # Transforms all spaces to dashes if they are followed by the word \"fi\" and preceded by \"sci\",\n",
    "    #  or followed by the word \"fiction\" and preceded by \"science\". Used to formalize \"sci-fi\" and \"science-fiction\"\n",
    "\n",
    "    clean_s = re.sub(r'((?<=sci) (?=fi))|((?<=science) (?=fiction))', '-', clean_s)\n",
    "\n",
    "    # remove everything except alphabets and dashes\n",
    "    clean_s = re.sub(\"[^a-zA-Z-]\",\" \",clean_s) \n",
    "\n",
    "    # remove double whitespaces \n",
    "    clean_s = ' '.join(clean_s.split()) \n",
    "    return clean_s\n"
   ]
  },
  {
   "cell_type": "code",
   "execution_count": null,
   "metadata": {},
   "outputs": [],
   "source": [
    "def clean(var:object):\n",
    "    \"\"\"\n",
    "    This functions detects the input object structure and cleans all strings present.\n",
    "    Can be called recursively if multiple dimensions exist in the structure\n",
    "    \n",
    "    Args:\n",
    "        var (object): input string, list or dictionary\n",
    "\n",
    "    Returns:\n",
    "        object: a cleaned formalized string, list or dictionary\n",
    "    \"\"\"\n",
    "    # Create output variable\n",
    "    out = ''\n",
    "\n",
    "    # Detect if input is a list\n",
    "    if type(var) == list:\n",
    "        out = var.copy()\n",
    "        # Clean each string in list\n",
    "        for i,s in enumerate(var):\n",
    "            out[i] = clean_string(s)\n",
    "    else :\n",
    "        # Detect if input is a dictionary\n",
    "        if type(var) == dict:\n",
    "            out = var.copy()\n",
    "            # Clean each key and value\n",
    "            for key, value in var.items():\n",
    "                out[clean_string(key)] = clean(value)\n",
    "        else:\n",
    "            # Detect if input is a string\n",
    "            if type(var) == str:\n",
    "                # Clean string\n",
    "                out = clean_string(var)\n",
    "            \n",
    "            # Raise an exception if input is not a string, list or dictionary\n",
    "            else:\n",
    "                raise Exception(\"Wrong input type for cleaning ! \")\n",
    "\n",
    "    return out"
   ]
  },
  {
   "cell_type": "markdown",
   "metadata": {},
   "source": [
    "### Metagenre and subgenre definition ###\n",
    "\n",
    "\n",
    "In order to create a dictionary with every Metagengre and it's corresponding subgenres, we decided to extract data from the web, specifically the genre list of *studio blinder*. The following website was chosen as it had a good HTML structure and rich information about movie genres and subgenres, as well as being a trusty platform for movie production."
   ]
  },
  {
   "cell_type": "code",
   "execution_count": null,
   "metadata": {},
   "outputs": [],
   "source": [
    "# Website URL\n",
    "URL = 'https://www.studiobinder.com/blog/movie-genres-list/'\n",
    "\n",
    "# Make the request for the website\n",
    "r = requests.get(URL)\n"
   ]
  },
  {
   "cell_type": "code",
   "execution_count": null,
   "metadata": {},
   "outputs": [
    {
     "name": "stdout",
     "output_type": "stream",
     "text": [
      "Total number of items: 14\n",
      "The extracted metagenres and subgenres are : \n",
      "action : ['heroic bloodshed', 'military action', 'espionage', 'wuxia action', 'disaster', 'adventure', 'superhero']\n",
      "animation : ['traditional', 'stop motion', 'claymation', 'cutout', 'computer generated imagery', 'puppetry', 'live action']\n",
      "comedy : ['action comedy', 'dark comedy black comedy', 'romantic comedy', 'buddy comedy', 'road comedy', 'slapstick comedy', 'parody', 'spoof', 'satire', 'sitcom', 'sketch comedy', 'mockumentary', 'prank']\n",
      "crime : ['caper', 'heist', 'gangster', 'cop police', 'detective', 'courtroom', 'procedural']\n",
      "drama : ['melodrama', 'teen drama', 'philosophical drama', 'medical drama', 'legal drama', 'political drama', 'anthropological drama', 'religious drama', 'docudrama']\n",
      "experimental : ['surrealist', 'absurdist']\n",
      "fantasy : ['contemporary fantasy', 'urban fantasy', 'dark fantasy', 'high fantasy', 'myth']\n",
      "historical : ['historical event', 'biography', 'historical epic', 'historical fiction', 'period piece', 'alternate history']\n",
      "horror : ['ghost', 'monster', 'werewolf', 'vampire', 'occult', 'slasher', 'splatter', 'found footage', 'zombie']\n",
      "romance : ['romance drama', 'romance thriller', 'period romance']\n",
      "science-fiction : ['post apocalyptic', 'utopian', 'dystopian', 'cyberpunk', 'steampunk', 'tech noir', 'space opera', 'contemporary', 'military']\n",
      "thriller : ['psychological', 'mystery', 'techno', 'film noir']\n",
      "western : ['epic western', 'empire western', 'marshal western', 'outlaw western', 'revenge western', 'revisionist western', 'spaghetti western']\n"
     ]
    }
   ],
   "source": [
    "# Initialise BeautifulSoup for easy HTML analysis\n",
    "soup = BeautifulSoup(r.text, 'html.parser')\n",
    "\n",
    "# Extract the HTML wrappers for the major genres\n",
    "metagenre_wrappers = soup.find_all('div', {\"data-css\": [\"tve-u-16d41491117\", \"tve-u-16d41ed6dc1\", \"tve-u-17317362207\"]})\n",
    "\n",
    "# Print the number of metagenres in the website\n",
    "print('Total number of items: {0}'.format(len(metagenre_wrappers)))\n",
    "\n",
    "genres = dict([])\n",
    "\n",
    "# Loop through all the metagenres wrappers, except the last one as it contains other genres that we decided not to add\n",
    "for p in metagenre_wrappers[:-1]:    \n",
    "    # Extract all subgenres\n",
    "    sub_g = p.find_all('h5')\n",
    "    # Extract metagenre name\n",
    "    major_genres = p.find_all('h3')\n",
    "\n",
    "    for g in major_genres :\n",
    "        # (extract only first word since all metagenres strings are followed by the unwanted word \"genre\"\n",
    "        m_genre = clean(g.string.rsplit(' ', 1)[0])\n",
    "        # For each major genre, create a disctionary entry with the genre keyword \n",
    "        genres[m_genre] = []\n",
    "\n",
    "    for s in sub_g :\n",
    "        # Add each subgenre to the corresponding metagenre entry\n",
    "        genres[m_genre].append(clean(str(s.string)))\n",
    "\n",
    "# Print the results\n",
    "print(\"The extracted metagenres and subgenres are : \" )\n",
    "[print(key,':',value) for key, value in genres.items()];"
   ]
  },
  {
   "cell_type": "markdown",
   "metadata": {},
   "source": [
    "### Genre cleaning ###\n",
    "\n",
    "A lot of genres present in the dictionaries are confusing and will cause wrong classification. when compared later on with the dataset genres. Think for example of the genre \"*romance drama*\" under *romance* or \"*epic western*\" under *western*. Since we compare genres word by word, we would only like to have the corresponding keyword so \"romance\" and \"western\", since drama will be present either way in the drama metagenre and the word \"epic\" is applicable to multiple genres not only western. This rule is true for most subgenres : if the metagenre word is present, then the other word is a vague genre applicable to the other metagenres as well (Epic, Urban, etc.) and must be removed."
   ]
  },
  {
   "cell_type": "code",
   "execution_count": null,
   "metadata": {},
   "outputs": [],
   "source": [
    "def clean_confusing_genres(all_genres:dict)->None:\n",
    "    \"\"\"\n",
    "    This functions removes all the confusing genres from the dictionary.\n",
    "    \n",
    "    Args:\n",
    "        all_genres (dict): input dictionary\n",
    "\n",
    "    \"\"\"\n",
    "    # Create a list with all the stemmed metagenres\n",
    "    key_list = list(all_genres.keys())\n",
    "    key_list = [stem_string(key) for key in key_list]\n",
    "\n",
    "    # Iterate through all the metagenres and their subgenres\n",
    "    for major_genres, sub_genres in all_genres.items() :\n",
    "        \n",
    "        stemmed_major_genre = stem_string(major_genres)\n",
    "        tmp = sub_genres.copy()\n",
    "\n",
    "        for s_g in tmp :\n",
    "            \n",
    "            if (stemmed_major_genre[0] in s_g) and len(s_g) >= 2 :\n",
    "                sub_genres.remove(s_g)\n",
    "\n",
    "            # Revome the word \"film\" from every subgenre.\n",
    "            if \"film\" in s_g :\n",
    "                s_g.remove(\"film\")\n",
    "            \n",
    "            # Revome the word \"fiction\" from every subgenre.\n",
    "            if \"fict\" in s_g :\n",
    "                s_g.remove(\"fict\")\n",
    "\n",
    "            #  Revome the subgenre \"military\" from the \"science-fiction\" metagenre.\n",
    "            if \"milit\" in s_g and stemmed_major_genre[0] == \"science-fiction\":\n",
    "                s_g.remove(\"milit\")\n",
    "        \n",
    "        # Add as a subgenre the corresponding metagenre\n",
    "        all_genres[major_genres].append(stemmed_major_genre) \n",
    "        \n",
    "        # Clean the genre dictionary, mainly removing empty lists   \n",
    "        all_genres[major_genres] = [x for x in sub_genres if x]"
   ]
  },
  {
   "cell_type": "markdown",
   "metadata": {},
   "source": [
    "Even if the studio binder website contains multiple metagenres, we would like to add our own genres and subgenres in order to have better classification as well as other inicators for our analysis such as \"propaganda\" and \"diversity\" metagenres. We therefore import our own genre dictionary."
   ]
  },
  {
   "cell_type": "code",
   "execution_count": null,
   "metadata": {},
   "outputs": [],
   "source": [
    "from utils.genres import additional_wordsets"
   ]
  },
  {
   "cell_type": "code",
   "execution_count": null,
   "metadata": {},
   "outputs": [],
   "source": [
    "def mergeDictionary(dict_1:dict, dict_2:dict)->dict:\n",
    "    \"\"\"\n",
    "    This functions removes all the confusing genres from the dictionary.\n",
    "    \n",
    "    Args:\n",
    "        dict_1 (dict): first input dictionary to merge\n",
    "        dict_2 (dict): second input dictionary to merge\n",
    "\n",
    "    Returns:\n",
    "        dict: merged dictionary\n",
    "\n",
    "    \"\"\"\n",
    "    dict_3 = {**dict_1, **dict_2}\n",
    "    for key, value in dict_3.items():\n",
    "        if key in dict_1 and key in dict_2:\n",
    "                dict_3[key] = value + dict_1[key]\n",
    "    return dict_3\n",
    "\n",
    "def stem_dictionary(dict:dict) -> None:\n",
    "    \"\"\"\n",
    "    This functions stems all values in a dictionary.\n",
    "    \n",
    "    Args:\n",
    "        dict (dict): input dictionary to stem\n",
    "    \"\"\"\n",
    "    # Stems every string in the dictionary values\n",
    "    for key, values in dict.items() :\n",
    "        dict[key] = [stem_string(v) for v in values]"
   ]
  },
  {
   "cell_type": "code",
   "execution_count": null,
   "metadata": {},
   "outputs": [
    {
     "name": "stdout",
     "output_type": "stream",
     "text": [
      "action : [['swashbuckl'], ['comb'], ['mart'], ['box'], ['sword'], ['hero', 'bloodsh'], ['esp'], ['disast'], ['adv'], ['superhero'], ['act']]\n",
      "animation : [['cartoon'], ['tradit'], ['stop', 'mot'], ['claym'], ['cutout'], ['comput', 'gen', 'imagery'], ['puppetry'], ['liv', 'act'], ['anim']]\n",
      "comedy : [['slapstick'], ['tragicomedy'], ['ston'], ['sketch'], ['parody'], ['spoof'], ['satir'], ['sitcom'], ['mocku'], ['prank'], ['comedy']]\n",
      "crime : [['spy'], ['crimin'], ['prison'], ['slash'], ['whodunit'], ['crimin'], ['cap'], ['heist'], ['gangst'], ['cop', 'pol'], ['detect'], ['courtroom'], ['proc'], ['crim']]\n",
      "drama : [['tragicomedy'], ['american'], ['tragedy'], ['melodram'], ['docudram'], ['dram']]\n",
      "experimental : [['indy'], ['short'], ['art'], ['sur'], ['absurd'], ['expery']]\n",
      "fantasy : [['supern'], ['myth'], ['fantasy']]\n",
      "historical : [['hist'], ['hist'], ['biop'], ['biograph'], ['biograph'], ['period', 'piec'], ['hist']]\n",
      "horror : [['haunt'], ['ghost'], ['monst'], ['werewolf'], ['vampir'], ['occult'], ['slash'], ['splatter'], ['found', 'foot'], ['zomby'], ['hor']]\n",
      "romance : [['rom']]\n",
      "science-fiction : [['sci-f'], ['sci-f'], ['science-fiction'], ['post', 'apocalypt'], ['utop'], ['dystop'], ['cyberpunk'], ['steampunk'], ['tech', 'noir'], ['spac', 'oper'], ['contemp'], ['science-fiction']]\n",
      "thriller : [['suspens'], ['psycholog'], ['mystery'], ['techno'], ['noir'], ['thriller']]\n",
      "western : [['cowboy'], ['western']]\n",
      "silent : [['sil'], ['goat'], ['sil']]\n",
      "black and white : [['black-and-white'], ['black', 'and', 'whit']]\n",
      "documentary : [['docu'], ['anthropolog'], ['arch'], ['environ'], ['docu']]\n",
      "family : [['famy'], ['childr'], ['christmas'], ['school'], ['holiday'], ['famy']]\n",
      "musical : [['mus'], ['operett'], ['sing'], ['oper'], ['concert'], ['mus']]\n",
      "propaganda : [['propagand'], ['patriot'], ['propagand']]\n",
      "erotic : [['sex'], ['adult'], ['sexploit'], ['pornograph'], ['erot']]\n",
      "diversity : [['gay'], ['lgbt'], ['rac'], ['black'], ['wom'], ['femin'], ['dis'], ['divers']]\n",
      "religious : [['hagiograph'], ['christian'], ['cult'], ['religy'], ['religy']]\n",
      "war : [['war'], ['milit'], ['war']]\n"
     ]
    }
   ],
   "source": [
    "# Create final genre dictionary with web and local genres\n",
    "genre_map = mergeDictionary(genres, clean(additional_wordsets))\n",
    "stem_dictionary(genre_map)\n",
    "clean_confusing_genres(genre_map)\n",
    "\n",
    "# Display final Dictionary used for classification\n",
    "[print(key,':',value) for key, value in genre_map.items()];"
   ]
  },
  {
   "cell_type": "code",
   "execution_count": null,
   "metadata": {},
   "outputs": [],
   "source": [
    "def extract_genres(df_genres:list)->list:\n",
    "    \"\"\" \n",
    "    finds all the metagenres from the movie genre list, referring to the the genre_map \n",
    "\n",
    "    Args:\n",
    "        df_genres (list): list of subgenres\n",
    "\n",
    "    Returns:\n",
    "        list: list of metagenres\n",
    "    \"\"\"\n",
    "    genre_list = []\n",
    "    input_genres = df_genres.copy()\n",
    "\n",
    "    # Clean and concatenate all genres in the input\n",
    "    merged_stem_strings = [stem_string(clean(g)) for g in input_genres]\n",
    "\n",
    "    # For each major genre and subgenre in the genre map, check if they are in the input\n",
    "    for major_genres, sub_genres in genre_map.items() : \n",
    "        for s_g in sub_genres :\n",
    "            for item in merged_stem_strings :\n",
    "                if s_g[0] in item :\n",
    "                    genre_list.append(major_genres)\n",
    "\n",
    "    # If no metagenre was found, classify movie as \"other\"\n",
    "    if len(genre_list) == 0 :\n",
    "        genre_list.append(\"Other\")\n",
    "\n",
    "    # Remove metagenre duplicates\n",
    "    genre_list = list(set(genre_list))\n",
    "\n",
    "    return genre_list"
   ]
  },
  {
   "cell_type": "markdown",
   "metadata": {},
   "source": [
    "## Metagenres"
   ]
  },
  {
   "cell_type": "code",
   "execution_count": 22,
   "metadata": {},
   "outputs": [],
   "source": [
    "metadata[\"metagenre\"]=metadata[\"genre\"].apply(extract_genres)"
   ]
  },
  {
   "cell_type": "markdown",
   "metadata": {},
   "source": [
    "We will present an analysis for evolution of metagenres throughout the time in the Analysis Section."
   ]
  },
  {
   "cell_type": "markdown",
   "metadata": {},
   "source": [
    "# Movie Plots"
   ]
  },
  {
   "cell_type": "code",
   "execution_count": 23,
   "metadata": {},
   "outputs": [
    {
     "name": "stderr",
     "output_type": "stream",
     "text": [
      "42303it [00:00, 65618.36it/s]\n"
     ]
    }
   ],
   "source": [
    "# read plots\n",
    "plots = []\n",
    "with open(\"data/plot_summaries.txt\", 'r') as f:\n",
    "    reader = csv.reader(f, dialect='excel-tab') \n",
    "    for row in tqdm(reader):\n",
    "        plots.append(row)\n",
    "\n",
    "movie_id = []\n",
    "plot = []\n"
   ]
  },
  {
   "cell_type": "code",
   "execution_count": 24,
   "metadata": {},
   "outputs": [
    {
     "name": "stderr",
     "output_type": "stream",
     "text": [
      "100%|██████████| 42303/42303 [00:00<00:00, 602519.13it/s]\n"
     ]
    }
   ],
   "source": [
    "# extract movie Ids and plot summaries\n",
    "for i in tqdm(plots):\n",
    "    movie_id.append(i[0])\n",
    "    plot.append(i[1])\n"
   ]
  },
  {
   "cell_type": "code",
   "execution_count": 25,
   "metadata": {},
   "outputs": [],
   "source": [
    "# create dataframe\n",
    "plots = pd.DataFrame({'movie_id': movie_id, 'plot': plot})\n"
   ]
  },
  {
   "cell_type": "code",
   "execution_count": 26,
   "metadata": {},
   "outputs": [],
   "source": [
    "def clean_text(text):\n",
    "    # remove a string like {{plot}}\n",
    "    text = re.sub(\"\\s*{{\\w*}}\\s*\", \"\", text)\n",
    "    # remove backslash-apostrophe \n",
    "    text = re.sub(\"\\'\", \"\", text)\n",
    "    \n",
    "    text = text.lower().replace('\\n', ' ').replace('\\t', ' ').replace('\\xa0',' ') #get rid of problem chars\n",
    "    \n",
    "    text = ' '.join(text.split())\n",
    "    \n",
    "    return text\n",
    "\n",
    "plots['plot'] = plots['plot'].apply(clean_text)\n"
   ]
  },
  {
   "cell_type": "code",
   "execution_count": 27,
   "metadata": {},
   "outputs": [
    {
     "data": {
      "text/html": [
       "<div>\n",
       "<style scoped>\n",
       "    .dataframe tbody tr th:only-of-type {\n",
       "        vertical-align: middle;\n",
       "    }\n",
       "\n",
       "    .dataframe tbody tr th {\n",
       "        vertical-align: top;\n",
       "    }\n",
       "\n",
       "    .dataframe thead th {\n",
       "        text-align: right;\n",
       "    }\n",
       "</style>\n",
       "<table border=\"1\" class=\"dataframe\">\n",
       "  <thead>\n",
       "    <tr style=\"text-align: right;\">\n",
       "      <th></th>\n",
       "      <th>movie_id</th>\n",
       "      <th>plot</th>\n",
       "    </tr>\n",
       "  </thead>\n",
       "  <tbody>\n",
       "    <tr>\n",
       "      <th>6623</th>\n",
       "      <td>5162931</td>\n",
       "      <td>while walking her guard rounds in the country,...</td>\n",
       "    </tr>\n",
       "    <tr>\n",
       "      <th>15842</th>\n",
       "      <td>15234647</td>\n",
       "      <td>{{expand section}} billy zanes unnamed charact...</td>\n",
       "    </tr>\n",
       "    <tr>\n",
       "      <th>41357</th>\n",
       "      <td>217824</td>\n",
       "      <td>tina balser, an educated, frustrated housewife...</td>\n",
       "    </tr>\n",
       "    <tr>\n",
       "      <th>8897</th>\n",
       "      <td>33913958</td>\n",
       "      <td>sang-hyun and dong-hyun were born as conjoined...</td>\n",
       "    </tr>\n",
       "    <tr>\n",
       "      <th>18609</th>\n",
       "      <td>22858261</td>\n",
       "      <td>union newsreel reporter chris hunter is sneaki...</td>\n",
       "    </tr>\n",
       "    <tr>\n",
       "      <th>7947</th>\n",
       "      <td>9962683</td>\n",
       "      <td>somna lives a poor lifestyle with her widowed ...</td>\n",
       "    </tr>\n",
       "    <tr>\n",
       "      <th>11242</th>\n",
       "      <td>16457387</td>\n",
       "      <td>set in the edwardian era music halls of london...</td>\n",
       "    </tr>\n",
       "    <tr>\n",
       "      <th>26229</th>\n",
       "      <td>8644317</td>\n",
       "      <td>lonnie earl dodd is a little rock car dealer w...</td>\n",
       "    </tr>\n",
       "    <tr>\n",
       "      <th>30991</th>\n",
       "      <td>1213595</td>\n",
       "      <td>deep in the south american jungle, a japanese ...</td>\n",
       "    </tr>\n",
       "    <tr>\n",
       "      <th>27796</th>\n",
       "      <td>13831741</td>\n",
       "      <td>a gang of mercenaries, led by marcus cutter, s...</td>\n",
       "    </tr>\n",
       "  </tbody>\n",
       "</table>\n",
       "</div>"
      ],
      "text/plain": [
       "       movie_id                                               plot\n",
       "6623    5162931  while walking her guard rounds in the country,...\n",
       "15842  15234647  {{expand section}} billy zanes unnamed charact...\n",
       "41357    217824  tina balser, an educated, frustrated housewife...\n",
       "8897   33913958  sang-hyun and dong-hyun were born as conjoined...\n",
       "18609  22858261  union newsreel reporter chris hunter is sneaki...\n",
       "7947    9962683  somna lives a poor lifestyle with her widowed ...\n",
       "11242  16457387  set in the edwardian era music halls of london...\n",
       "26229   8644317  lonnie earl dodd is a little rock car dealer w...\n",
       "30991   1213595  deep in the south american jungle, a japanese ...\n",
       "27796  13831741  a gang of mercenaries, led by marcus cutter, s..."
      ]
     },
     "execution_count": 27,
     "metadata": {},
     "output_type": "execute_result"
    }
   ],
   "source": [
    "plots.sample(10)"
   ]
  },
  {
   "cell_type": "markdown",
   "metadata": {},
   "source": [
    "The plots dataset contains a little over 42000 summaries of movies, each linked to a movie through an ID"
   ]
  },
  {
   "cell_type": "markdown",
   "metadata": {},
   "source": [
    "# Characters"
   ]
  },
  {
   "cell_type": "code",
   "execution_count": 28,
   "metadata": {},
   "outputs": [],
   "source": [
    "characters = pd.read_csv(\"data/character.metadata.tsv\", sep = '\\t', header = None)\n"
   ]
  },
  {
   "cell_type": "code",
   "execution_count": 29,
   "metadata": {},
   "outputs": [],
   "source": [
    "characters.columns = [\"wiki_movie_id\",\"freebase_movie_id\",\"release_date\",\"character_name\",\"date_birth\",\"gender\",\n",
    "                      \"height\",\"ethnicity\",\"act_name\",\"act_age\",\n",
    "                      \"freebase_char_actor_id\",\"freebase_char_id\",\"freebase_actor_id\"]"
   ]
  },
  {
   "cell_type": "code",
   "execution_count": 30,
   "metadata": {},
   "outputs": [
    {
     "data": {
      "text/html": [
       "<div>\n",
       "<style scoped>\n",
       "    .dataframe tbody tr th:only-of-type {\n",
       "        vertical-align: middle;\n",
       "    }\n",
       "\n",
       "    .dataframe tbody tr th {\n",
       "        vertical-align: top;\n",
       "    }\n",
       "\n",
       "    .dataframe thead th {\n",
       "        text-align: right;\n",
       "    }\n",
       "</style>\n",
       "<table border=\"1\" class=\"dataframe\">\n",
       "  <thead>\n",
       "    <tr style=\"text-align: right;\">\n",
       "      <th></th>\n",
       "      <th>wiki_movie_id</th>\n",
       "      <th>freebase_movie_id</th>\n",
       "      <th>release_date</th>\n",
       "      <th>character_name</th>\n",
       "      <th>date_birth</th>\n",
       "      <th>gender</th>\n",
       "      <th>height</th>\n",
       "      <th>ethnicity</th>\n",
       "      <th>act_name</th>\n",
       "      <th>act_age</th>\n",
       "      <th>freebase_char_actor_id</th>\n",
       "      <th>freebase_char_id</th>\n",
       "      <th>freebase_actor_id</th>\n",
       "    </tr>\n",
       "  </thead>\n",
       "  <tbody>\n",
       "    <tr>\n",
       "      <th>0</th>\n",
       "      <td>975900</td>\n",
       "      <td>/m/03vyhn</td>\n",
       "      <td>2001-08-24</td>\n",
       "      <td>Akooshay</td>\n",
       "      <td>1958-08-26</td>\n",
       "      <td>F</td>\n",
       "      <td>1.62</td>\n",
       "      <td>NaN</td>\n",
       "      <td>Wanda De Jesus</td>\n",
       "      <td>42.0</td>\n",
       "      <td>/m/0bgchxw</td>\n",
       "      <td>/m/0bgcj3x</td>\n",
       "      <td>/m/03wcfv7</td>\n",
       "    </tr>\n",
       "  </tbody>\n",
       "</table>\n",
       "</div>"
      ],
      "text/plain": [
       "   wiki_movie_id freebase_movie_id release_date character_name  date_birth  \\\n",
       "0         975900         /m/03vyhn   2001-08-24       Akooshay  1958-08-26   \n",
       "\n",
       "  gender  height ethnicity        act_name  act_age freebase_char_actor_id  \\\n",
       "0      F    1.62       NaN  Wanda De Jesus     42.0             /m/0bgchxw   \n",
       "\n",
       "  freebase_char_id freebase_actor_id  \n",
       "0       /m/0bgcj3x        /m/03wcfv7  "
      ]
     },
     "execution_count": 30,
     "metadata": {},
     "output_type": "execute_result"
    }
   ],
   "source": [
    "characters.head(1)"
   ]
  },
  {
   "cell_type": "markdown",
   "metadata": {},
   "source": [
    "We observe that the release_date and date_birth are dates and we therefore transform them to datetime to be able to handle them more simply"
   ]
  },
  {
   "cell_type": "code",
   "execution_count": 31,
   "metadata": {},
   "outputs": [],
   "source": [
    "characters.release_date = pd.to_datetime(characters.release_date, errors = 'coerce')\n",
    "characters.date_birth =  pd.to_datetime(characters.date_birth , errors = 'coerce')"
   ]
  },
  {
   "cell_type": "code",
   "execution_count": 32,
   "metadata": {},
   "outputs": [
    {
     "data": {
      "text/html": [
       "<div>\n",
       "<style scoped>\n",
       "    .dataframe tbody tr th:only-of-type {\n",
       "        vertical-align: middle;\n",
       "    }\n",
       "\n",
       "    .dataframe tbody tr th {\n",
       "        vertical-align: top;\n",
       "    }\n",
       "\n",
       "    .dataframe thead th {\n",
       "        text-align: right;\n",
       "    }\n",
       "</style>\n",
       "<table border=\"1\" class=\"dataframe\">\n",
       "  <thead>\n",
       "    <tr style=\"text-align: right;\">\n",
       "      <th></th>\n",
       "      <th>wiki_movie_id</th>\n",
       "      <th>freebase_movie_id</th>\n",
       "      <th>release_date</th>\n",
       "      <th>character_name</th>\n",
       "      <th>date_birth</th>\n",
       "      <th>gender</th>\n",
       "      <th>height</th>\n",
       "      <th>ethnicity</th>\n",
       "      <th>act_name</th>\n",
       "      <th>act_age</th>\n",
       "      <th>freebase_char_actor_id</th>\n",
       "      <th>freebase_char_id</th>\n",
       "      <th>freebase_actor_id</th>\n",
       "    </tr>\n",
       "  </thead>\n",
       "  <tbody>\n",
       "    <tr>\n",
       "      <th>0</th>\n",
       "      <td>975900</td>\n",
       "      <td>/m/03vyhn</td>\n",
       "      <td>2001-08-24</td>\n",
       "      <td>Akooshay</td>\n",
       "      <td>1958-08-26 00:00:00</td>\n",
       "      <td>F</td>\n",
       "      <td>1.620</td>\n",
       "      <td>NaN</td>\n",
       "      <td>Wanda De Jesus</td>\n",
       "      <td>42.0</td>\n",
       "      <td>/m/0bgchxw</td>\n",
       "      <td>/m/0bgcj3x</td>\n",
       "      <td>/m/03wcfv7</td>\n",
       "    </tr>\n",
       "    <tr>\n",
       "      <th>1</th>\n",
       "      <td>975900</td>\n",
       "      <td>/m/03vyhn</td>\n",
       "      <td>2001-08-24</td>\n",
       "      <td>Lieutenant Melanie Ballard</td>\n",
       "      <td>1974-08-15 00:00:00</td>\n",
       "      <td>F</td>\n",
       "      <td>1.780</td>\n",
       "      <td>/m/044038p</td>\n",
       "      <td>Natasha Henstridge</td>\n",
       "      <td>27.0</td>\n",
       "      <td>/m/0jys3m</td>\n",
       "      <td>/m/0bgchn4</td>\n",
       "      <td>/m/0346l4</td>\n",
       "    </tr>\n",
       "    <tr>\n",
       "      <th>2</th>\n",
       "      <td>975900</td>\n",
       "      <td>/m/03vyhn</td>\n",
       "      <td>2001-08-24</td>\n",
       "      <td>Desolation Williams</td>\n",
       "      <td>1969-06-15 00:00:00</td>\n",
       "      <td>M</td>\n",
       "      <td>1.727</td>\n",
       "      <td>/m/0x67</td>\n",
       "      <td>Ice Cube</td>\n",
       "      <td>32.0</td>\n",
       "      <td>/m/0jys3g</td>\n",
       "      <td>/m/0bgchn_</td>\n",
       "      <td>/m/01vw26l</td>\n",
       "    </tr>\n",
       "    <tr>\n",
       "      <th>3</th>\n",
       "      <td>975900</td>\n",
       "      <td>/m/03vyhn</td>\n",
       "      <td>2001-08-24</td>\n",
       "      <td>Sgt Jericho Butler</td>\n",
       "      <td>1967-09-12 00:00:00</td>\n",
       "      <td>M</td>\n",
       "      <td>1.750</td>\n",
       "      <td>NaN</td>\n",
       "      <td>Jason Statham</td>\n",
       "      <td>33.0</td>\n",
       "      <td>/m/02vchl6</td>\n",
       "      <td>/m/0bgchnq</td>\n",
       "      <td>/m/034hyc</td>\n",
       "    </tr>\n",
       "    <tr>\n",
       "      <th>4</th>\n",
       "      <td>975900</td>\n",
       "      <td>/m/03vyhn</td>\n",
       "      <td>2001-08-24</td>\n",
       "      <td>Bashira Kincaid</td>\n",
       "      <td>1977-09-25 00:00:00</td>\n",
       "      <td>F</td>\n",
       "      <td>1.650</td>\n",
       "      <td>NaN</td>\n",
       "      <td>Clea DuVall</td>\n",
       "      <td>23.0</td>\n",
       "      <td>/m/02vbb3r</td>\n",
       "      <td>/m/0bgchp9</td>\n",
       "      <td>/m/01y9xg</td>\n",
       "    </tr>\n",
       "  </tbody>\n",
       "</table>\n",
       "</div>"
      ],
      "text/plain": [
       "   wiki_movie_id freebase_movie_id release_date              character_name  \\\n",
       "0         975900         /m/03vyhn   2001-08-24                    Akooshay   \n",
       "1         975900         /m/03vyhn   2001-08-24  Lieutenant Melanie Ballard   \n",
       "2         975900         /m/03vyhn   2001-08-24         Desolation Williams   \n",
       "3         975900         /m/03vyhn   2001-08-24          Sgt Jericho Butler   \n",
       "4         975900         /m/03vyhn   2001-08-24             Bashira Kincaid   \n",
       "\n",
       "            date_birth gender  height   ethnicity            act_name  \\\n",
       "0  1958-08-26 00:00:00      F   1.620         NaN      Wanda De Jesus   \n",
       "1  1974-08-15 00:00:00      F   1.780  /m/044038p  Natasha Henstridge   \n",
       "2  1969-06-15 00:00:00      M   1.727     /m/0x67            Ice Cube   \n",
       "3  1967-09-12 00:00:00      M   1.750         NaN       Jason Statham   \n",
       "4  1977-09-25 00:00:00      F   1.650         NaN         Clea DuVall   \n",
       "\n",
       "   act_age freebase_char_actor_id freebase_char_id freebase_actor_id  \n",
       "0     42.0             /m/0bgchxw       /m/0bgcj3x        /m/03wcfv7  \n",
       "1     27.0              /m/0jys3m       /m/0bgchn4         /m/0346l4  \n",
       "2     32.0              /m/0jys3g       /m/0bgchn_        /m/01vw26l  \n",
       "3     33.0             /m/02vchl6       /m/0bgchnq         /m/034hyc  \n",
       "4     23.0             /m/02vbb3r       /m/0bgchp9         /m/01y9xg  "
      ]
     },
     "execution_count": 32,
     "metadata": {},
     "output_type": "execute_result"
    }
   ],
   "source": [
    "characters.head()"
   ]
  },
  {
   "cell_type": "markdown",
   "metadata": {},
   "source": [
    "We see in the first lines a few Nan and therefore it is worth to verify how much data is missing"
   ]
  },
  {
   "cell_type": "code",
   "execution_count": 33,
   "metadata": {},
   "outputs": [
    {
     "data": {
      "text/plain": [
       "wiki_movie_id                  0\n",
       "freebase_movie_id              0\n",
       "release_date               10010\n",
       "character_name            257875\n",
       "date_birth                106168\n",
       "gender                     45609\n",
       "height                    295845\n",
       "ethnicity                 344611\n",
       "act_name                    1228\n",
       "act_age                   158113\n",
       "freebase_char_actor_id         0\n",
       "freebase_char_id          257865\n",
       "freebase_actor_id            815\n",
       "dtype: int64"
      ]
     },
     "execution_count": 33,
     "metadata": {},
     "output_type": "execute_result"
    }
   ],
   "source": [
    "characters.isna().sum(axis=0)\n"
   ]
  },
  {
   "cell_type": "code",
   "execution_count": 34,
   "metadata": {},
   "outputs": [
    {
     "name": "stdout",
     "output_type": "stream",
     "text": [
      "we observe there is 344611 na values in ethnicity (one of our data of interest), however this only represent 0.05882041689474639  as there many character in most films and we have here many films.\n"
     ]
    }
   ],
   "source": [
    "print('we observe there is 344611 na values in ethnicity (one of our data of interest), however this only represent {0}  as there many character in most films and we have here many films.'.format(characters.ethnicity.isna().sum()/characters.size))"
   ]
  },
  {
   "cell_type": "markdown",
   "metadata": {},
   "source": [
    "## Historical events"
   ]
  },
  {
   "cell_type": "code",
   "execution_count": 35,
   "metadata": {},
   "outputs": [],
   "source": [
    "event = pd.read_csv('./data/events.txt', header = None)\n",
    "event.rename(columns={0:'event', 1:'begin_date', 2:'end_or_popularisation_date', 3:'type_of_event'}, inplace= True)\n",
    "event['begin_date'] = pd.to_datetime(event['begin_date'], errors = 'coerce' , format = '%Y')\n",
    "event['end_or_popularisation_date'] = pd.to_datetime(event['end_or_popularisation_date'], errors = 'coerce' , format = '%Y')"
   ]
  },
  {
   "cell_type": "code",
   "execution_count": 36,
   "metadata": {},
   "outputs": [
    {
     "data": {
      "text/html": [
       "<div>\n",
       "<style scoped>\n",
       "    .dataframe tbody tr th:only-of-type {\n",
       "        vertical-align: middle;\n",
       "    }\n",
       "\n",
       "    .dataframe tbody tr th {\n",
       "        vertical-align: top;\n",
       "    }\n",
       "\n",
       "    .dataframe thead th {\n",
       "        text-align: right;\n",
       "    }\n",
       "</style>\n",
       "<table border=\"1\" class=\"dataframe\">\n",
       "  <thead>\n",
       "    <tr style=\"text-align: right;\">\n",
       "      <th></th>\n",
       "      <th>event</th>\n",
       "      <th>begin_date</th>\n",
       "      <th>end_or_popularisation_date</th>\n",
       "      <th>type_of_event</th>\n",
       "    </tr>\n",
       "  </thead>\n",
       "  <tbody>\n",
       "    <tr>\n",
       "      <th>0</th>\n",
       "      <td>WW1</td>\n",
       "      <td>1914-01-01</td>\n",
       "      <td>1918-01-01</td>\n",
       "      <td>war</td>\n",
       "    </tr>\n",
       "    <tr>\n",
       "      <th>1</th>\n",
       "      <td>russian communist revolution</td>\n",
       "      <td>1917-01-01</td>\n",
       "      <td>1917-01-01</td>\n",
       "      <td>war</td>\n",
       "    </tr>\n",
       "    <tr>\n",
       "      <th>2</th>\n",
       "      <td>economic depression</td>\n",
       "      <td>1929-01-01</td>\n",
       "      <td>1929-01-01</td>\n",
       "      <td>economic</td>\n",
       "    </tr>\n",
       "    <tr>\n",
       "      <th>3</th>\n",
       "      <td>rise of dictatorships</td>\n",
       "      <td>1920-01-01</td>\n",
       "      <td>1940-01-01</td>\n",
       "      <td>politic</td>\n",
       "    </tr>\n",
       "    <tr>\n",
       "      <th>4</th>\n",
       "      <td>WW2</td>\n",
       "      <td>1939-01-01</td>\n",
       "      <td>1945-01-01</td>\n",
       "      <td>war</td>\n",
       "    </tr>\n",
       "  </tbody>\n",
       "</table>\n",
       "</div>"
      ],
      "text/plain": [
       "                          event begin_date end_or_popularisation_date  \\\n",
       "0                           WW1 1914-01-01                 1918-01-01   \n",
       "1  russian communist revolution 1917-01-01                 1917-01-01   \n",
       "2           economic depression 1929-01-01                 1929-01-01   \n",
       "3         rise of dictatorships 1920-01-01                 1940-01-01   \n",
       "4                           WW2 1939-01-01                 1945-01-01   \n",
       "\n",
       "  type_of_event  \n",
       "0           war  \n",
       "1           war  \n",
       "2      economic  \n",
       "3       politic  \n",
       "4           war  "
      ]
     },
     "execution_count": 36,
     "metadata": {},
     "output_type": "execute_result"
    }
   ],
   "source": [
    "event.head()"
   ]
  },
  {
   "cell_type": "markdown",
   "metadata": {},
   "source": [
    "a list of major historical events built from wikipedia article and our own knowledge"
   ]
  },
  {
   "cell_type": "markdown",
   "metadata": {},
   "source": [
    "# Analysis"
   ]
  },
  {
   "cell_type": "markdown",
   "metadata": {},
   "source": [
    "## Evolution of genres throughout the year"
   ]
  },
  {
   "cell_type": "code",
   "execution_count": 37,
   "metadata": {},
   "outputs": [
    {
     "data": {
      "text/plain": [
       "Index(['wiki_id', 'freebase_id', 'movie_name', 'release_date', 'duration',\n",
       "       'language', 'country', 'genre', 'averageRating', 'metagenre'],\n",
       "      dtype='object')"
      ]
     },
     "execution_count": 37,
     "metadata": {},
     "output_type": "execute_result"
    }
   ],
   "source": [
    "metadata.columns"
   ]
  },
  {
   "cell_type": "code",
   "execution_count": 38,
   "metadata": {},
   "outputs": [
    {
     "name": "stderr",
     "output_type": "stream",
     "text": [
      "/tmp/ipykernel_20835/554888437.py:1: FutureWarning: Using the level keyword in DataFrame and Series aggregations is deprecated and will be removed in a future version. Use groupby instead. df.sum(level=1) should use df.groupby(level=1).sum().\n",
      "  dummies_genres = pd.get_dummies(metadata[\"metagenre\"].explode()).sum(level=0)\n"
     ]
    }
   ],
   "source": [
    "dummies_genres = pd.get_dummies(metadata[\"metagenre\"].explode()).sum(level=0)\n",
    "metadata = metadata.join(dummies_genres)"
   ]
  },
  {
   "cell_type": "code",
   "execution_count": 78,
   "metadata": {},
   "outputs": [
    {
     "data": {
      "text/html": [
       "<div>\n",
       "<style scoped>\n",
       "    .dataframe tbody tr th:only-of-type {\n",
       "        vertical-align: middle;\n",
       "    }\n",
       "\n",
       "    .dataframe tbody tr th {\n",
       "        vertical-align: top;\n",
       "    }\n",
       "\n",
       "    .dataframe thead th {\n",
       "        text-align: right;\n",
       "    }\n",
       "</style>\n",
       "<table border=\"1\" class=\"dataframe\">\n",
       "  <thead>\n",
       "    <tr style=\"text-align: right;\">\n",
       "      <th></th>\n",
       "      <th>Other</th>\n",
       "      <th>action</th>\n",
       "      <th>animation</th>\n",
       "      <th>black and white</th>\n",
       "      <th>comedy</th>\n",
       "      <th>crime</th>\n",
       "      <th>diversity</th>\n",
       "      <th>documentary</th>\n",
       "      <th>drama</th>\n",
       "      <th>erotic</th>\n",
       "      <th>...</th>\n",
       "      <th>horror</th>\n",
       "      <th>musical</th>\n",
       "      <th>propaganda</th>\n",
       "      <th>religious</th>\n",
       "      <th>romance</th>\n",
       "      <th>science-fiction</th>\n",
       "      <th>silent</th>\n",
       "      <th>thriller</th>\n",
       "      <th>war</th>\n",
       "      <th>western</th>\n",
       "    </tr>\n",
       "    <tr>\n",
       "      <th>release_date</th>\n",
       "      <th></th>\n",
       "      <th></th>\n",
       "      <th></th>\n",
       "      <th></th>\n",
       "      <th></th>\n",
       "      <th></th>\n",
       "      <th></th>\n",
       "      <th></th>\n",
       "      <th></th>\n",
       "      <th></th>\n",
       "      <th></th>\n",
       "      <th></th>\n",
       "      <th></th>\n",
       "      <th></th>\n",
       "      <th></th>\n",
       "      <th></th>\n",
       "      <th></th>\n",
       "      <th></th>\n",
       "      <th></th>\n",
       "      <th></th>\n",
       "      <th></th>\n",
       "    </tr>\n",
       "  </thead>\n",
       "  <tbody>\n",
       "    <tr>\n",
       "      <th>1888-01-01</th>\n",
       "      <td>0</td>\n",
       "      <td>0</td>\n",
       "      <td>0</td>\n",
       "      <td>1</td>\n",
       "      <td>0</td>\n",
       "      <td>0</td>\n",
       "      <td>0</td>\n",
       "      <td>0</td>\n",
       "      <td>0</td>\n",
       "      <td>0</td>\n",
       "      <td>...</td>\n",
       "      <td>0</td>\n",
       "      <td>0</td>\n",
       "      <td>0</td>\n",
       "      <td>0</td>\n",
       "      <td>0</td>\n",
       "      <td>0</td>\n",
       "      <td>1</td>\n",
       "      <td>0</td>\n",
       "      <td>0</td>\n",
       "      <td>0</td>\n",
       "    </tr>\n",
       "    <tr>\n",
       "      <th>1889-01-01</th>\n",
       "      <td>0</td>\n",
       "      <td>0</td>\n",
       "      <td>0</td>\n",
       "      <td>1</td>\n",
       "      <td>0</td>\n",
       "      <td>0</td>\n",
       "      <td>0</td>\n",
       "      <td>0</td>\n",
       "      <td>0</td>\n",
       "      <td>0</td>\n",
       "      <td>...</td>\n",
       "      <td>0</td>\n",
       "      <td>0</td>\n",
       "      <td>0</td>\n",
       "      <td>0</td>\n",
       "      <td>0</td>\n",
       "      <td>0</td>\n",
       "      <td>1</td>\n",
       "      <td>0</td>\n",
       "      <td>0</td>\n",
       "      <td>0</td>\n",
       "    </tr>\n",
       "    <tr>\n",
       "      <th>1890-01-01</th>\n",
       "      <td>0</td>\n",
       "      <td>0</td>\n",
       "      <td>0</td>\n",
       "      <td>0</td>\n",
       "      <td>0</td>\n",
       "      <td>0</td>\n",
       "      <td>0</td>\n",
       "      <td>0</td>\n",
       "      <td>0</td>\n",
       "      <td>0</td>\n",
       "      <td>...</td>\n",
       "      <td>0</td>\n",
       "      <td>0</td>\n",
       "      <td>0</td>\n",
       "      <td>0</td>\n",
       "      <td>0</td>\n",
       "      <td>0</td>\n",
       "      <td>2</td>\n",
       "      <td>0</td>\n",
       "      <td>0</td>\n",
       "      <td>0</td>\n",
       "    </tr>\n",
       "    <tr>\n",
       "      <th>1891-01-01</th>\n",
       "      <td>0</td>\n",
       "      <td>0</td>\n",
       "      <td>0</td>\n",
       "      <td>0</td>\n",
       "      <td>0</td>\n",
       "      <td>0</td>\n",
       "      <td>0</td>\n",
       "      <td>0</td>\n",
       "      <td>0</td>\n",
       "      <td>0</td>\n",
       "      <td>...</td>\n",
       "      <td>0</td>\n",
       "      <td>0</td>\n",
       "      <td>0</td>\n",
       "      <td>0</td>\n",
       "      <td>0</td>\n",
       "      <td>0</td>\n",
       "      <td>1</td>\n",
       "      <td>0</td>\n",
       "      <td>0</td>\n",
       "      <td>0</td>\n",
       "    </tr>\n",
       "    <tr>\n",
       "      <th>1892-10-28</th>\n",
       "      <td>0</td>\n",
       "      <td>0</td>\n",
       "      <td>2</td>\n",
       "      <td>0</td>\n",
       "      <td>0</td>\n",
       "      <td>0</td>\n",
       "      <td>0</td>\n",
       "      <td>0</td>\n",
       "      <td>0</td>\n",
       "      <td>0</td>\n",
       "      <td>...</td>\n",
       "      <td>0</td>\n",
       "      <td>0</td>\n",
       "      <td>0</td>\n",
       "      <td>0</td>\n",
       "      <td>0</td>\n",
       "      <td>0</td>\n",
       "      <td>2</td>\n",
       "      <td>0</td>\n",
       "      <td>0</td>\n",
       "      <td>0</td>\n",
       "    </tr>\n",
       "    <tr>\n",
       "      <th>...</th>\n",
       "      <td>...</td>\n",
       "      <td>...</td>\n",
       "      <td>...</td>\n",
       "      <td>...</td>\n",
       "      <td>...</td>\n",
       "      <td>...</td>\n",
       "      <td>...</td>\n",
       "      <td>...</td>\n",
       "      <td>...</td>\n",
       "      <td>...</td>\n",
       "      <td>...</td>\n",
       "      <td>...</td>\n",
       "      <td>...</td>\n",
       "      <td>...</td>\n",
       "      <td>...</td>\n",
       "      <td>...</td>\n",
       "      <td>...</td>\n",
       "      <td>...</td>\n",
       "      <td>...</td>\n",
       "      <td>...</td>\n",
       "      <td>...</td>\n",
       "    </tr>\n",
       "    <tr>\n",
       "      <th>2013-06-27</th>\n",
       "      <td>0</td>\n",
       "      <td>1</td>\n",
       "      <td>1</td>\n",
       "      <td>0</td>\n",
       "      <td>2</td>\n",
       "      <td>1</td>\n",
       "      <td>0</td>\n",
       "      <td>0</td>\n",
       "      <td>0</td>\n",
       "      <td>0</td>\n",
       "      <td>...</td>\n",
       "      <td>0</td>\n",
       "      <td>0</td>\n",
       "      <td>0</td>\n",
       "      <td>0</td>\n",
       "      <td>0</td>\n",
       "      <td>0</td>\n",
       "      <td>0</td>\n",
       "      <td>0</td>\n",
       "      <td>0</td>\n",
       "      <td>0</td>\n",
       "    </tr>\n",
       "    <tr>\n",
       "      <th>2013-07-31</th>\n",
       "      <td>0</td>\n",
       "      <td>1</td>\n",
       "      <td>0</td>\n",
       "      <td>0</td>\n",
       "      <td>0</td>\n",
       "      <td>0</td>\n",
       "      <td>0</td>\n",
       "      <td>0</td>\n",
       "      <td>0</td>\n",
       "      <td>0</td>\n",
       "      <td>...</td>\n",
       "      <td>0</td>\n",
       "      <td>0</td>\n",
       "      <td>0</td>\n",
       "      <td>0</td>\n",
       "      <td>0</td>\n",
       "      <td>0</td>\n",
       "      <td>0</td>\n",
       "      <td>0</td>\n",
       "      <td>0</td>\n",
       "      <td>0</td>\n",
       "    </tr>\n",
       "    <tr>\n",
       "      <th>2013-12-18</th>\n",
       "      <td>0</td>\n",
       "      <td>1</td>\n",
       "      <td>1</td>\n",
       "      <td>0</td>\n",
       "      <td>0</td>\n",
       "      <td>0</td>\n",
       "      <td>0</td>\n",
       "      <td>0</td>\n",
       "      <td>0</td>\n",
       "      <td>0</td>\n",
       "      <td>...</td>\n",
       "      <td>0</td>\n",
       "      <td>0</td>\n",
       "      <td>0</td>\n",
       "      <td>0</td>\n",
       "      <td>0</td>\n",
       "      <td>0</td>\n",
       "      <td>0</td>\n",
       "      <td>0</td>\n",
       "      <td>0</td>\n",
       "      <td>0</td>\n",
       "    </tr>\n",
       "    <tr>\n",
       "      <th>2014-01-01</th>\n",
       "      <td>0</td>\n",
       "      <td>1</td>\n",
       "      <td>1</td>\n",
       "      <td>0</td>\n",
       "      <td>1</td>\n",
       "      <td>0</td>\n",
       "      <td>0</td>\n",
       "      <td>0</td>\n",
       "      <td>0</td>\n",
       "      <td>0</td>\n",
       "      <td>...</td>\n",
       "      <td>0</td>\n",
       "      <td>0</td>\n",
       "      <td>0</td>\n",
       "      <td>0</td>\n",
       "      <td>0</td>\n",
       "      <td>0</td>\n",
       "      <td>0</td>\n",
       "      <td>0</td>\n",
       "      <td>0</td>\n",
       "      <td>0</td>\n",
       "    </tr>\n",
       "    <tr>\n",
       "      <th>2016-03-18</th>\n",
       "      <td>1</td>\n",
       "      <td>0</td>\n",
       "      <td>0</td>\n",
       "      <td>0</td>\n",
       "      <td>0</td>\n",
       "      <td>0</td>\n",
       "      <td>0</td>\n",
       "      <td>0</td>\n",
       "      <td>0</td>\n",
       "      <td>0</td>\n",
       "      <td>...</td>\n",
       "      <td>0</td>\n",
       "      <td>0</td>\n",
       "      <td>0</td>\n",
       "      <td>0</td>\n",
       "      <td>0</td>\n",
       "      <td>0</td>\n",
       "      <td>0</td>\n",
       "      <td>0</td>\n",
       "      <td>0</td>\n",
       "      <td>0</td>\n",
       "    </tr>\n",
       "  </tbody>\n",
       "</table>\n",
       "<p>11143 rows × 24 columns</p>\n",
       "</div>"
      ],
      "text/plain": [
       "              Other  action  animation  black and white  comedy  crime  \\\n",
       "release_date                                                             \n",
       "1888-01-01        0       0          0                1       0      0   \n",
       "1889-01-01        0       0          0                1       0      0   \n",
       "1890-01-01        0       0          0                0       0      0   \n",
       "1891-01-01        0       0          0                0       0      0   \n",
       "1892-10-28        0       0          2                0       0      0   \n",
       "...             ...     ...        ...              ...     ...    ...   \n",
       "2013-06-27        0       1          1                0       2      1   \n",
       "2013-07-31        0       1          0                0       0      0   \n",
       "2013-12-18        0       1          1                0       0      0   \n",
       "2014-01-01        0       1          1                0       1      0   \n",
       "2016-03-18        1       0          0                0       0      0   \n",
       "\n",
       "              diversity  documentary  drama  erotic  ...  horror  musical  \\\n",
       "release_date                                         ...                    \n",
       "1888-01-01            0            0      0       0  ...       0        0   \n",
       "1889-01-01            0            0      0       0  ...       0        0   \n",
       "1890-01-01            0            0      0       0  ...       0        0   \n",
       "1891-01-01            0            0      0       0  ...       0        0   \n",
       "1892-10-28            0            0      0       0  ...       0        0   \n",
       "...                 ...          ...    ...     ...  ...     ...      ...   \n",
       "2013-06-27            0            0      0       0  ...       0        0   \n",
       "2013-07-31            0            0      0       0  ...       0        0   \n",
       "2013-12-18            0            0      0       0  ...       0        0   \n",
       "2014-01-01            0            0      0       0  ...       0        0   \n",
       "2016-03-18            0            0      0       0  ...       0        0   \n",
       "\n",
       "              propaganda  religious  romance  science-fiction  silent  \\\n",
       "release_date                                                            \n",
       "1888-01-01             0          0        0                0       1   \n",
       "1889-01-01             0          0        0                0       1   \n",
       "1890-01-01             0          0        0                0       2   \n",
       "1891-01-01             0          0        0                0       1   \n",
       "1892-10-28             0          0        0                0       2   \n",
       "...                  ...        ...      ...              ...     ...   \n",
       "2013-06-27             0          0        0                0       0   \n",
       "2013-07-31             0          0        0                0       0   \n",
       "2013-12-18             0          0        0                0       0   \n",
       "2014-01-01             0          0        0                0       0   \n",
       "2016-03-18             0          0        0                0       0   \n",
       "\n",
       "              thriller  war  western  \n",
       "release_date                          \n",
       "1888-01-01           0    0        0  \n",
       "1889-01-01           0    0        0  \n",
       "1890-01-01           0    0        0  \n",
       "1891-01-01           0    0        0  \n",
       "1892-10-28           0    0        0  \n",
       "...                ...  ...      ...  \n",
       "2013-06-27           0    0        0  \n",
       "2013-07-31           0    0        0  \n",
       "2013-12-18           0    0        0  \n",
       "2014-01-01           0    0        0  \n",
       "2016-03-18           0    0        0  \n",
       "\n",
       "[11143 rows x 24 columns]"
      ]
     },
     "execution_count": 78,
     "metadata": {},
     "output_type": "execute_result"
    }
   ],
   "source": [
    "cols_to_drop = [\"movie_name\",\"duration\",\"language\",\"country\",\"genre\",\"metagenre\",\"wiki_id\",\"averageRating\"]\n",
    "\n",
    "genre_per_date = metadata.copy().drop(columns=cols_to_drop).set_index(\"release_date\")\n",
    "genre_per_date = genre_per_date.groupby(\"release_date\").sum()\n",
    "genre_per_date"
   ]
  },
  {
   "cell_type": "code",
   "execution_count": 79,
   "metadata": {},
   "outputs": [
    {
     "data": {
      "text/html": [
       "<div>\n",
       "<style scoped>\n",
       "    .dataframe tbody tr th:only-of-type {\n",
       "        vertical-align: middle;\n",
       "    }\n",
       "\n",
       "    .dataframe tbody tr th {\n",
       "        vertical-align: top;\n",
       "    }\n",
       "\n",
       "    .dataframe thead th {\n",
       "        text-align: right;\n",
       "    }\n",
       "</style>\n",
       "<table border=\"1\" class=\"dataframe\">\n",
       "  <thead>\n",
       "    <tr style=\"text-align: right;\">\n",
       "      <th></th>\n",
       "      <th>Other</th>\n",
       "      <th>action</th>\n",
       "      <th>animation</th>\n",
       "      <th>black and white</th>\n",
       "      <th>comedy</th>\n",
       "      <th>crime</th>\n",
       "      <th>diversity</th>\n",
       "      <th>documentary</th>\n",
       "      <th>drama</th>\n",
       "      <th>erotic</th>\n",
       "      <th>...</th>\n",
       "      <th>horror</th>\n",
       "      <th>musical</th>\n",
       "      <th>propaganda</th>\n",
       "      <th>religious</th>\n",
       "      <th>romance</th>\n",
       "      <th>science-fiction</th>\n",
       "      <th>silent</th>\n",
       "      <th>thriller</th>\n",
       "      <th>war</th>\n",
       "      <th>western</th>\n",
       "    </tr>\n",
       "    <tr>\n",
       "      <th>release_date</th>\n",
       "      <th></th>\n",
       "      <th></th>\n",
       "      <th></th>\n",
       "      <th></th>\n",
       "      <th></th>\n",
       "      <th></th>\n",
       "      <th></th>\n",
       "      <th></th>\n",
       "      <th></th>\n",
       "      <th></th>\n",
       "      <th></th>\n",
       "      <th></th>\n",
       "      <th></th>\n",
       "      <th></th>\n",
       "      <th></th>\n",
       "      <th></th>\n",
       "      <th></th>\n",
       "      <th></th>\n",
       "      <th></th>\n",
       "      <th></th>\n",
       "      <th></th>\n",
       "    </tr>\n",
       "  </thead>\n",
       "  <tbody>\n",
       "    <tr>\n",
       "      <th>1888-01-01</th>\n",
       "      <td>0</td>\n",
       "      <td>0</td>\n",
       "      <td>0</td>\n",
       "      <td>1</td>\n",
       "      <td>0</td>\n",
       "      <td>0</td>\n",
       "      <td>0</td>\n",
       "      <td>0</td>\n",
       "      <td>0</td>\n",
       "      <td>0</td>\n",
       "      <td>...</td>\n",
       "      <td>0</td>\n",
       "      <td>0</td>\n",
       "      <td>0</td>\n",
       "      <td>0</td>\n",
       "      <td>0</td>\n",
       "      <td>0</td>\n",
       "      <td>1</td>\n",
       "      <td>0</td>\n",
       "      <td>0</td>\n",
       "      <td>0</td>\n",
       "    </tr>\n",
       "    <tr>\n",
       "      <th>1889-01-01</th>\n",
       "      <td>0</td>\n",
       "      <td>0</td>\n",
       "      <td>0</td>\n",
       "      <td>1</td>\n",
       "      <td>0</td>\n",
       "      <td>0</td>\n",
       "      <td>0</td>\n",
       "      <td>0</td>\n",
       "      <td>0</td>\n",
       "      <td>0</td>\n",
       "      <td>...</td>\n",
       "      <td>0</td>\n",
       "      <td>0</td>\n",
       "      <td>0</td>\n",
       "      <td>0</td>\n",
       "      <td>0</td>\n",
       "      <td>0</td>\n",
       "      <td>1</td>\n",
       "      <td>0</td>\n",
       "      <td>0</td>\n",
       "      <td>0</td>\n",
       "    </tr>\n",
       "    <tr>\n",
       "      <th>1890-01-01</th>\n",
       "      <td>0</td>\n",
       "      <td>0</td>\n",
       "      <td>0</td>\n",
       "      <td>0</td>\n",
       "      <td>0</td>\n",
       "      <td>0</td>\n",
       "      <td>0</td>\n",
       "      <td>0</td>\n",
       "      <td>0</td>\n",
       "      <td>0</td>\n",
       "      <td>...</td>\n",
       "      <td>0</td>\n",
       "      <td>0</td>\n",
       "      <td>0</td>\n",
       "      <td>0</td>\n",
       "      <td>0</td>\n",
       "      <td>0</td>\n",
       "      <td>2</td>\n",
       "      <td>0</td>\n",
       "      <td>0</td>\n",
       "      <td>0</td>\n",
       "    </tr>\n",
       "    <tr>\n",
       "      <th>1891-01-01</th>\n",
       "      <td>0</td>\n",
       "      <td>0</td>\n",
       "      <td>0</td>\n",
       "      <td>0</td>\n",
       "      <td>0</td>\n",
       "      <td>0</td>\n",
       "      <td>0</td>\n",
       "      <td>0</td>\n",
       "      <td>0</td>\n",
       "      <td>0</td>\n",
       "      <td>...</td>\n",
       "      <td>0</td>\n",
       "      <td>0</td>\n",
       "      <td>0</td>\n",
       "      <td>0</td>\n",
       "      <td>0</td>\n",
       "      <td>0</td>\n",
       "      <td>1</td>\n",
       "      <td>0</td>\n",
       "      <td>0</td>\n",
       "      <td>0</td>\n",
       "    </tr>\n",
       "    <tr>\n",
       "      <th>1892-10-28</th>\n",
       "      <td>0</td>\n",
       "      <td>0</td>\n",
       "      <td>2</td>\n",
       "      <td>0</td>\n",
       "      <td>0</td>\n",
       "      <td>0</td>\n",
       "      <td>0</td>\n",
       "      <td>0</td>\n",
       "      <td>0</td>\n",
       "      <td>0</td>\n",
       "      <td>...</td>\n",
       "      <td>0</td>\n",
       "      <td>0</td>\n",
       "      <td>0</td>\n",
       "      <td>0</td>\n",
       "      <td>0</td>\n",
       "      <td>0</td>\n",
       "      <td>2</td>\n",
       "      <td>0</td>\n",
       "      <td>0</td>\n",
       "      <td>0</td>\n",
       "    </tr>\n",
       "  </tbody>\n",
       "</table>\n",
       "<p>5 rows × 24 columns</p>\n",
       "</div>"
      ],
      "text/plain": [
       "              Other  action  animation  black and white  comedy  crime  \\\n",
       "release_date                                                             \n",
       "1888-01-01        0       0          0                1       0      0   \n",
       "1889-01-01        0       0          0                1       0      0   \n",
       "1890-01-01        0       0          0                0       0      0   \n",
       "1891-01-01        0       0          0                0       0      0   \n",
       "1892-10-28        0       0          2                0       0      0   \n",
       "\n",
       "              diversity  documentary  drama  erotic  ...  horror  musical  \\\n",
       "release_date                                         ...                    \n",
       "1888-01-01            0            0      0       0  ...       0        0   \n",
       "1889-01-01            0            0      0       0  ...       0        0   \n",
       "1890-01-01            0            0      0       0  ...       0        0   \n",
       "1891-01-01            0            0      0       0  ...       0        0   \n",
       "1892-10-28            0            0      0       0  ...       0        0   \n",
       "\n",
       "              propaganda  religious  romance  science-fiction  silent  \\\n",
       "release_date                                                            \n",
       "1888-01-01             0          0        0                0       1   \n",
       "1889-01-01             0          0        0                0       1   \n",
       "1890-01-01             0          0        0                0       2   \n",
       "1891-01-01             0          0        0                0       1   \n",
       "1892-10-28             0          0        0                0       2   \n",
       "\n",
       "              thriller  war  western  \n",
       "release_date                          \n",
       "1888-01-01           0    0        0  \n",
       "1889-01-01           0    0        0  \n",
       "1890-01-01           0    0        0  \n",
       "1891-01-01           0    0        0  \n",
       "1892-10-28           0    0        0  \n",
       "\n",
       "[5 rows x 24 columns]"
      ]
     },
     "execution_count": 79,
     "metadata": {},
     "output_type": "execute_result"
    }
   ],
   "source": [
    "genre_per_date.head()"
   ]
  },
  {
   "cell_type": "code",
   "execution_count": 80,
   "metadata": {},
   "outputs": [
    {
     "data": {
      "image/png": "[encoded data removed]",
      "text/plain": [
       "<Figure size 432x288 with 1 Axes>"
      ]
     },
     "metadata": {
      "needs_background": "light"
     },
     "output_type": "display_data"
    }
   ],
   "source": [
    "fig, ax = plt.subplots()\n",
    "n_top_genres = 20 \n",
    "sorted_genres = genre_per_date.sum(axis=0).sort_values(ascending=False)[:n_top_genres]\n",
    "\n",
    "ax.barh(sorted_genres.index, sorted_genres.values, align='center')\n",
    "ax.invert_yaxis()  # labels read top-to-bottom\n",
    "ax.set_xlabel('Count')\n",
    "ax.set_ylabel('Movie Genre')\n",
    "ax.set_title('Movie Genre - Bar Plot')\n",
    "\n",
    "plt.show()\n"
   ]
  },
  {
   "cell_type": "markdown",
   "metadata": {},
   "source": [
    "We can note that genre, comedy and experimental are part of the top three genres. But what about their evolution throughout time?"
   ]
  },
  {
   "cell_type": "code",
   "execution_count": 81,
   "metadata": {},
   "outputs": [],
   "source": [
    "# sample per period\n",
    "window = \"5Y\"\n",
    "\n",
    "# chose agg funct from aggfunct = [np.sum,np.cumsum]\n",
    "cumfunc = None\n",
    "\n",
    "# normalize every period (sum of the row = 1)\n",
    "normalize = True\n",
    "\n",
    "# study the pct_change\n",
    "pct_change_bool = True\n"
   ]
  },
  {
   "cell_type": "code",
   "execution_count": 82,
   "metadata": {},
   "outputs": [],
   "source": [
    "def plot_line(df):\n",
    "    \"\"\"function to create interactive plots using plotly_express\n",
    "\n",
    "    Args:\n",
    "        df (pd.dataframe): a dataframe having a datetime as index\n",
    "    \"\"\"\n",
    "    fig = px.line(df)\n",
    "\n",
    "    period = [1,3,5,10,20,30,50,100]\n",
    "    # Create the financial buttons\n",
    "    fin_buttons = [  {'count': y, 'label': str(y)+ \"YTD\", 'step': \"year\", 'stepmode': \"todate\"} for y in period ]\n",
    "\n",
    "    # Create the date range buttons & show the plot\n",
    "    fig.update_layout({'xaxis': {'rangeselector': {'buttons': fin_buttons}}})\n",
    "    fig.show()"
   ]
  },
  {
   "cell_type": "code",
   "execution_count": 83,
   "metadata": {},
   "outputs": [],
   "source": [
    "def genre_per_period(window:str,normalize:bool,pct_change_bool:bool,cumfunc=None):\n",
    "    \"\"\"\n",
    "        genre per period resamples on a certain time windows, and transforms the data to either normalize,\n",
    "        to mesure the change compared to previous year or to get the cumulative distribution\n",
    "    Args:\n",
    "        window (str): the time window we wish to sample the data\n",
    "        normalize (bool): normalization or not\n",
    "        pct_change_bool (bool): outputs the percentage of change of the data \n",
    "        cumfunc (_type_, optional): cumulative function or not. Defaults to None.\n",
    "\n",
    "    Returns:\n",
    "        DataFrame: the result is a newly sampled dataframe that has or not gone through the transformation functions.\n",
    "    \"\"\"\n",
    "    res = genre_per_date.resample(window).sum()\n",
    "    if not cumfunc==None:\n",
    "        res = res.apply(cumfunc)\n",
    "    \n",
    "    if normalize:\n",
    "        res = res.div(res.sum(axis=1), axis=0)\n",
    "\n",
    "    if pct_change_bool:\n",
    "        res = res.pct_change().fillna(0)\n",
    "    return res\n"
   ]
  },
  {
   "cell_type": "code",
   "execution_count": 84,
   "metadata": {},
   "outputs": [],
   "source": [
    "df= genre_per_period(window=window,cumfunc=cumfunc,normalize=normalize,pct_change_bool=pct_change_bool)"
   ]
  },
  {
   "cell_type": "code",
   "execution_count": 85,
   "metadata": {},
   "outputs": [
    {
     "data": {
      "text/html": [
       "<div>\n",
       "<style scoped>\n",
       "    .dataframe tbody tr th:only-of-type {\n",
       "        vertical-align: middle;\n",
       "    }\n",
       "\n",
       "    .dataframe tbody tr th {\n",
       "        vertical-align: top;\n",
       "    }\n",
       "\n",
       "    .dataframe thead th {\n",
       "        text-align: right;\n",
       "    }\n",
       "</style>\n",
       "<table border=\"1\" class=\"dataframe\">\n",
       "  <thead>\n",
       "    <tr style=\"text-align: right;\">\n",
       "      <th></th>\n",
       "      <th>Other</th>\n",
       "      <th>action</th>\n",
       "      <th>animation</th>\n",
       "      <th>black and white</th>\n",
       "      <th>comedy</th>\n",
       "      <th>crime</th>\n",
       "      <th>diversity</th>\n",
       "      <th>documentary</th>\n",
       "      <th>drama</th>\n",
       "      <th>erotic</th>\n",
       "      <th>...</th>\n",
       "      <th>propaganda</th>\n",
       "      <th>religious</th>\n",
       "      <th>romance</th>\n",
       "      <th>science-fiction</th>\n",
       "      <th>silent</th>\n",
       "      <th>thriller</th>\n",
       "      <th>war</th>\n",
       "      <th>western</th>\n",
       "      <th>max</th>\n",
       "      <th>name_max</th>\n",
       "    </tr>\n",
       "    <tr>\n",
       "      <th>release_date</th>\n",
       "      <th></th>\n",
       "      <th></th>\n",
       "      <th></th>\n",
       "      <th></th>\n",
       "      <th></th>\n",
       "      <th></th>\n",
       "      <th></th>\n",
       "      <th></th>\n",
       "      <th></th>\n",
       "      <th></th>\n",
       "      <th></th>\n",
       "      <th></th>\n",
       "      <th></th>\n",
       "      <th></th>\n",
       "      <th></th>\n",
       "      <th></th>\n",
       "      <th></th>\n",
       "      <th></th>\n",
       "      <th></th>\n",
       "      <th></th>\n",
       "      <th></th>\n",
       "    </tr>\n",
       "  </thead>\n",
       "  <tbody>\n",
       "    <tr>\n",
       "      <th>2018-12-31</th>\n",
       "      <td>23.858824</td>\n",
       "      <td>1.392075</td>\n",
       "      <td>7.340789</td>\n",
       "      <td>-1.000000</td>\n",
       "      <td>0.511085</td>\n",
       "      <td>-1.000000</td>\n",
       "      <td>-1.000000</td>\n",
       "      <td>-1.000000</td>\n",
       "      <td>-1.000000</td>\n",
       "      <td>-1.000000</td>\n",
       "      <td>...</td>\n",
       "      <td>0.000000</td>\n",
       "      <td>-1.000000</td>\n",
       "      <td>-1.000000</td>\n",
       "      <td>-1.000000</td>\n",
       "      <td>-1.000000</td>\n",
       "      <td>-1.000000</td>\n",
       "      <td>-1.000000</td>\n",
       "      <td>-1.000000</td>\n",
       "      <td>23.858824</td>\n",
       "      <td>Other</td>\n",
       "    </tr>\n",
       "    <tr>\n",
       "      <th>1943-12-31</th>\n",
       "      <td>0.262949</td>\n",
       "      <td>0.027630</td>\n",
       "      <td>0.010359</td>\n",
       "      <td>-0.020258</td>\n",
       "      <td>-0.114150</td>\n",
       "      <td>-0.046345</td>\n",
       "      <td>-0.747410</td>\n",
       "      <td>2.157373</td>\n",
       "      <td>0.025591</td>\n",
       "      <td>0.010359</td>\n",
       "      <td>...</td>\n",
       "      <td>4.809566</td>\n",
       "      <td>1.020719</td>\n",
       "      <td>-0.275440</td>\n",
       "      <td>0.010359</td>\n",
       "      <td>-1.000000</td>\n",
       "      <td>0.003091</td>\n",
       "      <td>3.877597</td>\n",
       "      <td>-0.152804</td>\n",
       "      <td>4.809566</td>\n",
       "      <td>propaganda</td>\n",
       "    </tr>\n",
       "    <tr>\n",
       "      <th>1968-12-31</th>\n",
       "      <td>-0.241838</td>\n",
       "      <td>0.209559</td>\n",
       "      <td>-0.131272</td>\n",
       "      <td>-0.391063</td>\n",
       "      <td>0.008261</td>\n",
       "      <td>0.203408</td>\n",
       "      <td>4.808065</td>\n",
       "      <td>1.042396</td>\n",
       "      <td>-0.144283</td>\n",
       "      <td>0.965806</td>\n",
       "      <td>...</td>\n",
       "      <td>-0.106452</td>\n",
       "      <td>1.680645</td>\n",
       "      <td>-0.100495</td>\n",
       "      <td>0.086748</td>\n",
       "      <td>0.787097</td>\n",
       "      <td>0.119192</td>\n",
       "      <td>-0.159013</td>\n",
       "      <td>0.605078</td>\n",
       "      <td>4.808065</td>\n",
       "      <td>diversity</td>\n",
       "    </tr>\n",
       "    <tr>\n",
       "      <th>1958-12-31</th>\n",
       "      <td>1.103069</td>\n",
       "      <td>0.000216</td>\n",
       "      <td>-0.076788</td>\n",
       "      <td>-0.298495</td>\n",
       "      <td>-0.207119</td>\n",
       "      <td>0.101464</td>\n",
       "      <td>-0.263926</td>\n",
       "      <td>0.034483</td>\n",
       "      <td>0.021400</td>\n",
       "      <td>-0.018568</td>\n",
       "      <td>...</td>\n",
       "      <td>-1.000000</td>\n",
       "      <td>0.570292</td>\n",
       "      <td>0.079576</td>\n",
       "      <td>1.476948</td>\n",
       "      <td>0.000000</td>\n",
       "      <td>-0.018568</td>\n",
       "      <td>0.450813</td>\n",
       "      <td>-0.027490</td>\n",
       "      <td>2.397266</td>\n",
       "      <td>horror</td>\n",
       "    </tr>\n",
       "    <tr>\n",
       "      <th>1903-12-31</th>\n",
       "      <td>-1.000000</td>\n",
       "      <td>0.000000</td>\n",
       "      <td>0.000000</td>\n",
       "      <td>0.036853</td>\n",
       "      <td>0.922892</td>\n",
       "      <td>0.000000</td>\n",
       "      <td>0.000000</td>\n",
       "      <td>-0.821954</td>\n",
       "      <td>2.204819</td>\n",
       "      <td>0.000000</td>\n",
       "      <td>...</td>\n",
       "      <td>0.000000</td>\n",
       "      <td>0.000000</td>\n",
       "      <td>0.000000</td>\n",
       "      <td>0.000000</td>\n",
       "      <td>-0.024620</td>\n",
       "      <td>0.000000</td>\n",
       "      <td>0.602410</td>\n",
       "      <td>-1.000000</td>\n",
       "      <td>2.204819</td>\n",
       "      <td>drama</td>\n",
       "    </tr>\n",
       "    <tr>\n",
       "      <th>2003-12-31</th>\n",
       "      <td>-0.207411</td>\n",
       "      <td>-0.144700</td>\n",
       "      <td>0.198186</td>\n",
       "      <td>-0.259287</td>\n",
       "      <td>0.064993</td>\n",
       "      <td>-0.027088</td>\n",
       "      <td>-0.021749</td>\n",
       "      <td>0.339587</td>\n",
       "      <td>-0.027174</td>\n",
       "      <td>-0.092988</td>\n",
       "      <td>...</td>\n",
       "      <td>0.000000</td>\n",
       "      <td>0.363943</td>\n",
       "      <td>0.055670</td>\n",
       "      <td>-0.150155</td>\n",
       "      <td>1.679173</td>\n",
       "      <td>0.033395</td>\n",
       "      <td>-0.121826</td>\n",
       "      <td>-0.330207</td>\n",
       "      <td>1.679173</td>\n",
       "      <td>silent</td>\n",
       "    </tr>\n",
       "    <tr>\n",
       "      <th>1938-12-31</th>\n",
       "      <td>-0.372637</td>\n",
       "      <td>0.595684</td>\n",
       "      <td>-0.197344</td>\n",
       "      <td>-0.094622</td>\n",
       "      <td>0.011546</td>\n",
       "      <td>0.294349</td>\n",
       "      <td>-0.163516</td>\n",
       "      <td>0.672968</td>\n",
       "      <td>-0.189317</td>\n",
       "      <td>-0.686318</td>\n",
       "      <td>...</td>\n",
       "      <td>1.509452</td>\n",
       "      <td>-0.372637</td>\n",
       "      <td>0.049787</td>\n",
       "      <td>0.882089</td>\n",
       "      <td>-0.963806</td>\n",
       "      <td>0.321265</td>\n",
       "      <td>-0.042446</td>\n",
       "      <td>1.149052</td>\n",
       "      <td>1.509452</td>\n",
       "      <td>propaganda</td>\n",
       "    </tr>\n",
       "    <tr>\n",
       "      <th>1973-12-31</th>\n",
       "      <td>0.999064</td>\n",
       "      <td>0.069537</td>\n",
       "      <td>-0.522804</td>\n",
       "      <td>-0.646729</td>\n",
       "      <td>-0.043137</td>\n",
       "      <td>0.005517</td>\n",
       "      <td>0.458374</td>\n",
       "      <td>-0.083091</td>\n",
       "      <td>0.191700</td>\n",
       "      <td>0.518351</td>\n",
       "      <td>...</td>\n",
       "      <td>-1.000000</td>\n",
       "      <td>0.375700</td>\n",
       "      <td>0.064231</td>\n",
       "      <td>-0.197508</td>\n",
       "      <td>-1.000000</td>\n",
       "      <td>0.215872</td>\n",
       "      <td>-0.322898</td>\n",
       "      <td>-0.190269</td>\n",
       "      <td>0.999064</td>\n",
       "      <td>Other</td>\n",
       "    </tr>\n",
       "    <tr>\n",
       "      <th>1978-12-31</th>\n",
       "      <td>0.204159</td>\n",
       "      <td>0.088817</td>\n",
       "      <td>0.934857</td>\n",
       "      <td>-0.318193</td>\n",
       "      <td>-0.107295</td>\n",
       "      <td>-0.114751</td>\n",
       "      <td>0.217512</td>\n",
       "      <td>0.211518</td>\n",
       "      <td>0.008030</td>\n",
       "      <td>0.464963</td>\n",
       "      <td>...</td>\n",
       "      <td>0.000000</td>\n",
       "      <td>0.054670</td>\n",
       "      <td>-0.235840</td>\n",
       "      <td>-0.053993</td>\n",
       "      <td>0.000000</td>\n",
       "      <td>-0.001786</td>\n",
       "      <td>-0.296887</td>\n",
       "      <td>-0.494522</td>\n",
       "      <td>0.934857</td>\n",
       "      <td>animation</td>\n",
       "    </tr>\n",
       "    <tr>\n",
       "      <th>1983-12-31</th>\n",
       "      <td>0.008069</td>\n",
       "      <td>-0.128946</td>\n",
       "      <td>-0.023819</td>\n",
       "      <td>-0.211546</td>\n",
       "      <td>0.078489</td>\n",
       "      <td>-0.190325</td>\n",
       "      <td>-0.074881</td>\n",
       "      <td>-0.057951</td>\n",
       "      <td>0.039364</td>\n",
       "      <td>-0.385105</td>\n",
       "      <td>...</td>\n",
       "      <td>0.000000</td>\n",
       "      <td>-0.299152</td>\n",
       "      <td>0.193549</td>\n",
       "      <td>0.420638</td>\n",
       "      <td>0.000000</td>\n",
       "      <td>-0.251855</td>\n",
       "      <td>0.497266</td>\n",
       "      <td>-0.413244</td>\n",
       "      <td>0.752120</td>\n",
       "      <td>fantasy</td>\n",
       "    </tr>\n",
       "    <tr>\n",
       "      <th>2013-12-31</th>\n",
       "      <td>0.104638</td>\n",
       "      <td>0.291654</td>\n",
       "      <td>0.230749</td>\n",
       "      <td>-0.374279</td>\n",
       "      <td>0.134002</td>\n",
       "      <td>-0.074095</td>\n",
       "      <td>-0.342105</td>\n",
       "      <td>-0.029234</td>\n",
       "      <td>0.073838</td>\n",
       "      <td>-0.461438</td>\n",
       "      <td>...</td>\n",
       "      <td>0.000000</td>\n",
       "      <td>-0.547974</td>\n",
       "      <td>0.043108</td>\n",
       "      <td>0.204272</td>\n",
       "      <td>-0.133617</td>\n",
       "      <td>0.179488</td>\n",
       "      <td>-0.265583</td>\n",
       "      <td>0.732765</td>\n",
       "      <td>0.732765</td>\n",
       "      <td>western</td>\n",
       "    </tr>\n",
       "    <tr>\n",
       "      <th>2008-12-31</th>\n",
       "      <td>-0.245407</td>\n",
       "      <td>-0.086070</td>\n",
       "      <td>-0.109838</td>\n",
       "      <td>-0.230556</td>\n",
       "      <td>-0.131894</td>\n",
       "      <td>-0.118283</td>\n",
       "      <td>0.128236</td>\n",
       "      <td>0.671736</td>\n",
       "      <td>-0.024098</td>\n",
       "      <td>-0.237571</td>\n",
       "      <td>...</td>\n",
       "      <td>0.000000</td>\n",
       "      <td>0.650336</td>\n",
       "      <td>-0.199941</td>\n",
       "      <td>0.135087</td>\n",
       "      <td>-0.665149</td>\n",
       "      <td>0.068112</td>\n",
       "      <td>0.713982</td>\n",
       "      <td>-0.464239</td>\n",
       "      <td>0.713982</td>\n",
       "      <td>war</td>\n",
       "    </tr>\n",
       "    <tr>\n",
       "      <th>1998-12-31</th>\n",
       "      <td>-0.353260</td>\n",
       "      <td>-0.182313</td>\n",
       "      <td>0.157873</td>\n",
       "      <td>0.232725</td>\n",
       "      <td>0.064669</td>\n",
       "      <td>-0.115162</td>\n",
       "      <td>0.554386</td>\n",
       "      <td>0.191987</td>\n",
       "      <td>-0.030018</td>\n",
       "      <td>0.276233</td>\n",
       "      <td>...</td>\n",
       "      <td>0.000000</td>\n",
       "      <td>0.185689</td>\n",
       "      <td>0.150658</td>\n",
       "      <td>-0.060999</td>\n",
       "      <td>-0.202354</td>\n",
       "      <td>-0.172812</td>\n",
       "      <td>-0.145380</td>\n",
       "      <td>-0.069413</td>\n",
       "      <td>0.554386</td>\n",
       "      <td>diversity</td>\n",
       "    </tr>\n",
       "    <tr>\n",
       "      <th>1988-12-31</th>\n",
       "      <td>-0.255762</td>\n",
       "      <td>0.171588</td>\n",
       "      <td>-0.070740</td>\n",
       "      <td>0.132535</td>\n",
       "      <td>-0.006799</td>\n",
       "      <td>0.162980</td>\n",
       "      <td>-0.210657</td>\n",
       "      <td>-0.146495</td>\n",
       "      <td>-0.088040</td>\n",
       "      <td>-0.001420</td>\n",
       "      <td>...</td>\n",
       "      <td>0.000000</td>\n",
       "      <td>-0.142019</td>\n",
       "      <td>0.170037</td>\n",
       "      <td>0.283540</td>\n",
       "      <td>0.000000</td>\n",
       "      <td>0.171588</td>\n",
       "      <td>-0.180719</td>\n",
       "      <td>-0.370814</td>\n",
       "      <td>0.283540</td>\n",
       "      <td>science-fiction</td>\n",
       "    </tr>\n",
       "    <tr>\n",
       "      <th>1993-12-31</th>\n",
       "      <td>-0.076535</td>\n",
       "      <td>-0.048041</td>\n",
       "      <td>-0.332672</td>\n",
       "      <td>0.754029</td>\n",
       "      <td>-0.037751</td>\n",
       "      <td>0.113529</td>\n",
       "      <td>0.460073</td>\n",
       "      <td>-0.017499</td>\n",
       "      <td>-0.011754</td>\n",
       "      <td>-0.369950</td>\n",
       "      <td>...</td>\n",
       "      <td>0.000000</td>\n",
       "      <td>0.274382</td>\n",
       "      <td>0.089215</td>\n",
       "      <td>-0.199713</td>\n",
       "      <td>0.000000</td>\n",
       "      <td>0.291603</td>\n",
       "      <td>-0.290885</td>\n",
       "      <td>0.291603</td>\n",
       "      <td>0.000000</td>\n",
       "      <td>silent</td>\n",
       "    </tr>\n",
       "    <tr>\n",
       "      <th>1888-12-31</th>\n",
       "      <td>0.000000</td>\n",
       "      <td>0.000000</td>\n",
       "      <td>0.000000</td>\n",
       "      <td>0.000000</td>\n",
       "      <td>0.000000</td>\n",
       "      <td>0.000000</td>\n",
       "      <td>0.000000</td>\n",
       "      <td>0.000000</td>\n",
       "      <td>0.000000</td>\n",
       "      <td>0.000000</td>\n",
       "      <td>...</td>\n",
       "      <td>0.000000</td>\n",
       "      <td>0.000000</td>\n",
       "      <td>0.000000</td>\n",
       "      <td>0.000000</td>\n",
       "      <td>0.000000</td>\n",
       "      <td>0.000000</td>\n",
       "      <td>0.000000</td>\n",
       "      <td>0.000000</td>\n",
       "      <td>0.000000</td>\n",
       "      <td>Other</td>\n",
       "    </tr>\n",
       "    <tr>\n",
       "      <th>1963-12-31</th>\n",
       "      <td>0.309973</td>\n",
       "      <td>-0.083075</td>\n",
       "      <td>-0.227534</td>\n",
       "      <td>-0.227070</td>\n",
       "      <td>0.074701</td>\n",
       "      <td>-0.053400</td>\n",
       "      <td>-0.206077</td>\n",
       "      <td>-0.145006</td>\n",
       "      <td>0.284084</td>\n",
       "      <td>10.908845</td>\n",
       "      <td>...</td>\n",
       "      <td>0.000000</td>\n",
       "      <td>0.042024</td>\n",
       "      <td>0.082622</td>\n",
       "      <td>-0.168628</td>\n",
       "      <td>0.000000</td>\n",
       "      <td>-0.033627</td>\n",
       "      <td>0.190884</td>\n",
       "      <td>-0.410021</td>\n",
       "      <td>0.000000</td>\n",
       "      <td>propaganda</td>\n",
       "    </tr>\n",
       "    <tr>\n",
       "      <th>1893-12-31</th>\n",
       "      <td>0.000000</td>\n",
       "      <td>0.000000</td>\n",
       "      <td>0.000000</td>\n",
       "      <td>-0.812500</td>\n",
       "      <td>0.000000</td>\n",
       "      <td>0.000000</td>\n",
       "      <td>0.000000</td>\n",
       "      <td>0.000000</td>\n",
       "      <td>0.000000</td>\n",
       "      <td>0.000000</td>\n",
       "      <td>...</td>\n",
       "      <td>0.000000</td>\n",
       "      <td>0.000000</td>\n",
       "      <td>0.000000</td>\n",
       "      <td>0.000000</td>\n",
       "      <td>0.125000</td>\n",
       "      <td>0.000000</td>\n",
       "      <td>0.000000</td>\n",
       "      <td>0.000000</td>\n",
       "      <td>0.000000</td>\n",
       "      <td>animation</td>\n",
       "    </tr>\n",
       "    <tr>\n",
       "      <th>1948-12-31</th>\n",
       "      <td>0.781871</td>\n",
       "      <td>-0.267358</td>\n",
       "      <td>0.316653</td>\n",
       "      <td>-0.207174</td>\n",
       "      <td>-0.070354</td>\n",
       "      <td>0.025092</td>\n",
       "      <td>0.272765</td>\n",
       "      <td>0.018212</td>\n",
       "      <td>0.121545</td>\n",
       "      <td>-1.000000</td>\n",
       "      <td>...</td>\n",
       "      <td>-0.003923</td>\n",
       "      <td>1.545529</td>\n",
       "      <td>0.039425</td>\n",
       "      <td>0.272765</td>\n",
       "      <td>0.000000</td>\n",
       "      <td>0.401886</td>\n",
       "      <td>-0.272706</td>\n",
       "      <td>-0.104351</td>\n",
       "      <td>0.000000</td>\n",
       "      <td>silent</td>\n",
       "    </tr>\n",
       "    <tr>\n",
       "      <th>1933-12-31</th>\n",
       "      <td>4.818182</td>\n",
       "      <td>0.194805</td>\n",
       "      <td>3.945455</td>\n",
       "      <td>0.014043</td>\n",
       "      <td>0.329004</td>\n",
       "      <td>1.763636</td>\n",
       "      <td>1.181818</td>\n",
       "      <td>0.454545</td>\n",
       "      <td>0.325444</td>\n",
       "      <td>0.454545</td>\n",
       "      <td>...</td>\n",
       "      <td>-0.272727</td>\n",
       "      <td>0.000000</td>\n",
       "      <td>0.678322</td>\n",
       "      <td>1.181818</td>\n",
       "      <td>-0.897233</td>\n",
       "      <td>7.000000</td>\n",
       "      <td>0.535354</td>\n",
       "      <td>0.709091</td>\n",
       "      <td>0.000000</td>\n",
       "      <td>religious</td>\n",
       "    </tr>\n",
       "    <tr>\n",
       "      <th>1928-12-31</th>\n",
       "      <td>-0.240169</td>\n",
       "      <td>-0.074988</td>\n",
       "      <td>2.799157</td>\n",
       "      <td>-0.161800</td>\n",
       "      <td>0.181960</td>\n",
       "      <td>0.266386</td>\n",
       "      <td>0.000000</td>\n",
       "      <td>-0.620084</td>\n",
       "      <td>0.097534</td>\n",
       "      <td>0.000000</td>\n",
       "      <td>...</td>\n",
       "      <td>0.000000</td>\n",
       "      <td>0.000000</td>\n",
       "      <td>0.266386</td>\n",
       "      <td>-0.240169</td>\n",
       "      <td>-0.042404</td>\n",
       "      <td>-0.348716</td>\n",
       "      <td>2.419242</td>\n",
       "      <td>-0.509786</td>\n",
       "      <td>0.000000</td>\n",
       "      <td>diversity</td>\n",
       "    </tr>\n",
       "    <tr>\n",
       "      <th>1923-12-31</th>\n",
       "      <td>-0.498614</td>\n",
       "      <td>0.397804</td>\n",
       "      <td>-0.331485</td>\n",
       "      <td>-0.031955</td>\n",
       "      <td>-0.310195</td>\n",
       "      <td>4.013863</td>\n",
       "      <td>-1.000000</td>\n",
       "      <td>1.005545</td>\n",
       "      <td>0.504159</td>\n",
       "      <td>0.000000</td>\n",
       "      <td>...</td>\n",
       "      <td>-1.000000</td>\n",
       "      <td>-1.000000</td>\n",
       "      <td>1.300478</td>\n",
       "      <td>0.000000</td>\n",
       "      <td>0.042027</td>\n",
       "      <td>1.339803</td>\n",
       "      <td>-0.713494</td>\n",
       "      <td>0.195614</td>\n",
       "      <td>0.000000</td>\n",
       "      <td>family</td>\n",
       "    </tr>\n",
       "    <tr>\n",
       "      <th>1918-12-31</th>\n",
       "      <td>0.000000</td>\n",
       "      <td>4.910599</td>\n",
       "      <td>0.611982</td>\n",
       "      <td>0.017398</td>\n",
       "      <td>1.721302</td>\n",
       "      <td>-0.462673</td>\n",
       "      <td>-0.462673</td>\n",
       "      <td>-0.462673</td>\n",
       "      <td>-0.554133</td>\n",
       "      <td>-1.000000</td>\n",
       "      <td>...</td>\n",
       "      <td>0.000000</td>\n",
       "      <td>-0.462673</td>\n",
       "      <td>0.522427</td>\n",
       "      <td>0.000000</td>\n",
       "      <td>0.006593</td>\n",
       "      <td>-0.597005</td>\n",
       "      <td>0.880645</td>\n",
       "      <td>0.746313</td>\n",
       "      <td>0.000000</td>\n",
       "      <td>Other</td>\n",
       "    </tr>\n",
       "    <tr>\n",
       "      <th>1913-12-31</th>\n",
       "      <td>0.000000</td>\n",
       "      <td>-0.593482</td>\n",
       "      <td>-0.864494</td>\n",
       "      <td>0.502885</td>\n",
       "      <td>-0.399902</td>\n",
       "      <td>-0.796741</td>\n",
       "      <td>0.000000</td>\n",
       "      <td>0.000000</td>\n",
       "      <td>1.122927</td>\n",
       "      <td>0.000000</td>\n",
       "      <td>...</td>\n",
       "      <td>0.000000</td>\n",
       "      <td>0.000000</td>\n",
       "      <td>0.000000</td>\n",
       "      <td>0.000000</td>\n",
       "      <td>-0.116265</td>\n",
       "      <td>0.000000</td>\n",
       "      <td>0.000000</td>\n",
       "      <td>0.000000</td>\n",
       "      <td>0.000000</td>\n",
       "      <td>diversity</td>\n",
       "    </tr>\n",
       "    <tr>\n",
       "      <th>1908-12-31</th>\n",
       "      <td>0.000000</td>\n",
       "      <td>0.000000</td>\n",
       "      <td>0.000000</td>\n",
       "      <td>0.050633</td>\n",
       "      <td>0.225738</td>\n",
       "      <td>0.000000</td>\n",
       "      <td>0.000000</td>\n",
       "      <td>-1.000000</td>\n",
       "      <td>2.151899</td>\n",
       "      <td>0.000000</td>\n",
       "      <td>...</td>\n",
       "      <td>0.000000</td>\n",
       "      <td>0.000000</td>\n",
       "      <td>0.000000</td>\n",
       "      <td>0.000000</td>\n",
       "      <td>-0.136980</td>\n",
       "      <td>0.000000</td>\n",
       "      <td>-1.000000</td>\n",
       "      <td>0.000000</td>\n",
       "      <td>0.000000</td>\n",
       "      <td>action</td>\n",
       "    </tr>\n",
       "    <tr>\n",
       "      <th>1898-12-31</th>\n",
       "      <td>0.000000</td>\n",
       "      <td>0.000000</td>\n",
       "      <td>-1.000000</td>\n",
       "      <td>1.045113</td>\n",
       "      <td>0.000000</td>\n",
       "      <td>0.000000</td>\n",
       "      <td>0.000000</td>\n",
       "      <td>0.000000</td>\n",
       "      <td>0.000000</td>\n",
       "      <td>0.000000</td>\n",
       "      <td>...</td>\n",
       "      <td>0.000000</td>\n",
       "      <td>0.000000</td>\n",
       "      <td>0.000000</td>\n",
       "      <td>0.000000</td>\n",
       "      <td>-0.077694</td>\n",
       "      <td>0.000000</td>\n",
       "      <td>0.000000</td>\n",
       "      <td>0.000000</td>\n",
       "      <td>0.000000</td>\n",
       "      <td>Other</td>\n",
       "    </tr>\n",
       "    <tr>\n",
       "      <th>1953-12-31</th>\n",
       "      <td>-0.062934</td>\n",
       "      <td>0.429538</td>\n",
       "      <td>0.228597</td>\n",
       "      <td>-0.088006</td>\n",
       "      <td>0.200153</td>\n",
       "      <td>-0.125825</td>\n",
       "      <td>2.748263</td>\n",
       "      <td>-0.133214</td>\n",
       "      <td>0.163435</td>\n",
       "      <td>0.000000</td>\n",
       "      <td>...</td>\n",
       "      <td>-0.921911</td>\n",
       "      <td>0.171332</td>\n",
       "      <td>-0.043811</td>\n",
       "      <td>1.186486</td>\n",
       "      <td>-1.000000</td>\n",
       "      <td>-0.247882</td>\n",
       "      <td>-0.461187</td>\n",
       "      <td>0.085023</td>\n",
       "      <td>0.000000</td>\n",
       "      <td>erotic</td>\n",
       "    </tr>\n",
       "  </tbody>\n",
       "</table>\n",
       "<p>27 rows × 26 columns</p>\n",
       "</div>"
      ],
      "text/plain": [
       "                  Other    action  animation  black and white    comedy  \\\n",
       "release_date                                                              \n",
       "2018-12-31    23.858824  1.392075   7.340789        -1.000000  0.511085   \n",
       "1943-12-31     0.262949  0.027630   0.010359        -0.020258 -0.114150   \n",
       "1968-12-31    -0.241838  0.209559  -0.131272        -0.391063  0.008261   \n",
       "1958-12-31     1.103069  0.000216  -0.076788        -0.298495 -0.207119   \n",
       "1903-12-31    -1.000000  0.000000   0.000000         0.036853  0.922892   \n",
       "2003-12-31    -0.207411 -0.144700   0.198186        -0.259287  0.064993   \n",
       "1938-12-31    -0.372637  0.595684  -0.197344        -0.094622  0.011546   \n",
       "1973-12-31     0.999064  0.069537  -0.522804        -0.646729 -0.043137   \n",
       "1978-12-31     0.204159  0.088817   0.934857        -0.318193 -0.107295   \n",
       "1983-12-31     0.008069 -0.128946  -0.023819        -0.211546  0.078489   \n",
       "2013-12-31     0.104638  0.291654   0.230749        -0.374279  0.134002   \n",
       "2008-12-31    -0.245407 -0.086070  -0.109838        -0.230556 -0.131894   \n",
       "1998-12-31    -0.353260 -0.182313   0.157873         0.232725  0.064669   \n",
       "1988-12-31    -0.255762  0.171588  -0.070740         0.132535 -0.006799   \n",
       "1993-12-31    -0.076535 -0.048041  -0.332672         0.754029 -0.037751   \n",
       "1888-12-31     0.000000  0.000000   0.000000         0.000000  0.000000   \n",
       "1963-12-31     0.309973 -0.083075  -0.227534        -0.227070  0.074701   \n",
       "1893-12-31     0.000000  0.000000   0.000000        -0.812500  0.000000   \n",
       "1948-12-31     0.781871 -0.267358   0.316653        -0.207174 -0.070354   \n",
       "1933-12-31     4.818182  0.194805   3.945455         0.014043  0.329004   \n",
       "1928-12-31    -0.240169 -0.074988   2.799157        -0.161800  0.181960   \n",
       "1923-12-31    -0.498614  0.397804  -0.331485        -0.031955 -0.310195   \n",
       "1918-12-31     0.000000  4.910599   0.611982         0.017398  1.721302   \n",
       "1913-12-31     0.000000 -0.593482  -0.864494         0.502885 -0.399902   \n",
       "1908-12-31     0.000000  0.000000   0.000000         0.050633  0.225738   \n",
       "1898-12-31     0.000000  0.000000  -1.000000         1.045113  0.000000   \n",
       "1953-12-31    -0.062934  0.429538   0.228597        -0.088006  0.200153   \n",
       "\n",
       "                 crime  diversity  documentary     drama     erotic  ...  \\\n",
       "release_date                                                         ...   \n",
       "2018-12-31   -1.000000  -1.000000    -1.000000 -1.000000  -1.000000  ...   \n",
       "1943-12-31   -0.046345  -0.747410     2.157373  0.025591   0.010359  ...   \n",
       "1968-12-31    0.203408   4.808065     1.042396 -0.144283   0.965806  ...   \n",
       "1958-12-31    0.101464  -0.263926     0.034483  0.021400  -0.018568  ...   \n",
       "1903-12-31    0.000000   0.000000    -0.821954  2.204819   0.000000  ...   \n",
       "2003-12-31   -0.027088  -0.021749     0.339587 -0.027174  -0.092988  ...   \n",
       "1938-12-31    0.294349  -0.163516     0.672968 -0.189317  -0.686318  ...   \n",
       "1973-12-31    0.005517   0.458374    -0.083091  0.191700   0.518351  ...   \n",
       "1978-12-31   -0.114751   0.217512     0.211518  0.008030   0.464963  ...   \n",
       "1983-12-31   -0.190325  -0.074881    -0.057951  0.039364  -0.385105  ...   \n",
       "2013-12-31   -0.074095  -0.342105    -0.029234  0.073838  -0.461438  ...   \n",
       "2008-12-31   -0.118283   0.128236     0.671736 -0.024098  -0.237571  ...   \n",
       "1998-12-31   -0.115162   0.554386     0.191987 -0.030018   0.276233  ...   \n",
       "1988-12-31    0.162980  -0.210657    -0.146495 -0.088040  -0.001420  ...   \n",
       "1993-12-31    0.113529   0.460073    -0.017499 -0.011754  -0.369950  ...   \n",
       "1888-12-31    0.000000   0.000000     0.000000  0.000000   0.000000  ...   \n",
       "1963-12-31   -0.053400  -0.206077    -0.145006  0.284084  10.908845  ...   \n",
       "1893-12-31    0.000000   0.000000     0.000000  0.000000   0.000000  ...   \n",
       "1948-12-31    0.025092   0.272765     0.018212  0.121545  -1.000000  ...   \n",
       "1933-12-31    1.763636   1.181818     0.454545  0.325444   0.454545  ...   \n",
       "1928-12-31    0.266386   0.000000    -0.620084  0.097534   0.000000  ...   \n",
       "1923-12-31    4.013863  -1.000000     1.005545  0.504159   0.000000  ...   \n",
       "1918-12-31   -0.462673  -0.462673    -0.462673 -0.554133  -1.000000  ...   \n",
       "1913-12-31   -0.796741   0.000000     0.000000  1.122927   0.000000  ...   \n",
       "1908-12-31    0.000000   0.000000    -1.000000  2.151899   0.000000  ...   \n",
       "1898-12-31    0.000000   0.000000     0.000000  0.000000   0.000000  ...   \n",
       "1953-12-31   -0.125825   2.748263    -0.133214  0.163435   0.000000  ...   \n",
       "\n",
       "              propaganda  religious   romance  science-fiction    silent  \\\n",
       "release_date                                                               \n",
       "2018-12-31      0.000000  -1.000000 -1.000000        -1.000000 -1.000000   \n",
       "1943-12-31      4.809566   1.020719 -0.275440         0.010359 -1.000000   \n",
       "1968-12-31     -0.106452   1.680645 -0.100495         0.086748  0.787097   \n",
       "1958-12-31     -1.000000   0.570292  0.079576         1.476948  0.000000   \n",
       "1903-12-31      0.000000   0.000000  0.000000         0.000000 -0.024620   \n",
       "2003-12-31      0.000000   0.363943  0.055670        -0.150155  1.679173   \n",
       "1938-12-31      1.509452  -0.372637  0.049787         0.882089 -0.963806   \n",
       "1973-12-31     -1.000000   0.375700  0.064231        -0.197508 -1.000000   \n",
       "1978-12-31      0.000000   0.054670 -0.235840        -0.053993  0.000000   \n",
       "1983-12-31      0.000000  -0.299152  0.193549         0.420638  0.000000   \n",
       "2013-12-31      0.000000  -0.547974  0.043108         0.204272 -0.133617   \n",
       "2008-12-31      0.000000   0.650336 -0.199941         0.135087 -0.665149   \n",
       "1998-12-31      0.000000   0.185689  0.150658        -0.060999 -0.202354   \n",
       "1988-12-31      0.000000  -0.142019  0.170037         0.283540  0.000000   \n",
       "1993-12-31      0.000000   0.274382  0.089215        -0.199713  0.000000   \n",
       "1888-12-31      0.000000   0.000000  0.000000         0.000000  0.000000   \n",
       "1963-12-31      0.000000   0.042024  0.082622        -0.168628  0.000000   \n",
       "1893-12-31      0.000000   0.000000  0.000000         0.000000  0.125000   \n",
       "1948-12-31     -0.003923   1.545529  0.039425         0.272765  0.000000   \n",
       "1933-12-31     -0.272727   0.000000  0.678322         1.181818 -0.897233   \n",
       "1928-12-31      0.000000   0.000000  0.266386        -0.240169 -0.042404   \n",
       "1923-12-31     -1.000000  -1.000000  1.300478         0.000000  0.042027   \n",
       "1918-12-31      0.000000  -0.462673  0.522427         0.000000  0.006593   \n",
       "1913-12-31      0.000000   0.000000  0.000000         0.000000 -0.116265   \n",
       "1908-12-31      0.000000   0.000000  0.000000         0.000000 -0.136980   \n",
       "1898-12-31      0.000000   0.000000  0.000000         0.000000 -0.077694   \n",
       "1953-12-31     -0.921911   0.171332 -0.043811         1.186486 -1.000000   \n",
       "\n",
       "              thriller       war   western        max         name_max  \n",
       "release_date                                                            \n",
       "2018-12-31   -1.000000 -1.000000 -1.000000  23.858824            Other  \n",
       "1943-12-31    0.003091  3.877597 -0.152804   4.809566       propaganda  \n",
       "1968-12-31    0.119192 -0.159013  0.605078   4.808065        diversity  \n",
       "1958-12-31   -0.018568  0.450813 -0.027490   2.397266           horror  \n",
       "1903-12-31    0.000000  0.602410 -1.000000   2.204819            drama  \n",
       "2003-12-31    0.033395 -0.121826 -0.330207   1.679173           silent  \n",
       "1938-12-31    0.321265 -0.042446  1.149052   1.509452       propaganda  \n",
       "1973-12-31    0.215872 -0.322898 -0.190269   0.999064            Other  \n",
       "1978-12-31   -0.001786 -0.296887 -0.494522   0.934857        animation  \n",
       "1983-12-31   -0.251855  0.497266 -0.413244   0.752120          fantasy  \n",
       "2013-12-31    0.179488 -0.265583  0.732765   0.732765          western  \n",
       "2008-12-31    0.068112  0.713982 -0.464239   0.713982              war  \n",
       "1998-12-31   -0.172812 -0.145380 -0.069413   0.554386        diversity  \n",
       "1988-12-31    0.171588 -0.180719 -0.370814   0.283540  science-fiction  \n",
       "1993-12-31    0.291603 -0.290885  0.291603   0.000000           silent  \n",
       "1888-12-31    0.000000  0.000000  0.000000   0.000000            Other  \n",
       "1963-12-31   -0.033627  0.190884 -0.410021   0.000000       propaganda  \n",
       "1893-12-31    0.000000  0.000000  0.000000   0.000000        animation  \n",
       "1948-12-31    0.401886 -0.272706 -0.104351   0.000000           silent  \n",
       "1933-12-31    7.000000  0.535354  0.709091   0.000000        religious  \n",
       "1928-12-31   -0.348716  2.419242 -0.509786   0.000000        diversity  \n",
       "1923-12-31    1.339803 -0.713494  0.195614   0.000000           family  \n",
       "1918-12-31   -0.597005  0.880645  0.746313   0.000000            Other  \n",
       "1913-12-31    0.000000  0.000000  0.000000   0.000000        diversity  \n",
       "1908-12-31    0.000000 -1.000000  0.000000   0.000000           action  \n",
       "1898-12-31    0.000000  0.000000  0.000000   0.000000            Other  \n",
       "1953-12-31   -0.247882 -0.461187  0.085023   0.000000           erotic  \n",
       "\n",
       "[27 rows x 26 columns]"
      ]
     },
     "execution_count": 85,
     "metadata": {},
     "output_type": "execute_result"
    }
   ],
   "source": [
    "df[\"max\"] = df.max(axis=1)\n",
    "df[\"name_max\"] = df.idxmax(axis=1)\n",
    "df.replace([np.inf, -np.inf], 0, inplace=True)\n",
    "df.sort_values(by=\"max\",ascending=False)\n"
   ]
  },
  {
   "cell_type": "markdown",
   "metadata": {},
   "source": [
    "We here have a dataframe (df) that represents the percentage evolution of the normalized data per genre sampled every 5 years and under, an interactive visualisation of this."
   ]
  },
  {
   "cell_type": "code",
   "execution_count": 86,
   "metadata": {},
   "outputs": [
    {
     "data": {
      "application/vnd.plotly.v1+json": {
       "config": {
        "plotlyServerURL": "https://plot.ly"
       },
       "data": [
        {
         "hovertemplate": "variable=Other<br>release_date=%{x}<br>value=%{y}<extra></extra>",
         "legendgroup": "Other",
         "line": {
          "color": "#636efa",
          "dash": "solid"
         },
         "marker": {
          "symbol": "circle"
         },
         "mode": "lines",
         "name": "Other",
         "orientation": "v",
         "showlegend": true,
         "type": "scatter",
         "x": [
          "1888-12-31T00:00:00",
          "1893-12-31T00:00:00",
          "1898-12-31T00:00:00",
          "1903-12-31T00:00:00",
          "1908-12-31T00:00:00",
          "1913-12-31T00:00:00",
          "1918-12-31T00:00:00",
          "1923-12-31T00:00:00",
          "1928-12-31T00:00:00",
          "1933-12-31T00:00:00",
          "1938-12-31T00:00:00",
          "1943-12-31T00:00:00",
          "1948-12-31T00:00:00",
          "1953-12-31T00:00:00",
          "1958-12-31T00:00:00",
          "1963-12-31T00:00:00",
          "1968-12-31T00:00:00",
          "1973-12-31T00:00:00",
          "1978-12-31T00:00:00",
          "1983-12-31T00:00:00",
          "1988-12-31T00:00:00",
          "1993-12-31T00:00:00",
          "1998-12-31T00:00:00",
          "2003-12-31T00:00:00",
          "2008-12-31T00:00:00",
          "2013-12-31T00:00:00",
          "2018-12-31T00:00:00"
         ],
         "xaxis": "x",
         "y": [
          0,
          0,
          null,
          -1,
          0,
          0,
          null,
          -0.49861367837338266,
          -0.2401685393258427,
          4.818181818181818,
          -0.37263697532842044,
          0.2629491744901262,
          0.7818706221672846,
          -0.06293436293436283,
          1.1030693444486546,
          0.3099729241877256,
          -0.2418377321603129,
          0.9990639138800772,
          0.20415896044003556,
          0.008069056108087835,
          -0.25576241134751765,
          -0.07653501493528059,
          -0.353260303128377,
          -0.20741118361428312,
          -0.24540689145799777,
          0.10463795551348798,
          23.858823529411765
         ],
         "yaxis": "y"
        },
        {
         "hovertemplate": "variable=action<br>release_date=%{x}<br>value=%{y}<extra></extra>",
         "legendgroup": "action",
         "line": {
          "color": "#EF553B",
          "dash": "solid"
         },
         "marker": {
          "symbol": "circle"
         },
         "mode": "lines",
         "name": "action",
         "orientation": "v",
         "showlegend": true,
         "type": "scatter",
         "x": [
          "1888-12-31T00:00:00",
          "1893-12-31T00:00:00",
          "1898-12-31T00:00:00",
          "1903-12-31T00:00:00",
          "1908-12-31T00:00:00",
          "1913-12-31T00:00:00",
          "1918-12-31T00:00:00",
          "1923-12-31T00:00:00",
          "1928-12-31T00:00:00",
          "1933-12-31T00:00:00",
          "1938-12-31T00:00:00",
          "1943-12-31T00:00:00",
          "1948-12-31T00:00:00",
          "1953-12-31T00:00:00",
          "1958-12-31T00:00:00",
          "1963-12-31T00:00:00",
          "1968-12-31T00:00:00",
          "1973-12-31T00:00:00",
          "1978-12-31T00:00:00",
          "1983-12-31T00:00:00",
          "1988-12-31T00:00:00",
          "1993-12-31T00:00:00",
          "1998-12-31T00:00:00",
          "2003-12-31T00:00:00",
          "2008-12-31T00:00:00",
          "2013-12-31T00:00:00",
          "2018-12-31T00:00:00"
         ],
         "xaxis": "x",
         "y": [
          0,
          0,
          0,
          0,
          null,
          -0.5934819897084047,
          4.910599078341013,
          0.397804290595418,
          -0.07498778700537367,
          0.19480519480519498,
          0.5956842149255395,
          0.02763043941418819,
          -0.2673581175362605,
          0.42953808866217624,
          0.00021575520668082326,
          -0.0830748631379129,
          0.2095594020456335,
          0.06953695595850662,
          0.08881710262196041,
          -0.12894604417109312,
          0.17158840792369778,
          -0.048040712468193414,
          -0.18231302646783754,
          -0.14470013807589366,
          -0.08606970459911678,
          0.29165354826871526,
          1.3920754716981136
         ],
         "yaxis": "y"
        },
        {
         "hovertemplate": "variable=animation<br>release_date=%{x}<br>value=%{y}<extra></extra>",
         "legendgroup": "animation",
         "line": {
          "color": "#00cc96",
          "dash": "solid"
         },
         "marker": {
          "symbol": "circle"
         },
         "mode": "lines",
         "name": "animation",
         "orientation": "v",
         "showlegend": true,
         "type": "scatter",
         "x": [
          "1888-12-31T00:00:00",
          "1893-12-31T00:00:00",
          "1898-12-31T00:00:00",
          "1903-12-31T00:00:00",
          "1908-12-31T00:00:00",
          "1913-12-31T00:00:00",
          "1918-12-31T00:00:00",
          "1923-12-31T00:00:00",
          "1928-12-31T00:00:00",
          "1933-12-31T00:00:00",
          "1938-12-31T00:00:00",
          "1943-12-31T00:00:00",
          "1948-12-31T00:00:00",
          "1953-12-31T00:00:00",
          "1958-12-31T00:00:00",
          "1963-12-31T00:00:00",
          "1968-12-31T00:00:00",
          "1973-12-31T00:00:00",
          "1978-12-31T00:00:00",
          "1983-12-31T00:00:00",
          "1988-12-31T00:00:00",
          "1993-12-31T00:00:00",
          "1998-12-31T00:00:00",
          "2003-12-31T00:00:00",
          "2008-12-31T00:00:00",
          "2013-12-31T00:00:00",
          "2018-12-31T00:00:00"
         ],
         "xaxis": "x",
         "y": [
          0,
          null,
          -1,
          0,
          null,
          -0.8644939965694682,
          0.6119815668202766,
          -0.3314849044978435,
          2.7991573033707864,
          3.9454545454545453,
          -0.19734436549371426,
          0.010359339592100891,
          0.31665316908912655,
          0.2285971685971686,
          -0.07678820303016676,
          -0.22753439359937566,
          -0.13127240143369168,
          -0.5228040979770139,
          0.9348574188484835,
          -0.02381884260553535,
          -0.07074013456992179,
          -0.3326717557251909,
          0.15787268310887348,
          0.19818591021690546,
          -0.10983791217490835,
          0.23074927057394312,
          7.340789473684211
         ],
         "yaxis": "y"
        },
        {
         "hovertemplate": "variable=black and white<br>release_date=%{x}<br>value=%{y}<extra></extra>",
         "legendgroup": "black and white",
         "line": {
          "color": "#ab63fa",
          "dash": "solid"
         },
         "marker": {
          "symbol": "circle"
         },
         "mode": "lines",
         "name": "black and white",
         "orientation": "v",
         "showlegend": true,
         "type": "scatter",
         "x": [
          "1888-12-31T00:00:00",
          "1893-12-31T00:00:00",
          "1898-12-31T00:00:00",
          "1903-12-31T00:00:00",
          "1908-12-31T00:00:00",
          "1913-12-31T00:00:00",
          "1918-12-31T00:00:00",
          "1923-12-31T00:00:00",
          "1928-12-31T00:00:00",
          "1933-12-31T00:00:00",
          "1938-12-31T00:00:00",
          "1943-12-31T00:00:00",
          "1948-12-31T00:00:00",
          "1953-12-31T00:00:00",
          "1958-12-31T00:00:00",
          "1963-12-31T00:00:00",
          "1968-12-31T00:00:00",
          "1973-12-31T00:00:00",
          "1978-12-31T00:00:00",
          "1983-12-31T00:00:00",
          "1988-12-31T00:00:00",
          "1993-12-31T00:00:00",
          "1998-12-31T00:00:00",
          "2003-12-31T00:00:00",
          "2008-12-31T00:00:00",
          "2013-12-31T00:00:00",
          "2018-12-31T00:00:00"
         ],
         "xaxis": "x",
         "y": [
          0,
          -0.8125,
          1.045112781954887,
          0.03685329553508154,
          0.05063291139240489,
          0.5028847653204429,
          0.017398202009518693,
          -0.0319554136559681,
          -0.1618002720814229,
          0.014042867701404171,
          -0.09462187401623345,
          -0.020257610092508038,
          -0.20717363686306833,
          -0.0880063532237445,
          -0.2984950823557293,
          -0.2270701714801444,
          -0.39106332138590205,
          -0.646729238220351,
          -0.31819310002482015,
          -0.21154598825831694,
          0.1325354609929077,
          0.7540288379983038,
          0.23272505858257841,
          -0.25928733646802926,
          -0.23055585687499025,
          -0.3742791537396365,
          -1
         ],
         "yaxis": "y"
        },
        {
         "hovertemplate": "variable=comedy<br>release_date=%{x}<br>value=%{y}<extra></extra>",
         "legendgroup": "comedy",
         "line": {
          "color": "#FFA15A",
          "dash": "solid"
         },
         "marker": {
          "symbol": "circle"
         },
         "mode": "lines",
         "name": "comedy",
         "orientation": "v",
         "showlegend": true,
         "type": "scatter",
         "x": [
          "1888-12-31T00:00:00",
          "1893-12-31T00:00:00",
          "1898-12-31T00:00:00",
          "1903-12-31T00:00:00",
          "1908-12-31T00:00:00",
          "1913-12-31T00:00:00",
          "1918-12-31T00:00:00",
          "1923-12-31T00:00:00",
          "1928-12-31T00:00:00",
          "1933-12-31T00:00:00",
          "1938-12-31T00:00:00",
          "1943-12-31T00:00:00",
          "1948-12-31T00:00:00",
          "1953-12-31T00:00:00",
          "1958-12-31T00:00:00",
          "1963-12-31T00:00:00",
          "1968-12-31T00:00:00",
          "1973-12-31T00:00:00",
          "1978-12-31T00:00:00",
          "1983-12-31T00:00:00",
          "1988-12-31T00:00:00",
          "1993-12-31T00:00:00",
          "1998-12-31T00:00:00",
          "2003-12-31T00:00:00",
          "2008-12-31T00:00:00",
          "2013-12-31T00:00:00",
          "2018-12-31T00:00:00"
         ],
         "xaxis": "x",
         "y": [
          0,
          0,
          null,
          0.9228915662650603,
          0.2257383966244726,
          -0.39990198480764527,
          1.7213022149546604,
          -0.3101946148321697,
          0.18196004993757797,
          0.3290043290043292,
          0.011546244991634813,
          -0.11414958912530937,
          -0.07035387223991252,
          0.20015346576860793,
          -0.2071186839320014,
          0.07470062516509657,
          0.008260680034873458,
          -0.04313687877248784,
          -0.10729520299859907,
          0.07848941411915211,
          -0.006798554712844296,
          -0.0377505629084518,
          0.06466862545089636,
          0.06499298864019853,
          -0.13189365614623216,
          0.1340017064951411,
          0.5110846245530394
         ],
         "yaxis": "y"
        },
        {
         "hovertemplate": "variable=crime<br>release_date=%{x}<br>value=%{y}<extra></extra>",
         "legendgroup": "crime",
         "line": {
          "color": "#19d3f3",
          "dash": "solid"
         },
         "marker": {
          "symbol": "circle"
         },
         "mode": "lines",
         "name": "crime",
         "orientation": "v",
         "showlegend": true,
         "type": "scatter",
         "x": [
          "1888-12-31T00:00:00",
          "1893-12-31T00:00:00",
          "1898-12-31T00:00:00",
          "1903-12-31T00:00:00",
          "1908-12-31T00:00:00",
          "1913-12-31T00:00:00",
          "1918-12-31T00:00:00",
          "1923-12-31T00:00:00",
          "1928-12-31T00:00:00",
          "1933-12-31T00:00:00",
          "1938-12-31T00:00:00",
          "1943-12-31T00:00:00",
          "1948-12-31T00:00:00",
          "1953-12-31T00:00:00",
          "1958-12-31T00:00:00",
          "1963-12-31T00:00:00",
          "1968-12-31T00:00:00",
          "1973-12-31T00:00:00",
          "1978-12-31T00:00:00",
          "1983-12-31T00:00:00",
          "1988-12-31T00:00:00",
          "1993-12-31T00:00:00",
          "1998-12-31T00:00:00",
          "2003-12-31T00:00:00",
          "2008-12-31T00:00:00",
          "2013-12-31T00:00:00",
          "2018-12-31T00:00:00"
         ],
         "xaxis": "x",
         "y": [
          0,
          0,
          0,
          0,
          null,
          -0.7967409948542024,
          -0.4626728110599079,
          4.013863216266174,
          0.26638576779026213,
          1.7636363636363637,
          0.2943489772171535,
          -0.046344500895210694,
          0.0250915934475886,
          -0.12582467414682186,
          0.1014636566608782,
          -0.05339951865222625,
          0.20340790842872014,
          0.0055171782390806,
          -0.11475071858061314,
          -0.19032465874974158,
          0.16297996263250192,
          0.11352863594580564,
          -0.11516234185094287,
          -0.02708846842341328,
          -0.118282600182266,
          -0.0740948135196029,
          -1
         ],
         "yaxis": "y"
        },
        {
         "hovertemplate": "variable=diversity<br>release_date=%{x}<br>value=%{y}<extra></extra>",
         "legendgroup": "diversity",
         "line": {
          "color": "#FF6692",
          "dash": "solid"
         },
         "marker": {
          "symbol": "circle"
         },
         "mode": "lines",
         "name": "diversity",
         "orientation": "v",
         "showlegend": true,
         "type": "scatter",
         "x": [
          "1888-12-31T00:00:00",
          "1893-12-31T00:00:00",
          "1898-12-31T00:00:00",
          "1903-12-31T00:00:00",
          "1908-12-31T00:00:00",
          "1913-12-31T00:00:00",
          "1918-12-31T00:00:00",
          "1923-12-31T00:00:00",
          "1928-12-31T00:00:00",
          "1933-12-31T00:00:00",
          "1938-12-31T00:00:00",
          "1943-12-31T00:00:00",
          "1948-12-31T00:00:00",
          "1953-12-31T00:00:00",
          "1958-12-31T00:00:00",
          "1963-12-31T00:00:00",
          "1968-12-31T00:00:00",
          "1973-12-31T00:00:00",
          "1978-12-31T00:00:00",
          "1983-12-31T00:00:00",
          "1988-12-31T00:00:00",
          "1993-12-31T00:00:00",
          "1998-12-31T00:00:00",
          "2003-12-31T00:00:00",
          "2008-12-31T00:00:00",
          "2013-12-31T00:00:00",
          "2018-12-31T00:00:00"
         ],
         "xaxis": "x",
         "y": [
          0,
          0,
          0,
          0,
          0,
          null,
          -0.4626728110599079,
          -1,
          null,
          1.1818181818181817,
          -0.1635159671045605,
          -0.7474101651019747,
          0.2727647301194891,
          2.7482625482625482,
          -0.26392572944297077,
          -0.20607701564380265,
          4.808064516129033,
          0.4583741704236788,
          0.2175123213842498,
          -0.07488062622309188,
          -0.21065710294433704,
          0.46007301692665115,
          0.5543863483786358,
          -0.02174916287455997,
          0.12823566465227065,
          -0.3421051077575116,
          -1
         ],
         "yaxis": "y"
        },
        {
         "hovertemplate": "variable=documentary<br>release_date=%{x}<br>value=%{y}<extra></extra>",
         "legendgroup": "documentary",
         "line": {
          "color": "#B6E880",
          "dash": "solid"
         },
         "marker": {
          "symbol": "circle"
         },
         "mode": "lines",
         "name": "documentary",
         "orientation": "v",
         "showlegend": true,
         "type": "scatter",
         "x": [
          "1888-12-31T00:00:00",
          "1893-12-31T00:00:00",
          "1898-12-31T00:00:00",
          "1903-12-31T00:00:00",
          "1908-12-31T00:00:00",
          "1913-12-31T00:00:00",
          "1918-12-31T00:00:00",
          "1923-12-31T00:00:00",
          "1928-12-31T00:00:00",
          "1933-12-31T00:00:00",
          "1938-12-31T00:00:00",
          "1943-12-31T00:00:00",
          "1948-12-31T00:00:00",
          "1953-12-31T00:00:00",
          "1958-12-31T00:00:00",
          "1963-12-31T00:00:00",
          "1968-12-31T00:00:00",
          "1973-12-31T00:00:00",
          "1978-12-31T00:00:00",
          "1983-12-31T00:00:00",
          "1988-12-31T00:00:00",
          "1993-12-31T00:00:00",
          "1998-12-31T00:00:00",
          "2003-12-31T00:00:00",
          "2008-12-31T00:00:00",
          "2013-12-31T00:00:00",
          "2018-12-31T00:00:00"
         ],
         "xaxis": "x",
         "y": [
          0,
          0,
          null,
          -0.821954484605087,
          -1,
          null,
          -0.4626728110599079,
          1.0055452865064693,
          -0.6200842696629214,
          0.4545454545454546,
          0.672968065790879,
          2.157372936225316,
          0.01821178409559132,
          -0.13321428571428584,
          0.034482758620689724,
          -0.14500601684717207,
          1.0423963133640552,
          -0.08309064433927926,
          0.2115184145712814,
          -0.057951050906041135,
          -0.1464950149038956,
          -0.017498532002348632,
          0.1919872840094594,
          0.3395867319195216,
          0.6717357852022625,
          -0.02923383073229968,
          -1
         ],
         "yaxis": "y"
        },
        {
         "hovertemplate": "variable=drama<br>release_date=%{x}<br>value=%{y}<extra></extra>",
         "legendgroup": "drama",
         "line": {
          "color": "#FF97FF",
          "dash": "solid"
         },
         "marker": {
          "symbol": "circle"
         },
         "mode": "lines",
         "name": "drama",
         "orientation": "v",
         "showlegend": true,
         "type": "scatter",
         "x": [
          "1888-12-31T00:00:00",
          "1893-12-31T00:00:00",
          "1898-12-31T00:00:00",
          "1903-12-31T00:00:00",
          "1908-12-31T00:00:00",
          "1913-12-31T00:00:00",
          "1918-12-31T00:00:00",
          "1923-12-31T00:00:00",
          "1928-12-31T00:00:00",
          "1933-12-31T00:00:00",
          "1938-12-31T00:00:00",
          "1943-12-31T00:00:00",
          "1948-12-31T00:00:00",
          "1953-12-31T00:00:00",
          "1958-12-31T00:00:00",
          "1963-12-31T00:00:00",
          "1968-12-31T00:00:00",
          "1973-12-31T00:00:00",
          "1978-12-31T00:00:00",
          "1983-12-31T00:00:00",
          "1988-12-31T00:00:00",
          "1993-12-31T00:00:00",
          "1998-12-31T00:00:00",
          "2003-12-31T00:00:00",
          "2008-12-31T00:00:00",
          "2013-12-31T00:00:00",
          "2018-12-31T00:00:00"
         ],
         "xaxis": "x",
         "y": [
          0,
          0,
          null,
          2.204819277108434,
          2.151898734177215,
          1.1229273870783305,
          -0.5541327581135405,
          0.5041589648798519,
          0.09753433208489382,
          0.3254437869822484,
          -0.18931661097633534,
          0.02559088742514759,
          0.12154515822410428,
          0.16343542579497639,
          0.02140019443810992,
          0.28408413121958875,
          -0.14428329864724243,
          0.19170003640334898,
          0.008030297092491034,
          0.039364403827763406,
          -0.08804018525612012,
          -0.011754483957053252,
          -0.030017715553815383,
          -0.02717390730504654,
          -0.02409825083446593,
          0.07383765274237963,
          -1
         ],
         "yaxis": "y"
        },
        {
         "hovertemplate": "variable=erotic<br>release_date=%{x}<br>value=%{y}<extra></extra>",
         "legendgroup": "erotic",
         "line": {
          "color": "#FECB52",
          "dash": "solid"
         },
         "marker": {
          "symbol": "circle"
         },
         "mode": "lines",
         "name": "erotic",
         "orientation": "v",
         "showlegend": true,
         "type": "scatter",
         "x": [
          "1888-12-31T00:00:00",
          "1893-12-31T00:00:00",
          "1898-12-31T00:00:00",
          "1903-12-31T00:00:00",
          "1908-12-31T00:00:00",
          "1913-12-31T00:00:00",
          "1918-12-31T00:00:00",
          "1923-12-31T00:00:00",
          "1928-12-31T00:00:00",
          "1933-12-31T00:00:00",
          "1938-12-31T00:00:00",
          "1943-12-31T00:00:00",
          "1948-12-31T00:00:00",
          "1953-12-31T00:00:00",
          "1958-12-31T00:00:00",
          "1963-12-31T00:00:00",
          "1968-12-31T00:00:00",
          "1973-12-31T00:00:00",
          "1978-12-31T00:00:00",
          "1983-12-31T00:00:00",
          "1988-12-31T00:00:00",
          "1993-12-31T00:00:00",
          "1998-12-31T00:00:00",
          "2003-12-31T00:00:00",
          "2008-12-31T00:00:00",
          "2013-12-31T00:00:00",
          "2018-12-31T00:00:00"
         ],
         "xaxis": "x",
         "y": [
          0,
          0,
          0,
          0,
          0,
          null,
          -1,
          0,
          null,
          0.4545454545454546,
          -0.6863184876642102,
          0.010359339592101113,
          -1,
          null,
          -0.018567639257294433,
          10.90884476534296,
          0.9658064516129032,
          0.5183505973458649,
          0.4649634742709947,
          -0.3851050474467378,
          -0.001420346221307156,
          -0.36994973003165155,
          0.27623300182666943,
          -0.09298815026282392,
          -0.2375707322539078,
          -0.46143777473640224,
          -1
         ],
         "yaxis": "y"
        },
        {
         "hovertemplate": "variable=experimental<br>release_date=%{x}<br>value=%{y}<extra></extra>",
         "legendgroup": "experimental",
         "line": {
          "color": "#636efa",
          "dash": "solid"
         },
         "marker": {
          "symbol": "circle"
         },
         "mode": "lines",
         "name": "experimental",
         "orientation": "v",
         "showlegend": true,
         "type": "scatter",
         "x": [
          "1888-12-31T00:00:00",
          "1893-12-31T00:00:00",
          "1898-12-31T00:00:00",
          "1903-12-31T00:00:00",
          "1908-12-31T00:00:00",
          "1913-12-31T00:00:00",
          "1918-12-31T00:00:00",
          "1923-12-31T00:00:00",
          "1928-12-31T00:00:00",
          "1933-12-31T00:00:00",
          "1938-12-31T00:00:00",
          "1943-12-31T00:00:00",
          "1948-12-31T00:00:00",
          "1953-12-31T00:00:00",
          "1958-12-31T00:00:00",
          "1963-12-31T00:00:00",
          "1968-12-31T00:00:00",
          "1973-12-31T00:00:00",
          "1978-12-31T00:00:00",
          "1983-12-31T00:00:00",
          "1988-12-31T00:00:00",
          "1993-12-31T00:00:00",
          "1998-12-31T00:00:00",
          "2003-12-31T00:00:00",
          "2008-12-31T00:00:00",
          "2013-12-31T00:00:00",
          "2018-12-31T00:00:00"
         ],
         "xaxis": "x",
         "y": [
          0,
          0.3125,
          -0.26100966702470463,
          0.2297562342392827,
          -0.20406597621787492,
          -0.20322469982847347,
          -0.17756042509169578,
          -0.26463339494762783,
          -0.028336738168198816,
          -0.3657906074967685,
          -0.19874831088140643,
          -0.02833527341355402,
          0.019338124564723724,
          -0.15094605260351135,
          0.2208061072653167,
          -0.25277836766475537,
          0.08203125,
          -0.19038951583545682,
          0.4715256833996688,
          -0.12218786692759287,
          -0.07769567248481768,
          0.15653345307588684,
          0.08293493768138926,
          0.0010890093377067256,
          0.13945595162617175,
          -0.3094581781228124,
          -1
         ],
         "yaxis": "y"
        },
        {
         "hovertemplate": "variable=family<br>release_date=%{x}<br>value=%{y}<extra></extra>",
         "legendgroup": "family",
         "line": {
          "color": "#EF553B",
          "dash": "solid"
         },
         "marker": {
          "symbol": "circle"
         },
         "mode": "lines",
         "name": "family",
         "orientation": "v",
         "showlegend": true,
         "type": "scatter",
         "x": [
          "1888-12-31T00:00:00",
          "1893-12-31T00:00:00",
          "1898-12-31T00:00:00",
          "1903-12-31T00:00:00",
          "1908-12-31T00:00:00",
          "1913-12-31T00:00:00",
          "1918-12-31T00:00:00",
          "1923-12-31T00:00:00",
          "1928-12-31T00:00:00",
          "1933-12-31T00:00:00",
          "1938-12-31T00:00:00",
          "1943-12-31T00:00:00",
          "1948-12-31T00:00:00",
          "1953-12-31T00:00:00",
          "1958-12-31T00:00:00",
          "1963-12-31T00:00:00",
          "1968-12-31T00:00:00",
          "1973-12-31T00:00:00",
          "1978-12-31T00:00:00",
          "1983-12-31T00:00:00",
          "1988-12-31T00:00:00",
          "1993-12-31T00:00:00",
          "1998-12-31T00:00:00",
          "2003-12-31T00:00:00",
          "2008-12-31T00:00:00",
          "2013-12-31T00:00:00",
          "2018-12-31T00:00:00"
         ],
         "xaxis": "x",
         "y": [
          0,
          0,
          0,
          0,
          0,
          0,
          0,
          null,
          1.4061329588014981,
          0.2822966507177034,
          0.07681713189897987,
          0.08064520669416009,
          0.14859256132734378,
          0.09746425962642169,
          0.10222403591103868,
          -0.14354198605410207,
          -0.22559139784946247,
          -0.4444288874576461,
          0.7532177427933198,
          0.2155332681017612,
          0.0543122910144187,
          -0.23892637281457763,
          0.38569094176435814,
          -0.141651358749046,
          -0.20514130837104338,
          0.033915278478662714,
          4.869444444444445
         ],
         "yaxis": "y"
        },
        {
         "hovertemplate": "variable=fantasy<br>release_date=%{x}<br>value=%{y}<extra></extra>",
         "legendgroup": "fantasy",
         "line": {
          "color": "#00cc96",
          "dash": "solid"
         },
         "marker": {
          "symbol": "circle"
         },
         "mode": "lines",
         "name": "fantasy",
         "orientation": "v",
         "showlegend": true,
         "type": "scatter",
         "x": [
          "1888-12-31T00:00:00",
          "1893-12-31T00:00:00",
          "1898-12-31T00:00:00",
          "1903-12-31T00:00:00",
          "1908-12-31T00:00:00",
          "1913-12-31T00:00:00",
          "1918-12-31T00:00:00",
          "1923-12-31T00:00:00",
          "1928-12-31T00:00:00",
          "1933-12-31T00:00:00",
          "1938-12-31T00:00:00",
          "1943-12-31T00:00:00",
          "1948-12-31T00:00:00",
          "1953-12-31T00:00:00",
          "1958-12-31T00:00:00",
          "1963-12-31T00:00:00",
          "1968-12-31T00:00:00",
          "1973-12-31T00:00:00",
          "1978-12-31T00:00:00",
          "1983-12-31T00:00:00",
          "1988-12-31T00:00:00",
          "1993-12-31T00:00:00",
          "1998-12-31T00:00:00",
          "2003-12-31T00:00:00",
          "2008-12-31T00:00:00",
          "2013-12-31T00:00:00",
          "2018-12-31T00:00:00"
         ],
         "xaxis": "x",
         "y": [
          0,
          0,
          0,
          0,
          null,
          -1,
          null,
          0.5041589648798521,
          0.5196629213483146,
          -0.2727272727272727,
          0.15016554523122938,
          -0.17334235851555369,
          1.9697843702788078,
          0.1155543298400441,
          -0.33262599469496024,
          1.5919250371628801,
          -0.08230165649520504,
          -0.16847086774088482,
          -0.035730241463674095,
          0.7521200260926288,
          0.2492209327315711,
          -0.08215753711936924,
          -0.18590807228840023,
          0.1433846348201977,
          -0.05290751044014541,
          0.16001032328924825,
          -1
         ],
         "yaxis": "y"
        },
        {
         "hovertemplate": "variable=historical<br>release_date=%{x}<br>value=%{y}<extra></extra>",
         "legendgroup": "historical",
         "line": {
          "color": "#ab63fa",
          "dash": "solid"
         },
         "marker": {
          "symbol": "circle"
         },
         "mode": "lines",
         "name": "historical",
         "orientation": "v",
         "showlegend": true,
         "type": "scatter",
         "x": [
          "1888-12-31T00:00:00",
          "1893-12-31T00:00:00",
          "1898-12-31T00:00:00",
          "1903-12-31T00:00:00",
          "1908-12-31T00:00:00",
          "1913-12-31T00:00:00",
          "1918-12-31T00:00:00",
          "1923-12-31T00:00:00",
          "1928-12-31T00:00:00",
          "1933-12-31T00:00:00",
          "1938-12-31T00:00:00",
          "1943-12-31T00:00:00",
          "1948-12-31T00:00:00",
          "1953-12-31T00:00:00",
          "1958-12-31T00:00:00",
          "1963-12-31T00:00:00",
          "1968-12-31T00:00:00",
          "1973-12-31T00:00:00",
          "1978-12-31T00:00:00",
          "1983-12-31T00:00:00",
          "1988-12-31T00:00:00",
          "1993-12-31T00:00:00",
          "1998-12-31T00:00:00",
          "2003-12-31T00:00:00",
          "2008-12-31T00:00:00",
          "2013-12-31T00:00:00",
          "2018-12-31T00:00:00"
         ],
         "xaxis": "x",
         "y": [
          0,
          0,
          0,
          0,
          null,
          -0.6612349914236706,
          0.07465437788018425,
          -0.49861367837338255,
          0.8235955056179773,
          -0.09090909090909083,
          0.8820890740147389,
          0.4145030754289414,
          0.15154904153668047,
          -0.11225360699044906,
          0.3994498477257098,
          -0.1803002953724976,
          -0.08959220937309798,
          0.3876417371138885,
          0.17057208730678486,
          0.1729982490472759,
          -0.10251906864712967,
          0.004580152671755711,
          0.3022785732925197,
          -0.090197344571325,
          0.0004434782997242426,
          -0.14607042936510173,
          -1
         ],
         "yaxis": "y"
        },
        {
         "hovertemplate": "variable=horror<br>release_date=%{x}<br>value=%{y}<extra></extra>",
         "legendgroup": "horror",
         "line": {
          "color": "#FFA15A",
          "dash": "solid"
         },
         "marker": {
          "symbol": "circle"
         },
         "mode": "lines",
         "name": "horror",
         "orientation": "v",
         "showlegend": true,
         "type": "scatter",
         "x": [
          "1888-12-31T00:00:00",
          "1893-12-31T00:00:00",
          "1898-12-31T00:00:00",
          "1903-12-31T00:00:00",
          "1908-12-31T00:00:00",
          "1913-12-31T00:00:00",
          "1918-12-31T00:00:00",
          "1923-12-31T00:00:00",
          "1928-12-31T00:00:00",
          "1933-12-31T00:00:00",
          "1938-12-31T00:00:00",
          "1943-12-31T00:00:00",
          "1948-12-31T00:00:00",
          "1953-12-31T00:00:00",
          "1958-12-31T00:00:00",
          "1963-12-31T00:00:00",
          "1968-12-31T00:00:00",
          "1973-12-31T00:00:00",
          "1978-12-31T00:00:00",
          "1983-12-31T00:00:00",
          "1988-12-31T00:00:00",
          "1993-12-31T00:00:00",
          "1998-12-31T00:00:00",
          "2003-12-31T00:00:00",
          "2008-12-31T00:00:00",
          "2013-12-31T00:00:00",
          "2018-12-31T00:00:00"
         ],
         "xaxis": "x",
         "y": [
          0,
          0,
          0,
          0,
          0,
          null,
          -0.4626728110599079,
          5.0166358595194085,
          -0.7467228464419475,
          3,
          -0.4296699775712912,
          1.1217546131434122,
          -0.15149017992034064,
          -0.1298676227247656,
          2.3972658641093654,
          0.08502807862013628,
          0.13328088119590875,
          0.8924141020973928,
          -0.4088921830490413,
          0.11801944522101082,
          0.1494389753360854,
          0.0721149528513696,
          -0.29656448718215067,
          0.21400047580206638,
          0.4284763507331757,
          -0.031572213071542454,
          -1
         ],
         "yaxis": "y"
        },
        {
         "hovertemplate": "variable=musical<br>release_date=%{x}<br>value=%{y}<extra></extra>",
         "legendgroup": "musical",
         "line": {
          "color": "#19d3f3",
          "dash": "solid"
         },
         "marker": {
          "symbol": "circle"
         },
         "mode": "lines",
         "name": "musical",
         "orientation": "v",
         "showlegend": true,
         "type": "scatter",
         "x": [
          "1888-12-31T00:00:00",
          "1893-12-31T00:00:00",
          "1898-12-31T00:00:00",
          "1903-12-31T00:00:00",
          "1908-12-31T00:00:00",
          "1913-12-31T00:00:00",
          "1918-12-31T00:00:00",
          "1923-12-31T00:00:00",
          "1928-12-31T00:00:00",
          "1933-12-31T00:00:00",
          "1938-12-31T00:00:00",
          "1943-12-31T00:00:00",
          "1948-12-31T00:00:00",
          "1953-12-31T00:00:00",
          "1958-12-31T00:00:00",
          "1963-12-31T00:00:00",
          "1968-12-31T00:00:00",
          "1973-12-31T00:00:00",
          "1978-12-31T00:00:00",
          "1983-12-31T00:00:00",
          "1988-12-31T00:00:00",
          "1993-12-31T00:00:00",
          "1998-12-31T00:00:00",
          "2003-12-31T00:00:00",
          "2008-12-31T00:00:00",
          "2013-12-31T00:00:00",
          "2018-12-31T00:00:00"
         ],
         "xaxis": "x",
         "y": [
          0,
          0,
          0,
          0,
          0,
          0,
          0,
          null,
          2.039325842696629,
          17.727272727272727,
          0.03545353586571398,
          -0.36406794508026585,
          0.36792470994150683,
          -0.2992378714117845,
          -0.13268768120412067,
          0.1752149439483186,
          0.16756989247311815,
          -0.2169565314294628,
          -0.19386360649993428,
          0.2552501679469579,
          -0.17891179078014185,
          -0.14882863911555666,
          -0.035405289317052335,
          0.23654159869494307,
          0.19639361798980337,
          -0.29780060222317584,
          -1
         ],
         "yaxis": "y"
        },
        {
         "hovertemplate": "variable=propaganda<br>release_date=%{x}<br>value=%{y}<extra></extra>",
         "legendgroup": "propaganda",
         "line": {
          "color": "#FF6692",
          "dash": "solid"
         },
         "marker": {
          "symbol": "circle"
         },
         "mode": "lines",
         "name": "propaganda",
         "orientation": "v",
         "showlegend": true,
         "type": "scatter",
         "x": [
          "1888-12-31T00:00:00",
          "1893-12-31T00:00:00",
          "1898-12-31T00:00:00",
          "1903-12-31T00:00:00",
          "1908-12-31T00:00:00",
          "1913-12-31T00:00:00",
          "1918-12-31T00:00:00",
          "1923-12-31T00:00:00",
          "1928-12-31T00:00:00",
          "1933-12-31T00:00:00",
          "1938-12-31T00:00:00",
          "1943-12-31T00:00:00",
          "1948-12-31T00:00:00",
          "1953-12-31T00:00:00",
          "1958-12-31T00:00:00",
          "1963-12-31T00:00:00",
          "1968-12-31T00:00:00",
          "1973-12-31T00:00:00",
          "1978-12-31T00:00:00",
          "1983-12-31T00:00:00",
          "1988-12-31T00:00:00",
          "1993-12-31T00:00:00",
          "1998-12-31T00:00:00",
          "2003-12-31T00:00:00",
          "2008-12-31T00:00:00",
          "2013-12-31T00:00:00",
          "2018-12-31T00:00:00"
         ],
         "xaxis": "x",
         "y": [
          0,
          0,
          0,
          0,
          0,
          0,
          null,
          -1,
          null,
          -0.2727272727272727,
          1.5094520986863182,
          4.809566202654581,
          -0.00392325468909549,
          -0.9219111969111969,
          -1,
          null,
          -0.1064516129032258,
          -1,
          0,
          0,
          0,
          0,
          0,
          0,
          0,
          0,
          0
         ],
         "yaxis": "y"
        },
        {
         "hovertemplate": "variable=religious<br>release_date=%{x}<br>value=%{y}<extra></extra>",
         "legendgroup": "religious",
         "line": {
          "color": "#B6E880",
          "dash": "solid"
         },
         "marker": {
          "symbol": "circle"
         },
         "mode": "lines",
         "name": "religious",
         "orientation": "v",
         "showlegend": true,
         "type": "scatter",
         "x": [
          "1888-12-31T00:00:00",
          "1893-12-31T00:00:00",
          "1898-12-31T00:00:00",
          "1903-12-31T00:00:00",
          "1908-12-31T00:00:00",
          "1913-12-31T00:00:00",
          "1918-12-31T00:00:00",
          "1923-12-31T00:00:00",
          "1928-12-31T00:00:00",
          "1933-12-31T00:00:00",
          "1938-12-31T00:00:00",
          "1943-12-31T00:00:00",
          "1948-12-31T00:00:00",
          "1953-12-31T00:00:00",
          "1958-12-31T00:00:00",
          "1963-12-31T00:00:00",
          "1968-12-31T00:00:00",
          "1973-12-31T00:00:00",
          "1978-12-31T00:00:00",
          "1983-12-31T00:00:00",
          "1988-12-31T00:00:00",
          "1993-12-31T00:00:00",
          "1998-12-31T00:00:00",
          "2003-12-31T00:00:00",
          "2008-12-31T00:00:00",
          "2013-12-31T00:00:00",
          "2018-12-31T00:00:00"
         ],
         "xaxis": "x",
         "y": [
          0,
          0,
          0,
          0,
          0,
          null,
          -0.4626728110599079,
          -1,
          0,
          null,
          -0.37263697532842044,
          1.0207186791842022,
          1.5455294602389782,
          0.17133204633204646,
          0.5702917771883289,
          0.042023916967508956,
          1.680645161290323,
          0.37569989772392365,
          0.0546700483991065,
          -0.2991519895629484,
          -0.142018590156888,
          0.2743816793893128,
          0.18568944426464218,
          0.3639428543180583,
          0.6503355530121735,
          -0.5479742381530485,
          -1
         ],
         "yaxis": "y"
        },
        {
         "hovertemplate": "variable=romance<br>release_date=%{x}<br>value=%{y}<extra></extra>",
         "legendgroup": "romance",
         "line": {
          "color": "#FF97FF",
          "dash": "solid"
         },
         "marker": {
          "symbol": "circle"
         },
         "mode": "lines",
         "name": "romance",
         "orientation": "v",
         "showlegend": true,
         "type": "scatter",
         "x": [
          "1888-12-31T00:00:00",
          "1893-12-31T00:00:00",
          "1898-12-31T00:00:00",
          "1903-12-31T00:00:00",
          "1908-12-31T00:00:00",
          "1913-12-31T00:00:00",
          "1918-12-31T00:00:00",
          "1923-12-31T00:00:00",
          "1928-12-31T00:00:00",
          "1933-12-31T00:00:00",
          "1938-12-31T00:00:00",
          "1943-12-31T00:00:00",
          "1948-12-31T00:00:00",
          "1953-12-31T00:00:00",
          "1958-12-31T00:00:00",
          "1963-12-31T00:00:00",
          "1968-12-31T00:00:00",
          "1973-12-31T00:00:00",
          "1978-12-31T00:00:00",
          "1983-12-31T00:00:00",
          "1988-12-31T00:00:00",
          "1993-12-31T00:00:00",
          "1998-12-31T00:00:00",
          "2003-12-31T00:00:00",
          "2008-12-31T00:00:00",
          "2013-12-31T00:00:00",
          "2018-12-31T00:00:00"
         ],
         "xaxis": "x",
         "y": [
          0,
          0,
          0,
          0,
          0,
          null,
          0.5224270353302611,
          1.3004784168750678,
          0.26638576779026235,
          0.6783216783216783,
          0.049787461283776535,
          -0.2754395174239913,
          0.0394245295975828,
          -0.043810574422819326,
          0.07957559681697601,
          0.08262225139481472,
          -0.100494623655914,
          0.06423141922434361,
          -0.23584001940984045,
          0.19354943130821178,
          0.17003663519797096,
          0.08921511058915632,
          0.15065771068409606,
          0.05566963768365096,
          -0.19994069450201235,
          0.04310754164184605,
          -1
         ],
         "yaxis": "y"
        },
        {
         "hovertemplate": "variable=science-fiction<br>release_date=%{x}<br>value=%{y}<extra></extra>",
         "legendgroup": "science-fiction",
         "line": {
          "color": "#FECB52",
          "dash": "solid"
         },
         "marker": {
          "symbol": "circle"
         },
         "mode": "lines",
         "name": "science-fiction",
         "orientation": "v",
         "showlegend": true,
         "type": "scatter",
         "x": [
          "1888-12-31T00:00:00",
          "1893-12-31T00:00:00",
          "1898-12-31T00:00:00",
          "1903-12-31T00:00:00",
          "1908-12-31T00:00:00",
          "1913-12-31T00:00:00",
          "1918-12-31T00:00:00",
          "1923-12-31T00:00:00",
          "1928-12-31T00:00:00",
          "1933-12-31T00:00:00",
          "1938-12-31T00:00:00",
          "1943-12-31T00:00:00",
          "1948-12-31T00:00:00",
          "1953-12-31T00:00:00",
          "1958-12-31T00:00:00",
          "1963-12-31T00:00:00",
          "1968-12-31T00:00:00",
          "1973-12-31T00:00:00",
          "1978-12-31T00:00:00",
          "1983-12-31T00:00:00",
          "1988-12-31T00:00:00",
          "1993-12-31T00:00:00",
          "1998-12-31T00:00:00",
          "2003-12-31T00:00:00",
          "2008-12-31T00:00:00",
          "2013-12-31T00:00:00",
          "2018-12-31T00:00:00"
         ],
         "xaxis": "x",
         "y": [
          0,
          0,
          0,
          0,
          0,
          0,
          0,
          null,
          -0.2401685393258427,
          1.1818181818181817,
          0.8820890740147389,
          0.010359339592101113,
          0.2727647301194891,
          1.1864864864864866,
          1.4769483390173046,
          -0.16862781826851037,
          0.08674803836094158,
          -0.19750839299437772,
          -0.05399292628443786,
          0.4206378589940234,
          0.28354018912529555,
          -0.19971261787157624,
          -0.06099945276993468,
          -0.15015465394352945,
          0.13508709123902873,
          0.2042719671872535,
          -1
         ],
         "yaxis": "y"
        },
        {
         "hovertemplate": "variable=silent<br>release_date=%{x}<br>value=%{y}<extra></extra>",
         "legendgroup": "silent",
         "line": {
          "color": "#636efa",
          "dash": "solid"
         },
         "marker": {
          "symbol": "circle"
         },
         "mode": "lines",
         "name": "silent",
         "orientation": "v",
         "showlegend": true,
         "type": "scatter",
         "x": [
          "1888-12-31T00:00:00",
          "1893-12-31T00:00:00",
          "1898-12-31T00:00:00",
          "1903-12-31T00:00:00",
          "1908-12-31T00:00:00",
          "1913-12-31T00:00:00",
          "1918-12-31T00:00:00",
          "1923-12-31T00:00:00",
          "1928-12-31T00:00:00",
          "1933-12-31T00:00:00",
          "1938-12-31T00:00:00",
          "1943-12-31T00:00:00",
          "1948-12-31T00:00:00",
          "1953-12-31T00:00:00",
          "1958-12-31T00:00:00",
          "1963-12-31T00:00:00",
          "1968-12-31T00:00:00",
          "1973-12-31T00:00:00",
          "1978-12-31T00:00:00",
          "1983-12-31T00:00:00",
          "1988-12-31T00:00:00",
          "1993-12-31T00:00:00",
          "1998-12-31T00:00:00",
          "2003-12-31T00:00:00",
          "2008-12-31T00:00:00",
          "2013-12-31T00:00:00",
          "2018-12-31T00:00:00"
         ],
         "xaxis": "x",
         "y": [
          0,
          0.125,
          -0.07769423558897248,
          -0.0246202200104767,
          -0.1369801084990958,
          -0.11626519501827137,
          0.006592933947772828,
          0.04202708836279179,
          -0.042404186547637224,
          -0.8972332015810277,
          -0.9638059793458704,
          -1,
          null,
          -1,
          0,
          null,
          0.7870967741935484,
          -1,
          0,
          0,
          0,
          null,
          -0.20235437385833166,
          1.6791734638390428,
          -0.6651493080844865,
          -0.13361728979334286,
          -1
         ],
         "yaxis": "y"
        },
        {
         "hovertemplate": "variable=thriller<br>release_date=%{x}<br>value=%{y}<extra></extra>",
         "legendgroup": "thriller",
         "line": {
          "color": "#EF553B",
          "dash": "solid"
         },
         "marker": {
          "symbol": "circle"
         },
         "mode": "lines",
         "name": "thriller",
         "orientation": "v",
         "showlegend": true,
         "type": "scatter",
         "x": [
          "1888-12-31T00:00:00",
          "1893-12-31T00:00:00",
          "1898-12-31T00:00:00",
          "1903-12-31T00:00:00",
          "1908-12-31T00:00:00",
          "1913-12-31T00:00:00",
          "1918-12-31T00:00:00",
          "1923-12-31T00:00:00",
          "1928-12-31T00:00:00",
          "1933-12-31T00:00:00",
          "1938-12-31T00:00:00",
          "1943-12-31T00:00:00",
          "1948-12-31T00:00:00",
          "1953-12-31T00:00:00",
          "1958-12-31T00:00:00",
          "1963-12-31T00:00:00",
          "1968-12-31T00:00:00",
          "1973-12-31T00:00:00",
          "1978-12-31T00:00:00",
          "1983-12-31T00:00:00",
          "1988-12-31T00:00:00",
          "1993-12-31T00:00:00",
          "1998-12-31T00:00:00",
          "2003-12-31T00:00:00",
          "2008-12-31T00:00:00",
          "2013-12-31T00:00:00",
          "2018-12-31T00:00:00"
         ],
         "xaxis": "x",
         "y": [
          0,
          0,
          0,
          0,
          0,
          null,
          -0.5970046082949308,
          1.339802834257548,
          -0.3487158908507224,
          7,
          0.32126455195984205,
          0.0030905673648196075,
          0.4018857896968284,
          -0.247881528144686,
          -0.018567639257294544,
          -0.033626531336923615,
          0.11919191919191907,
          0.21587186021113935,
          -0.001785706323763514,
          -0.25185549806106156,
          0.17158840792369778,
          0.2916030534351146,
          -0.1728119432604922,
          0.03339547890934513,
          0.068111697823096,
          0.17948763740761176,
          -1
         ],
         "yaxis": "y"
        },
        {
         "hovertemplate": "variable=war<br>release_date=%{x}<br>value=%{y}<extra></extra>",
         "legendgroup": "war",
         "line": {
          "color": "#00cc96",
          "dash": "solid"
         },
         "marker": {
          "symbol": "circle"
         },
         "mode": "lines",
         "name": "war",
         "orientation": "v",
         "showlegend": true,
         "type": "scatter",
         "x": [
          "1888-12-31T00:00:00",
          "1893-12-31T00:00:00",
          "1898-12-31T00:00:00",
          "1903-12-31T00:00:00",
          "1908-12-31T00:00:00",
          "1913-12-31T00:00:00",
          "1918-12-31T00:00:00",
          "1923-12-31T00:00:00",
          "1928-12-31T00:00:00",
          "1933-12-31T00:00:00",
          "1938-12-31T00:00:00",
          "1943-12-31T00:00:00",
          "1948-12-31T00:00:00",
          "1953-12-31T00:00:00",
          "1958-12-31T00:00:00",
          "1963-12-31T00:00:00",
          "1968-12-31T00:00:00",
          "1973-12-31T00:00:00",
          "1978-12-31T00:00:00",
          "1983-12-31T00:00:00",
          "1988-12-31T00:00:00",
          "1993-12-31T00:00:00",
          "1998-12-31T00:00:00",
          "2003-12-31T00:00:00",
          "2008-12-31T00:00:00",
          "2013-12-31T00:00:00",
          "2018-12-31T00:00:00"
         ],
         "xaxis": "x",
         "y": [
          0,
          0,
          null,
          0.602409638554217,
          -1,
          null,
          0.8806451612903226,
          -0.7134935304990757,
          2.419241573033708,
          0.5353535353535355,
          -0.04244590971179962,
          3.8775968118239366,
          -0.27270586850314904,
          -0.46118725868725874,
          0.45081305501095614,
          0.19088447653429608,
          -0.15901328273244775,
          -0.3228977065890062,
          -0.2968866344005957,
          0.49726620411551914,
          -0.18071902821789643,
          -0.29088459811405476,
          -0.14537968627678388,
          -0.12182647574164696,
          0.7139815077709333,
          -0.2655828681691912,
          -1
         ],
         "yaxis": "y"
        },
        {
         "hovertemplate": "variable=western<br>release_date=%{x}<br>value=%{y}<extra></extra>",
         "legendgroup": "western",
         "line": {
          "color": "#ab63fa",
          "dash": "solid"
         },
         "marker": {
          "symbol": "circle"
         },
         "mode": "lines",
         "name": "western",
         "orientation": "v",
         "showlegend": true,
         "type": "scatter",
         "x": [
          "1888-12-31T00:00:00",
          "1893-12-31T00:00:00",
          "1898-12-31T00:00:00",
          "1903-12-31T00:00:00",
          "1908-12-31T00:00:00",
          "1913-12-31T00:00:00",
          "1918-12-31T00:00:00",
          "1923-12-31T00:00:00",
          "1928-12-31T00:00:00",
          "1933-12-31T00:00:00",
          "1938-12-31T00:00:00",
          "1943-12-31T00:00:00",
          "1948-12-31T00:00:00",
          "1953-12-31T00:00:00",
          "1958-12-31T00:00:00",
          "1963-12-31T00:00:00",
          "1968-12-31T00:00:00",
          "1973-12-31T00:00:00",
          "1978-12-31T00:00:00",
          "1983-12-31T00:00:00",
          "1988-12-31T00:00:00",
          "1993-12-31T00:00:00",
          "1998-12-31T00:00:00",
          "2003-12-31T00:00:00",
          "2008-12-31T00:00:00",
          "2013-12-31T00:00:00",
          "2018-12-31T00:00:00"
         ],
         "xaxis": "x",
         "y": [
          0,
          0,
          null,
          -1,
          0,
          null,
          0.7463133640552997,
          0.19561353618654898,
          -0.5097861544037694,
          0.7090909090909092,
          1.1490520632366876,
          -0.15280428046625072,
          -0.10435074547147061,
          0.08502336923389553,
          -0.027489751627682746,
          -0.41002053456099097,
          0.6050776583034649,
          -0.1902694223126261,
          -0.4945224707080562,
          -0.41324352614572424,
          -0.37081363278171786,
          0.2916030534351144,
          -0.06941343616805362,
          -0.3302066340402393,
          -0.4642388929351784,
          0.7327654204133143,
          -1
         ],
         "yaxis": "y"
        }
       ],
       "layout": {
        "legend": {
         "title": {
          "text": "variable"
         },
         "tracegroupgap": 0
        },
        "margin": {
         "t": 60
        },
        "template": {
         "data": {
          "bar": [
           {
            "error_x": {
             "color": "#2a3f5f"
            },
            "error_y": {
             "color": "#2a3f5f"
            },
            "marker": {
             "line": {
              "color": "#E5ECF6",
              "width": 0.5
             },
             "pattern": {
              "fillmode": "overlay",
              "size": 10,
              "solidity": 0.2
             }
            },
            "type": "bar"
           }
          ],
          "barpolar": [
           {
            "marker": {
             "line": {
              "color": "#E5ECF6",
              "width": 0.5
             },
             "pattern": {
              "fillmode": "overlay",
              "size": 10,
              "solidity": 0.2
             }
            },
            "type": "barpolar"
           }
          ],
          "carpet": [
           {
            "aaxis": {
             "endlinecolor": "#2a3f5f",
             "gridcolor": "white",
             "linecolor": "white",
             "minorgridcolor": "white",
             "startlinecolor": "#2a3f5f"
            },
            "baxis": {
             "endlinecolor": "#2a3f5f",
             "gridcolor": "white",
             "linecolor": "white",
             "minorgridcolor": "white",
             "startlinecolor": "#2a3f5f"
            },
            "type": "carpet"
           }
          ],
          "choropleth": [
           {
            "colorbar": {
             "outlinewidth": 0,
             "ticks": ""
            },
            "type": "choropleth"
           }
          ],
          "contour": [
           {
            "colorbar": {
             "outlinewidth": 0,
             "ticks": ""
            },
            "colorscale": [
             [
              0,
              "#0d0887"
             ],
             [
              0.1111111111111111,
              "#46039f"
             ],
             [
              0.2222222222222222,
              "#7201a8"
             ],
             [
              0.3333333333333333,
              "#9c179e"
             ],
             [
              0.4444444444444444,
              "#bd3786"
             ],
             [
              0.5555555555555556,
              "#d8576b"
             ],
             [
              0.6666666666666666,
              "#ed7953"
             ],
             [
              0.7777777777777778,
              "#fb9f3a"
             ],
             [
              0.8888888888888888,
              "#fdca26"
             ],
             [
              1,
              "#f0f921"
             ]
            ],
            "type": "contour"
           }
          ],
          "contourcarpet": [
           {
            "colorbar": {
             "outlinewidth": 0,
             "ticks": ""
            },
            "type": "contourcarpet"
           }
          ],
          "heatmap": [
           {
            "colorbar": {
             "outlinewidth": 0,
             "ticks": ""
            },
            "colorscale": [
             [
              0,
              "#0d0887"
             ],
             [
              0.1111111111111111,
              "#46039f"
             ],
             [
              0.2222222222222222,
              "#7201a8"
             ],
             [
              0.3333333333333333,
              "#9c179e"
             ],
             [
              0.4444444444444444,
              "#bd3786"
             ],
             [
              0.5555555555555556,
              "#d8576b"
             ],
             [
              0.6666666666666666,
              "#ed7953"
             ],
             [
              0.7777777777777778,
              "#fb9f3a"
             ],
             [
              0.8888888888888888,
              "#fdca26"
             ],
             [
              1,
              "#f0f921"
             ]
            ],
            "type": "heatmap"
           }
          ],
          "heatmapgl": [
           {
            "colorbar": {
             "outlinewidth": 0,
             "ticks": ""
            },
            "colorscale": [
             [
              0,
              "#0d0887"
             ],
             [
              0.1111111111111111,
              "#46039f"
             ],
             [
              0.2222222222222222,
              "#7201a8"
             ],
             [
              0.3333333333333333,
              "#9c179e"
             ],
             [
              0.4444444444444444,
              "#bd3786"
             ],
             [
              0.5555555555555556,
              "#d8576b"
             ],
             [
              0.6666666666666666,
              "#ed7953"
             ],
             [
              0.7777777777777778,
              "#fb9f3a"
             ],
             [
              0.8888888888888888,
              "#fdca26"
             ],
             [
              1,
              "#f0f921"
             ]
            ],
            "type": "heatmapgl"
           }
          ],
          "histogram": [
           {
            "marker": {
             "pattern": {
              "fillmode": "overlay",
              "size": 10,
              "solidity": 0.2
             }
            },
            "type": "histogram"
           }
          ],
          "histogram2d": [
           {
            "colorbar": {
             "outlinewidth": 0,
             "ticks": ""
            },
            "colorscale": [
             [
              0,
              "#0d0887"
             ],
             [
              0.1111111111111111,
              "#46039f"
             ],
             [
              0.2222222222222222,
              "#7201a8"
             ],
             [
              0.3333333333333333,
              "#9c179e"
             ],
             [
              0.4444444444444444,
              "#bd3786"
             ],
             [
              0.5555555555555556,
              "#d8576b"
             ],
             [
              0.6666666666666666,
              "#ed7953"
             ],
             [
              0.7777777777777778,
              "#fb9f3a"
             ],
             [
              0.8888888888888888,
              "#fdca26"
             ],
             [
              1,
              "#f0f921"
             ]
            ],
            "type": "histogram2d"
           }
          ],
          "histogram2dcontour": [
           {
            "colorbar": {
             "outlinewidth": 0,
             "ticks": ""
            },
            "colorscale": [
             [
              0,
              "#0d0887"
             ],
             [
              0.1111111111111111,
              "#46039f"
             ],
             [
              0.2222222222222222,
              "#7201a8"
             ],
             [
              0.3333333333333333,
              "#9c179e"
             ],
             [
              0.4444444444444444,
              "#bd3786"
             ],
             [
              0.5555555555555556,
              "#d8576b"
             ],
             [
              0.6666666666666666,
              "#ed7953"
             ],
             [
              0.7777777777777778,
              "#fb9f3a"
             ],
             [
              0.8888888888888888,
              "#fdca26"
             ],
             [
              1,
              "#f0f921"
             ]
            ],
            "type": "histogram2dcontour"
           }
          ],
          "mesh3d": [
           {
            "colorbar": {
             "outlinewidth": 0,
             "ticks": ""
            },
            "type": "mesh3d"
           }
          ],
          "parcoords": [
           {
            "line": {
             "colorbar": {
              "outlinewidth": 0,
              "ticks": ""
             }
            },
            "type": "parcoords"
           }
          ],
          "pie": [
           {
            "automargin": true,
            "type": "pie"
           }
          ],
          "scatter": [
           {
            "marker": {
             "colorbar": {
              "outlinewidth": 0,
              "ticks": ""
             }
            },
            "type": "scatter"
           }
          ],
          "scatter3d": [
           {
            "line": {
             "colorbar": {
              "outlinewidth": 0,
              "ticks": ""
             }
            },
            "marker": {
             "colorbar": {
              "outlinewidth": 0,
              "ticks": ""
             }
            },
            "type": "scatter3d"
           }
          ],
          "scattercarpet": [
           {
            "marker": {
             "colorbar": {
              "outlinewidth": 0,
              "ticks": ""
             }
            },
            "type": "scattercarpet"
           }
          ],
          "scattergeo": [
           {
            "marker": {
             "colorbar": {
              "outlinewidth": 0,
              "ticks": ""
             }
            },
            "type": "scattergeo"
           }
          ],
          "scattergl": [
           {
            "marker": {
             "colorbar": {
              "outlinewidth": 0,
              "ticks": ""
             }
            },
            "type": "scattergl"
           }
          ],
          "scattermapbox": [
           {
            "marker": {
             "colorbar": {
              "outlinewidth": 0,
              "ticks": ""
             }
            },
            "type": "scattermapbox"
           }
          ],
          "scatterpolar": [
           {
            "marker": {
             "colorbar": {
              "outlinewidth": 0,
              "ticks": ""
             }
            },
            "type": "scatterpolar"
           }
          ],
          "scatterpolargl": [
           {
            "marker": {
             "colorbar": {
              "outlinewidth": 0,
              "ticks": ""
             }
            },
            "type": "scatterpolargl"
           }
          ],
          "scatterternary": [
           {
            "marker": {
             "colorbar": {
              "outlinewidth": 0,
              "ticks": ""
             }
            },
            "type": "scatterternary"
           }
          ],
          "surface": [
           {
            "colorbar": {
             "outlinewidth": 0,
             "ticks": ""
            },
            "colorscale": [
             [
              0,
              "#0d0887"
             ],
             [
              0.1111111111111111,
              "#46039f"
             ],
             [
              0.2222222222222222,
              "#7201a8"
             ],
             [
              0.3333333333333333,
              "#9c179e"
             ],
             [
              0.4444444444444444,
              "#bd3786"
             ],
             [
              0.5555555555555556,
              "#d8576b"
             ],
             [
              0.6666666666666666,
              "#ed7953"
             ],
             [
              0.7777777777777778,
              "#fb9f3a"
             ],
             [
              0.8888888888888888,
              "#fdca26"
             ],
             [
              1,
              "#f0f921"
             ]
            ],
            "type": "surface"
           }
          ],
          "table": [
           {
            "cells": {
             "fill": {
              "color": "#EBF0F8"
             },
             "line": {
              "color": "white"
             }
            },
            "header": {
             "fill": {
              "color": "#C8D4E3"
             },
             "line": {
              "color": "white"
             }
            },
            "type": "table"
           }
          ]
         },
         "layout": {
          "annotationdefaults": {
           "arrowcolor": "#2a3f5f",
           "arrowhead": 0,
           "arrowwidth": 1
          },
          "autotypenumbers": "strict",
          "coloraxis": {
           "colorbar": {
            "outlinewidth": 0,
            "ticks": ""
           }
          },
          "colorscale": {
           "diverging": [
            [
             0,
             "#8e0152"
            ],
            [
             0.1,
             "#c51b7d"
            ],
            [
             0.2,
             "#de77ae"
            ],
            [
             0.3,
             "#f1b6da"
            ],
            [
             0.4,
             "#fde0ef"
            ],
            [
             0.5,
             "#f7f7f7"
            ],
            [
             0.6,
             "#e6f5d0"
            ],
            [
             0.7,
             "#b8e186"
            ],
            [
             0.8,
             "#7fbc41"
            ],
            [
             0.9,
             "#4d9221"
            ],
            [
             1,
             "#276419"
            ]
           ],
           "sequential": [
            [
             0,
             "#0d0887"
            ],
            [
             0.1111111111111111,
             "#46039f"
            ],
            [
             0.2222222222222222,
             "#7201a8"
            ],
            [
             0.3333333333333333,
             "#9c179e"
            ],
            [
             0.4444444444444444,
             "#bd3786"
            ],
            [
             0.5555555555555556,
             "#d8576b"
            ],
            [
             0.6666666666666666,
             "#ed7953"
            ],
            [
             0.7777777777777778,
             "#fb9f3a"
            ],
            [
             0.8888888888888888,
             "#fdca26"
            ],
            [
             1,
             "#f0f921"
            ]
           ],
           "sequentialminus": [
            [
             0,
             "#0d0887"
            ],
            [
             0.1111111111111111,
             "#46039f"
            ],
            [
             0.2222222222222222,
             "#7201a8"
            ],
            [
             0.3333333333333333,
             "#9c179e"
            ],
            [
             0.4444444444444444,
             "#bd3786"
            ],
            [
             0.5555555555555556,
             "#d8576b"
            ],
            [
             0.6666666666666666,
             "#ed7953"
            ],
            [
             0.7777777777777778,
             "#fb9f3a"
            ],
            [
             0.8888888888888888,
             "#fdca26"
            ],
            [
             1,
             "#f0f921"
            ]
           ]
          },
          "colorway": [
           "#636efa",
           "#EF553B",
           "#00cc96",
           "#ab63fa",
           "#FFA15A",
           "#19d3f3",
           "#FF6692",
           "#B6E880",
           "#FF97FF",
           "#FECB52"
          ],
          "font": {
           "color": "#2a3f5f"
          },
          "geo": {
           "bgcolor": "white",
           "lakecolor": "white",
           "landcolor": "#E5ECF6",
           "showlakes": true,
           "showland": true,
           "subunitcolor": "white"
          },
          "hoverlabel": {
           "align": "left"
          },
          "hovermode": "closest",
          "mapbox": {
           "style": "light"
          },
          "paper_bgcolor": "white",
          "plot_bgcolor": "#E5ECF6",
          "polar": {
           "angularaxis": {
            "gridcolor": "white",
            "linecolor": "white",
            "ticks": ""
           },
           "bgcolor": "#E5ECF6",
           "radialaxis": {
            "gridcolor": "white",
            "linecolor": "white",
            "ticks": ""
           }
          },
          "scene": {
           "xaxis": {
            "backgroundcolor": "#E5ECF6",
            "gridcolor": "white",
            "gridwidth": 2,
            "linecolor": "white",
            "showbackground": true,
            "ticks": "",
            "zerolinecolor": "white"
           },
           "yaxis": {
            "backgroundcolor": "#E5ECF6",
            "gridcolor": "white",
            "gridwidth": 2,
            "linecolor": "white",
            "showbackground": true,
            "ticks": "",
            "zerolinecolor": "white"
           },
           "zaxis": {
            "backgroundcolor": "#E5ECF6",
            "gridcolor": "white",
            "gridwidth": 2,
            "linecolor": "white",
            "showbackground": true,
            "ticks": "",
            "zerolinecolor": "white"
           }
          },
          "shapedefaults": {
           "line": {
            "color": "#2a3f5f"
           }
          },
          "ternary": {
           "aaxis": {
            "gridcolor": "white",
            "linecolor": "white",
            "ticks": ""
           },
           "baxis": {
            "gridcolor": "white",
            "linecolor": "white",
            "ticks": ""
           },
           "bgcolor": "#E5ECF6",
           "caxis": {
            "gridcolor": "white",
            "linecolor": "white",
            "ticks": ""
           }
          },
          "title": {
           "x": 0.05
          },
          "xaxis": {
           "automargin": true,
           "gridcolor": "white",
           "linecolor": "white",
           "ticks": "",
           "title": {
            "standoff": 15
           },
           "zerolinecolor": "white",
           "zerolinewidth": 2
          },
          "yaxis": {
           "automargin": true,
           "gridcolor": "white",
           "linecolor": "white",
           "ticks": "",
           "title": {
            "standoff": 15
           },
           "zerolinecolor": "white",
           "zerolinewidth": 2
          }
         }
        },
        "xaxis": {
         "anchor": "y",
         "domain": [
          0,
          1
         ],
         "rangeselector": {
          "buttons": [
           {
            "count": 1,
            "label": "1YTD",
            "step": "year",
            "stepmode": "todate"
           },
           {
            "count": 3,
            "label": "3YTD",
            "step": "year",
            "stepmode": "todate"
           },
           {
            "count": 5,
            "label": "5YTD",
            "step": "year",
            "stepmode": "todate"
           },
           {
            "count": 10,
            "label": "10YTD",
            "step": "year",
            "stepmode": "todate"
           },
           {
            "count": 20,
            "label": "20YTD",
            "step": "year",
            "stepmode": "todate"
           },
           {
            "count": 30,
            "label": "30YTD",
            "step": "year",
            "stepmode": "todate"
           },
           {
            "count": 50,
            "label": "50YTD",
            "step": "year",
            "stepmode": "todate"
           },
           {
            "count": 100,
            "label": "100YTD",
            "step": "year",
            "stepmode": "todate"
           }
          ]
         },
         "title": {
          "text": "release_date"
         }
        },
        "yaxis": {
         "anchor": "x",
         "domain": [
          0,
          1
         ],
         "title": {
          "text": "value"
         }
        }
       }
      }
     },
     "metadata": {},
     "output_type": "display_data"
    }
   ],
   "source": [
    "plot_line(genre_per_period(window=window,cumfunc=cumfunc,normalize=normalize,pct_change_bool=pct_change_bool))"
   ]
  },
  {
   "cell_type": "code",
   "execution_count": 87,
   "metadata": {},
   "outputs": [],
   "source": [
    "def two_trends(event,nb,genre):\n",
    "    \"\"\"this is a helper function to help us build some plots with different trends before and after the event\n",
    "\n",
    "    Args:\n",
    "        event (dataframe): event is the event dataframe \n",
    "        nb (int): this is the number of the event\n",
    "        genre (str): this is the genre of interest for the plot\n",
    "    \"\"\"\n",
    "    begin = event.iloc[nb,:].begin_date - relativedelta(years=8)\n",
    "    end = event.iloc[nb,:].begin_date + relativedelta(years=7)\n",
    "    temp1 = genre_per_date[begin: event.iloc[nb,:].begin_date].resample(\"2Y\").sum()\n",
    "    temp1['begin'] = '1'\n",
    "    temp2 = genre_per_date[event.iloc[nb,:].begin_date: end].resample(\"2Y\").sum()\n",
    "    temp2['begin'] = '0'\n",
    "    res = pd.concat([temp1,temp2])\n",
    "    res['time'] = res.index.year\n",
    "    sns.lmplot(data=res, x='time', y=genre, hue=\"begin\")"
   ]
  },
  {
   "cell_type": "markdown",
   "metadata": {},
   "source": [
    "## Impact of Wars"
   ]
  },
  {
   "cell_type": "code",
   "execution_count": 88,
   "metadata": {},
   "outputs": [
    {
     "name": "stdout",
     "output_type": "stream",
     "text": [
      "Number of genres: 24 \n",
      "{'historical', 'war', 'documentary', 'experimental', 'science-fiction', 'black and white', 'comedy', 'religious', 'romance', 'action', 'crime', 'propaganda', 'family', 'erotic', 'western', 'diversity', 'musical', 'Other', 'fantasy', 'horror', 'drama', 'thriller', 'animation', 'silent'}\n"
     ]
    }
   ],
   "source": [
    "metagenres = pd.Series(flatten_list(list(metadata.metagenre)))\n",
    "n_metagenres = len(set(metagenres))\n",
    "print(\"Number of genres: {} \".format(n_metagenres))\n",
    "print(set(metagenres))"
   ]
  },
  {
   "cell_type": "markdown",
   "metadata": {},
   "source": [
    "Do violance make people want to watch violence? "
   ]
  },
  {
   "cell_type": "code",
   "execution_count": 89,
   "metadata": {},
   "outputs": [
    {
     "data": {
      "application/vnd.plotly.v1+json": {
       "config": {
        "plotlyServerURL": "https://plot.ly"
       },
       "data": [
        {
         "hovertemplate": "variable=war<br>release_date=%{x}<br>number of movie per year=%{y}<extra></extra>",
         "legendgroup": "war",
         "line": {
          "color": "#636efa",
          "dash": "solid"
         },
         "marker": {
          "symbol": "circle"
         },
         "mode": "lines",
         "name": "war",
         "orientation": "v",
         "showlegend": true,
         "type": "scatter",
         "x": [
          "1888-12-31T00:00:00",
          "1891-12-31T00:00:00",
          "1894-12-31T00:00:00",
          "1897-12-31T00:00:00",
          "1900-12-31T00:00:00",
          "1903-12-31T00:00:00",
          "1906-12-31T00:00:00",
          "1909-12-31T00:00:00",
          "1912-12-31T00:00:00",
          "1915-12-31T00:00:00",
          "1918-12-31T00:00:00",
          "1921-12-31T00:00:00",
          "1924-12-31T00:00:00",
          "1927-12-31T00:00:00",
          "1930-12-31T00:00:00",
          "1933-12-31T00:00:00",
          "1936-12-31T00:00:00",
          "1939-12-31T00:00:00",
          "1942-12-31T00:00:00",
          "1945-12-31T00:00:00",
          "1948-12-31T00:00:00",
          "1951-12-31T00:00:00",
          "1954-12-31T00:00:00",
          "1957-12-31T00:00:00",
          "1960-12-31T00:00:00",
          "1963-12-31T00:00:00",
          "1966-12-31T00:00:00",
          "1969-12-31T00:00:00",
          "1972-12-31T00:00:00",
          "1975-12-31T00:00:00",
          "1978-12-31T00:00:00",
          "1981-12-31T00:00:00",
          "1984-12-31T00:00:00",
          "1987-12-31T00:00:00",
          "1990-12-31T00:00:00",
          "1993-12-31T00:00:00",
          "1996-12-31T00:00:00",
          "1999-12-31T00:00:00",
          "2002-12-31T00:00:00",
          "2005-12-31T00:00:00",
          "2008-12-31T00:00:00",
          "2011-12-31T00:00:00",
          "2014-12-31T00:00:00",
          "2017-12-31T00:00:00"
         ],
         "xaxis": "x",
         "y": [
          0,
          0,
          0,
          0,
          2,
          0,
          0,
          0,
          1,
          2,
          6,
          2,
          0,
          7,
          9,
          12,
          14,
          25,
          68,
          125,
          17,
          28,
          30,
          37,
          50,
          37,
          40,
          38,
          31,
          17,
          19,
          34,
          16,
          37,
          32,
          21,
          28,
          24,
          39,
          74,
          90,
          57,
          7,
          0
         ],
         "yaxis": "y"
        }
       ],
       "layout": {
        "annotations": [
         {
          "showarrow": false,
          "text": "WW2",
          "x": "1946-01-01T00:00:00",
          "xanchor": "right",
          "xref": "x",
          "y": 1,
          "yanchor": "top",
          "yref": "y domain"
         }
        ],
        "legend": {
         "title": {
          "text": "variable"
         },
         "tracegroupgap": 0
        },
        "shapes": [
         {
          "type": "rect",
          "x0": "1946-01-01T00:00:00",
          "x1": "1939-01-01T00:00:00",
          "xref": "x",
          "y0": 0,
          "y1": 1,
          "yref": "y domain"
         }
        ],
        "template": {
         "data": {
          "bar": [
           {
            "error_x": {
             "color": "#2a3f5f"
            },
            "error_y": {
             "color": "#2a3f5f"
            },
            "marker": {
             "line": {
              "color": "#E5ECF6",
              "width": 0.5
             },
             "pattern": {
              "fillmode": "overlay",
              "size": 10,
              "solidity": 0.2
             }
            },
            "type": "bar"
           }
          ],
          "barpolar": [
           {
            "marker": {
             "line": {
              "color": "#E5ECF6",
              "width": 0.5
             },
             "pattern": {
              "fillmode": "overlay",
              "size": 10,
              "solidity": 0.2
             }
            },
            "type": "barpolar"
           }
          ],
          "carpet": [
           {
            "aaxis": {
             "endlinecolor": "#2a3f5f",
             "gridcolor": "white",
             "linecolor": "white",
             "minorgridcolor": "white",
             "startlinecolor": "#2a3f5f"
            },
            "baxis": {
             "endlinecolor": "#2a3f5f",
             "gridcolor": "white",
             "linecolor": "white",
             "minorgridcolor": "white",
             "startlinecolor": "#2a3f5f"
            },
            "type": "carpet"
           }
          ],
          "choropleth": [
           {
            "colorbar": {
             "outlinewidth": 0,
             "ticks": ""
            },
            "type": "choropleth"
           }
          ],
          "contour": [
           {
            "colorbar": {
             "outlinewidth": 0,
             "ticks": ""
            },
            "colorscale": [
             [
              0,
              "#0d0887"
             ],
             [
              0.1111111111111111,
              "#46039f"
             ],
             [
              0.2222222222222222,
              "#7201a8"
             ],
             [
              0.3333333333333333,
              "#9c179e"
             ],
             [
              0.4444444444444444,
              "#bd3786"
             ],
             [
              0.5555555555555556,
              "#d8576b"
             ],
             [
              0.6666666666666666,
              "#ed7953"
             ],
             [
              0.7777777777777778,
              "#fb9f3a"
             ],
             [
              0.8888888888888888,
              "#fdca26"
             ],
             [
              1,
              "#f0f921"
             ]
            ],
            "type": "contour"
           }
          ],
          "contourcarpet": [
           {
            "colorbar": {
             "outlinewidth": 0,
             "ticks": ""
            },
            "type": "contourcarpet"
           }
          ],
          "heatmap": [
           {
            "colorbar": {
             "outlinewidth": 0,
             "ticks": ""
            },
            "colorscale": [
             [
              0,
              "#0d0887"
             ],
             [
              0.1111111111111111,
              "#46039f"
             ],
             [
              0.2222222222222222,
              "#7201a8"
             ],
             [
              0.3333333333333333,
              "#9c179e"
             ],
             [
              0.4444444444444444,
              "#bd3786"
             ],
             [
              0.5555555555555556,
              "#d8576b"
             ],
             [
              0.6666666666666666,
              "#ed7953"
             ],
             [
              0.7777777777777778,
              "#fb9f3a"
             ],
             [
              0.8888888888888888,
              "#fdca26"
             ],
             [
              1,
              "#f0f921"
             ]
            ],
            "type": "heatmap"
           }
          ],
          "heatmapgl": [
           {
            "colorbar": {
             "outlinewidth": 0,
             "ticks": ""
            },
            "colorscale": [
             [
              0,
              "#0d0887"
             ],
             [
              0.1111111111111111,
              "#46039f"
             ],
             [
              0.2222222222222222,
              "#7201a8"
             ],
             [
              0.3333333333333333,
              "#9c179e"
             ],
             [
              0.4444444444444444,
              "#bd3786"
             ],
             [
              0.5555555555555556,
              "#d8576b"
             ],
             [
              0.6666666666666666,
              "#ed7953"
             ],
             [
              0.7777777777777778,
              "#fb9f3a"
             ],
             [
              0.8888888888888888,
              "#fdca26"
             ],
             [
              1,
              "#f0f921"
             ]
            ],
            "type": "heatmapgl"
           }
          ],
          "histogram": [
           {
            "marker": {
             "pattern": {
              "fillmode": "overlay",
              "size": 10,
              "solidity": 0.2
             }
            },
            "type": "histogram"
           }
          ],
          "histogram2d": [
           {
            "colorbar": {
             "outlinewidth": 0,
             "ticks": ""
            },
            "colorscale": [
             [
              0,
              "#0d0887"
             ],
             [
              0.1111111111111111,
              "#46039f"
             ],
             [
              0.2222222222222222,
              "#7201a8"
             ],
             [
              0.3333333333333333,
              "#9c179e"
             ],
             [
              0.4444444444444444,
              "#bd3786"
             ],
             [
              0.5555555555555556,
              "#d8576b"
             ],
             [
              0.6666666666666666,
              "#ed7953"
             ],
             [
              0.7777777777777778,
              "#fb9f3a"
             ],
             [
              0.8888888888888888,
              "#fdca26"
             ],
             [
              1,
              "#f0f921"
             ]
            ],
            "type": "histogram2d"
           }
          ],
          "histogram2dcontour": [
           {
            "colorbar": {
             "outlinewidth": 0,
             "ticks": ""
            },
            "colorscale": [
             [
              0,
              "#0d0887"
             ],
             [
              0.1111111111111111,
              "#46039f"
             ],
             [
              0.2222222222222222,
              "#7201a8"
             ],
             [
              0.3333333333333333,
              "#9c179e"
             ],
             [
              0.4444444444444444,
              "#bd3786"
             ],
             [
              0.5555555555555556,
              "#d8576b"
             ],
             [
              0.6666666666666666,
              "#ed7953"
             ],
             [
              0.7777777777777778,
              "#fb9f3a"
             ],
             [
              0.8888888888888888,
              "#fdca26"
             ],
             [
              1,
              "#f0f921"
             ]
            ],
            "type": "histogram2dcontour"
           }
          ],
          "mesh3d": [
           {
            "colorbar": {
             "outlinewidth": 0,
             "ticks": ""
            },
            "type": "mesh3d"
           }
          ],
          "parcoords": [
           {
            "line": {
             "colorbar": {
              "outlinewidth": 0,
              "ticks": ""
             }
            },
            "type": "parcoords"
           }
          ],
          "pie": [
           {
            "automargin": true,
            "type": "pie"
           }
          ],
          "scatter": [
           {
            "marker": {
             "colorbar": {
              "outlinewidth": 0,
              "ticks": ""
             }
            },
            "type": "scatter"
           }
          ],
          "scatter3d": [
           {
            "line": {
             "colorbar": {
              "outlinewidth": 0,
              "ticks": ""
             }
            },
            "marker": {
             "colorbar": {
              "outlinewidth": 0,
              "ticks": ""
             }
            },
            "type": "scatter3d"
           }
          ],
          "scattercarpet": [
           {
            "marker": {
             "colorbar": {
              "outlinewidth": 0,
              "ticks": ""
             }
            },
            "type": "scattercarpet"
           }
          ],
          "scattergeo": [
           {
            "marker": {
             "colorbar": {
              "outlinewidth": 0,
              "ticks": ""
             }
            },
            "type": "scattergeo"
           }
          ],
          "scattergl": [
           {
            "marker": {
             "colorbar": {
              "outlinewidth": 0,
              "ticks": ""
             }
            },
            "type": "scattergl"
           }
          ],
          "scattermapbox": [
           {
            "marker": {
             "colorbar": {
              "outlinewidth": 0,
              "ticks": ""
             }
            },
            "type": "scattermapbox"
           }
          ],
          "scatterpolar": [
           {
            "marker": {
             "colorbar": {
              "outlinewidth": 0,
              "ticks": ""
             }
            },
            "type": "scatterpolar"
           }
          ],
          "scatterpolargl": [
           {
            "marker": {
             "colorbar": {
              "outlinewidth": 0,
              "ticks": ""
             }
            },
            "type": "scatterpolargl"
           }
          ],
          "scatterternary": [
           {
            "marker": {
             "colorbar": {
              "outlinewidth": 0,
              "ticks": ""
             }
            },
            "type": "scatterternary"
           }
          ],
          "surface": [
           {
            "colorbar": {
             "outlinewidth": 0,
             "ticks": ""
            },
            "colorscale": [
             [
              0,
              "#0d0887"
             ],
             [
              0.1111111111111111,
              "#46039f"
             ],
             [
              0.2222222222222222,
              "#7201a8"
             ],
             [
              0.3333333333333333,
              "#9c179e"
             ],
             [
              0.4444444444444444,
              "#bd3786"
             ],
             [
              0.5555555555555556,
              "#d8576b"
             ],
             [
              0.6666666666666666,
              "#ed7953"
             ],
             [
              0.7777777777777778,
              "#fb9f3a"
             ],
             [
              0.8888888888888888,
              "#fdca26"
             ],
             [
              1,
              "#f0f921"
             ]
            ],
            "type": "surface"
           }
          ],
          "table": [
           {
            "cells": {
             "fill": {
              "color": "#EBF0F8"
             },
             "line": {
              "color": "white"
             }
            },
            "header": {
             "fill": {
              "color": "#C8D4E3"
             },
             "line": {
              "color": "white"
             }
            },
            "type": "table"
           }
          ]
         },
         "layout": {
          "annotationdefaults": {
           "arrowcolor": "#2a3f5f",
           "arrowhead": 0,
           "arrowwidth": 1
          },
          "autotypenumbers": "strict",
          "coloraxis": {
           "colorbar": {
            "outlinewidth": 0,
            "ticks": ""
           }
          },
          "colorscale": {
           "diverging": [
            [
             0,
             "#8e0152"
            ],
            [
             0.1,
             "#c51b7d"
            ],
            [
             0.2,
             "#de77ae"
            ],
            [
             0.3,
             "#f1b6da"
            ],
            [
             0.4,
             "#fde0ef"
            ],
            [
             0.5,
             "#f7f7f7"
            ],
            [
             0.6,
             "#e6f5d0"
            ],
            [
             0.7,
             "#b8e186"
            ],
            [
             0.8,
             "#7fbc41"
            ],
            [
             0.9,
             "#4d9221"
            ],
            [
             1,
             "#276419"
            ]
           ],
           "sequential": [
            [
             0,
             "#0d0887"
            ],
            [
             0.1111111111111111,
             "#46039f"
            ],
            [
             0.2222222222222222,
             "#7201a8"
            ],
            [
             0.3333333333333333,
             "#9c179e"
            ],
            [
             0.4444444444444444,
             "#bd3786"
            ],
            [
             0.5555555555555556,
             "#d8576b"
            ],
            [
             0.6666666666666666,
             "#ed7953"
            ],
            [
             0.7777777777777778,
             "#fb9f3a"
            ],
            [
             0.8888888888888888,
             "#fdca26"
            ],
            [
             1,
             "#f0f921"
            ]
           ],
           "sequentialminus": [
            [
             0,
             "#0d0887"
            ],
            [
             0.1111111111111111,
             "#46039f"
            ],
            [
             0.2222222222222222,
             "#7201a8"
            ],
            [
             0.3333333333333333,
             "#9c179e"
            ],
            [
             0.4444444444444444,
             "#bd3786"
            ],
            [
             0.5555555555555556,
             "#d8576b"
            ],
            [
             0.6666666666666666,
             "#ed7953"
            ],
            [
             0.7777777777777778,
             "#fb9f3a"
            ],
            [
             0.8888888888888888,
             "#fdca26"
            ],
            [
             1,
             "#f0f921"
            ]
           ]
          },
          "colorway": [
           "#636efa",
           "#EF553B",
           "#00cc96",
           "#ab63fa",
           "#FFA15A",
           "#19d3f3",
           "#FF6692",
           "#B6E880",
           "#FF97FF",
           "#FECB52"
          ],
          "font": {
           "color": "#2a3f5f"
          },
          "geo": {
           "bgcolor": "white",
           "lakecolor": "white",
           "landcolor": "#E5ECF6",
           "showlakes": true,
           "showland": true,
           "subunitcolor": "white"
          },
          "hoverlabel": {
           "align": "left"
          },
          "hovermode": "closest",
          "mapbox": {
           "style": "light"
          },
          "paper_bgcolor": "white",
          "plot_bgcolor": "#E5ECF6",
          "polar": {
           "angularaxis": {
            "gridcolor": "white",
            "linecolor": "white",
            "ticks": ""
           },
           "bgcolor": "#E5ECF6",
           "radialaxis": {
            "gridcolor": "white",
            "linecolor": "white",
            "ticks": ""
           }
          },
          "scene": {
           "xaxis": {
            "backgroundcolor": "#E5ECF6",
            "gridcolor": "white",
            "gridwidth": 2,
            "linecolor": "white",
            "showbackground": true,
            "ticks": "",
            "zerolinecolor": "white"
           },
           "yaxis": {
            "backgroundcolor": "#E5ECF6",
            "gridcolor": "white",
            "gridwidth": 2,
            "linecolor": "white",
            "showbackground": true,
            "ticks": "",
            "zerolinecolor": "white"
           },
           "zaxis": {
            "backgroundcolor": "#E5ECF6",
            "gridcolor": "white",
            "gridwidth": 2,
            "linecolor": "white",
            "showbackground": true,
            "ticks": "",
            "zerolinecolor": "white"
           }
          },
          "shapedefaults": {
           "line": {
            "color": "#2a3f5f"
           }
          },
          "ternary": {
           "aaxis": {
            "gridcolor": "white",
            "linecolor": "white",
            "ticks": ""
           },
           "baxis": {
            "gridcolor": "white",
            "linecolor": "white",
            "ticks": ""
           },
           "bgcolor": "#E5ECF6",
           "caxis": {
            "gridcolor": "white",
            "linecolor": "white",
            "ticks": ""
           }
          },
          "title": {
           "x": 0.05
          },
          "xaxis": {
           "automargin": true,
           "gridcolor": "white",
           "linecolor": "white",
           "ticks": "",
           "title": {
            "standoff": 15
           },
           "zerolinecolor": "white",
           "zerolinewidth": 2
          },
          "yaxis": {
           "automargin": true,
           "gridcolor": "white",
           "linecolor": "white",
           "ticks": "",
           "title": {
            "standoff": 15
           },
           "zerolinecolor": "white",
           "zerolinewidth": 2
          }
         }
        },
        "title": {
         "text": "war movies during the past centurywith a focus on WW2 period"
        },
        "xaxis": {
         "anchor": "y",
         "domain": [
          0,
          1
         ],
         "title": {
          "text": "release_date"
         }
        },
        "yaxis": {
         "anchor": "x",
         "domain": [
          0,
          1
         ],
         "title": {
          "text": "number of movie per year"
         }
        }
       }
      }
     },
     "metadata": {},
     "output_type": "display_data"
    }
   ],
   "source": [
    "fig = px.line(genre_per_date.resample(\"3Y\").sum().war, labels= {'value' : 'number of movie per year'}, title = 'war movies during the past centurywith a focus on WW2 period')\n",
    "fig.add_vrect(x0=pd.to_datetime(1946, format=\"%Y\"), x1=pd.to_datetime(1939, format=\"%Y\"), \n",
    "              annotation_text=\"WW2\")\n",
    "\n",
    "fig.show()"
   ]
  },
  {
   "cell_type": "code",
   "execution_count": 90,
   "metadata": {},
   "outputs": [
    {
     "data": {
      "application/vnd.plotly.v1+json": {
       "config": {
        "plotlyServerURL": "https://plot.ly"
       },
       "data": [
        {
         "hovertemplate": "variable=comedy<br>release_date=%{x}<br>number of movie per year=%{y}<extra></extra>",
         "legendgroup": "comedy",
         "line": {
          "color": "#636efa",
          "dash": "solid"
         },
         "marker": {
          "symbol": "circle"
         },
         "mode": "lines",
         "name": "comedy",
         "orientation": "v",
         "showlegend": true,
         "type": "scatter",
         "x": [
          "1888-12-31T00:00:00",
          "1891-12-31T00:00:00",
          "1894-12-31T00:00:00",
          "1897-12-31T00:00:00",
          "1900-12-31T00:00:00",
          "1903-12-31T00:00:00",
          "1906-12-31T00:00:00",
          "1909-12-31T00:00:00",
          "1912-12-31T00:00:00",
          "1915-12-31T00:00:00",
          "1918-12-31T00:00:00",
          "1921-12-31T00:00:00",
          "1924-12-31T00:00:00",
          "1927-12-31T00:00:00",
          "1930-12-31T00:00:00",
          "1933-12-31T00:00:00",
          "1936-12-31T00:00:00",
          "1939-12-31T00:00:00",
          "1942-12-31T00:00:00",
          "1945-12-31T00:00:00",
          "1948-12-31T00:00:00",
          "1951-12-31T00:00:00",
          "1954-12-31T00:00:00",
          "1957-12-31T00:00:00",
          "1960-12-31T00:00:00",
          "1963-12-31T00:00:00",
          "1966-12-31T00:00:00",
          "1969-12-31T00:00:00",
          "1972-12-31T00:00:00",
          "1975-12-31T00:00:00",
          "1978-12-31T00:00:00",
          "1981-12-31T00:00:00",
          "1984-12-31T00:00:00",
          "1987-12-31T00:00:00",
          "1990-12-31T00:00:00",
          "1993-12-31T00:00:00",
          "1996-12-31T00:00:00",
          "1999-12-31T00:00:00",
          "2002-12-31T00:00:00",
          "2005-12-31T00:00:00",
          "2008-12-31T00:00:00",
          "2011-12-31T00:00:00",
          "2014-12-31T00:00:00",
          "2017-12-31T00:00:00"
         ],
         "xaxis": "x",
         "y": [
          0,
          0,
          0,
          4,
          4,
          3,
          3,
          8,
          13,
          102,
          69,
          66,
          61,
          117,
          137,
          202,
          299,
          261,
          281,
          216,
          189,
          253,
          212,
          204,
          174,
          187,
          192,
          217,
          224,
          170,
          194,
          197,
          192,
          246,
          269,
          296,
          356,
          429,
          578,
          736,
          794,
          705,
          135,
          0
         ],
         "yaxis": "y"
        }
       ],
       "layout": {
        "annotations": [
         {
          "showarrow": false,
          "text": "WW2",
          "x": "1946-01-01T00:00:00",
          "xanchor": "right",
          "xref": "x",
          "y": 1,
          "yanchor": "top",
          "yref": "y domain"
         }
        ],
        "legend": {
         "title": {
          "text": "variable"
         },
         "tracegroupgap": 0
        },
        "shapes": [
         {
          "type": "rect",
          "x0": "1946-01-01T00:00:00",
          "x1": "1939-01-01T00:00:00",
          "xref": "x",
          "y0": 0,
          "y1": 1,
          "yref": "y domain"
         }
        ],
        "template": {
         "data": {
          "bar": [
           {
            "error_x": {
             "color": "#2a3f5f"
            },
            "error_y": {
             "color": "#2a3f5f"
            },
            "marker": {
             "line": {
              "color": "#E5ECF6",
              "width": 0.5
             },
             "pattern": {
              "fillmode": "overlay",
              "size": 10,
              "solidity": 0.2
             }
            },
            "type": "bar"
           }
          ],
          "barpolar": [
           {
            "marker": {
             "line": {
              "color": "#E5ECF6",
              "width": 0.5
             },
             "pattern": {
              "fillmode": "overlay",
              "size": 10,
              "solidity": 0.2
             }
            },
            "type": "barpolar"
           }
          ],
          "carpet": [
           {
            "aaxis": {
             "endlinecolor": "#2a3f5f",
             "gridcolor": "white",
             "linecolor": "white",
             "minorgridcolor": "white",
             "startlinecolor": "#2a3f5f"
            },
            "baxis": {
             "endlinecolor": "#2a3f5f",
             "gridcolor": "white",
             "linecolor": "white",
             "minorgridcolor": "white",
             "startlinecolor": "#2a3f5f"
            },
            "type": "carpet"
           }
          ],
          "choropleth": [
           {
            "colorbar": {
             "outlinewidth": 0,
             "ticks": ""
            },
            "type": "choropleth"
           }
          ],
          "contour": [
           {
            "colorbar": {
             "outlinewidth": 0,
             "ticks": ""
            },
            "colorscale": [
             [
              0,
              "#0d0887"
             ],
             [
              0.1111111111111111,
              "#46039f"
             ],
             [
              0.2222222222222222,
              "#7201a8"
             ],
             [
              0.3333333333333333,
              "#9c179e"
             ],
             [
              0.4444444444444444,
              "#bd3786"
             ],
             [
              0.5555555555555556,
              "#d8576b"
             ],
             [
              0.6666666666666666,
              "#ed7953"
             ],
             [
              0.7777777777777778,
              "#fb9f3a"
             ],
             [
              0.8888888888888888,
              "#fdca26"
             ],
             [
              1,
              "#f0f921"
             ]
            ],
            "type": "contour"
           }
          ],
          "contourcarpet": [
           {
            "colorbar": {
             "outlinewidth": 0,
             "ticks": ""
            },
            "type": "contourcarpet"
           }
          ],
          "heatmap": [
           {
            "colorbar": {
             "outlinewidth": 0,
             "ticks": ""
            },
            "colorscale": [
             [
              0,
              "#0d0887"
             ],
             [
              0.1111111111111111,
              "#46039f"
             ],
             [
              0.2222222222222222,
              "#7201a8"
             ],
             [
              0.3333333333333333,
              "#9c179e"
             ],
             [
              0.4444444444444444,
              "#bd3786"
             ],
             [
              0.5555555555555556,
              "#d8576b"
             ],
             [
              0.6666666666666666,
              "#ed7953"
             ],
             [
              0.7777777777777778,
              "#fb9f3a"
             ],
             [
              0.8888888888888888,
              "#fdca26"
             ],
             [
              1,
              "#f0f921"
             ]
            ],
            "type": "heatmap"
           }
          ],
          "heatmapgl": [
           {
            "colorbar": {
             "outlinewidth": 0,
             "ticks": ""
            },
            "colorscale": [
             [
              0,
              "#0d0887"
             ],
             [
              0.1111111111111111,
              "#46039f"
             ],
             [
              0.2222222222222222,
              "#7201a8"
             ],
             [
              0.3333333333333333,
              "#9c179e"
             ],
             [
              0.4444444444444444,
              "#bd3786"
             ],
             [
              0.5555555555555556,
              "#d8576b"
             ],
             [
              0.6666666666666666,
              "#ed7953"
             ],
             [
              0.7777777777777778,
              "#fb9f3a"
             ],
             [
              0.8888888888888888,
              "#fdca26"
             ],
             [
              1,
              "#f0f921"
             ]
            ],
            "type": "heatmapgl"
           }
          ],
          "histogram": [
           {
            "marker": {
             "pattern": {
              "fillmode": "overlay",
              "size": 10,
              "solidity": 0.2
             }
            },
            "type": "histogram"
           }
          ],
          "histogram2d": [
           {
            "colorbar": {
             "outlinewidth": 0,
             "ticks": ""
            },
            "colorscale": [
             [
              0,
              "#0d0887"
             ],
             [
              0.1111111111111111,
              "#46039f"
             ],
             [
              0.2222222222222222,
              "#7201a8"
             ],
             [
              0.3333333333333333,
              "#9c179e"
             ],
             [
              0.4444444444444444,
              "#bd3786"
             ],
             [
              0.5555555555555556,
              "#d8576b"
             ],
             [
              0.6666666666666666,
              "#ed7953"
             ],
             [
              0.7777777777777778,
              "#fb9f3a"
             ],
             [
              0.8888888888888888,
              "#fdca26"
             ],
             [
              1,
              "#f0f921"
             ]
            ],
            "type": "histogram2d"
           }
          ],
          "histogram2dcontour": [
           {
            "colorbar": {
             "outlinewidth": 0,
             "ticks": ""
            },
            "colorscale": [
             [
              0,
              "#0d0887"
             ],
             [
              0.1111111111111111,
              "#46039f"
             ],
             [
              0.2222222222222222,
              "#7201a8"
             ],
             [
              0.3333333333333333,
              "#9c179e"
             ],
             [
              0.4444444444444444,
              "#bd3786"
             ],
             [
              0.5555555555555556,
              "#d8576b"
             ],
             [
              0.6666666666666666,
              "#ed7953"
             ],
             [
              0.7777777777777778,
              "#fb9f3a"
             ],
             [
              0.8888888888888888,
              "#fdca26"
             ],
             [
              1,
              "#f0f921"
             ]
            ],
            "type": "histogram2dcontour"
           }
          ],
          "mesh3d": [
           {
            "colorbar": {
             "outlinewidth": 0,
             "ticks": ""
            },
            "type": "mesh3d"
           }
          ],
          "parcoords": [
           {
            "line": {
             "colorbar": {
              "outlinewidth": 0,
              "ticks": ""
             }
            },
            "type": "parcoords"
           }
          ],
          "pie": [
           {
            "automargin": true,
            "type": "pie"
           }
          ],
          "scatter": [
           {
            "marker": {
             "colorbar": {
              "outlinewidth": 0,
              "ticks": ""
             }
            },
            "type": "scatter"
           }
          ],
          "scatter3d": [
           {
            "line": {
             "colorbar": {
              "outlinewidth": 0,
              "ticks": ""
             }
            },
            "marker": {
             "colorbar": {
              "outlinewidth": 0,
              "ticks": ""
             }
            },
            "type": "scatter3d"
           }
          ],
          "scattercarpet": [
           {
            "marker": {
             "colorbar": {
              "outlinewidth": 0,
              "ticks": ""
             }
            },
            "type": "scattercarpet"
           }
          ],
          "scattergeo": [
           {
            "marker": {
             "colorbar": {
              "outlinewidth": 0,
              "ticks": ""
             }
            },
            "type": "scattergeo"
           }
          ],
          "scattergl": [
           {
            "marker": {
             "colorbar": {
              "outlinewidth": 0,
              "ticks": ""
             }
            },
            "type": "scattergl"
           }
          ],
          "scattermapbox": [
           {
            "marker": {
             "colorbar": {
              "outlinewidth": 0,
              "ticks": ""
             }
            },
            "type": "scattermapbox"
           }
          ],
          "scatterpolar": [
           {
            "marker": {
             "colorbar": {
              "outlinewidth": 0,
              "ticks": ""
             }
            },
            "type": "scatterpolar"
           }
          ],
          "scatterpolargl": [
           {
            "marker": {
             "colorbar": {
              "outlinewidth": 0,
              "ticks": ""
             }
            },
            "type": "scatterpolargl"
           }
          ],
          "scatterternary": [
           {
            "marker": {
             "colorbar": {
              "outlinewidth": 0,
              "ticks": ""
             }
            },
            "type": "scatterternary"
           }
          ],
          "surface": [
           {
            "colorbar": {
             "outlinewidth": 0,
             "ticks": ""
            },
            "colorscale": [
             [
              0,
              "#0d0887"
             ],
             [
              0.1111111111111111,
              "#46039f"
             ],
             [
              0.2222222222222222,
              "#7201a8"
             ],
             [
              0.3333333333333333,
              "#9c179e"
             ],
             [
              0.4444444444444444,
              "#bd3786"
             ],
             [
              0.5555555555555556,
              "#d8576b"
             ],
             [
              0.6666666666666666,
              "#ed7953"
             ],
             [
              0.7777777777777778,
              "#fb9f3a"
             ],
             [
              0.8888888888888888,
              "#fdca26"
             ],
             [
              1,
              "#f0f921"
             ]
            ],
            "type": "surface"
           }
          ],
          "table": [
           {
            "cells": {
             "fill": {
              "color": "#EBF0F8"
             },
             "line": {
              "color": "white"
             }
            },
            "header": {
             "fill": {
              "color": "#C8D4E3"
             },
             "line": {
              "color": "white"
             }
            },
            "type": "table"
           }
          ]
         },
         "layout": {
          "annotationdefaults": {
           "arrowcolor": "#2a3f5f",
           "arrowhead": 0,
           "arrowwidth": 1
          },
          "autotypenumbers": "strict",
          "coloraxis": {
           "colorbar": {
            "outlinewidth": 0,
            "ticks": ""
           }
          },
          "colorscale": {
           "diverging": [
            [
             0,
             "#8e0152"
            ],
            [
             0.1,
             "#c51b7d"
            ],
            [
             0.2,
             "#de77ae"
            ],
            [
             0.3,
             "#f1b6da"
            ],
            [
             0.4,
             "#fde0ef"
            ],
            [
             0.5,
             "#f7f7f7"
            ],
            [
             0.6,
             "#e6f5d0"
            ],
            [
             0.7,
             "#b8e186"
            ],
            [
             0.8,
             "#7fbc41"
            ],
            [
             0.9,
             "#4d9221"
            ],
            [
             1,
             "#276419"
            ]
           ],
           "sequential": [
            [
             0,
             "#0d0887"
            ],
            [
             0.1111111111111111,
             "#46039f"
            ],
            [
             0.2222222222222222,
             "#7201a8"
            ],
            [
             0.3333333333333333,
             "#9c179e"
            ],
            [
             0.4444444444444444,
             "#bd3786"
            ],
            [
             0.5555555555555556,
             "#d8576b"
            ],
            [
             0.6666666666666666,
             "#ed7953"
            ],
            [
             0.7777777777777778,
             "#fb9f3a"
            ],
            [
             0.8888888888888888,
             "#fdca26"
            ],
            [
             1,
             "#f0f921"
            ]
           ],
           "sequentialminus": [
            [
             0,
             "#0d0887"
            ],
            [
             0.1111111111111111,
             "#46039f"
            ],
            [
             0.2222222222222222,
             "#7201a8"
            ],
            [
             0.3333333333333333,
             "#9c179e"
            ],
            [
             0.4444444444444444,
             "#bd3786"
            ],
            [
             0.5555555555555556,
             "#d8576b"
            ],
            [
             0.6666666666666666,
             "#ed7953"
            ],
            [
             0.7777777777777778,
             "#fb9f3a"
            ],
            [
             0.8888888888888888,
             "#fdca26"
            ],
            [
             1,
             "#f0f921"
            ]
           ]
          },
          "colorway": [
           "#636efa",
           "#EF553B",
           "#00cc96",
           "#ab63fa",
           "#FFA15A",
           "#19d3f3",
           "#FF6692",
           "#B6E880",
           "#FF97FF",
           "#FECB52"
          ],
          "font": {
           "color": "#2a3f5f"
          },
          "geo": {
           "bgcolor": "white",
           "lakecolor": "white",
           "landcolor": "#E5ECF6",
           "showlakes": true,
           "showland": true,
           "subunitcolor": "white"
          },
          "hoverlabel": {
           "align": "left"
          },
          "hovermode": "closest",
          "mapbox": {
           "style": "light"
          },
          "paper_bgcolor": "white",
          "plot_bgcolor": "#E5ECF6",
          "polar": {
           "angularaxis": {
            "gridcolor": "white",
            "linecolor": "white",
            "ticks": ""
           },
           "bgcolor": "#E5ECF6",
           "radialaxis": {
            "gridcolor": "white",
            "linecolor": "white",
            "ticks": ""
           }
          },
          "scene": {
           "xaxis": {
            "backgroundcolor": "#E5ECF6",
            "gridcolor": "white",
            "gridwidth": 2,
            "linecolor": "white",
            "showbackground": true,
            "ticks": "",
            "zerolinecolor": "white"
           },
           "yaxis": {
            "backgroundcolor": "#E5ECF6",
            "gridcolor": "white",
            "gridwidth": 2,
            "linecolor": "white",
            "showbackground": true,
            "ticks": "",
            "zerolinecolor": "white"
           },
           "zaxis": {
            "backgroundcolor": "#E5ECF6",
            "gridcolor": "white",
            "gridwidth": 2,
            "linecolor": "white",
            "showbackground": true,
            "ticks": "",
            "zerolinecolor": "white"
           }
          },
          "shapedefaults": {
           "line": {
            "color": "#2a3f5f"
           }
          },
          "ternary": {
           "aaxis": {
            "gridcolor": "white",
            "linecolor": "white",
            "ticks": ""
           },
           "baxis": {
            "gridcolor": "white",
            "linecolor": "white",
            "ticks": ""
           },
           "bgcolor": "#E5ECF6",
           "caxis": {
            "gridcolor": "white",
            "linecolor": "white",
            "ticks": ""
           }
          },
          "title": {
           "x": 0.05
          },
          "xaxis": {
           "automargin": true,
           "gridcolor": "white",
           "linecolor": "white",
           "ticks": "",
           "title": {
            "standoff": 15
           },
           "zerolinecolor": "white",
           "zerolinewidth": 2
          },
          "yaxis": {
           "automargin": true,
           "gridcolor": "white",
           "linecolor": "white",
           "ticks": "",
           "title": {
            "standoff": 15
           },
           "zerolinecolor": "white",
           "zerolinewidth": 2
          }
         }
        },
        "title": {
         "text": "comedy movies during the past centurywith a focus on WW2 period"
        },
        "xaxis": {
         "anchor": "y",
         "domain": [
          0,
          1
         ],
         "title": {
          "text": "release_date"
         }
        },
        "yaxis": {
         "anchor": "x",
         "domain": [
          0,
          1
         ],
         "title": {
          "text": "number of movie per year"
         }
        }
       }
      }
     },
     "metadata": {},
     "output_type": "display_data"
    }
   ],
   "source": [
    "fig = px.line(genre_per_date.resample(\"3Y\").sum().comedy, labels= {'value' : 'number of movie per year'}, title = 'comedy movies during the past centurywith a focus on WW2 period')\n",
    "fig.add_vrect(x0=pd.to_datetime(1946, format=\"%Y\"), x1=pd.to_datetime(1939, format=\"%Y\"), \n",
    "              annotation_text=\"WW2\")\n",
    "\n",
    "fig.show()"
   ]
  },
  {
   "cell_type": "code",
   "execution_count": 91,
   "metadata": {},
   "outputs": [],
   "source": [
    "y_event = 1945\n",
    "window_y = 5\n"
   ]
  },
  {
   "cell_type": "code",
   "execution_count": 92,
   "metadata": {},
   "outputs": [
    {
     "data": {
      "text/html": [
       "<div>\n",
       "<style scoped>\n",
       "    .dataframe tbody tr th:only-of-type {\n",
       "        vertical-align: middle;\n",
       "    }\n",
       "\n",
       "    .dataframe tbody tr th {\n",
       "        vertical-align: top;\n",
       "    }\n",
       "\n",
       "    .dataframe thead th {\n",
       "        text-align: right;\n",
       "    }\n",
       "</style>\n",
       "<table border=\"1\" class=\"dataframe\">\n",
       "  <thead>\n",
       "    <tr style=\"text-align: right;\">\n",
       "      <th></th>\n",
       "      <th>Before</th>\n",
       "      <th>After</th>\n",
       "    </tr>\n",
       "  </thead>\n",
       "  <tbody>\n",
       "    <tr>\n",
       "      <th>Other</th>\n",
       "      <td>1.0</td>\n",
       "      <td>14.0</td>\n",
       "    </tr>\n",
       "    <tr>\n",
       "      <th>action</th>\n",
       "      <td>47.0</td>\n",
       "      <td>200.0</td>\n",
       "    </tr>\n",
       "    <tr>\n",
       "      <th>animation</th>\n",
       "      <td>5.0</td>\n",
       "      <td>97.0</td>\n",
       "    </tr>\n",
       "    <tr>\n",
       "      <th>black and white</th>\n",
       "      <td>108.0</td>\n",
       "      <td>410.0</td>\n",
       "    </tr>\n",
       "    <tr>\n",
       "      <th>comedy</th>\n",
       "      <td>89.0</td>\n",
       "      <td>408.0</td>\n",
       "    </tr>\n",
       "  </tbody>\n",
       "</table>\n",
       "</div>"
      ],
      "text/plain": [
       "                 Before  After\n",
       "Other               1.0   14.0\n",
       "action             47.0  200.0\n",
       "animation           5.0   97.0\n",
       "black and white   108.0  410.0\n",
       "comedy             89.0  408.0"
      ]
     },
     "execution_count": 92,
     "metadata": {},
     "output_type": "execute_result"
    }
   ],
   "source": [
    "df_test =  genre_per_date[str(y_event-window_y):str(y_event+window_y)].resample(str(window_y)+\"Y\").sum().T\n",
    "df_test.columns = [\"Before\",\"After\",\"Drop\"]\n",
    "df_test.fillna(0,inplace=True)\n",
    "df_test.drop(columns=\"Drop\",inplace=True)\n",
    "df_test.head()"
   ]
  },
  {
   "cell_type": "code",
   "execution_count": 93,
   "metadata": {},
   "outputs": [
    {
     "data": {
      "text/html": [
       "<div>\n",
       "<style scoped>\n",
       "    .dataframe tbody tr th:only-of-type {\n",
       "        vertical-align: middle;\n",
       "    }\n",
       "\n",
       "    .dataframe tbody tr th {\n",
       "        vertical-align: top;\n",
       "    }\n",
       "\n",
       "    .dataframe thead th {\n",
       "        text-align: right;\n",
       "    }\n",
       "</style>\n",
       "<table border=\"1\" class=\"dataframe\">\n",
       "  <thead>\n",
       "    <tr style=\"text-align: right;\">\n",
       "      <th></th>\n",
       "      <th>genre</th>\n",
       "      <th>Before or after</th>\n",
       "      <th>Value</th>\n",
       "    </tr>\n",
       "  </thead>\n",
       "  <tbody>\n",
       "    <tr>\n",
       "      <th>0</th>\n",
       "      <td>Other</td>\n",
       "      <td>Before</td>\n",
       "      <td>1.0</td>\n",
       "    </tr>\n",
       "    <tr>\n",
       "      <th>1</th>\n",
       "      <td>Other</td>\n",
       "      <td>After</td>\n",
       "      <td>14.0</td>\n",
       "    </tr>\n",
       "    <tr>\n",
       "      <th>2</th>\n",
       "      <td>action</td>\n",
       "      <td>Before</td>\n",
       "      <td>47.0</td>\n",
       "    </tr>\n",
       "    <tr>\n",
       "      <th>3</th>\n",
       "      <td>action</td>\n",
       "      <td>After</td>\n",
       "      <td>200.0</td>\n",
       "    </tr>\n",
       "    <tr>\n",
       "      <th>4</th>\n",
       "      <td>animation</td>\n",
       "      <td>Before</td>\n",
       "      <td>5.0</td>\n",
       "    </tr>\n",
       "  </tbody>\n",
       "</table>\n",
       "</div>"
      ],
      "text/plain": [
       "       genre Before or after  Value\n",
       "0      Other          Before    1.0\n",
       "1      Other           After   14.0\n",
       "2     action          Before   47.0\n",
       "3     action           After  200.0\n",
       "4  animation          Before    5.0"
      ]
     },
     "execution_count": 93,
     "metadata": {},
     "output_type": "execute_result"
    }
   ],
   "source": [
    "df_modif = df_test.stack().reset_index().rename(columns={\"level_0\":\"genre\",\"level_1\":\"Before or after\",0:\"Value\"})\n",
    "df_modif.head()"
   ]
  },
  {
   "cell_type": "code",
   "execution_count": 94,
   "metadata": {},
   "outputs": [
    {
     "data": {
      "text/plain": [
       "Text(0.5, 1.0, 'boxplot of genre before and after the second world war')"
      ]
     },
     "execution_count": 94,
     "metadata": {},
     "output_type": "execute_result"
    },
    {
     "data": {
      "image/png": "[encoded data removed]",
      "text/plain": [
       "<Figure size 432x288 with 1 Axes>"
      ]
     },
     "metadata": {
      "needs_background": "light"
     },
     "output_type": "display_data"
    }
   ],
   "source": [
    "sns.boxplot(data=df_modif, x='Before or after', y='Value')\n",
    "plt.ylabel('number of movie per year')\n",
    "plt.xlabel('years')\n",
    "plt.title('boxplot of genre before and after the second world war')\n"
   ]
  },
  {
   "cell_type": "code",
   "execution_count": 95,
   "metadata": {},
   "outputs": [
    {
     "data": {
      "text/plain": [
       "Text(0.5, 1.0, 'histogramm of genre before and after the second world war')"
      ]
     },
     "execution_count": 95,
     "metadata": {},
     "output_type": "execute_result"
    },
    {
     "data": {
      "image/png": "[encoded data removed]",
      "text/plain": [
       "<Figure size 432x288 with 1 Axes>"
      ]
     },
     "metadata": {
      "needs_background": "light"
     },
     "output_type": "display_data"
    }
   ],
   "source": [
    "sns.histplot(data=df_modif, hue='Before or after', x='Value',bins=20)\n",
    "plt.ylabel('number of movie per year')\n",
    "plt.xlabel('years')\n",
    "plt.title('histogramm of genre before and after the second world war')"
   ]
  },
  {
   "cell_type": "code",
   "execution_count": 96,
   "metadata": {},
   "outputs": [
    {
     "data": {
      "text/plain": [
       "Text(26.794296875000008, 0.5, 'number of movie per year')"
      ]
     },
     "execution_count": 96,
     "metadata": {},
     "output_type": "execute_result"
    },
    {
     "data": {
      "image/png": "[encoded data removed]",
      "text/plain": [
       "<Figure size 402.375x360 with 1 Axes>"
      ]
     },
     "metadata": {
      "needs_background": "light"
     },
     "output_type": "display_data"
    }
   ],
   "source": [
    "two_trends(event, 4, \"war\")\n",
    "plt.title('trends of war movies before and after the start of the war')\n",
    "plt.ylabel('number of movie per year')"
   ]
  },
  {
   "cell_type": "code",
   "execution_count": 97,
   "metadata": {},
   "outputs": [],
   "source": [
    "df = genre_per_date[str(y_event-window_y):str(y_event+window_y)].resample(str(window_y)+\"Y\").sum().T\n"
   ]
  },
  {
   "cell_type": "code",
   "execution_count": 98,
   "metadata": {},
   "outputs": [],
   "source": [
    "df_test =  genre_per_date[str(y_event-window_y):str(y_event+window_y)].resample(str(window_y)+\"Y\").sum().T"
   ]
  },
  {
   "cell_type": "code",
   "execution_count": 99,
   "metadata": {},
   "outputs": [
    {
     "data": {
      "text/html": [
       "<div>\n",
       "<style scoped>\n",
       "    .dataframe tbody tr th:only-of-type {\n",
       "        vertical-align: middle;\n",
       "    }\n",
       "\n",
       "    .dataframe tbody tr th {\n",
       "        vertical-align: top;\n",
       "    }\n",
       "\n",
       "    .dataframe thead th {\n",
       "        text-align: right;\n",
       "    }\n",
       "</style>\n",
       "<table border=\"1\" class=\"dataframe\">\n",
       "  <thead>\n",
       "    <tr style=\"text-align: right;\">\n",
       "      <th></th>\n",
       "      <th>T</th>\n",
       "      <th>dof</th>\n",
       "      <th>alternative</th>\n",
       "      <th>p-val</th>\n",
       "      <th>CI95%</th>\n",
       "      <th>cohen-d</th>\n",
       "      <th>BF10</th>\n",
       "      <th>power</th>\n",
       "    </tr>\n",
       "  </thead>\n",
       "  <tbody>\n",
       "    <tr>\n",
       "      <th>T-test</th>\n",
       "      <td>-5.075515</td>\n",
       "      <td>23</td>\n",
       "      <td>two-sided</td>\n",
       "      <td>0.000039</td>\n",
       "      <td>[-140.93, -59.32]</td>\n",
       "      <td>1.097308</td>\n",
       "      <td>636.323</td>\n",
       "      <td>0.999265</td>\n",
       "    </tr>\n",
       "  </tbody>\n",
       "</table>\n",
       "</div>"
      ],
      "text/plain": [
       "               T  dof alternative     p-val              CI95%   cohen-d  \\\n",
       "T-test -5.075515   23   two-sided  0.000039  [-140.93, -59.32]  1.097308   \n",
       "\n",
       "           BF10     power  \n",
       "T-test  636.323  0.999265  "
      ]
     },
     "execution_count": 99,
     "metadata": {},
     "output_type": "execute_result"
    }
   ],
   "source": [
    "pingouin.ttest( x= df_test.iloc[:,0], y= df_test.iloc[:,1],paired=True)"
   ]
  },
  {
   "cell_type": "code",
   "execution_count": 100,
   "metadata": {},
   "outputs": [
    {
     "data": {
      "text/plain": [
       "Text(0.5, 1.0, 'war movies during the last century')"
      ]
     },
     "execution_count": 100,
     "metadata": {},
     "output_type": "execute_result"
    },
    {
     "data": {
      "image/png": "[encoded data removed]",
      "text/plain": [
       "<Figure size 432x288 with 1 Axes>"
      ]
     },
     "metadata": {
      "needs_background": "light"
     },
     "output_type": "display_data"
    }
   ],
   "source": [
    "plt.plot(genre_per_date.resample(\"3Y\").sum().war)\n",
    "plt.ylabel('number of movie per year')\n",
    "plt.xlabel('years')\n",
    "plt.title('war movies during the last century')"
   ]
  },
  {
   "cell_type": "code",
   "execution_count": 101,
   "metadata": {},
   "outputs": [
    {
     "data": {
      "text/plain": [
       "28916"
      ]
     },
     "execution_count": 101,
     "metadata": {},
     "output_type": "execute_result"
    }
   ],
   "source": [
    "len(metadata)"
   ]
  },
  {
   "cell_type": "code",
   "execution_count": 102,
   "metadata": {},
   "outputs": [
    {
     "data": {
      "text/plain": [
       "1076"
      ]
     },
     "execution_count": 102,
     "metadata": {},
     "output_type": "execute_result"
    }
   ],
   "source": [
    "metadata.war.sum()"
   ]
  },
  {
   "cell_type": "markdown",
   "metadata": {},
   "source": [
    "## Impact of technological advances on cinema"
   ]
  },
  {
   "cell_type": "markdown",
   "metadata": {},
   "source": [
    "we are going to observe how the apparition of color films and sound in cinema impacted this industry."
   ]
  },
  {
   "cell_type": "code",
   "execution_count": 103,
   "metadata": {},
   "outputs": [
    {
     "data": {
      "application/vnd.plotly.v1+json": {
       "config": {
        "plotlyServerURL": "https://plot.ly"
       },
       "data": [
        {
         "hovertemplate": "variable=black and white<br>release_date=%{x}<br>number of movie per year=%{y}<extra></extra>",
         "legendgroup": "black and white",
         "line": {
          "color": "#636efa",
          "dash": "solid"
         },
         "marker": {
          "symbol": "circle"
         },
         "mode": "lines",
         "name": "black and white",
         "orientation": "v",
         "showlegend": true,
         "type": "scatter",
         "x": [
          "1888-12-31T00:00:00",
          "1890-12-31T00:00:00",
          "1892-12-31T00:00:00",
          "1894-12-31T00:00:00",
          "1896-12-31T00:00:00",
          "1898-12-31T00:00:00",
          "1900-12-31T00:00:00",
          "1902-12-31T00:00:00",
          "1904-12-31T00:00:00",
          "1906-12-31T00:00:00",
          "1908-12-31T00:00:00",
          "1910-12-31T00:00:00",
          "1912-12-31T00:00:00",
          "1914-12-31T00:00:00",
          "1916-12-31T00:00:00",
          "1918-12-31T00:00:00",
          "1920-12-31T00:00:00",
          "1922-12-31T00:00:00",
          "1924-12-31T00:00:00",
          "1926-12-31T00:00:00",
          "1928-12-31T00:00:00",
          "1930-12-31T00:00:00",
          "1932-12-31T00:00:00",
          "1934-12-31T00:00:00",
          "1936-12-31T00:00:00",
          "1938-12-31T00:00:00",
          "1940-12-31T00:00:00",
          "1942-12-31T00:00:00",
          "1944-12-31T00:00:00",
          "1946-12-31T00:00:00",
          "1948-12-31T00:00:00",
          "1950-12-31T00:00:00",
          "1952-12-31T00:00:00",
          "1954-12-31T00:00:00",
          "1956-12-31T00:00:00",
          "1958-12-31T00:00:00",
          "1960-12-31T00:00:00",
          "1962-12-31T00:00:00",
          "1964-12-31T00:00:00",
          "1966-12-31T00:00:00",
          "1968-12-31T00:00:00",
          "1970-12-31T00:00:00",
          "1972-12-31T00:00:00",
          "1974-12-31T00:00:00",
          "1976-12-31T00:00:00",
          "1978-12-31T00:00:00",
          "1980-12-31T00:00:00",
          "1982-12-31T00:00:00",
          "1984-12-31T00:00:00",
          "1986-12-31T00:00:00",
          "1988-12-31T00:00:00",
          "1990-12-31T00:00:00",
          "1992-12-31T00:00:00",
          "1994-12-31T00:00:00",
          "1996-12-31T00:00:00",
          "1998-12-31T00:00:00",
          "2000-12-31T00:00:00",
          "2002-12-31T00:00:00",
          "2004-12-31T00:00:00",
          "2006-12-31T00:00:00",
          "2008-12-31T00:00:00",
          "2010-12-31T00:00:00",
          "2012-12-31T00:00:00",
          "2014-12-31T00:00:00",
          "2016-12-31T00:00:00"
         ],
         "xaxis": "x",
         "y": [
          1,
          1,
          0,
          5,
          11,
          1,
          8,
          2,
          1,
          2,
          9,
          28,
          57,
          91,
          85,
          92,
          100,
          75,
          92,
          103,
          99,
          99,
          155,
          180,
          196,
          208,
          198,
          193,
          164,
          109,
          115,
          120,
          131,
          81,
          85,
          82,
          58,
          49,
          54,
          47,
          19,
          20,
          9,
          11,
          10,
          10,
          4,
          10,
          9,
          6,
          16,
          19,
          24,
          22,
          27,
          48,
          33,
          45,
          34,
          47,
          43,
          30,
          9,
          0,
          0
         ],
         "yaxis": "y"
        }
       ],
       "layout": {
        "legend": {
         "title": {
          "text": "variable"
         },
         "tracegroupgap": 0
        },
        "shapes": [
         {
          "type": "line",
          "x0": "1932-01-01T00:00:00",
          "x1": "1932-01-01T00:00:00",
          "xref": "x",
          "y0": 0,
          "y1": 1,
          "yref": "y domain"
         }
        ],
        "template": {
         "data": {
          "bar": [
           {
            "error_x": {
             "color": "#2a3f5f"
            },
            "error_y": {
             "color": "#2a3f5f"
            },
            "marker": {
             "line": {
              "color": "#E5ECF6",
              "width": 0.5
             },
             "pattern": {
              "fillmode": "overlay",
              "size": 10,
              "solidity": 0.2
             }
            },
            "type": "bar"
           }
          ],
          "barpolar": [
           {
            "marker": {
             "line": {
              "color": "#E5ECF6",
              "width": 0.5
             },
             "pattern": {
              "fillmode": "overlay",
              "size": 10,
              "solidity": 0.2
             }
            },
            "type": "barpolar"
           }
          ],
          "carpet": [
           {
            "aaxis": {
             "endlinecolor": "#2a3f5f",
             "gridcolor": "white",
             "linecolor": "white",
             "minorgridcolor": "white",
             "startlinecolor": "#2a3f5f"
            },
            "baxis": {
             "endlinecolor": "#2a3f5f",
             "gridcolor": "white",
             "linecolor": "white",
             "minorgridcolor": "white",
             "startlinecolor": "#2a3f5f"
            },
            "type": "carpet"
           }
          ],
          "choropleth": [
           {
            "colorbar": {
             "outlinewidth": 0,
             "ticks": ""
            },
            "type": "choropleth"
           }
          ],
          "contour": [
           {
            "colorbar": {
             "outlinewidth": 0,
             "ticks": ""
            },
            "colorscale": [
             [
              0,
              "#0d0887"
             ],
             [
              0.1111111111111111,
              "#46039f"
             ],
             [
              0.2222222222222222,
              "#7201a8"
             ],
             [
              0.3333333333333333,
              "#9c179e"
             ],
             [
              0.4444444444444444,
              "#bd3786"
             ],
             [
              0.5555555555555556,
              "#d8576b"
             ],
             [
              0.6666666666666666,
              "#ed7953"
             ],
             [
              0.7777777777777778,
              "#fb9f3a"
             ],
             [
              0.8888888888888888,
              "#fdca26"
             ],
             [
              1,
              "#f0f921"
             ]
            ],
            "type": "contour"
           }
          ],
          "contourcarpet": [
           {
            "colorbar": {
             "outlinewidth": 0,
             "ticks": ""
            },
            "type": "contourcarpet"
           }
          ],
          "heatmap": [
           {
            "colorbar": {
             "outlinewidth": 0,
             "ticks": ""
            },
            "colorscale": [
             [
              0,
              "#0d0887"
             ],
             [
              0.1111111111111111,
              "#46039f"
             ],
             [
              0.2222222222222222,
              "#7201a8"
             ],
             [
              0.3333333333333333,
              "#9c179e"
             ],
             [
              0.4444444444444444,
              "#bd3786"
             ],
             [
              0.5555555555555556,
              "#d8576b"
             ],
             [
              0.6666666666666666,
              "#ed7953"
             ],
             [
              0.7777777777777778,
              "#fb9f3a"
             ],
             [
              0.8888888888888888,
              "#fdca26"
             ],
             [
              1,
              "#f0f921"
             ]
            ],
            "type": "heatmap"
           }
          ],
          "heatmapgl": [
           {
            "colorbar": {
             "outlinewidth": 0,
             "ticks": ""
            },
            "colorscale": [
             [
              0,
              "#0d0887"
             ],
             [
              0.1111111111111111,
              "#46039f"
             ],
             [
              0.2222222222222222,
              "#7201a8"
             ],
             [
              0.3333333333333333,
              "#9c179e"
             ],
             [
              0.4444444444444444,
              "#bd3786"
             ],
             [
              0.5555555555555556,
              "#d8576b"
             ],
             [
              0.6666666666666666,
              "#ed7953"
             ],
             [
              0.7777777777777778,
              "#fb9f3a"
             ],
             [
              0.8888888888888888,
              "#fdca26"
             ],
             [
              1,
              "#f0f921"
             ]
            ],
            "type": "heatmapgl"
           }
          ],
          "histogram": [
           {
            "marker": {
             "pattern": {
              "fillmode": "overlay",
              "size": 10,
              "solidity": 0.2
             }
            },
            "type": "histogram"
           }
          ],
          "histogram2d": [
           {
            "colorbar": {
             "outlinewidth": 0,
             "ticks": ""
            },
            "colorscale": [
             [
              0,
              "#0d0887"
             ],
             [
              0.1111111111111111,
              "#46039f"
             ],
             [
              0.2222222222222222,
              "#7201a8"
             ],
             [
              0.3333333333333333,
              "#9c179e"
             ],
             [
              0.4444444444444444,
              "#bd3786"
             ],
             [
              0.5555555555555556,
              "#d8576b"
             ],
             [
              0.6666666666666666,
              "#ed7953"
             ],
             [
              0.7777777777777778,
              "#fb9f3a"
             ],
             [
              0.8888888888888888,
              "#fdca26"
             ],
             [
              1,
              "#f0f921"
             ]
            ],
            "type": "histogram2d"
           }
          ],
          "histogram2dcontour": [
           {
            "colorbar": {
             "outlinewidth": 0,
             "ticks": ""
            },
            "colorscale": [
             [
              0,
              "#0d0887"
             ],
             [
              0.1111111111111111,
              "#46039f"
             ],
             [
              0.2222222222222222,
              "#7201a8"
             ],
             [
              0.3333333333333333,
              "#9c179e"
             ],
             [
              0.4444444444444444,
              "#bd3786"
             ],
             [
              0.5555555555555556,
              "#d8576b"
             ],
             [
              0.6666666666666666,
              "#ed7953"
             ],
             [
              0.7777777777777778,
              "#fb9f3a"
             ],
             [
              0.8888888888888888,
              "#fdca26"
             ],
             [
              1,
              "#f0f921"
             ]
            ],
            "type": "histogram2dcontour"
           }
          ],
          "mesh3d": [
           {
            "colorbar": {
             "outlinewidth": 0,
             "ticks": ""
            },
            "type": "mesh3d"
           }
          ],
          "parcoords": [
           {
            "line": {
             "colorbar": {
              "outlinewidth": 0,
              "ticks": ""
             }
            },
            "type": "parcoords"
           }
          ],
          "pie": [
           {
            "automargin": true,
            "type": "pie"
           }
          ],
          "scatter": [
           {
            "marker": {
             "colorbar": {
              "outlinewidth": 0,
              "ticks": ""
             }
            },
            "type": "scatter"
           }
          ],
          "scatter3d": [
           {
            "line": {
             "colorbar": {
              "outlinewidth": 0,
              "ticks": ""
             }
            },
            "marker": {
             "colorbar": {
              "outlinewidth": 0,
              "ticks": ""
             }
            },
            "type": "scatter3d"
           }
          ],
          "scattercarpet": [
           {
            "marker": {
             "colorbar": {
              "outlinewidth": 0,
              "ticks": ""
             }
            },
            "type": "scattercarpet"
           }
          ],
          "scattergeo": [
           {
            "marker": {
             "colorbar": {
              "outlinewidth": 0,
              "ticks": ""
             }
            },
            "type": "scattergeo"
           }
          ],
          "scattergl": [
           {
            "marker": {
             "colorbar": {
              "outlinewidth": 0,
              "ticks": ""
             }
            },
            "type": "scattergl"
           }
          ],
          "scattermapbox": [
           {
            "marker": {
             "colorbar": {
              "outlinewidth": 0,
              "ticks": ""
             }
            },
            "type": "scattermapbox"
           }
          ],
          "scatterpolar": [
           {
            "marker": {
             "colorbar": {
              "outlinewidth": 0,
              "ticks": ""
             }
            },
            "type": "scatterpolar"
           }
          ],
          "scatterpolargl": [
           {
            "marker": {
             "colorbar": {
              "outlinewidth": 0,
              "ticks": ""
             }
            },
            "type": "scatterpolargl"
           }
          ],
          "scatterternary": [
           {
            "marker": {
             "colorbar": {
              "outlinewidth": 0,
              "ticks": ""
             }
            },
            "type": "scatterternary"
           }
          ],
          "surface": [
           {
            "colorbar": {
             "outlinewidth": 0,
             "ticks": ""
            },
            "colorscale": [
             [
              0,
              "#0d0887"
             ],
             [
              0.1111111111111111,
              "#46039f"
             ],
             [
              0.2222222222222222,
              "#7201a8"
             ],
             [
              0.3333333333333333,
              "#9c179e"
             ],
             [
              0.4444444444444444,
              "#bd3786"
             ],
             [
              0.5555555555555556,
              "#d8576b"
             ],
             [
              0.6666666666666666,
              "#ed7953"
             ],
             [
              0.7777777777777778,
              "#fb9f3a"
             ],
             [
              0.8888888888888888,
              "#fdca26"
             ],
             [
              1,
              "#f0f921"
             ]
            ],
            "type": "surface"
           }
          ],
          "table": [
           {
            "cells": {
             "fill": {
              "color": "#EBF0F8"
             },
             "line": {
              "color": "white"
             }
            },
            "header": {
             "fill": {
              "color": "#C8D4E3"
             },
             "line": {
              "color": "white"
             }
            },
            "type": "table"
           }
          ]
         },
         "layout": {
          "annotationdefaults": {
           "arrowcolor": "#2a3f5f",
           "arrowhead": 0,
           "arrowwidth": 1
          },
          "autotypenumbers": "strict",
          "coloraxis": {
           "colorbar": {
            "outlinewidth": 0,
            "ticks": ""
           }
          },
          "colorscale": {
           "diverging": [
            [
             0,
             "#8e0152"
            ],
            [
             0.1,
             "#c51b7d"
            ],
            [
             0.2,
             "#de77ae"
            ],
            [
             0.3,
             "#f1b6da"
            ],
            [
             0.4,
             "#fde0ef"
            ],
            [
             0.5,
             "#f7f7f7"
            ],
            [
             0.6,
             "#e6f5d0"
            ],
            [
             0.7,
             "#b8e186"
            ],
            [
             0.8,
             "#7fbc41"
            ],
            [
             0.9,
             "#4d9221"
            ],
            [
             1,
             "#276419"
            ]
           ],
           "sequential": [
            [
             0,
             "#0d0887"
            ],
            [
             0.1111111111111111,
             "#46039f"
            ],
            [
             0.2222222222222222,
             "#7201a8"
            ],
            [
             0.3333333333333333,
             "#9c179e"
            ],
            [
             0.4444444444444444,
             "#bd3786"
            ],
            [
             0.5555555555555556,
             "#d8576b"
            ],
            [
             0.6666666666666666,
             "#ed7953"
            ],
            [
             0.7777777777777778,
             "#fb9f3a"
            ],
            [
             0.8888888888888888,
             "#fdca26"
            ],
            [
             1,
             "#f0f921"
            ]
           ],
           "sequentialminus": [
            [
             0,
             "#0d0887"
            ],
            [
             0.1111111111111111,
             "#46039f"
            ],
            [
             0.2222222222222222,
             "#7201a8"
            ],
            [
             0.3333333333333333,
             "#9c179e"
            ],
            [
             0.4444444444444444,
             "#bd3786"
            ],
            [
             0.5555555555555556,
             "#d8576b"
            ],
            [
             0.6666666666666666,
             "#ed7953"
            ],
            [
             0.7777777777777778,
             "#fb9f3a"
            ],
            [
             0.8888888888888888,
             "#fdca26"
            ],
            [
             1,
             "#f0f921"
            ]
           ]
          },
          "colorway": [
           "#636efa",
           "#EF553B",
           "#00cc96",
           "#ab63fa",
           "#FFA15A",
           "#19d3f3",
           "#FF6692",
           "#B6E880",
           "#FF97FF",
           "#FECB52"
          ],
          "font": {
           "color": "#2a3f5f"
          },
          "geo": {
           "bgcolor": "white",
           "lakecolor": "white",
           "landcolor": "#E5ECF6",
           "showlakes": true,
           "showland": true,
           "subunitcolor": "white"
          },
          "hoverlabel": {
           "align": "left"
          },
          "hovermode": "closest",
          "mapbox": {
           "style": "light"
          },
          "paper_bgcolor": "white",
          "plot_bgcolor": "#E5ECF6",
          "polar": {
           "angularaxis": {
            "gridcolor": "white",
            "linecolor": "white",
            "ticks": ""
           },
           "bgcolor": "#E5ECF6",
           "radialaxis": {
            "gridcolor": "white",
            "linecolor": "white",
            "ticks": ""
           }
          },
          "scene": {
           "xaxis": {
            "backgroundcolor": "#E5ECF6",
            "gridcolor": "white",
            "gridwidth": 2,
            "linecolor": "white",
            "showbackground": true,
            "ticks": "",
            "zerolinecolor": "white"
           },
           "yaxis": {
            "backgroundcolor": "#E5ECF6",
            "gridcolor": "white",
            "gridwidth": 2,
            "linecolor": "white",
            "showbackground": true,
            "ticks": "",
            "zerolinecolor": "white"
           },
           "zaxis": {
            "backgroundcolor": "#E5ECF6",
            "gridcolor": "white",
            "gridwidth": 2,
            "linecolor": "white",
            "showbackground": true,
            "ticks": "",
            "zerolinecolor": "white"
           }
          },
          "shapedefaults": {
           "line": {
            "color": "#2a3f5f"
           }
          },
          "ternary": {
           "aaxis": {
            "gridcolor": "white",
            "linecolor": "white",
            "ticks": ""
           },
           "baxis": {
            "gridcolor": "white",
            "linecolor": "white",
            "ticks": ""
           },
           "bgcolor": "#E5ECF6",
           "caxis": {
            "gridcolor": "white",
            "linecolor": "white",
            "ticks": ""
           }
          },
          "title": {
           "x": 0.05
          },
          "xaxis": {
           "automargin": true,
           "gridcolor": "white",
           "linecolor": "white",
           "ticks": "",
           "title": {
            "standoff": 15
           },
           "zerolinecolor": "white",
           "zerolinewidth": 2
          },
          "yaxis": {
           "automargin": true,
           "gridcolor": "white",
           "linecolor": "white",
           "ticks": "",
           "title": {
            "standoff": 15
           },
           "zerolinecolor": "white",
           "zerolinewidth": 2
          }
         }
        },
        "title": {
         "text": "Black and white cinema during the last century"
        },
        "xaxis": {
         "anchor": "y",
         "domain": [
          0,
          1
         ],
         "title": {
          "text": "release_date"
         }
        },
        "yaxis": {
         "anchor": "x",
         "domain": [
          0,
          1
         ],
         "title": {
          "text": "number of movie per year"
         }
        }
       }
      }
     },
     "metadata": {},
     "output_type": "display_data"
    }
   ],
   "source": [
    "fig = px.line(genre_per_date.resample(\"2Y\").sum()['black and white'], labels= {'value' : 'number of movie per year'}, title = 'Black and white cinema during the last century')\n",
    "fig.add_vline(x = pd.to_datetime(1932, format=\"%Y\"))"
   ]
  },
  {
   "cell_type": "code",
   "execution_count": 104,
   "metadata": {},
   "outputs": [],
   "source": [
    "y_event = 1932"
   ]
  },
  {
   "cell_type": "code",
   "execution_count": 105,
   "metadata": {},
   "outputs": [
    {
     "data": {
      "text/html": [
       "<div>\n",
       "<style scoped>\n",
       "    .dataframe tbody tr th:only-of-type {\n",
       "        vertical-align: middle;\n",
       "    }\n",
       "\n",
       "    .dataframe tbody tr th {\n",
       "        vertical-align: top;\n",
       "    }\n",
       "\n",
       "    .dataframe thead th {\n",
       "        text-align: right;\n",
       "    }\n",
       "</style>\n",
       "<table border=\"1\" class=\"dataframe\">\n",
       "  <thead>\n",
       "    <tr style=\"text-align: right;\">\n",
       "      <th></th>\n",
       "      <th>T</th>\n",
       "      <th>dof</th>\n",
       "      <th>alternative</th>\n",
       "      <th>p-val</th>\n",
       "      <th>CI95%</th>\n",
       "      <th>cohen-d</th>\n",
       "      <th>BF10</th>\n",
       "      <th>power</th>\n",
       "    </tr>\n",
       "  </thead>\n",
       "  <tbody>\n",
       "    <tr>\n",
       "      <th>T-test</th>\n",
       "      <td>-3.796718</td>\n",
       "      <td>23</td>\n",
       "      <td>two-sided</td>\n",
       "      <td>0.000931</td>\n",
       "      <td>[-91.85, -27.06]</td>\n",
       "      <td>0.882921</td>\n",
       "      <td>37.348</td>\n",
       "      <td>0.985323</td>\n",
       "    </tr>\n",
       "  </tbody>\n",
       "</table>\n",
       "</div>"
      ],
      "text/plain": [
       "               T  dof alternative     p-val             CI95%   cohen-d  \\\n",
       "T-test -3.796718   23   two-sided  0.000931  [-91.85, -27.06]  0.882921   \n",
       "\n",
       "          BF10     power  \n",
       "T-test  37.348  0.985323  "
      ]
     },
     "execution_count": 105,
     "metadata": {},
     "output_type": "execute_result"
    }
   ],
   "source": [
    "df = genre_per_date[str(y_event-window_y):str(y_event+window_y)].resample(str(window_y)+\"Y\").sum().T\n",
    "pingouin.ttest( x= df.iloc[:,0], y= df.iloc[:,1],paired = True)"
   ]
  },
  {
   "cell_type": "code",
   "execution_count": 106,
   "metadata": {},
   "outputs": [],
   "source": [
    "df.columns = [\"Before\",\"After\",\"Drop\"]\n",
    "df.fillna(0,inplace = True)\n",
    "df.drop(columns = \"Drop\",inplace = True)\n",
    "df = df.stack().reset_index().rename(columns = {\"level_0\":\"genre\",\"level_1\":\"Before or after\",0:\"Value\"})\n"
   ]
  },
  {
   "cell_type": "code",
   "execution_count": 107,
   "metadata": {},
   "outputs": [
    {
     "data": {
      "text/plain": [
       "Text(0.5, 1.0, 'boxplot of genre before and after the creation of color movies')"
      ]
     },
     "execution_count": 107,
     "metadata": {},
     "output_type": "execute_result"
    },
    {
     "data": {
      "image/png": "[encoded data removed]",
      "text/plain": [
       "<Figure size 432x288 with 1 Axes>"
      ]
     },
     "metadata": {
      "needs_background": "light"
     },
     "output_type": "display_data"
    }
   ],
   "source": [
    "sns.boxplot(data = df,x='Before or after', y='Value')\n",
    "plt.title('boxplot of genre before and after the creation of color movies')"
   ]
  },
  {
   "cell_type": "code",
   "execution_count": 108,
   "metadata": {},
   "outputs": [
    {
     "data": {
      "text/plain": [
       "Text(0.5, 1.0, 'black and white cinema during the last century\\n before and after the first film in color')"
      ]
     },
     "execution_count": 108,
     "metadata": {},
     "output_type": "execute_result"
    },
    {
     "data": {
      "image/png": "[encoded data removed]",
      "text/plain": [
       "<Figure size 402.375x360 with 1 Axes>"
      ]
     },
     "metadata": {
      "needs_background": "light"
     },
     "output_type": "display_data"
    }
   ],
   "source": [
    "two_trends(event, 12, \"black and white\")\n",
    "plt.ylabel('number of movie per year')\n",
    "plt.xlabel('years')\n",
    "plt.title('black and white cinema during the last century\\n before and after the first film in color')"
   ]
  },
  {
   "cell_type": "code",
   "execution_count": 109,
   "metadata": {},
   "outputs": [
    {
     "data": {
      "text/plain": [
       "Text(0.5, 1.0, 'black and white cinema during the last century')"
      ]
     },
     "execution_count": 109,
     "metadata": {},
     "output_type": "execute_result"
    },
    {
     "data": {
      "image/png": "[encoded data removed]",
      "text/plain": [
       "<Figure size 432x288 with 1 Axes>"
      ]
     },
     "metadata": {
      "needs_background": "light"
     },
     "output_type": "display_data"
    }
   ],
   "source": [
    "plt.plot(genre_per_date.resample(\"5Y\").sum()['black and white'])\n",
    "plt.ylabel('number of movie per year')\n",
    "plt.xlabel('years')\n",
    "plt.title('black and white cinema during the last century')"
   ]
  },
  {
   "cell_type": "code",
   "execution_count": 110,
   "metadata": {},
   "outputs": [
    {
     "data": {
      "application/vnd.plotly.v1+json": {
       "config": {
        "plotlyServerURL": "https://plot.ly"
       },
       "data": [
        {
         "hovertemplate": "variable=silent<br>release_date=%{x}<br>number of movie per year=%{y}<extra></extra>",
         "legendgroup": "silent",
         "line": {
          "color": "#636efa",
          "dash": "solid"
         },
         "marker": {
          "symbol": "circle"
         },
         "mode": "lines",
         "name": "silent",
         "orientation": "v",
         "showlegend": true,
         "type": "scatter",
         "x": [
          "1888-12-31T00:00:00",
          "1890-12-31T00:00:00",
          "1892-12-31T00:00:00",
          "1894-12-31T00:00:00",
          "1896-12-31T00:00:00",
          "1898-12-31T00:00:00",
          "1900-12-31T00:00:00",
          "1902-12-31T00:00:00",
          "1904-12-31T00:00:00",
          "1906-12-31T00:00:00",
          "1908-12-31T00:00:00",
          "1910-12-31T00:00:00",
          "1912-12-31T00:00:00",
          "1914-12-31T00:00:00",
          "1916-12-31T00:00:00",
          "1918-12-31T00:00:00",
          "1920-12-31T00:00:00",
          "1922-12-31T00:00:00",
          "1924-12-31T00:00:00",
          "1926-12-31T00:00:00",
          "1928-12-31T00:00:00",
          "1930-12-31T00:00:00",
          "1932-12-31T00:00:00",
          "1934-12-31T00:00:00",
          "1936-12-31T00:00:00",
          "1938-12-31T00:00:00",
          "1940-12-31T00:00:00",
          "1942-12-31T00:00:00",
          "1944-12-31T00:00:00",
          "1946-12-31T00:00:00",
          "1948-12-31T00:00:00",
          "1950-12-31T00:00:00",
          "1952-12-31T00:00:00",
          "1954-12-31T00:00:00",
          "1956-12-31T00:00:00",
          "1958-12-31T00:00:00",
          "1960-12-31T00:00:00",
          "1962-12-31T00:00:00",
          "1964-12-31T00:00:00",
          "1966-12-31T00:00:00",
          "1968-12-31T00:00:00",
          "1970-12-31T00:00:00",
          "1972-12-31T00:00:00",
          "1974-12-31T00:00:00",
          "1976-12-31T00:00:00",
          "1978-12-31T00:00:00",
          "1980-12-31T00:00:00",
          "1982-12-31T00:00:00",
          "1984-12-31T00:00:00",
          "1986-12-31T00:00:00",
          "1988-12-31T00:00:00",
          "1990-12-31T00:00:00",
          "1992-12-31T00:00:00",
          "1994-12-31T00:00:00",
          "1996-12-31T00:00:00",
          "1998-12-31T00:00:00",
          "2000-12-31T00:00:00",
          "2002-12-31T00:00:00",
          "2004-12-31T00:00:00",
          "2006-12-31T00:00:00",
          "2008-12-31T00:00:00",
          "2010-12-31T00:00:00",
          "2012-12-31T00:00:00",
          "2014-12-31T00:00:00",
          "2016-12-31T00:00:00"
         ],
         "xaxis": "x",
         "y": [
          1,
          3,
          3,
          6,
          29,
          11,
          16,
          10,
          2,
          9,
          14,
          30,
          77,
          105,
          108,
          111,
          132,
          93,
          128,
          155,
          152,
          47,
          3,
          3,
          1,
          1,
          0,
          0,
          1,
          0,
          1,
          0,
          0,
          0,
          0,
          0,
          0,
          1,
          0,
          2,
          0,
          0,
          0,
          0,
          0,
          0,
          0,
          0,
          0,
          0,
          0,
          1,
          0,
          0,
          0,
          1,
          1,
          2,
          1,
          2,
          0,
          0,
          1,
          0,
          0
         ],
         "yaxis": "y"
        }
       ],
       "layout": {
        "legend": {
         "title": {
          "text": "variable"
         },
         "tracegroupgap": 0
        },
        "shapes": [
         {
          "type": "line",
          "x0": "1927-01-01T00:00:00",
          "x1": "1927-01-01T00:00:00",
          "xref": "x",
          "y0": 0,
          "y1": 1,
          "yref": "y domain"
         }
        ],
        "template": {
         "data": {
          "bar": [
           {
            "error_x": {
             "color": "#2a3f5f"
            },
            "error_y": {
             "color": "#2a3f5f"
            },
            "marker": {
             "line": {
              "color": "#E5ECF6",
              "width": 0.5
             },
             "pattern": {
              "fillmode": "overlay",
              "size": 10,
              "solidity": 0.2
             }
            },
            "type": "bar"
           }
          ],
          "barpolar": [
           {
            "marker": {
             "line": {
              "color": "#E5ECF6",
              "width": 0.5
             },
             "pattern": {
              "fillmode": "overlay",
              "size": 10,
              "solidity": 0.2
             }
            },
            "type": "barpolar"
           }
          ],
          "carpet": [
           {
            "aaxis": {
             "endlinecolor": "#2a3f5f",
             "gridcolor": "white",
             "linecolor": "white",
             "minorgridcolor": "white",
             "startlinecolor": "#2a3f5f"
            },
            "baxis": {
             "endlinecolor": "#2a3f5f",
             "gridcolor": "white",
             "linecolor": "white",
             "minorgridcolor": "white",
             "startlinecolor": "#2a3f5f"
            },
            "type": "carpet"
           }
          ],
          "choropleth": [
           {
            "colorbar": {
             "outlinewidth": 0,
             "ticks": ""
            },
            "type": "choropleth"
           }
          ],
          "contour": [
           {
            "colorbar": {
             "outlinewidth": 0,
             "ticks": ""
            },
            "colorscale": [
             [
              0,
              "#0d0887"
             ],
             [
              0.1111111111111111,
              "#46039f"
             ],
             [
              0.2222222222222222,
              "#7201a8"
             ],
             [
              0.3333333333333333,
              "#9c179e"
             ],
             [
              0.4444444444444444,
              "#bd3786"
             ],
             [
              0.5555555555555556,
              "#d8576b"
             ],
             [
              0.6666666666666666,
              "#ed7953"
             ],
             [
              0.7777777777777778,
              "#fb9f3a"
             ],
             [
              0.8888888888888888,
              "#fdca26"
             ],
             [
              1,
              "#f0f921"
             ]
            ],
            "type": "contour"
           }
          ],
          "contourcarpet": [
           {
            "colorbar": {
             "outlinewidth": 0,
             "ticks": ""
            },
            "type": "contourcarpet"
           }
          ],
          "heatmap": [
           {
            "colorbar": {
             "outlinewidth": 0,
             "ticks": ""
            },
            "colorscale": [
             [
              0,
              "#0d0887"
             ],
             [
              0.1111111111111111,
              "#46039f"
             ],
             [
              0.2222222222222222,
              "#7201a8"
             ],
             [
              0.3333333333333333,
              "#9c179e"
             ],
             [
              0.4444444444444444,
              "#bd3786"
             ],
             [
              0.5555555555555556,
              "#d8576b"
             ],
             [
              0.6666666666666666,
              "#ed7953"
             ],
             [
              0.7777777777777778,
              "#fb9f3a"
             ],
             [
              0.8888888888888888,
              "#fdca26"
             ],
             [
              1,
              "#f0f921"
             ]
            ],
            "type": "heatmap"
           }
          ],
          "heatmapgl": [
           {
            "colorbar": {
             "outlinewidth": 0,
             "ticks": ""
            },
            "colorscale": [
             [
              0,
              "#0d0887"
             ],
             [
              0.1111111111111111,
              "#46039f"
             ],
             [
              0.2222222222222222,
              "#7201a8"
             ],
             [
              0.3333333333333333,
              "#9c179e"
             ],
             [
              0.4444444444444444,
              "#bd3786"
             ],
             [
              0.5555555555555556,
              "#d8576b"
             ],
             [
              0.6666666666666666,
              "#ed7953"
             ],
             [
              0.7777777777777778,
              "#fb9f3a"
             ],
             [
              0.8888888888888888,
              "#fdca26"
             ],
             [
              1,
              "#f0f921"
             ]
            ],
            "type": "heatmapgl"
           }
          ],
          "histogram": [
           {
            "marker": {
             "pattern": {
              "fillmode": "overlay",
              "size": 10,
              "solidity": 0.2
             }
            },
            "type": "histogram"
           }
          ],
          "histogram2d": [
           {
            "colorbar": {
             "outlinewidth": 0,
             "ticks": ""
            },
            "colorscale": [
             [
              0,
              "#0d0887"
             ],
             [
              0.1111111111111111,
              "#46039f"
             ],
             [
              0.2222222222222222,
              "#7201a8"
             ],
             [
              0.3333333333333333,
              "#9c179e"
             ],
             [
              0.4444444444444444,
              "#bd3786"
             ],
             [
              0.5555555555555556,
              "#d8576b"
             ],
             [
              0.6666666666666666,
              "#ed7953"
             ],
             [
              0.7777777777777778,
              "#fb9f3a"
             ],
             [
              0.8888888888888888,
              "#fdca26"
             ],
             [
              1,
              "#f0f921"
             ]
            ],
            "type": "histogram2d"
           }
          ],
          "histogram2dcontour": [
           {
            "colorbar": {
             "outlinewidth": 0,
             "ticks": ""
            },
            "colorscale": [
             [
              0,
              "#0d0887"
             ],
             [
              0.1111111111111111,
              "#46039f"
             ],
             [
              0.2222222222222222,
              "#7201a8"
             ],
             [
              0.3333333333333333,
              "#9c179e"
             ],
             [
              0.4444444444444444,
              "#bd3786"
             ],
             [
              0.5555555555555556,
              "#d8576b"
             ],
             [
              0.6666666666666666,
              "#ed7953"
             ],
             [
              0.7777777777777778,
              "#fb9f3a"
             ],
             [
              0.8888888888888888,
              "#fdca26"
             ],
             [
              1,
              "#f0f921"
             ]
            ],
            "type": "histogram2dcontour"
           }
          ],
          "mesh3d": [
           {
            "colorbar": {
             "outlinewidth": 0,
             "ticks": ""
            },
            "type": "mesh3d"
           }
          ],
          "parcoords": [
           {
            "line": {
             "colorbar": {
              "outlinewidth": 0,
              "ticks": ""
             }
            },
            "type": "parcoords"
           }
          ],
          "pie": [
           {
            "automargin": true,
            "type": "pie"
           }
          ],
          "scatter": [
           {
            "marker": {
             "colorbar": {
              "outlinewidth": 0,
              "ticks": ""
             }
            },
            "type": "scatter"
           }
          ],
          "scatter3d": [
           {
            "line": {
             "colorbar": {
              "outlinewidth": 0,
              "ticks": ""
             }
            },
            "marker": {
             "colorbar": {
              "outlinewidth": 0,
              "ticks": ""
             }
            },
            "type": "scatter3d"
           }
          ],
          "scattercarpet": [
           {
            "marker": {
             "colorbar": {
              "outlinewidth": 0,
              "ticks": ""
             }
            },
            "type": "scattercarpet"
           }
          ],
          "scattergeo": [
           {
            "marker": {
             "colorbar": {
              "outlinewidth": 0,
              "ticks": ""
             }
            },
            "type": "scattergeo"
           }
          ],
          "scattergl": [
           {
            "marker": {
             "colorbar": {
              "outlinewidth": 0,
              "ticks": ""
             }
            },
            "type": "scattergl"
           }
          ],
          "scattermapbox": [
           {
            "marker": {
             "colorbar": {
              "outlinewidth": 0,
              "ticks": ""
             }
            },
            "type": "scattermapbox"
           }
          ],
          "scatterpolar": [
           {
            "marker": {
             "colorbar": {
              "outlinewidth": 0,
              "ticks": ""
             }
            },
            "type": "scatterpolar"
           }
          ],
          "scatterpolargl": [
           {
            "marker": {
             "colorbar": {
              "outlinewidth": 0,
              "ticks": ""
             }
            },
            "type": "scatterpolargl"
           }
          ],
          "scatterternary": [
           {
            "marker": {
             "colorbar": {
              "outlinewidth": 0,
              "ticks": ""
             }
            },
            "type": "scatterternary"
           }
          ],
          "surface": [
           {
            "colorbar": {
             "outlinewidth": 0,
             "ticks": ""
            },
            "colorscale": [
             [
              0,
              "#0d0887"
             ],
             [
              0.1111111111111111,
              "#46039f"
             ],
             [
              0.2222222222222222,
              "#7201a8"
             ],
             [
              0.3333333333333333,
              "#9c179e"
             ],
             [
              0.4444444444444444,
              "#bd3786"
             ],
             [
              0.5555555555555556,
              "#d8576b"
             ],
             [
              0.6666666666666666,
              "#ed7953"
             ],
             [
              0.7777777777777778,
              "#fb9f3a"
             ],
             [
              0.8888888888888888,
              "#fdca26"
             ],
             [
              1,
              "#f0f921"
             ]
            ],
            "type": "surface"
           }
          ],
          "table": [
           {
            "cells": {
             "fill": {
              "color": "#EBF0F8"
             },
             "line": {
              "color": "white"
             }
            },
            "header": {
             "fill": {
              "color": "#C8D4E3"
             },
             "line": {
              "color": "white"
             }
            },
            "type": "table"
           }
          ]
         },
         "layout": {
          "annotationdefaults": {
           "arrowcolor": "#2a3f5f",
           "arrowhead": 0,
           "arrowwidth": 1
          },
          "autotypenumbers": "strict",
          "coloraxis": {
           "colorbar": {
            "outlinewidth": 0,
            "ticks": ""
           }
          },
          "colorscale": {
           "diverging": [
            [
             0,
             "#8e0152"
            ],
            [
             0.1,
             "#c51b7d"
            ],
            [
             0.2,
             "#de77ae"
            ],
            [
             0.3,
             "#f1b6da"
            ],
            [
             0.4,
             "#fde0ef"
            ],
            [
             0.5,
             "#f7f7f7"
            ],
            [
             0.6,
             "#e6f5d0"
            ],
            [
             0.7,
             "#b8e186"
            ],
            [
             0.8,
             "#7fbc41"
            ],
            [
             0.9,
             "#4d9221"
            ],
            [
             1,
             "#276419"
            ]
           ],
           "sequential": [
            [
             0,
             "#0d0887"
            ],
            [
             0.1111111111111111,
             "#46039f"
            ],
            [
             0.2222222222222222,
             "#7201a8"
            ],
            [
             0.3333333333333333,
             "#9c179e"
            ],
            [
             0.4444444444444444,
             "#bd3786"
            ],
            [
             0.5555555555555556,
             "#d8576b"
            ],
            [
             0.6666666666666666,
             "#ed7953"
            ],
            [
             0.7777777777777778,
             "#fb9f3a"
            ],
            [
             0.8888888888888888,
             "#fdca26"
            ],
            [
             1,
             "#f0f921"
            ]
           ],
           "sequentialminus": [
            [
             0,
             "#0d0887"
            ],
            [
             0.1111111111111111,
             "#46039f"
            ],
            [
             0.2222222222222222,
             "#7201a8"
            ],
            [
             0.3333333333333333,
             "#9c179e"
            ],
            [
             0.4444444444444444,
             "#bd3786"
            ],
            [
             0.5555555555555556,
             "#d8576b"
            ],
            [
             0.6666666666666666,
             "#ed7953"
            ],
            [
             0.7777777777777778,
             "#fb9f3a"
            ],
            [
             0.8888888888888888,
             "#fdca26"
            ],
            [
             1,
             "#f0f921"
            ]
           ]
          },
          "colorway": [
           "#636efa",
           "#EF553B",
           "#00cc96",
           "#ab63fa",
           "#FFA15A",
           "#19d3f3",
           "#FF6692",
           "#B6E880",
           "#FF97FF",
           "#FECB52"
          ],
          "font": {
           "color": "#2a3f5f"
          },
          "geo": {
           "bgcolor": "white",
           "lakecolor": "white",
           "landcolor": "#E5ECF6",
           "showlakes": true,
           "showland": true,
           "subunitcolor": "white"
          },
          "hoverlabel": {
           "align": "left"
          },
          "hovermode": "closest",
          "mapbox": {
           "style": "light"
          },
          "paper_bgcolor": "white",
          "plot_bgcolor": "#E5ECF6",
          "polar": {
           "angularaxis": {
            "gridcolor": "white",
            "linecolor": "white",
            "ticks": ""
           },
           "bgcolor": "#E5ECF6",
           "radialaxis": {
            "gridcolor": "white",
            "linecolor": "white",
            "ticks": ""
           }
          },
          "scene": {
           "xaxis": {
            "backgroundcolor": "#E5ECF6",
            "gridcolor": "white",
            "gridwidth": 2,
            "linecolor": "white",
            "showbackground": true,
            "ticks": "",
            "zerolinecolor": "white"
           },
           "yaxis": {
            "backgroundcolor": "#E5ECF6",
            "gridcolor": "white",
            "gridwidth": 2,
            "linecolor": "white",
            "showbackground": true,
            "ticks": "",
            "zerolinecolor": "white"
           },
           "zaxis": {
            "backgroundcolor": "#E5ECF6",
            "gridcolor": "white",
            "gridwidth": 2,
            "linecolor": "white",
            "showbackground": true,
            "ticks": "",
            "zerolinecolor": "white"
           }
          },
          "shapedefaults": {
           "line": {
            "color": "#2a3f5f"
           }
          },
          "ternary": {
           "aaxis": {
            "gridcolor": "white",
            "linecolor": "white",
            "ticks": ""
           },
           "baxis": {
            "gridcolor": "white",
            "linecolor": "white",
            "ticks": ""
           },
           "bgcolor": "#E5ECF6",
           "caxis": {
            "gridcolor": "white",
            "linecolor": "white",
            "ticks": ""
           }
          },
          "title": {
           "x": 0.05
          },
          "xaxis": {
           "automargin": true,
           "gridcolor": "white",
           "linecolor": "white",
           "ticks": "",
           "title": {
            "standoff": 15
           },
           "zerolinecolor": "white",
           "zerolinewidth": 2
          },
          "yaxis": {
           "automargin": true,
           "gridcolor": "white",
           "linecolor": "white",
           "ticks": "",
           "title": {
            "standoff": 15
           },
           "zerolinecolor": "white",
           "zerolinewidth": 2
          }
         }
        },
        "title": {
         "text": "Silent cinema during the last century"
        },
        "xaxis": {
         "anchor": "y",
         "domain": [
          0,
          1
         ],
         "title": {
          "text": "release_date"
         }
        },
        "yaxis": {
         "anchor": "x",
         "domain": [
          0,
          1
         ],
         "title": {
          "text": "number of movie per year"
         }
        }
       }
      }
     },
     "metadata": {},
     "output_type": "display_data"
    }
   ],
   "source": [
    "fig = px.line(genre_per_date.resample(\"2Y\").sum()['silent'], labels = {'value' : 'number of movie per year'}, title = 'Silent cinema during the last century')\n",
    "fig.add_vline(x = pd.to_datetime(1927, format=\"%Y\"))\n",
    "fig.show()"
   ]
  },
  {
   "cell_type": "code",
   "execution_count": 111,
   "metadata": {},
   "outputs": [],
   "source": [
    "y_event = 1927"
   ]
  },
  {
   "cell_type": "code",
   "execution_count": 112,
   "metadata": {},
   "outputs": [
    {
     "data": {
      "text/html": [
       "<div>\n",
       "<style scoped>\n",
       "    .dataframe tbody tr th:only-of-type {\n",
       "        vertical-align: middle;\n",
       "    }\n",
       "\n",
       "    .dataframe tbody tr th {\n",
       "        vertical-align: top;\n",
       "    }\n",
       "\n",
       "    .dataframe thead th {\n",
       "        text-align: right;\n",
       "    }\n",
       "</style>\n",
       "<table border=\"1\" class=\"dataframe\">\n",
       "  <thead>\n",
       "    <tr style=\"text-align: right;\">\n",
       "      <th></th>\n",
       "      <th>T</th>\n",
       "      <th>dof</th>\n",
       "      <th>alternative</th>\n",
       "      <th>p-val</th>\n",
       "      <th>CI95%</th>\n",
       "      <th>cohen-d</th>\n",
       "      <th>BF10</th>\n",
       "      <th>power</th>\n",
       "    </tr>\n",
       "  </thead>\n",
       "  <tbody>\n",
       "    <tr>\n",
       "      <th>T-test</th>\n",
       "      <td>-2.888641</td>\n",
       "      <td>23</td>\n",
       "      <td>two-sided</td>\n",
       "      <td>0.008287</td>\n",
       "      <td>[-87.17, -14.42]</td>\n",
       "      <td>0.72173</td>\n",
       "      <td>5.672</td>\n",
       "      <td>0.922875</td>\n",
       "    </tr>\n",
       "  </tbody>\n",
       "</table>\n",
       "</div>"
      ],
      "text/plain": [
       "               T  dof alternative     p-val             CI95%  cohen-d   BF10  \\\n",
       "T-test -2.888641   23   two-sided  0.008287  [-87.17, -14.42]  0.72173  5.672   \n",
       "\n",
       "           power  \n",
       "T-test  0.922875  "
      ]
     },
     "execution_count": 112,
     "metadata": {},
     "output_type": "execute_result"
    }
   ],
   "source": [
    "df = genre_per_date[str(y_event-window_y):str(y_event+window_y)].resample(str(window_y)+\"Y\").sum().T\n",
    "pingouin.ttest( x= df.iloc[:,0], y= df.iloc[:,1],paired=True)"
   ]
  },
  {
   "cell_type": "markdown",
   "metadata": {},
   "source": [
    "we observe a low p value, and we can therefore say that the distributions are not generated from the same process"
   ]
  },
  {
   "cell_type": "code",
   "execution_count": 113,
   "metadata": {},
   "outputs": [],
   "source": [
    "df.columns = [\"Before\",\"After\",\"Drop\"]\n",
    "df.fillna(0,inplace=True)\n",
    "df.drop(columns=\"Drop\",inplace=True)\n",
    "df = df.stack().reset_index().rename(columns={\"level_0\":\"genre\",\"level_1\":\"Before or after\",0:\"Value\"})\n"
   ]
  },
  {
   "cell_type": "code",
   "execution_count": 114,
   "metadata": {},
   "outputs": [
    {
     "data": {
      "text/plain": [
       "Text(0.5, 1.0, 'boxplot of silent cinema during the last century\\n before and after the first film with sound')"
      ]
     },
     "execution_count": 114,
     "metadata": {},
     "output_type": "execute_result"
    },
    {
     "data": {
      "image/png": "[encoded data removed]",
      "text/plain": [
       "<Figure size 432x288 with 1 Axes>"
      ]
     },
     "metadata": {
      "needs_background": "light"
     },
     "output_type": "display_data"
    }
   ],
   "source": [
    "sns.boxplot(data = df,x='Before or after', y='Value')\n",
    "plt.ylabel('number of movie per year')\n",
    "plt.xlabel('years')\n",
    "plt.title('boxplot of silent cinema during the last century\\n before and after the first film with sound')"
   ]
  },
  {
   "cell_type": "code",
   "execution_count": 115,
   "metadata": {},
   "outputs": [
    {
     "data": {
      "text/plain": [
       "Text(0.5, 1.0, 'silent cinema during the last century\\n before and after the first film with sound')"
      ]
     },
     "execution_count": 115,
     "metadata": {},
     "output_type": "execute_result"
    },
    {
     "data": {
      "image/png": "[encoded data removed]",
      "text/plain": [
       "<Figure size 402.375x360 with 1 Axes>"
      ]
     },
     "metadata": {
      "needs_background": "light"
     },
     "output_type": "display_data"
    }
   ],
   "source": [
    "two_trends(event, 10, \"silent\")\n",
    "plt.ylabel('number of movie per year')\n",
    "plt.xlabel('years')\n",
    "plt.title('silent cinema during the last century\\n before and after the first film with sound')"
   ]
  },
  {
   "cell_type": "code",
   "execution_count": 116,
   "metadata": {},
   "outputs": [
    {
     "data": {
      "text/plain": [
       "Text(0.5, 1.0, 'silent cinema during the last century')"
      ]
     },
     "execution_count": 116,
     "metadata": {},
     "output_type": "execute_result"
    },
    {
     "data": {
      "image/png": "[encoded data removed]",
      "text/plain": [
       "<Figure size 432x288 with 1 Axes>"
      ]
     },
     "metadata": {
      "needs_background": "light"
     },
     "output_type": "display_data"
    }
   ],
   "source": [
    "plt.plot(genre_per_date.resample(\"5Y\").sum()['silent'])\n",
    "plt.ylabel('number of movie per year')\n",
    "plt.xlabel('years')\n",
    "plt.title('silent cinema during the last century')"
   ]
  },
  {
   "cell_type": "markdown",
   "metadata": {},
   "source": [
    "##### Other research on technology/cinema: television, internet netflix etc."
   ]
  },
  {
   "cell_type": "markdown",
   "metadata": {},
   "source": []
  }
 ],
 "metadata": {
  "kernelspec": {
   "display_name": "Python 3.9.13 64-bit",
   "language": "python",
   "name": "python3"
  },
  "language_info": {
   "codemirror_mode": {
    "name": "ipython",
    "version": 3
   },
   "file_extension": ".py",
   "mimetype": "text/x-python",
   "name": "python",
   "nbconvert_exporter": "python",
   "pygments_lexer": "ipython3",
   "version": "3.9.13"
  },
  "orig_nbformat": 4,
  "vscode": {
   "interpreter": {
    "hash": "eff2cc948ef6ebc3a0ca17a8e91ae3fd1666d3f54a95771a7ecbf9e32095cb44"
   }
  }
 },
 "nbformat": 4,
 "nbformat_minor": 2
}
