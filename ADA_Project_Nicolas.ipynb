{
 "cells": [
  {
   "cell_type": "code",
   "execution_count": null,
   "metadata": {},
   "outputs": [],
   "source": [
    "import pandas as pd\n",
    "\n",
    "# Visualization librairies\n",
    "import matplotlib.pyplot as plt\n",
    "import seaborn as sns\n",
    "from matplotlib.ticker import PercentFormatter\n",
    "import matplotlib.ticker as mtick\n",
    "from matplotlib.lines import Line2D\n",
    "\n",
    "#Calculating libraries\n",
    "from scipy.stats import bootstrap\n",
    "import numpy as np\n",
    "from scipy import stats\n",
    "import scipy as sp\n",
    "import matplotlib.dates as md\n",
    "\n",
    "#statistical librairies\n",
    "from os import stat\n",
    "\n",
    "# Others\n",
    "from functools import partial\n",
    "from ast import literal_eval"
   ]
  },
  {
   "cell_type": "code",
   "execution_count": null,
   "metadata": {},
   "outputs": [],
   "source": [
    "character=pd.read_table('./data/character.metadata.tsv',header=None)\n",
    "movies=pd.read_table('./data/movie.metadata.tsv',header=None)\n",
    "names=pd.read_csv('./data/name.clusters.txt',sep=\"\\t\",header=None)\n",
    "summaries=pd.read_csv('./data/plot_summaries.txt',sep=\"\\t\",header=None)\n",
    "tvtropes=pd.read_csv('./data/tvtropes.clusters.txt',sep=\"\\t\",header=None)"
   ]
  },
  {
   "cell_type": "code",
   "execution_count": null,
   "metadata": {},
   "outputs": [],
   "source": [
    "character=character.rename(columns={0:'wikipedia_movie_id',1:'Freebase_movie_ID',3:'character_name',4:'Actor_DOB',5:'Actor_gender',6:'actor_height',7:'Actor_etnicity',8:'Actor_name',9:'Actor_age_at_movie_release',10:'Freebase_character_map'})\n",
    "movies.rename(columns={0:'wikipedia_movie_id',1:'Freebase_movie_ID',2:'Movie_name',3:'Movie_release',4:'Box_office_revenue',5:'Movie_runtime',6:'Movie_language',7:'Movie_country',8:'Movie_genre'},inplace=True)\n",
    "names.rename(columns={0:'Character_names',1:'Freebase_ID'},inplace=True)\n",
    "tvtropes.rename(columns={0:'Character_type',1:'Freebase_ID'},inplace=True)\n",
    "summaries.rename(columns={0:'wikipedia_movie_id',1:'Plot_summaries'},inplace=True)"
   ]
  },
  {
   "cell_type": "code",
   "execution_count": null,
   "metadata": {},
   "outputs": [],
   "source": [
    "tvtropes[\"dict_ID\"]=[literal_eval(i) for i in tvtropes.Freebase_ID]\n",
    "tvtropes=pd.concat([tvtropes.drop(['dict_ID'], axis=1), tvtropes\n",
    "                    ['dict_ID'].apply(pd.Series)], axis=1)"
   ]
  },
  {
   "cell_type": "code",
   "execution_count": null,
   "metadata": {},
   "outputs": [],
   "source": [
    "columns_with_null = list(character.isna().sum().loc[lambda x: x>0].index)\n",
    "print (\"\\nhere are the character features with null values:\")\n",
    "for column in columns_with_null:\n",
    "    print(column)\n",
    "\n",
    "columns_with_null = list(movies.isna().sum().loc[lambda x: x>0].index)\n",
    "print (\"\\nhere are the movie features with null values:\")\n",
    "for column in columns_with_null:\n",
    "    print(column)\n",
    "\n",
    "columns_with_null = list(names.isna().sum().loc[lambda x: x>0].index)\n",
    "print (\"\\nhere are the name features with null values:\")\n",
    "for column in columns_with_null:\n",
    "    print(column)\n",
    "\n",
    "columns_with_null = list(tvtropes.isna().sum().loc[lambda x: x>0].index)\n",
    "print (\"\\nhere are the tvtropes features with null values:\")\n",
    "for column in columns_with_null:\n",
    "    print(column)\n",
    "\n",
    "columns_with_null = list(summaries.isna().sum().loc[lambda x: x>0].index)\n",
    "print (\"\\nhere are the summaries features with null values:\")\n",
    "for column in columns_with_null:\n",
    "    print(column)"
   ]
  },
  {
   "cell_type": "code",
   "execution_count": null,
   "metadata": {},
   "outputs": [],
   "source": [
    "import json\n",
    "\n",
    "from collections import defaultdict\n",
    "\n",
    "movies['Movie_release'] = pd.to_datetime(movies['Movie_release'], errors = 'coerce')\n",
    "sorted_movies = movies.sort_values(\"Movie_release\", ascending=False).dropna(subset=['Movie_release'])\n",
    "\n",
    "genres_per_year = sorted_movies[['Movie_release', 'Movie_name', 'Movie_genre']]\n",
    "genres_per_year['Movie_genre'] = genres_per_year.Movie_genre.apply(json.loads).apply(lambda x: list(x.values()))\n",
    "\n",
    "occur = genres_per_year.copy()\n",
    "\n",
    "occur.head(20)"
   ]
  },
  {
   "cell_type": "code",
   "execution_count": null,
   "metadata": {},
   "outputs": [],
   "source": [
    "from utils.genres import genre_wordsets\n",
    "\n",
    "def extract_genres(all_genres:object)->list:\n",
    "    \"\"\" returns 1 if one pronoun in pronouns is in headline else 0\n",
    "\n",
    "    Args:\n",
    "        pronouns (list): list of pronouns\n",
    "        headline (object): headline of the article\n",
    "\n",
    "    Returns:\n",
    "        list: 1 if there is a pronoun from pronouns in headline else 0 \n",
    "    \"\"\"\n",
    "    genre_list = []\n",
    "    genres = all_genres.copy()\n",
    "\n",
    "    if 'Black-and-white' in all_genres:\n",
    "        genre_list.append(\"Black & White\")\n",
    "        genres.remove(\"Black-and-white\")\n",
    "    \n",
    "    if 'Science Fiction' in all_genres:\n",
    "        genre_list.append(\"Science Fiction\")\n",
    "        genres.remove(\"Science Fiction\")\n",
    "\n",
    "    genre_string = \" \".join([str(g) for g in genres]).lower()\n",
    "\n",
    "    genre_string = genre_string.replace('/', ' ')\n",
    "    genre_string = genre_string.replace('-', ' ')\n",
    "\n",
    "    \n",
    "    for m_genres, sub_genres in genre_wordsets.items() : \n",
    "        for s_g in sub_genres :\n",
    "            if s_g in genre_string.split(\" \"):\n",
    "                genre_list.append(m_genres)\n",
    "    \n",
    "    if len(genre_list) == 0 :\n",
    "        genre_list.append(\"Other\")\n",
    "\n",
    "    genre_list = list(set(genre_list))\n",
    "\n",
    "    return genre_list"
   ]
  },
  {
   "cell_type": "code",
   "execution_count": null,
   "metadata": {},
   "outputs": [],
   "source": [
    "genres_per_year[\"Major_genres\"]=genres_per_year[\"Movie_genre\"].apply(\n",
    "    partial(extract_genres))"
   ]
  },
  {
   "cell_type": "code",
   "execution_count": null,
   "metadata": {},
   "outputs": [],
   "source": [
    "genres_per_year = genres_per_year.explode('Major_genres')\n",
    "occur = occur.explode('Movie_genre')"
   ]
  },
  {
   "cell_type": "code",
   "execution_count": null,
   "metadata": {},
   "outputs": [],
   "source": [
    "occur_major = genres_per_year.copy()\n",
    "\n",
    "time_genres = occur.groupby(pd.PeriodIndex(occur['Movie_release'], freq=\"Y\"))['Movie_genre'].value_counts().reset_index(name='Genres_per_year')\n",
    "\n",
    "f_per_year = occur.groupby(pd.PeriodIndex(occur['Movie_release'], freq=\"Y\")).size().reset_index(name='Films_per_year')\n",
    "f_per_year.index = f_per_year['Movie_release']\n",
    "time_genres['Films_per_year'] = time_genres['Movie_release'].map(f_per_year['Films_per_year'])\n",
    "time_genres['Genre_proportion'] = time_genres['Genres_per_year']/time_genres['Films_per_year']\n",
    "\n",
    "time_genres.head(5)"
   ]
  },
  {
   "cell_type": "code",
   "execution_count": null,
   "metadata": {},
   "outputs": [],
   "source": [
    "time_genres = occur_major.groupby(pd.PeriodIndex(occur_major['Movie_release'], freq=\"Y\"))['Major_genres'].value_counts().reset_index(name='Genres_per_year')\n",
    "\n",
    "f_per_year = occur_major.groupby(pd.PeriodIndex(occur_major['Movie_release'], freq=\"Y\")).size().reset_index(name='Films_per_year')\n",
    "f_per_year.index = f_per_year['Movie_release']\n",
    "time_genres['Films_per_year'] = time_genres['Movie_release'].map(f_per_year['Films_per_year'])\n",
    "time_genres['Genre_proportion'] = time_genres['Genres_per_year']/time_genres['Films_per_year']\n",
    "\n",
    "time_genres.head(30)"
   ]
  },
  {
   "cell_type": "code",
   "execution_count": null,
   "metadata": {},
   "outputs": [],
   "source": [
    "time_genres['Year_start'] = time_genres['Movie_release']\n",
    "\n",
    "time_genres['Year_start'] = time_genres['Year_start'].dt.strftime('%Y').add('-01-01 00:00:00.000')\n",
    "date_index = pd.to_datetime(time_genres['Year_start'], format=\"%Y-%m-%d %H:%M:%S.%f\")"
   ]
  },
  {
   "cell_type": "code",
   "execution_count": null,
   "metadata": {},
   "outputs": [],
   "source": [
    "display_date = pd.Timestamp(2007, 1, 1, 0)\n",
    "\n",
    "df_date = time_genres[(date_index == display_date)]\n",
    "df_date.head(10)"
   ]
  },
  {
   "cell_type": "code",
   "execution_count": null,
   "metadata": {},
   "outputs": [],
   "source": [
    "start_date = pd.Timestamp(1913, 1, 1, 0)\n",
    "end_date = pd.Timestamp(2012, 1, 2, 0)\n",
    "tick_display_period = 5\n",
    "\n",
    "df_period_1 = time_genres[(date_index > start_date) & (date_index < end_date)]\n",
    "\n",
    "timeplot = sns.lineplot(data=df_period_1, x=df_period_1['Movie_release'].astype(str), y=\"Films_per_year\")\n",
    "i=0\n",
    "for label in timeplot.xaxis.get_ticklabels():\n",
    "    i+=1\n",
    "    if(i%tick_display_period) : \n",
    "        label.set_visible(False)\n",
    "    else : \n",
    "        label.set_visible(True)"
   ]
  },
  {
   "cell_type": "code",
   "execution_count": null,
   "metadata": {},
   "outputs": [],
   "source": [
    "start_date = pd.Timestamp(1913, 1, 1, 0)\n",
    "end_date = pd.Timestamp(2012, 1, 2, 0)\n",
    "tick_display_period = 5\n",
    "\n",
    "df_period_1 = time_genres[(date_index > start_date) & (date_index < end_date)]\n",
    "\n",
    "sns.set(rc={'figure.figsize':(11.7,8.27)})\n",
    "\n",
    "timeplot = sns.lineplot(data=df_period_1, x=df_period_1['Movie_release'].astype(str), y=\"Genre_proportion\", hue=\"Major_genres\")\n",
    "\n",
    "i=0\n",
    "for label in timeplot.xaxis.get_ticklabels():\n",
    "    i+=1\n",
    "    if(i%tick_display_period) : \n",
    "        label.set_visible(False)\n",
    "    else : \n",
    "        label.set_visible(True)\n",
    "\n",
    "plt.show()"
   ]
  },
  {
   "cell_type": "code",
   "execution_count": null,
   "metadata": {},
   "outputs": [],
   "source": [
    "options = ['War', 'Propaganda']\n",
    "\n",
    "timeplot = sns.lineplot(data=df_period_1[df_period_1[\"Major_genres\"].isin(options)], x=df_period_1['Movie_release'].astype(str), y=\"Genre_proportion\", hue=\"Major_genres\")\n",
    "\n",
    "i=0\n",
    "for label in timeplot.xaxis.get_ticklabels():\n",
    "    i+=1\n",
    "    if(i%tick_display_period) : \n",
    "        label.set_visible(False)\n",
    "    else : \n",
    "        label.set_visible(True)\n",
    "\n",
    "plt.show()"
   ]
  },
  {
   "cell_type": "code",
   "execution_count": null,
   "metadata": {},
   "outputs": [],
   "source": [
    "occur.head(10)"
   ]
  },
  {
   "cell_type": "code",
   "execution_count": null,
   "metadata": {},
   "outputs": [],
   "source": [
    "reduced_movies = movies.sort_values(\"Movie_release\", ascending=False).dropna(subset=['Movie_release'])\n",
    "combined = pd.merge(reduced_movies, summaries, how='inner', on = 'wikipedia_movie_id')\n",
    "pd.set_option('max_colwidth', 130)\n",
    "combined[[\"Movie_release\", \"Movie_name\",'Plot_summaries']].head(30)"
   ]
  },
  {
   "cell_type": "code",
   "execution_count": null,
   "metadata": {},
   "outputs": [],
   "source": [
    "genre_characters = character.dropna(subset=['Actor_gender'])\n",
    "x=genre_characters.groupby(['Actor_gender'])['Actor_gender'].count()\n",
    "y=genre_characters['Actor_gender'].count()\n",
    "genre_percent = ((x/y)*100).round(2)\n",
    "print(genre_percent)"
   ]
  },
  {
   "cell_type": "code",
   "execution_count": null,
   "metadata": {},
   "outputs": [],
   "source": [
    "genre_characters = character.dropna(subset=['Actor_etnicity'])\n",
    "x=genre_characters.groupby(['Actor_etnicity'])['Actor_etnicity'].count().reset_index(name='Count').sort_values(['Count'], ascending=False)\n",
    "y=x['Count'].sum()\n",
    "x['percent'] = ((x['Count']/y)*100).round(2)\n",
    "\n",
    "print(x.head(20))"
   ]
  }
 ],
 "metadata": {
  "kernelspec": {
   "display_name": "Python 3.9.13 64-bit",
   "language": "python",
   "name": "python3"
  },
  "language_info": {
   "codemirror_mode": {
    "name": "ipython",
    "version": 3
   },
   "file_extension": ".py",
   "mimetype": "text/x-python",
   "name": "python",
   "nbconvert_exporter": "python",
   "pygments_lexer": "ipython3",
   "version": "3.9.13"
  },
  "orig_nbformat": 4,
  "vscode": {
   "interpreter": {
    "hash": "eff2cc948ef6ebc3a0ca17a8e91ae3fd1666d3f54a95771a7ecbf9e32095cb44"
   }
  }
 },
 "nbformat": 4,
 "nbformat_minor": 2
}
